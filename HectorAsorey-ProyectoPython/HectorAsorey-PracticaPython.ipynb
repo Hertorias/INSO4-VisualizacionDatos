{
 "cells": [
  {
   "cell_type": "markdown",
   "id": "c0c274b9",
   "metadata": {},
   "source": [
    "Héctor Asorey de Pablos"
   ]
  },
  {
   "cell_type": "markdown",
   "id": "efc1be22",
   "metadata": {},
   "source": [
    "# VISUALIZACIÓN DE DATOS - PROYECTO PYTHON\n",
    "\n",
    "Para esta práctica, se van a analizar datos relativos a las ventas de videojuegos y datos relativos a las notas que tanto críticos como usuarios otorgan a distintos videojuegos.\n",
    "\n",
    "Los datasets son los siguientes:\n",
    "\n",
    "Dataset sobre ventas de videojuegos ---> https://www.kaggle.com/datasets/gregorut/videogamesales\n",
    "\n",
    "* Contiene 16598 datos acerca de las ventas de algunos videojuegos\n",
    "* Contiene las siguientes columnas:\n",
    "    * Rank: índice que marca las ventas generales. Así, el juego más vendido en este dataset contendrá un rank = 1\n",
    "    * Name: el nombre del videojuego\n",
    "    * Platform: la plataforma (consola o PC) en la cual fue lanzada el videojuego\n",
    "    * Year: el año en el que se lanzó el juego\n",
    "    * Publisher: el distribuidor que publicó el juego\n",
    "    * NA_Sales: el total de ventas en Norte América en millones\n",
    "    * EU_Sales: el total de ventas en Europa en millones\n",
    "    * JP_Sales: el total de ventas en Japón en millones\n",
    "    * Other_Sales: el total de ventas en el resto de regiones en millones\n",
    "    * Global_Sales: el total de ventas en todas las regiones combinadas en millones\n",
    "   \n",
    "Dataset sobre notas de videojuegos ---> https://www.kaggle.com/datasets/gregorut/videogamesales\n",
    "\n",
    "* Contiene 18880 datos acerca de las notas otorgadas a distintos videojuegos\n",
    "* Contiene las siguientes columnas:\n",
    "    * name: el nombre del videojuego\n",
    "    * platform: la plataforma (consola o PC) donde se lanzó el videojuego\n",
    "    * release_date: la fecha de lanzamiento del videojuego\n",
    "    * meta_score: la nota general otorgada por la prensa en Metacritic https://www.metacritic.com/browse/games/score/metascore/all/all/filtered?page=0\n",
    "    * user_review: la nota general otorgada por los usuarios en Metacritic"
   ]
  },
  {
   "cell_type": "markdown",
   "id": "60c2e67f",
   "metadata": {},
   "source": [
    "### Instalar (si fuera necesario) e importar librerías"
   ]
  },
  {
   "cell_type": "code",
   "execution_count": 1,
   "id": "7cfd5915",
   "metadata": {},
   "outputs": [],
   "source": [
    "#pip install pandas\n",
    "#pip install matplotlib\n",
    "#pip install numpy\n",
    "#pip install scipy\n",
    "#pip install plotly\n",
    "#pip install cufflinks\n",
    "#pip install chart_studio\n",
    "#pip install ipywidgets\n",
    "#pip install requests"
   ]
  },
  {
   "cell_type": "code",
   "execution_count": 2,
   "id": "c66718af",
   "metadata": {},
   "outputs": [
    {
     "data": {
      "text/html": [
       "        <script type=\"text/javascript\">\n",
       "        window.PlotlyConfig = {MathJaxConfig: 'local'};\n",
       "        if (window.MathJax && window.MathJax.Hub && window.MathJax.Hub.Config) {window.MathJax.Hub.Config({SVG: {font: \"STIX-Web\"}});}\n",
       "        if (typeof require !== 'undefined') {\n",
       "        require.undef(\"plotly\");\n",
       "        requirejs.config({\n",
       "            paths: {\n",
       "                'plotly': ['https://cdn.plot.ly/plotly-2.20.0.min']\n",
       "            }\n",
       "        });\n",
       "        require(['plotly'], function(Plotly) {\n",
       "            window._Plotly = Plotly;\n",
       "        });\n",
       "        }\n",
       "        </script>\n",
       "        "
      ]
     },
     "metadata": {},
     "output_type": "display_data"
    },
    {
     "data": {
      "text/html": [
       "        <script type=\"text/javascript\">\n",
       "        window.PlotlyConfig = {MathJaxConfig: 'local'};\n",
       "        if (window.MathJax && window.MathJax.Hub && window.MathJax.Hub.Config) {window.MathJax.Hub.Config({SVG: {font: \"STIX-Web\"}});}\n",
       "        if (typeof require !== 'undefined') {\n",
       "        require.undef(\"plotly\");\n",
       "        requirejs.config({\n",
       "            paths: {\n",
       "                'plotly': ['https://cdn.plot.ly/plotly-2.20.0.min']\n",
       "            }\n",
       "        });\n",
       "        require(['plotly'], function(Plotly) {\n",
       "            window._Plotly = Plotly;\n",
       "        });\n",
       "        }\n",
       "        </script>\n",
       "        "
      ]
     },
     "metadata": {},
     "output_type": "display_data"
    }
   ],
   "source": [
    "import pandas as pd\n",
    "\n",
    "import matplotlib.pyplot as plt\n",
    "import numpy as np\n",
    "import scipy\n",
    "import plotly\n",
    "\n",
    "import chart_studio\n",
    "import ipywidgets\n",
    "import requests\n",
    "import io\n",
    "\n",
    "import os\n",
    "from IPython.display import Image, display, HTML\n",
    "\n",
    "import ipywidgets as widgets\n",
    "from ipywidgets import interact, interact_manual\n",
    "\n",
    "import chart_studio.plotly as py\n",
    "import plotly.graph_objs as go\n",
    "from plotly.offline import iplot, init_notebook_mode\n",
    "init_notebook_mode(connected=True)\n",
    "\n",
    "import cufflinks as cf\n",
    "cf.go_offline(connected=True)\n",
    "cf.set_config_file(colorscale='plotly', world_readable=True)\n",
    "\n",
    "# Extra options\n",
    "pd.options.display.max_rows = 30\n",
    "pd.options.display.max_columns = 25\n",
    "\n",
    "# Show all code cells outputs\n",
    "from IPython.core.interactiveshell import InteractiveShell\n",
    "InteractiveShell.ast_node_interactivity = 'all'"
   ]
  },
  {
   "cell_type": "markdown",
   "id": "119b638c",
   "metadata": {},
   "source": [
    "### Lectura de los datos a utilizar"
   ]
  },
  {
   "cell_type": "code",
   "execution_count": 3,
   "id": "57d6e267",
   "metadata": {},
   "outputs": [
    {
     "data": {
      "text/html": [
       "<div>\n",
       "<style scoped>\n",
       "    .dataframe tbody tr th:only-of-type {\n",
       "        vertical-align: middle;\n",
       "    }\n",
       "\n",
       "    .dataframe tbody tr th {\n",
       "        vertical-align: top;\n",
       "    }\n",
       "\n",
       "    .dataframe thead th {\n",
       "        text-align: right;\n",
       "    }\n",
       "</style>\n",
       "<table border=\"1\" class=\"dataframe\">\n",
       "  <thead>\n",
       "    <tr style=\"text-align: right;\">\n",
       "      <th></th>\n",
       "      <th>Rank</th>\n",
       "      <th>Name</th>\n",
       "      <th>Platform</th>\n",
       "      <th>Year</th>\n",
       "      <th>Genre</th>\n",
       "      <th>Publisher</th>\n",
       "      <th>NA_Sales</th>\n",
       "      <th>EU_Sales</th>\n",
       "      <th>JP_Sales</th>\n",
       "      <th>Other_Sales</th>\n",
       "      <th>Global_Sales</th>\n",
       "    </tr>\n",
       "  </thead>\n",
       "  <tbody>\n",
       "    <tr>\n",
       "      <th>0</th>\n",
       "      <td>1</td>\n",
       "      <td>Wii Sports</td>\n",
       "      <td>Wii</td>\n",
       "      <td>2006.0</td>\n",
       "      <td>Sports</td>\n",
       "      <td>Nintendo</td>\n",
       "      <td>41.49</td>\n",
       "      <td>29.02</td>\n",
       "      <td>3.77</td>\n",
       "      <td>8.46</td>\n",
       "      <td>82.74</td>\n",
       "    </tr>\n",
       "    <tr>\n",
       "      <th>1</th>\n",
       "      <td>2</td>\n",
       "      <td>Super Mario Bros.</td>\n",
       "      <td>NES</td>\n",
       "      <td>1985.0</td>\n",
       "      <td>Platform</td>\n",
       "      <td>Nintendo</td>\n",
       "      <td>29.08</td>\n",
       "      <td>3.58</td>\n",
       "      <td>6.81</td>\n",
       "      <td>0.77</td>\n",
       "      <td>40.24</td>\n",
       "    </tr>\n",
       "    <tr>\n",
       "      <th>2</th>\n",
       "      <td>3</td>\n",
       "      <td>Mario Kart Wii</td>\n",
       "      <td>Wii</td>\n",
       "      <td>2008.0</td>\n",
       "      <td>Racing</td>\n",
       "      <td>Nintendo</td>\n",
       "      <td>15.85</td>\n",
       "      <td>12.88</td>\n",
       "      <td>3.79</td>\n",
       "      <td>3.31</td>\n",
       "      <td>35.82</td>\n",
       "    </tr>\n",
       "    <tr>\n",
       "      <th>3</th>\n",
       "      <td>4</td>\n",
       "      <td>Wii Sports Resort</td>\n",
       "      <td>Wii</td>\n",
       "      <td>2009.0</td>\n",
       "      <td>Sports</td>\n",
       "      <td>Nintendo</td>\n",
       "      <td>15.75</td>\n",
       "      <td>11.01</td>\n",
       "      <td>3.28</td>\n",
       "      <td>2.96</td>\n",
       "      <td>33.00</td>\n",
       "    </tr>\n",
       "    <tr>\n",
       "      <th>4</th>\n",
       "      <td>5</td>\n",
       "      <td>Pokemon Red/Pokemon Blue</td>\n",
       "      <td>GB</td>\n",
       "      <td>1996.0</td>\n",
       "      <td>Role-Playing</td>\n",
       "      <td>Nintendo</td>\n",
       "      <td>11.27</td>\n",
       "      <td>8.89</td>\n",
       "      <td>10.22</td>\n",
       "      <td>1.00</td>\n",
       "      <td>31.37</td>\n",
       "    </tr>\n",
       "  </tbody>\n",
       "</table>\n",
       "</div>"
      ],
      "text/plain": [
       "   Rank                      Name Platform    Year         Genre Publisher  \\\n",
       "0     1                Wii Sports      Wii  2006.0        Sports  Nintendo   \n",
       "1     2         Super Mario Bros.      NES  1985.0      Platform  Nintendo   \n",
       "2     3            Mario Kart Wii      Wii  2008.0        Racing  Nintendo   \n",
       "3     4         Wii Sports Resort      Wii  2009.0        Sports  Nintendo   \n",
       "4     5  Pokemon Red/Pokemon Blue       GB  1996.0  Role-Playing  Nintendo   \n",
       "\n",
       "   NA_Sales  EU_Sales  JP_Sales  Other_Sales  Global_Sales  \n",
       "0     41.49     29.02      3.77         8.46         82.74  \n",
       "1     29.08      3.58      6.81         0.77         40.24  \n",
       "2     15.85     12.88      3.79         3.31         35.82  \n",
       "3     15.75     11.01      3.28         2.96         33.00  \n",
       "4     11.27      8.89     10.22         1.00         31.37  "
      ]
     },
     "execution_count": 3,
     "metadata": {},
     "output_type": "execute_result"
    }
   ],
   "source": [
    "file = \"ProyectoPythonDatasets/sales.csv\"\n",
    "dfSales = pd.read_csv(file)\n",
    "dfSales.head(5)"
   ]
  },
  {
   "cell_type": "code",
   "execution_count": 4,
   "id": "a3af5d66",
   "metadata": {},
   "outputs": [
    {
     "data": {
      "text/html": [
       "<div>\n",
       "<style scoped>\n",
       "    .dataframe tbody tr th:only-of-type {\n",
       "        vertical-align: middle;\n",
       "    }\n",
       "\n",
       "    .dataframe tbody tr th {\n",
       "        vertical-align: top;\n",
       "    }\n",
       "\n",
       "    .dataframe thead th {\n",
       "        text-align: right;\n",
       "    }\n",
       "</style>\n",
       "<table border=\"1\" class=\"dataframe\">\n",
       "  <thead>\n",
       "    <tr style=\"text-align: right;\">\n",
       "      <th></th>\n",
       "      <th>name</th>\n",
       "      <th>platform</th>\n",
       "      <th>release_date</th>\n",
       "      <th>summary</th>\n",
       "      <th>meta_score</th>\n",
       "      <th>user_review</th>\n",
       "    </tr>\n",
       "  </thead>\n",
       "  <tbody>\n",
       "    <tr>\n",
       "      <th>0</th>\n",
       "      <td>The Legend of Zelda: Ocarina of Time</td>\n",
       "      <td>Nintendo 64</td>\n",
       "      <td>November 23, 1998</td>\n",
       "      <td>As a young boy, Link is tricked by Ganondorf, ...</td>\n",
       "      <td>99</td>\n",
       "      <td>9.1</td>\n",
       "    </tr>\n",
       "    <tr>\n",
       "      <th>1</th>\n",
       "      <td>Tony Hawk's Pro Skater 2</td>\n",
       "      <td>PlayStation</td>\n",
       "      <td>September 20, 2000</td>\n",
       "      <td>As most major publishers' development efforts ...</td>\n",
       "      <td>98</td>\n",
       "      <td>7.4</td>\n",
       "    </tr>\n",
       "    <tr>\n",
       "      <th>2</th>\n",
       "      <td>Grand Theft Auto IV</td>\n",
       "      <td>PlayStation 3</td>\n",
       "      <td>April 29, 2008</td>\n",
       "      <td>[Metacritic's 2008 PS3 Game of the Year; Also ...</td>\n",
       "      <td>98</td>\n",
       "      <td>7.7</td>\n",
       "    </tr>\n",
       "    <tr>\n",
       "      <th>3</th>\n",
       "      <td>SoulCalibur</td>\n",
       "      <td>Dreamcast</td>\n",
       "      <td>September 8, 1999</td>\n",
       "      <td>This is a tale of souls and swords, transcendi...</td>\n",
       "      <td>98</td>\n",
       "      <td>8.4</td>\n",
       "    </tr>\n",
       "    <tr>\n",
       "      <th>4</th>\n",
       "      <td>Grand Theft Auto IV</td>\n",
       "      <td>Xbox 360</td>\n",
       "      <td>April 29, 2008</td>\n",
       "      <td>[Metacritic's 2008 Xbox 360 Game of the Year; ...</td>\n",
       "      <td>98</td>\n",
       "      <td>7.9</td>\n",
       "    </tr>\n",
       "  </tbody>\n",
       "</table>\n",
       "</div>"
      ],
      "text/plain": [
       "                                   name        platform        release_date  \\\n",
       "0  The Legend of Zelda: Ocarina of Time     Nintendo 64   November 23, 1998   \n",
       "1              Tony Hawk's Pro Skater 2     PlayStation  September 20, 2000   \n",
       "2                   Grand Theft Auto IV   PlayStation 3      April 29, 2008   \n",
       "3                           SoulCalibur       Dreamcast   September 8, 1999   \n",
       "4                   Grand Theft Auto IV        Xbox 360      April 29, 2008   \n",
       "\n",
       "                                             summary  meta_score user_review  \n",
       "0  As a young boy, Link is tricked by Ganondorf, ...          99         9.1  \n",
       "1  As most major publishers' development efforts ...          98         7.4  \n",
       "2  [Metacritic's 2008 PS3 Game of the Year; Also ...          98         7.7  \n",
       "3  This is a tale of souls and swords, transcendi...          98         8.4  \n",
       "4  [Metacritic's 2008 Xbox 360 Game of the Year; ...          98         7.9  "
      ]
     },
     "execution_count": 4,
     "metadata": {},
     "output_type": "execute_result"
    }
   ],
   "source": [
    "url = \"https://raw.githubusercontent.com/Hertorias/INSO4-VisualizacionDatos/main/ProyectoPythonDatasets/reviews.csv\"\n",
    "dfReviews = pd.read_csv(url)\n",
    "dfReviews.head(5)"
   ]
  },
  {
   "cell_type": "markdown",
   "id": "40bc58b5",
   "metadata": {},
   "source": [
    "### Preprocesamiento de los datos"
   ]
  },
  {
   "cell_type": "markdown",
   "id": "4f200d8e",
   "metadata": {},
   "source": [
    "El dataset que contiene las reviews sobre videojuegos, tiene en distinta escala las notas de la crítica (meta_score) que las notas de los usuarios ('user_score'). Además, mientras que el meta_score es de tipo numérico, el user_review es de tipo object. Por ello, se va a transformar la columna de user_review a numérica primero."
   ]
  },
  {
   "cell_type": "markdown",
   "id": "e7962ee9",
   "metadata": {},
   "source": [
    "Como hay user_reviews con el valor 'tbd', se va a parsear a numérico con el argumento \"errors = 'coerce'\". Así, aquellos datos que no pueda convertir a numérico, los marcará como NA, y después se eliminarán estos NA."
   ]
  },
  {
   "cell_type": "code",
   "execution_count": 5,
   "id": "1f29aa2c",
   "metadata": {},
   "outputs": [],
   "source": [
    "dfReviews['user_review'] = pd.to_numeric(dfReviews['user_review'], errors = 'coerce')\n",
    "dfReviews.dropna(subset=['user_review'], inplace=True)"
   ]
  },
  {
   "cell_type": "markdown",
   "id": "2dd08795",
   "metadata": {},
   "source": [
    "Tras tener la columna user_review en formato numérico, se multiplican por diez para que estén en la misma escala que el meta_score."
   ]
  },
  {
   "cell_type": "code",
   "execution_count": 6,
   "id": "3a266531",
   "metadata": {},
   "outputs": [],
   "source": [
    "dfReviews['user_review'] = list(map(lambda x: x*10, dfReviews['user_review']))"
   ]
  },
  {
   "cell_type": "markdown",
   "id": "830b0ff0",
   "metadata": {},
   "source": [
    "Además, de la fecha solo se utilizarán los años, por lo que se creará una columna que contenga únicamente el año."
   ]
  },
  {
   "cell_type": "code",
   "execution_count": 7,
   "id": "db30f231",
   "metadata": {},
   "outputs": [],
   "source": [
    "dfReviews['year'] = list(map(lambda x: int(x.split(', ')[1]), dfReviews['release_date']))\n",
    "dfReviews['year_time_format'] = pd.to_datetime(dfReviews['year'], format='%Y')"
   ]
  },
  {
   "cell_type": "code",
   "execution_count": 8,
   "id": "ab51e510",
   "metadata": {},
   "outputs": [
    {
     "data": {
      "text/html": [
       "<div>\n",
       "<style scoped>\n",
       "    .dataframe tbody tr th:only-of-type {\n",
       "        vertical-align: middle;\n",
       "    }\n",
       "\n",
       "    .dataframe tbody tr th {\n",
       "        vertical-align: top;\n",
       "    }\n",
       "\n",
       "    .dataframe thead th {\n",
       "        text-align: right;\n",
       "    }\n",
       "</style>\n",
       "<table border=\"1\" class=\"dataframe\">\n",
       "  <thead>\n",
       "    <tr style=\"text-align: right;\">\n",
       "      <th></th>\n",
       "      <th>name</th>\n",
       "      <th>platform</th>\n",
       "      <th>release_date</th>\n",
       "      <th>summary</th>\n",
       "      <th>meta_score</th>\n",
       "      <th>user_review</th>\n",
       "      <th>year</th>\n",
       "      <th>year_time_format</th>\n",
       "    </tr>\n",
       "  </thead>\n",
       "  <tbody>\n",
       "    <tr>\n",
       "      <th>0</th>\n",
       "      <td>The Legend of Zelda: Ocarina of Time</td>\n",
       "      <td>Nintendo 64</td>\n",
       "      <td>November 23, 1998</td>\n",
       "      <td>As a young boy, Link is tricked by Ganondorf, ...</td>\n",
       "      <td>99</td>\n",
       "      <td>91.0</td>\n",
       "      <td>1998</td>\n",
       "      <td>1998-01-01</td>\n",
       "    </tr>\n",
       "    <tr>\n",
       "      <th>1</th>\n",
       "      <td>Tony Hawk's Pro Skater 2</td>\n",
       "      <td>PlayStation</td>\n",
       "      <td>September 20, 2000</td>\n",
       "      <td>As most major publishers' development efforts ...</td>\n",
       "      <td>98</td>\n",
       "      <td>74.0</td>\n",
       "      <td>2000</td>\n",
       "      <td>2000-01-01</td>\n",
       "    </tr>\n",
       "    <tr>\n",
       "      <th>2</th>\n",
       "      <td>Grand Theft Auto IV</td>\n",
       "      <td>PlayStation 3</td>\n",
       "      <td>April 29, 2008</td>\n",
       "      <td>[Metacritic's 2008 PS3 Game of the Year; Also ...</td>\n",
       "      <td>98</td>\n",
       "      <td>77.0</td>\n",
       "      <td>2008</td>\n",
       "      <td>2008-01-01</td>\n",
       "    </tr>\n",
       "  </tbody>\n",
       "</table>\n",
       "</div>"
      ],
      "text/plain": [
       "                                   name        platform        release_date  \\\n",
       "0  The Legend of Zelda: Ocarina of Time     Nintendo 64   November 23, 1998   \n",
       "1              Tony Hawk's Pro Skater 2     PlayStation  September 20, 2000   \n",
       "2                   Grand Theft Auto IV   PlayStation 3      April 29, 2008   \n",
       "\n",
       "                                             summary  meta_score  user_review  \\\n",
       "0  As a young boy, Link is tricked by Ganondorf, ...          99         91.0   \n",
       "1  As most major publishers' development efforts ...          98         74.0   \n",
       "2  [Metacritic's 2008 PS3 Game of the Year; Also ...          98         77.0   \n",
       "\n",
       "   year year_time_format  \n",
       "0  1998       1998-01-01  \n",
       "1  2000       2000-01-01  \n",
       "2  2008       2008-01-01  "
      ]
     },
     "execution_count": 8,
     "metadata": {},
     "output_type": "execute_result"
    }
   ],
   "source": [
    "dfReviews.head(3)"
   ]
  },
  {
   "cell_type": "markdown",
   "id": "ce03cd35",
   "metadata": {},
   "source": [
    "# Los 10 juegos más vendidos por plataforma globalmente y en cada región principal"
   ]
  },
  {
   "cell_type": "markdown",
   "id": "0e00c3fb",
   "metadata": {},
   "source": [
    "El objetivo de este apartado es poder mostrar de forma interactiva qué juegos fueron los más vendidos de forma global, y ofrecer también lo mismo para las tres regiones principales (Norte América, Europa y Japón)."
   ]
  },
  {
   "cell_type": "markdown",
   "id": "dfc5ae4a",
   "metadata": {},
   "source": [
    "Primero, se creará un dataset que sólo contenga los diez juegos más vendidos globalmente ordenados de más a menos vendidos."
   ]
  },
  {
   "cell_type": "code",
   "execution_count": 9,
   "id": "db1d0cf6",
   "metadata": {},
   "outputs": [
    {
     "data": {
      "text/html": [
       "<div>\n",
       "<style scoped>\n",
       "    .dataframe tbody tr th:only-of-type {\n",
       "        vertical-align: middle;\n",
       "    }\n",
       "\n",
       "    .dataframe tbody tr th {\n",
       "        vertical-align: top;\n",
       "    }\n",
       "\n",
       "    .dataframe thead th {\n",
       "        text-align: right;\n",
       "    }\n",
       "</style>\n",
       "<table border=\"1\" class=\"dataframe\">\n",
       "  <thead>\n",
       "    <tr style=\"text-align: right;\">\n",
       "      <th></th>\n",
       "      <th>Rank</th>\n",
       "      <th>Name</th>\n",
       "      <th>Platform</th>\n",
       "      <th>Year</th>\n",
       "      <th>Genre</th>\n",
       "      <th>Publisher</th>\n",
       "      <th>NA_Sales</th>\n",
       "      <th>EU_Sales</th>\n",
       "      <th>JP_Sales</th>\n",
       "      <th>Other_Sales</th>\n",
       "      <th>Global_Sales</th>\n",
       "    </tr>\n",
       "  </thead>\n",
       "  <tbody>\n",
       "    <tr>\n",
       "      <th>0</th>\n",
       "      <td>90</td>\n",
       "      <td>Pac-Man</td>\n",
       "      <td>2600</td>\n",
       "      <td>1982.0</td>\n",
       "      <td>Puzzle</td>\n",
       "      <td>Atari</td>\n",
       "      <td>7.28</td>\n",
       "      <td>0.45</td>\n",
       "      <td>0.0</td>\n",
       "      <td>0.08</td>\n",
       "      <td>7.81</td>\n",
       "    </tr>\n",
       "    <tr>\n",
       "      <th>1</th>\n",
       "      <td>240</td>\n",
       "      <td>Pitfall!</td>\n",
       "      <td>2600</td>\n",
       "      <td>1981.0</td>\n",
       "      <td>Platform</td>\n",
       "      <td>Activision</td>\n",
       "      <td>4.21</td>\n",
       "      <td>0.24</td>\n",
       "      <td>0.0</td>\n",
       "      <td>0.05</td>\n",
       "      <td>4.50</td>\n",
       "    </tr>\n",
       "    <tr>\n",
       "      <th>2</th>\n",
       "      <td>259</td>\n",
       "      <td>Asteroids</td>\n",
       "      <td>2600</td>\n",
       "      <td>1980.0</td>\n",
       "      <td>Shooter</td>\n",
       "      <td>Atari</td>\n",
       "      <td>4.00</td>\n",
       "      <td>0.26</td>\n",
       "      <td>0.0</td>\n",
       "      <td>0.05</td>\n",
       "      <td>4.31</td>\n",
       "    </tr>\n",
       "    <tr>\n",
       "      <th>3</th>\n",
       "      <td>545</td>\n",
       "      <td>Missile Command</td>\n",
       "      <td>2600</td>\n",
       "      <td>1980.0</td>\n",
       "      <td>Shooter</td>\n",
       "      <td>Atari</td>\n",
       "      <td>2.56</td>\n",
       "      <td>0.17</td>\n",
       "      <td>0.0</td>\n",
       "      <td>0.03</td>\n",
       "      <td>2.76</td>\n",
       "    </tr>\n",
       "    <tr>\n",
       "      <th>4</th>\n",
       "      <td>608</td>\n",
       "      <td>Space Invaders</td>\n",
       "      <td>2600</td>\n",
       "      <td>NaN</td>\n",
       "      <td>Shooter</td>\n",
       "      <td>Atari</td>\n",
       "      <td>2.36</td>\n",
       "      <td>0.14</td>\n",
       "      <td>0.0</td>\n",
       "      <td>0.03</td>\n",
       "      <td>2.53</td>\n",
       "    </tr>\n",
       "    <tr>\n",
       "      <th>5</th>\n",
       "      <td>736</td>\n",
       "      <td>Frogger</td>\n",
       "      <td>2600</td>\n",
       "      <td>1981.0</td>\n",
       "      <td>Action</td>\n",
       "      <td>Parker Bros.</td>\n",
       "      <td>2.06</td>\n",
       "      <td>0.12</td>\n",
       "      <td>0.0</td>\n",
       "      <td>0.02</td>\n",
       "      <td>2.20</td>\n",
       "    </tr>\n",
       "    <tr>\n",
       "      <th>6</th>\n",
       "      <td>768</td>\n",
       "      <td>Demon Attack</td>\n",
       "      <td>2600</td>\n",
       "      <td>1981.0</td>\n",
       "      <td>Shooter</td>\n",
       "      <td>Imagic</td>\n",
       "      <td>1.99</td>\n",
       "      <td>0.12</td>\n",
       "      <td>0.0</td>\n",
       "      <td>0.02</td>\n",
       "      <td>2.13</td>\n",
       "    </tr>\n",
       "    <tr>\n",
       "      <th>7</th>\n",
       "      <td>866</td>\n",
       "      <td>E.T.: The Extra Terrestrial</td>\n",
       "      <td>2600</td>\n",
       "      <td>1981.0</td>\n",
       "      <td>Action</td>\n",
       "      <td>Atari</td>\n",
       "      <td>1.84</td>\n",
       "      <td>0.11</td>\n",
       "      <td>0.0</td>\n",
       "      <td>0.02</td>\n",
       "      <td>1.97</td>\n",
       "    </tr>\n",
       "    <tr>\n",
       "      <th>8</th>\n",
       "      <td>1108</td>\n",
       "      <td>Ms. Pac-Man</td>\n",
       "      <td>2600</td>\n",
       "      <td>1981.0</td>\n",
       "      <td>Puzzle</td>\n",
       "      <td>Atari</td>\n",
       "      <td>1.54</td>\n",
       "      <td>0.10</td>\n",
       "      <td>0.0</td>\n",
       "      <td>0.02</td>\n",
       "      <td>1.65</td>\n",
       "    </tr>\n",
       "    <tr>\n",
       "      <th>9</th>\n",
       "      <td>1117</td>\n",
       "      <td>Dig Dug</td>\n",
       "      <td>2600</td>\n",
       "      <td>1982.0</td>\n",
       "      <td>Puzzle</td>\n",
       "      <td>Atari</td>\n",
       "      <td>1.52</td>\n",
       "      <td>0.10</td>\n",
       "      <td>0.0</td>\n",
       "      <td>0.02</td>\n",
       "      <td>1.64</td>\n",
       "    </tr>\n",
       "  </tbody>\n",
       "</table>\n",
       "</div>"
      ],
      "text/plain": [
       "   Rank                         Name Platform    Year     Genre     Publisher  \\\n",
       "0    90                      Pac-Man     2600  1982.0    Puzzle         Atari   \n",
       "1   240                     Pitfall!     2600  1981.0  Platform    Activision   \n",
       "2   259                    Asteroids     2600  1980.0   Shooter         Atari   \n",
       "3   545              Missile Command     2600  1980.0   Shooter         Atari   \n",
       "4   608               Space Invaders     2600     NaN   Shooter         Atari   \n",
       "5   736                      Frogger     2600  1981.0    Action  Parker Bros.   \n",
       "6   768                 Demon Attack     2600  1981.0   Shooter        Imagic   \n",
       "7   866  E.T.: The Extra Terrestrial     2600  1981.0    Action         Atari   \n",
       "8  1108                  Ms. Pac-Man     2600  1981.0    Puzzle         Atari   \n",
       "9  1117                      Dig Dug     2600  1982.0    Puzzle         Atari   \n",
       "\n",
       "   NA_Sales  EU_Sales  JP_Sales  Other_Sales  Global_Sales  \n",
       "0      7.28      0.45       0.0         0.08          7.81  \n",
       "1      4.21      0.24       0.0         0.05          4.50  \n",
       "2      4.00      0.26       0.0         0.05          4.31  \n",
       "3      2.56      0.17       0.0         0.03          2.76  \n",
       "4      2.36      0.14       0.0         0.03          2.53  \n",
       "5      2.06      0.12       0.0         0.02          2.20  \n",
       "6      1.99      0.12       0.0         0.02          2.13  \n",
       "7      1.84      0.11       0.0         0.02          1.97  \n",
       "8      1.54      0.10       0.0         0.02          1.65  \n",
       "9      1.52      0.10       0.0         0.02          1.64  "
      ]
     },
     "execution_count": 9,
     "metadata": {},
     "output_type": "execute_result"
    }
   ],
   "source": [
    "top_10_by_platform = dfSales.groupby('Platform').apply(lambda x: x.sort_values('Global_Sales', ascending=False).head(10))\n",
    "top_10_by_platform.reset_index(drop=True, inplace=True)\n",
    "\n",
    "top_10_by_platform.head(10)"
   ]
  },
  {
   "cell_type": "markdown",
   "id": "187c60b0",
   "metadata": {},
   "source": [
    "Primero, un gráfico que muestra los 10 videojuegos más vendidos globalmente para la plataforma escogida."
   ]
  },
  {
   "cell_type": "code",
   "execution_count": 10,
   "id": "d0d17f18",
   "metadata": {},
   "outputs": [
    {
     "data": {
      "application/vnd.jupyter.widget-view+json": {
       "model_id": "31782009c66b4783b1d77d65c53240bd",
       "version_major": 2,
       "version_minor": 0
      },
      "text/plain": [
       "interactive(children=(Dropdown(description='platform', options=('2600', '3DO', '3DS', 'DC', 'DS', 'GB', 'GBA',…"
      ]
     },
     "metadata": {},
     "output_type": "display_data"
    }
   ],
   "source": [
    "@interact\n",
    "def plot_classification(platform=list(top_10_by_platform[\"Platform\"].unique())):\n",
    "    \n",
    "    condition = top_10_by_platform[\"Platform\"] == platform\n",
    "    top_10_by_platform_filtered=top_10_by_platform[condition]\n",
    "    top_10_by_platform_filtered = top_10_by_platform_filtered.loc[:, ['Name', 'Global_Sales']]\n",
    "\n",
    "    display(HTML(f'<h3> Top 10 videojuegos más vendidos para {platform} globalmente <h3>'))\n",
    "    if len(top_10_by_platform_filtered)!=0:\n",
    "        fig, ax = plt.subplots(figsize=(12, 8))\n",
    "        top_10_by_platform_filtered.plot.bar(x=\"Name\", y=\"Global_Sales\", ax = ax) \n",
    "        ax.set_title(f'Top 10 juegos para {platform}')\n",
    "        ax.set_xlabel('Videojuegos')\n",
    "        ax.set_ylabel('Ventas (en millones)')\n",
    "        _=plt.setp(ax.get_xticklabels(), rotation=45, ha=\"right\",rotation_mode=\"anchor\")\n",
    "    else:\n",
    "        print(\"No data available\")"
   ]
  },
  {
   "cell_type": "code",
   "execution_count": 11,
   "id": "8a562659",
   "metadata": {},
   "outputs": [],
   "source": [
    "columnToChoose = [\"NA_Sales\", \"EU_Sales\", \"JP_Sales\"]"
   ]
  },
  {
   "cell_type": "markdown",
   "id": "90adb255",
   "metadata": {},
   "source": [
    "En segundo lugar, el gráfico que muestra los 10 videojuegos más vendidos para la región y plataforma escogidas."
   ]
  },
  {
   "cell_type": "code",
   "execution_count": 12,
   "id": "2e513d9e",
   "metadata": {},
   "outputs": [
    {
     "data": {
      "application/vnd.jupyter.widget-view+json": {
       "model_id": "0d6ea6a7ca6f424ca9b3dcf57512b2e9",
       "version_major": 2,
       "version_minor": 0
      },
      "text/plain": [
       "interactive(children=(Dropdown(description='platform', options=('2600', '3DO', '3DS', 'DC', 'DS', 'GB', 'GBA',…"
      ]
     },
     "metadata": {},
     "output_type": "display_data"
    }
   ],
   "source": [
    "@interact\n",
    "def plot_classification(platform=list(top_10_by_platform[\"Platform\"].unique()), region=columnToChoose):\n",
    "    \n",
    "    condition = top_10_by_platform[\"Platform\"] == platform\n",
    "    top_10_in_region = dfSales.groupby('Platform').apply(lambda x: x.sort_values(region, ascending=False).head(10))\n",
    "    top_10_in_region.reset_index(drop=True, inplace=True)\n",
    "    top_10_in_region_filtered = top_10_in_region[condition]\n",
    "    top_10_in_region = top_10_in_region_filtered.loc[:, ['Name', region]]\n",
    "\n",
    "    if region == \"NA_Sales\":\n",
    "        color = \"#3D7ED9\"\n",
    "        regionEsp = \"Norte América\"\n",
    "    elif region == \"EU_Sales\":\n",
    "        color = \"#DB4735\"\n",
    "        regionEsp = \"Europa\"\n",
    "    else:\n",
    "        color = \"#56DB5F\"\n",
    "        regionEsp = \"Japón\"\n",
    "\n",
    "    display(HTML(f'<h3> Top 10 videojuegos más vendidos para {platform} en {regionEsp} <h3>'))\n",
    "    if len(top_10_in_region_filtered)!=0:\n",
    "        fig, ax = plt.subplots(figsize=(12, 8))\n",
    "        top_10_in_region_filtered.plot.bar(x=\"Name\", y=region, color=color, ax = ax) \n",
    "        ax.set_title(f'Top 10 juegos para {platform}')\n",
    "        ax.set_xlabel('Videojuegos')\n",
    "        ax.set_ylabel('Ventas (en millones)')\n",
    "        _=plt.setp(ax.get_xticklabels(), rotation=45, ha=\"right\",rotation_mode=\"anchor\")\n",
    "    else:\n",
    "        print(\"No data available\")"
   ]
  },
  {
   "cell_type": "markdown",
   "id": "4689f78a",
   "metadata": {},
   "source": [
    "# Cuántas ventas hubó por año globalmente y en las regiones principales"
   ]
  },
  {
   "cell_type": "markdown",
   "id": "1aa19094",
   "metadata": {},
   "source": [
    "El objetivo de este apartado es mostrar una evolución de las ventas de videojuegos con los años. Este dataset tiene el problema de que a partir del 2010 contiene menos información."
   ]
  },
  {
   "cell_type": "markdown",
   "id": "1fd91812",
   "metadata": {},
   "source": [
    "Se creará una copia del dataset de ventas original donde no haya datos con valor NA en la fecha de lanzamiento."
   ]
  },
  {
   "cell_type": "code",
   "execution_count": 13,
   "id": "d198272f",
   "metadata": {},
   "outputs": [],
   "source": [
    "dfYearClean = dfSales.copy()\n",
    "dfYearClean.dropna(subset=['Year'], inplace=True)"
   ]
  },
  {
   "cell_type": "markdown",
   "id": "a6df8d17",
   "metadata": {},
   "source": [
    "Se agrupan los datos en función del año y se hace la suma de las ventas globales por año."
   ]
  },
  {
   "cell_type": "code",
   "execution_count": 14,
   "id": "26b021bd",
   "metadata": {},
   "outputs": [],
   "source": [
    "dfSalesByYear = dfYearClean.groupby('Year')['Global_Sales'].sum().reset_index()\n",
    "dfSalesByYear = dfSalesByYear.rename(columns={\"Global_Sales\": \"Global Sales in Millions\"})"
   ]
  },
  {
   "cell_type": "markdown",
   "id": "8187ea60",
   "metadata": {},
   "source": [
    "Gráfico que muestra la evolución de las ventas de manera global anualmente.\n",
    "\n",
    "Se pueden seleccionar los años que se quieren ver mediante el slider."
   ]
  },
  {
   "cell_type": "code",
   "execution_count": 15,
   "id": "1951c100",
   "metadata": {},
   "outputs": [
    {
     "data": {
      "application/vnd.plotly.v1+json": {
       "config": {
        "plotlyServerURL": "https://plot.ly"
       },
       "data": [
        {
         "hovertemplate": "Year=%{x}<br>Global Sales in Millions=%{y}<extra></extra>",
         "legendgroup": "",
         "line": {
          "color": "#636efa",
          "dash": "solid"
         },
         "marker": {
          "symbol": "circle"
         },
         "mode": "lines",
         "name": "",
         "orientation": "v",
         "showlegend": false,
         "type": "scatter",
         "x": [
          1980,
          1981,
          1982,
          1983,
          1984,
          1985,
          1986,
          1987,
          1988,
          1989,
          1990,
          1991,
          1992,
          1993,
          1994,
          1995,
          1996,
          1997,
          1998,
          1999,
          2000,
          2001,
          2002,
          2003,
          2004,
          2005,
          2006,
          2007,
          2008,
          2009,
          2010,
          2011,
          2012,
          2013,
          2014,
          2015,
          2016,
          2017,
          2020
         ],
         "xaxis": "x",
         "y": [
          11.379999999999999,
          35.77000000000001,
          28.859999999999996,
          16.790000000000003,
          50.360000000000014,
          53.940000000000005,
          37.07,
          21.739999999999995,
          47.22,
          73.45,
          49.38999999999999,
          32.230000000000004,
          76.15999999999998,
          45.98,
          79.17000000000003,
          88.10999999999991,
          199.14999999999995,
          200.98000000000013,
          256.46999999999963,
          251.27000000000018,
          201.5600000000002,
          331.4699999999991,
          395.5199999999983,
          357.8499999999989,
          419.30999999999864,
          459.9399999999976,
          521.0399999999917,
          611.1299999999934,
          678.8999999999952,
          667.2999999999947,
          600.4499999999948,
          515.9899999999969,
          363.5399999999984,
          368.10999999999865,
          337.0499999999985,
          264.43999999999795,
          70.93000000000013,
          0.05,
          0.29
         ],
         "yaxis": "y"
        }
       ],
       "layout": {
        "legend": {
         "tracegroupgap": 0
        },
        "template": {
         "data": {
          "bar": [
           {
            "error_x": {
             "color": "#2a3f5f"
            },
            "error_y": {
             "color": "#2a3f5f"
            },
            "marker": {
             "line": {
              "color": "#E5ECF6",
              "width": 0.5
             },
             "pattern": {
              "fillmode": "overlay",
              "size": 10,
              "solidity": 0.2
             }
            },
            "type": "bar"
           }
          ],
          "barpolar": [
           {
            "marker": {
             "line": {
              "color": "#E5ECF6",
              "width": 0.5
             },
             "pattern": {
              "fillmode": "overlay",
              "size": 10,
              "solidity": 0.2
             }
            },
            "type": "barpolar"
           }
          ],
          "carpet": [
           {
            "aaxis": {
             "endlinecolor": "#2a3f5f",
             "gridcolor": "white",
             "linecolor": "white",
             "minorgridcolor": "white",
             "startlinecolor": "#2a3f5f"
            },
            "baxis": {
             "endlinecolor": "#2a3f5f",
             "gridcolor": "white",
             "linecolor": "white",
             "minorgridcolor": "white",
             "startlinecolor": "#2a3f5f"
            },
            "type": "carpet"
           }
          ],
          "choropleth": [
           {
            "colorbar": {
             "outlinewidth": 0,
             "ticks": ""
            },
            "type": "choropleth"
           }
          ],
          "contour": [
           {
            "colorbar": {
             "outlinewidth": 0,
             "ticks": ""
            },
            "colorscale": [
             [
              0,
              "#0d0887"
             ],
             [
              0.1111111111111111,
              "#46039f"
             ],
             [
              0.2222222222222222,
              "#7201a8"
             ],
             [
              0.3333333333333333,
              "#9c179e"
             ],
             [
              0.4444444444444444,
              "#bd3786"
             ],
             [
              0.5555555555555556,
              "#d8576b"
             ],
             [
              0.6666666666666666,
              "#ed7953"
             ],
             [
              0.7777777777777778,
              "#fb9f3a"
             ],
             [
              0.8888888888888888,
              "#fdca26"
             ],
             [
              1,
              "#f0f921"
             ]
            ],
            "type": "contour"
           }
          ],
          "contourcarpet": [
           {
            "colorbar": {
             "outlinewidth": 0,
             "ticks": ""
            },
            "type": "contourcarpet"
           }
          ],
          "heatmap": [
           {
            "colorbar": {
             "outlinewidth": 0,
             "ticks": ""
            },
            "colorscale": [
             [
              0,
              "#0d0887"
             ],
             [
              0.1111111111111111,
              "#46039f"
             ],
             [
              0.2222222222222222,
              "#7201a8"
             ],
             [
              0.3333333333333333,
              "#9c179e"
             ],
             [
              0.4444444444444444,
              "#bd3786"
             ],
             [
              0.5555555555555556,
              "#d8576b"
             ],
             [
              0.6666666666666666,
              "#ed7953"
             ],
             [
              0.7777777777777778,
              "#fb9f3a"
             ],
             [
              0.8888888888888888,
              "#fdca26"
             ],
             [
              1,
              "#f0f921"
             ]
            ],
            "type": "heatmap"
           }
          ],
          "heatmapgl": [
           {
            "colorbar": {
             "outlinewidth": 0,
             "ticks": ""
            },
            "colorscale": [
             [
              0,
              "#0d0887"
             ],
             [
              0.1111111111111111,
              "#46039f"
             ],
             [
              0.2222222222222222,
              "#7201a8"
             ],
             [
              0.3333333333333333,
              "#9c179e"
             ],
             [
              0.4444444444444444,
              "#bd3786"
             ],
             [
              0.5555555555555556,
              "#d8576b"
             ],
             [
              0.6666666666666666,
              "#ed7953"
             ],
             [
              0.7777777777777778,
              "#fb9f3a"
             ],
             [
              0.8888888888888888,
              "#fdca26"
             ],
             [
              1,
              "#f0f921"
             ]
            ],
            "type": "heatmapgl"
           }
          ],
          "histogram": [
           {
            "marker": {
             "pattern": {
              "fillmode": "overlay",
              "size": 10,
              "solidity": 0.2
             }
            },
            "type": "histogram"
           }
          ],
          "histogram2d": [
           {
            "colorbar": {
             "outlinewidth": 0,
             "ticks": ""
            },
            "colorscale": [
             [
              0,
              "#0d0887"
             ],
             [
              0.1111111111111111,
              "#46039f"
             ],
             [
              0.2222222222222222,
              "#7201a8"
             ],
             [
              0.3333333333333333,
              "#9c179e"
             ],
             [
              0.4444444444444444,
              "#bd3786"
             ],
             [
              0.5555555555555556,
              "#d8576b"
             ],
             [
              0.6666666666666666,
              "#ed7953"
             ],
             [
              0.7777777777777778,
              "#fb9f3a"
             ],
             [
              0.8888888888888888,
              "#fdca26"
             ],
             [
              1,
              "#f0f921"
             ]
            ],
            "type": "histogram2d"
           }
          ],
          "histogram2dcontour": [
           {
            "colorbar": {
             "outlinewidth": 0,
             "ticks": ""
            },
            "colorscale": [
             [
              0,
              "#0d0887"
             ],
             [
              0.1111111111111111,
              "#46039f"
             ],
             [
              0.2222222222222222,
              "#7201a8"
             ],
             [
              0.3333333333333333,
              "#9c179e"
             ],
             [
              0.4444444444444444,
              "#bd3786"
             ],
             [
              0.5555555555555556,
              "#d8576b"
             ],
             [
              0.6666666666666666,
              "#ed7953"
             ],
             [
              0.7777777777777778,
              "#fb9f3a"
             ],
             [
              0.8888888888888888,
              "#fdca26"
             ],
             [
              1,
              "#f0f921"
             ]
            ],
            "type": "histogram2dcontour"
           }
          ],
          "mesh3d": [
           {
            "colorbar": {
             "outlinewidth": 0,
             "ticks": ""
            },
            "type": "mesh3d"
           }
          ],
          "parcoords": [
           {
            "line": {
             "colorbar": {
              "outlinewidth": 0,
              "ticks": ""
             }
            },
            "type": "parcoords"
           }
          ],
          "pie": [
           {
            "automargin": true,
            "type": "pie"
           }
          ],
          "scatter": [
           {
            "fillpattern": {
             "fillmode": "overlay",
             "size": 10,
             "solidity": 0.2
            },
            "type": "scatter"
           }
          ],
          "scatter3d": [
           {
            "line": {
             "colorbar": {
              "outlinewidth": 0,
              "ticks": ""
             }
            },
            "marker": {
             "colorbar": {
              "outlinewidth": 0,
              "ticks": ""
             }
            },
            "type": "scatter3d"
           }
          ],
          "scattercarpet": [
           {
            "marker": {
             "colorbar": {
              "outlinewidth": 0,
              "ticks": ""
             }
            },
            "type": "scattercarpet"
           }
          ],
          "scattergeo": [
           {
            "marker": {
             "colorbar": {
              "outlinewidth": 0,
              "ticks": ""
             }
            },
            "type": "scattergeo"
           }
          ],
          "scattergl": [
           {
            "marker": {
             "colorbar": {
              "outlinewidth": 0,
              "ticks": ""
             }
            },
            "type": "scattergl"
           }
          ],
          "scattermapbox": [
           {
            "marker": {
             "colorbar": {
              "outlinewidth": 0,
              "ticks": ""
             }
            },
            "type": "scattermapbox"
           }
          ],
          "scatterpolar": [
           {
            "marker": {
             "colorbar": {
              "outlinewidth": 0,
              "ticks": ""
             }
            },
            "type": "scatterpolar"
           }
          ],
          "scatterpolargl": [
           {
            "marker": {
             "colorbar": {
              "outlinewidth": 0,
              "ticks": ""
             }
            },
            "type": "scatterpolargl"
           }
          ],
          "scatterternary": [
           {
            "marker": {
             "colorbar": {
              "outlinewidth": 0,
              "ticks": ""
             }
            },
            "type": "scatterternary"
           }
          ],
          "surface": [
           {
            "colorbar": {
             "outlinewidth": 0,
             "ticks": ""
            },
            "colorscale": [
             [
              0,
              "#0d0887"
             ],
             [
              0.1111111111111111,
              "#46039f"
             ],
             [
              0.2222222222222222,
              "#7201a8"
             ],
             [
              0.3333333333333333,
              "#9c179e"
             ],
             [
              0.4444444444444444,
              "#bd3786"
             ],
             [
              0.5555555555555556,
              "#d8576b"
             ],
             [
              0.6666666666666666,
              "#ed7953"
             ],
             [
              0.7777777777777778,
              "#fb9f3a"
             ],
             [
              0.8888888888888888,
              "#fdca26"
             ],
             [
              1,
              "#f0f921"
             ]
            ],
            "type": "surface"
           }
          ],
          "table": [
           {
            "cells": {
             "fill": {
              "color": "#EBF0F8"
             },
             "line": {
              "color": "white"
             }
            },
            "header": {
             "fill": {
              "color": "#C8D4E3"
             },
             "line": {
              "color": "white"
             }
            },
            "type": "table"
           }
          ]
         },
         "layout": {
          "annotationdefaults": {
           "arrowcolor": "#2a3f5f",
           "arrowhead": 0,
           "arrowwidth": 1
          },
          "autotypenumbers": "strict",
          "coloraxis": {
           "colorbar": {
            "outlinewidth": 0,
            "ticks": ""
           }
          },
          "colorscale": {
           "diverging": [
            [
             0,
             "#8e0152"
            ],
            [
             0.1,
             "#c51b7d"
            ],
            [
             0.2,
             "#de77ae"
            ],
            [
             0.3,
             "#f1b6da"
            ],
            [
             0.4,
             "#fde0ef"
            ],
            [
             0.5,
             "#f7f7f7"
            ],
            [
             0.6,
             "#e6f5d0"
            ],
            [
             0.7,
             "#b8e186"
            ],
            [
             0.8,
             "#7fbc41"
            ],
            [
             0.9,
             "#4d9221"
            ],
            [
             1,
             "#276419"
            ]
           ],
           "sequential": [
            [
             0,
             "#0d0887"
            ],
            [
             0.1111111111111111,
             "#46039f"
            ],
            [
             0.2222222222222222,
             "#7201a8"
            ],
            [
             0.3333333333333333,
             "#9c179e"
            ],
            [
             0.4444444444444444,
             "#bd3786"
            ],
            [
             0.5555555555555556,
             "#d8576b"
            ],
            [
             0.6666666666666666,
             "#ed7953"
            ],
            [
             0.7777777777777778,
             "#fb9f3a"
            ],
            [
             0.8888888888888888,
             "#fdca26"
            ],
            [
             1,
             "#f0f921"
            ]
           ],
           "sequentialminus": [
            [
             0,
             "#0d0887"
            ],
            [
             0.1111111111111111,
             "#46039f"
            ],
            [
             0.2222222222222222,
             "#7201a8"
            ],
            [
             0.3333333333333333,
             "#9c179e"
            ],
            [
             0.4444444444444444,
             "#bd3786"
            ],
            [
             0.5555555555555556,
             "#d8576b"
            ],
            [
             0.6666666666666666,
             "#ed7953"
            ],
            [
             0.7777777777777778,
             "#fb9f3a"
            ],
            [
             0.8888888888888888,
             "#fdca26"
            ],
            [
             1,
             "#f0f921"
            ]
           ]
          },
          "colorway": [
           "#636efa",
           "#EF553B",
           "#00cc96",
           "#ab63fa",
           "#FFA15A",
           "#19d3f3",
           "#FF6692",
           "#B6E880",
           "#FF97FF",
           "#FECB52"
          ],
          "font": {
           "color": "#2a3f5f"
          },
          "geo": {
           "bgcolor": "white",
           "lakecolor": "white",
           "landcolor": "#E5ECF6",
           "showlakes": true,
           "showland": true,
           "subunitcolor": "white"
          },
          "hoverlabel": {
           "align": "left"
          },
          "hovermode": "closest",
          "mapbox": {
           "style": "light"
          },
          "paper_bgcolor": "white",
          "plot_bgcolor": "#E5ECF6",
          "polar": {
           "angularaxis": {
            "gridcolor": "white",
            "linecolor": "white",
            "ticks": ""
           },
           "bgcolor": "#E5ECF6",
           "radialaxis": {
            "gridcolor": "white",
            "linecolor": "white",
            "ticks": ""
           }
          },
          "scene": {
           "xaxis": {
            "backgroundcolor": "#E5ECF6",
            "gridcolor": "white",
            "gridwidth": 2,
            "linecolor": "white",
            "showbackground": true,
            "ticks": "",
            "zerolinecolor": "white"
           },
           "yaxis": {
            "backgroundcolor": "#E5ECF6",
            "gridcolor": "white",
            "gridwidth": 2,
            "linecolor": "white",
            "showbackground": true,
            "ticks": "",
            "zerolinecolor": "white"
           },
           "zaxis": {
            "backgroundcolor": "#E5ECF6",
            "gridcolor": "white",
            "gridwidth": 2,
            "linecolor": "white",
            "showbackground": true,
            "ticks": "",
            "zerolinecolor": "white"
           }
          },
          "shapedefaults": {
           "line": {
            "color": "#2a3f5f"
           }
          },
          "ternary": {
           "aaxis": {
            "gridcolor": "white",
            "linecolor": "white",
            "ticks": ""
           },
           "baxis": {
            "gridcolor": "white",
            "linecolor": "white",
            "ticks": ""
           },
           "bgcolor": "#E5ECF6",
           "caxis": {
            "gridcolor": "white",
            "linecolor": "white",
            "ticks": ""
           }
          },
          "title": {
           "x": 0.05
          },
          "xaxis": {
           "automargin": true,
           "gridcolor": "white",
           "linecolor": "white",
           "ticks": "",
           "title": {
            "standoff": 15
           },
           "zerolinecolor": "white",
           "zerolinewidth": 2
          },
          "yaxis": {
           "automargin": true,
           "gridcolor": "white",
           "linecolor": "white",
           "ticks": "",
           "title": {
            "standoff": 15
           },
           "zerolinecolor": "white",
           "zerolinewidth": 2
          }
         }
        },
        "title": {
         "text": "Evolución de los ingresos generados en función del año globalmente"
        },
        "xaxis": {
         "anchor": "y",
         "domain": [
          0,
          1
         ],
         "rangeslider": {
          "visible": true
         },
         "title": {
          "text": "Year"
         }
        },
        "yaxis": {
         "anchor": "x",
         "domain": [
          0,
          1
         ],
         "title": {
          "text": "Global Sales in Millions"
         }
        }
       }
      },
      "text/html": [
       "<div>                            <div id=\"43ce1271-7259-4608-aa8c-40d3177e1daa\" class=\"plotly-graph-div\" style=\"height:525px; width:100%;\"></div>            <script type=\"text/javascript\">                require([\"plotly\"], function(Plotly) {                    window.PLOTLYENV=window.PLOTLYENV || {};                                    if (document.getElementById(\"43ce1271-7259-4608-aa8c-40d3177e1daa\")) {                    Plotly.newPlot(                        \"43ce1271-7259-4608-aa8c-40d3177e1daa\",                        [{\"hovertemplate\":\"Year=%{x}<br>Global Sales in Millions=%{y}<extra></extra>\",\"legendgroup\":\"\",\"line\":{\"color\":\"#636efa\",\"dash\":\"solid\"},\"marker\":{\"symbol\":\"circle\"},\"mode\":\"lines\",\"name\":\"\",\"orientation\":\"v\",\"showlegend\":false,\"x\":[1980.0,1981.0,1982.0,1983.0,1984.0,1985.0,1986.0,1987.0,1988.0,1989.0,1990.0,1991.0,1992.0,1993.0,1994.0,1995.0,1996.0,1997.0,1998.0,1999.0,2000.0,2001.0,2002.0,2003.0,2004.0,2005.0,2006.0,2007.0,2008.0,2009.0,2010.0,2011.0,2012.0,2013.0,2014.0,2015.0,2016.0,2017.0,2020.0],\"xaxis\":\"x\",\"y\":[11.379999999999999,35.77000000000001,28.859999999999996,16.790000000000003,50.360000000000014,53.940000000000005,37.07,21.739999999999995,47.22,73.45,49.38999999999999,32.230000000000004,76.15999999999998,45.98,79.17000000000003,88.10999999999991,199.14999999999995,200.98000000000013,256.46999999999963,251.27000000000018,201.5600000000002,331.4699999999991,395.5199999999983,357.8499999999989,419.30999999999864,459.9399999999976,521.0399999999917,611.1299999999934,678.8999999999952,667.2999999999947,600.4499999999948,515.9899999999969,363.5399999999984,368.10999999999865,337.0499999999985,264.43999999999795,70.93000000000013,0.05,0.29],\"yaxis\":\"y\",\"type\":\"scatter\"}],                        {\"template\":{\"data\":{\"histogram2dcontour\":[{\"type\":\"histogram2dcontour\",\"colorbar\":{\"outlinewidth\":0,\"ticks\":\"\"},\"colorscale\":[[0.0,\"#0d0887\"],[0.1111111111111111,\"#46039f\"],[0.2222222222222222,\"#7201a8\"],[0.3333333333333333,\"#9c179e\"],[0.4444444444444444,\"#bd3786\"],[0.5555555555555556,\"#d8576b\"],[0.6666666666666666,\"#ed7953\"],[0.7777777777777778,\"#fb9f3a\"],[0.8888888888888888,\"#fdca26\"],[1.0,\"#f0f921\"]]}],\"choropleth\":[{\"type\":\"choropleth\",\"colorbar\":{\"outlinewidth\":0,\"ticks\":\"\"}}],\"histogram2d\":[{\"type\":\"histogram2d\",\"colorbar\":{\"outlinewidth\":0,\"ticks\":\"\"},\"colorscale\":[[0.0,\"#0d0887\"],[0.1111111111111111,\"#46039f\"],[0.2222222222222222,\"#7201a8\"],[0.3333333333333333,\"#9c179e\"],[0.4444444444444444,\"#bd3786\"],[0.5555555555555556,\"#d8576b\"],[0.6666666666666666,\"#ed7953\"],[0.7777777777777778,\"#fb9f3a\"],[0.8888888888888888,\"#fdca26\"],[1.0,\"#f0f921\"]]}],\"heatmap\":[{\"type\":\"heatmap\",\"colorbar\":{\"outlinewidth\":0,\"ticks\":\"\"},\"colorscale\":[[0.0,\"#0d0887\"],[0.1111111111111111,\"#46039f\"],[0.2222222222222222,\"#7201a8\"],[0.3333333333333333,\"#9c179e\"],[0.4444444444444444,\"#bd3786\"],[0.5555555555555556,\"#d8576b\"],[0.6666666666666666,\"#ed7953\"],[0.7777777777777778,\"#fb9f3a\"],[0.8888888888888888,\"#fdca26\"],[1.0,\"#f0f921\"]]}],\"heatmapgl\":[{\"type\":\"heatmapgl\",\"colorbar\":{\"outlinewidth\":0,\"ticks\":\"\"},\"colorscale\":[[0.0,\"#0d0887\"],[0.1111111111111111,\"#46039f\"],[0.2222222222222222,\"#7201a8\"],[0.3333333333333333,\"#9c179e\"],[0.4444444444444444,\"#bd3786\"],[0.5555555555555556,\"#d8576b\"],[0.6666666666666666,\"#ed7953\"],[0.7777777777777778,\"#fb9f3a\"],[0.8888888888888888,\"#fdca26\"],[1.0,\"#f0f921\"]]}],\"contourcarpet\":[{\"type\":\"contourcarpet\",\"colorbar\":{\"outlinewidth\":0,\"ticks\":\"\"}}],\"contour\":[{\"type\":\"contour\",\"colorbar\":{\"outlinewidth\":0,\"ticks\":\"\"},\"colorscale\":[[0.0,\"#0d0887\"],[0.1111111111111111,\"#46039f\"],[0.2222222222222222,\"#7201a8\"],[0.3333333333333333,\"#9c179e\"],[0.4444444444444444,\"#bd3786\"],[0.5555555555555556,\"#d8576b\"],[0.6666666666666666,\"#ed7953\"],[0.7777777777777778,\"#fb9f3a\"],[0.8888888888888888,\"#fdca26\"],[1.0,\"#f0f921\"]]}],\"surface\":[{\"type\":\"surface\",\"colorbar\":{\"outlinewidth\":0,\"ticks\":\"\"},\"colorscale\":[[0.0,\"#0d0887\"],[0.1111111111111111,\"#46039f\"],[0.2222222222222222,\"#7201a8\"],[0.3333333333333333,\"#9c179e\"],[0.4444444444444444,\"#bd3786\"],[0.5555555555555556,\"#d8576b\"],[0.6666666666666666,\"#ed7953\"],[0.7777777777777778,\"#fb9f3a\"],[0.8888888888888888,\"#fdca26\"],[1.0,\"#f0f921\"]]}],\"mesh3d\":[{\"type\":\"mesh3d\",\"colorbar\":{\"outlinewidth\":0,\"ticks\":\"\"}}],\"scatter\":[{\"fillpattern\":{\"fillmode\":\"overlay\",\"size\":10,\"solidity\":0.2},\"type\":\"scatter\"}],\"parcoords\":[{\"type\":\"parcoords\",\"line\":{\"colorbar\":{\"outlinewidth\":0,\"ticks\":\"\"}}}],\"scatterpolargl\":[{\"type\":\"scatterpolargl\",\"marker\":{\"colorbar\":{\"outlinewidth\":0,\"ticks\":\"\"}}}],\"bar\":[{\"error_x\":{\"color\":\"#2a3f5f\"},\"error_y\":{\"color\":\"#2a3f5f\"},\"marker\":{\"line\":{\"color\":\"#E5ECF6\",\"width\":0.5},\"pattern\":{\"fillmode\":\"overlay\",\"size\":10,\"solidity\":0.2}},\"type\":\"bar\"}],\"scattergeo\":[{\"type\":\"scattergeo\",\"marker\":{\"colorbar\":{\"outlinewidth\":0,\"ticks\":\"\"}}}],\"scatterpolar\":[{\"type\":\"scatterpolar\",\"marker\":{\"colorbar\":{\"outlinewidth\":0,\"ticks\":\"\"}}}],\"histogram\":[{\"marker\":{\"pattern\":{\"fillmode\":\"overlay\",\"size\":10,\"solidity\":0.2}},\"type\":\"histogram\"}],\"scattergl\":[{\"type\":\"scattergl\",\"marker\":{\"colorbar\":{\"outlinewidth\":0,\"ticks\":\"\"}}}],\"scatter3d\":[{\"type\":\"scatter3d\",\"line\":{\"colorbar\":{\"outlinewidth\":0,\"ticks\":\"\"}},\"marker\":{\"colorbar\":{\"outlinewidth\":0,\"ticks\":\"\"}}}],\"scattermapbox\":[{\"type\":\"scattermapbox\",\"marker\":{\"colorbar\":{\"outlinewidth\":0,\"ticks\":\"\"}}}],\"scatterternary\":[{\"type\":\"scatterternary\",\"marker\":{\"colorbar\":{\"outlinewidth\":0,\"ticks\":\"\"}}}],\"scattercarpet\":[{\"type\":\"scattercarpet\",\"marker\":{\"colorbar\":{\"outlinewidth\":0,\"ticks\":\"\"}}}],\"carpet\":[{\"aaxis\":{\"endlinecolor\":\"#2a3f5f\",\"gridcolor\":\"white\",\"linecolor\":\"white\",\"minorgridcolor\":\"white\",\"startlinecolor\":\"#2a3f5f\"},\"baxis\":{\"endlinecolor\":\"#2a3f5f\",\"gridcolor\":\"white\",\"linecolor\":\"white\",\"minorgridcolor\":\"white\",\"startlinecolor\":\"#2a3f5f\"},\"type\":\"carpet\"}],\"table\":[{\"cells\":{\"fill\":{\"color\":\"#EBF0F8\"},\"line\":{\"color\":\"white\"}},\"header\":{\"fill\":{\"color\":\"#C8D4E3\"},\"line\":{\"color\":\"white\"}},\"type\":\"table\"}],\"barpolar\":[{\"marker\":{\"line\":{\"color\":\"#E5ECF6\",\"width\":0.5},\"pattern\":{\"fillmode\":\"overlay\",\"size\":10,\"solidity\":0.2}},\"type\":\"barpolar\"}],\"pie\":[{\"automargin\":true,\"type\":\"pie\"}]},\"layout\":{\"autotypenumbers\":\"strict\",\"colorway\":[\"#636efa\",\"#EF553B\",\"#00cc96\",\"#ab63fa\",\"#FFA15A\",\"#19d3f3\",\"#FF6692\",\"#B6E880\",\"#FF97FF\",\"#FECB52\"],\"font\":{\"color\":\"#2a3f5f\"},\"hovermode\":\"closest\",\"hoverlabel\":{\"align\":\"left\"},\"paper_bgcolor\":\"white\",\"plot_bgcolor\":\"#E5ECF6\",\"polar\":{\"bgcolor\":\"#E5ECF6\",\"angularaxis\":{\"gridcolor\":\"white\",\"linecolor\":\"white\",\"ticks\":\"\"},\"radialaxis\":{\"gridcolor\":\"white\",\"linecolor\":\"white\",\"ticks\":\"\"}},\"ternary\":{\"bgcolor\":\"#E5ECF6\",\"aaxis\":{\"gridcolor\":\"white\",\"linecolor\":\"white\",\"ticks\":\"\"},\"baxis\":{\"gridcolor\":\"white\",\"linecolor\":\"white\",\"ticks\":\"\"},\"caxis\":{\"gridcolor\":\"white\",\"linecolor\":\"white\",\"ticks\":\"\"}},\"coloraxis\":{\"colorbar\":{\"outlinewidth\":0,\"ticks\":\"\"}},\"colorscale\":{\"sequential\":[[0.0,\"#0d0887\"],[0.1111111111111111,\"#46039f\"],[0.2222222222222222,\"#7201a8\"],[0.3333333333333333,\"#9c179e\"],[0.4444444444444444,\"#bd3786\"],[0.5555555555555556,\"#d8576b\"],[0.6666666666666666,\"#ed7953\"],[0.7777777777777778,\"#fb9f3a\"],[0.8888888888888888,\"#fdca26\"],[1.0,\"#f0f921\"]],\"sequentialminus\":[[0.0,\"#0d0887\"],[0.1111111111111111,\"#46039f\"],[0.2222222222222222,\"#7201a8\"],[0.3333333333333333,\"#9c179e\"],[0.4444444444444444,\"#bd3786\"],[0.5555555555555556,\"#d8576b\"],[0.6666666666666666,\"#ed7953\"],[0.7777777777777778,\"#fb9f3a\"],[0.8888888888888888,\"#fdca26\"],[1.0,\"#f0f921\"]],\"diverging\":[[0,\"#8e0152\"],[0.1,\"#c51b7d\"],[0.2,\"#de77ae\"],[0.3,\"#f1b6da\"],[0.4,\"#fde0ef\"],[0.5,\"#f7f7f7\"],[0.6,\"#e6f5d0\"],[0.7,\"#b8e186\"],[0.8,\"#7fbc41\"],[0.9,\"#4d9221\"],[1,\"#276419\"]]},\"xaxis\":{\"gridcolor\":\"white\",\"linecolor\":\"white\",\"ticks\":\"\",\"title\":{\"standoff\":15},\"zerolinecolor\":\"white\",\"automargin\":true,\"zerolinewidth\":2},\"yaxis\":{\"gridcolor\":\"white\",\"linecolor\":\"white\",\"ticks\":\"\",\"title\":{\"standoff\":15},\"zerolinecolor\":\"white\",\"automargin\":true,\"zerolinewidth\":2},\"scene\":{\"xaxis\":{\"backgroundcolor\":\"#E5ECF6\",\"gridcolor\":\"white\",\"linecolor\":\"white\",\"showbackground\":true,\"ticks\":\"\",\"zerolinecolor\":\"white\",\"gridwidth\":2},\"yaxis\":{\"backgroundcolor\":\"#E5ECF6\",\"gridcolor\":\"white\",\"linecolor\":\"white\",\"showbackground\":true,\"ticks\":\"\",\"zerolinecolor\":\"white\",\"gridwidth\":2},\"zaxis\":{\"backgroundcolor\":\"#E5ECF6\",\"gridcolor\":\"white\",\"linecolor\":\"white\",\"showbackground\":true,\"ticks\":\"\",\"zerolinecolor\":\"white\",\"gridwidth\":2}},\"shapedefaults\":{\"line\":{\"color\":\"#2a3f5f\"}},\"annotationdefaults\":{\"arrowcolor\":\"#2a3f5f\",\"arrowhead\":0,\"arrowwidth\":1},\"geo\":{\"bgcolor\":\"white\",\"landcolor\":\"#E5ECF6\",\"subunitcolor\":\"white\",\"showland\":true,\"showlakes\":true,\"lakecolor\":\"white\"},\"title\":{\"x\":0.05},\"mapbox\":{\"style\":\"light\"}}},\"xaxis\":{\"anchor\":\"y\",\"domain\":[0.0,1.0],\"title\":{\"text\":\"Year\"},\"rangeslider\":{\"visible\":true}},\"yaxis\":{\"anchor\":\"x\",\"domain\":[0.0,1.0],\"title\":{\"text\":\"Global Sales in Millions\"}},\"legend\":{\"tracegroupgap\":0},\"title\":{\"text\":\"Evoluci\\u00f3n de los ingresos generados en funci\\u00f3n del a\\u00f1o globalmente\"}},                        {\"responsive\": true}                    ).then(function(){\n",
       "                            \n",
       "var gd = document.getElementById('43ce1271-7259-4608-aa8c-40d3177e1daa');\n",
       "var x = new MutationObserver(function (mutations, observer) {{\n",
       "        var display = window.getComputedStyle(gd).display;\n",
       "        if (!display || display === 'none') {{\n",
       "            console.log([gd, 'removed!']);\n",
       "            Plotly.purge(gd);\n",
       "            observer.disconnect();\n",
       "        }}\n",
       "}});\n",
       "\n",
       "// Listen for the removal of the full notebook cells\n",
       "var notebookContainer = gd.closest('#notebook-container');\n",
       "if (notebookContainer) {{\n",
       "    x.observe(notebookContainer, {childList: true});\n",
       "}}\n",
       "\n",
       "// Listen for the clearing of the current output cell\n",
       "var outputEl = gd.closest('.output');\n",
       "if (outputEl) {{\n",
       "    x.observe(outputEl, {childList: true});\n",
       "}}\n",
       "\n",
       "                        })                };                });            </script>        </div>"
      ]
     },
     "metadata": {},
     "output_type": "display_data"
    }
   ],
   "source": [
    "import plotly.express as px\n",
    "from IPython.display import HTML\n",
    "\n",
    "fig = px.line(dfSalesByYear, x=dfSalesByYear['Year'],y=dfSalesByYear['Global Sales in Millions'], title='Evolución de los ingresos generados en función del año globalmente')\n",
    "fig.update_xaxes(rangeslider_visible=True)"
   ]
  },
  {
   "cell_type": "markdown",
   "id": "01044fa5",
   "metadata": {},
   "source": [
    "Se crea también un dataset como dfSalesByYear, sólo que ahora contendrá la suma de las ventas para cada región principal por año"
   ]
  },
  {
   "cell_type": "code",
   "execution_count": 16,
   "id": "14453d1d",
   "metadata": {},
   "outputs": [],
   "source": [
    "dfSalesByYear2 = dfYearClean.groupby('Year')[['NA_Sales', 'EU_Sales', 'JP_Sales']].sum().reset_index()\n",
    "dfSalesByYear2 = dfSalesByYear2.rename(columns={\"NA_Sales\": \"North America Sales in Millions\"})\n",
    "dfSalesByYear2 = dfSalesByYear2.rename(columns={\"EU_Sales\": \"Europe Sales in Millions\"})\n",
    "dfSalesByYear2 = dfSalesByYear2.rename(columns={\"JP_Sales\": \"Japan Sales in Millions\"})"
   ]
  },
  {
   "cell_type": "markdown",
   "id": "ce45c149",
   "metadata": {},
   "source": [
    "Gráfico que muestra la evolución de las ventas para las tres regiones principales anualmente.\n",
    "\n",
    "Se pueden seleccionar los años que se quieren ver mediante el slider"
   ]
  },
  {
   "cell_type": "code",
   "execution_count": 17,
   "id": "f3528ac7",
   "metadata": {},
   "outputs": [
    {
     "data": {
      "application/vnd.plotly.v1+json": {
       "config": {
        "plotlyServerURL": "https://plot.ly"
       },
       "data": [
        {
         "hovertemplate": "variable=North America Sales in Millions<br>Year=%{x}<br>value=%{y}<extra></extra>",
         "legendgroup": "North America Sales in Millions",
         "line": {
          "color": "#636efa",
          "dash": "solid"
         },
         "marker": {
          "symbol": "circle"
         },
         "mode": "lines",
         "name": "North America Sales in Millions",
         "orientation": "v",
         "showlegend": true,
         "type": "scatter",
         "x": [
          1980,
          1981,
          1982,
          1983,
          1984,
          1985,
          1986,
          1987,
          1988,
          1989,
          1990,
          1991,
          1992,
          1993,
          1994,
          1995,
          1996,
          1997,
          1998,
          1999,
          2000,
          2001,
          2002,
          2003,
          2004,
          2005,
          2006,
          2007,
          2008,
          2009,
          2010,
          2011,
          2012,
          2013,
          2014,
          2015,
          2016,
          2017,
          2020
         ],
         "xaxis": "x",
         "y": [
          10.590000000000003,
          33.4,
          26.920000000000005,
          7.76,
          33.28,
          33.73,
          12.5,
          8.460000000000003,
          23.869999999999997,
          45.15,
          25.46,
          12.76,
          33.87,
          15.120000000000001,
          28.150000000000002,
          24.82000000000001,
          86.75999999999999,
          94.75000000000007,
          128.35999999999999,
          126.06000000000004,
          94.49000000000005,
          173.9800000000004,
          216.1900000000001,
          193.59000000000066,
          222.5900000000004,
          242.6100000000005,
          263.11999999999887,
          312.04999999999836,
          351.43999999999915,
          338.8499999999989,
          304.24,
          241.0600000000009,
          154.96000000000004,
          154.7700000000001,
          131.9700000000002,
          102.81999999999992,
          22.66000000000006,
          0,
          0.27
         ],
         "yaxis": "y"
        },
        {
         "hovertemplate": "variable=Europe Sales in Millions<br>Year=%{x}<br>value=%{y}<extra></extra>",
         "legendgroup": "Europe Sales in Millions",
         "line": {
          "color": "#EF553B",
          "dash": "solid"
         },
         "marker": {
          "symbol": "circle"
         },
         "mode": "lines",
         "name": "Europe Sales in Millions",
         "orientation": "v",
         "showlegend": true,
         "type": "scatter",
         "x": [
          1980,
          1981,
          1982,
          1983,
          1984,
          1985,
          1986,
          1987,
          1988,
          1989,
          1990,
          1991,
          1992,
          1993,
          1994,
          1995,
          1996,
          1997,
          1998,
          1999,
          2000,
          2001,
          2002,
          2003,
          2004,
          2005,
          2006,
          2007,
          2008,
          2009,
          2010,
          2011,
          2012,
          2013,
          2014,
          2015,
          2016,
          2017,
          2020
         ],
         "xaxis": "x",
         "y": [
          0.6700000000000002,
          1.9600000000000006,
          1.6500000000000008,
          0.8000000000000003,
          2.0999999999999996,
          4.74,
          2.8400000000000007,
          1.4100000000000001,
          6.590000000000001,
          8.44,
          7.629999999999998,
          3.9499999999999993,
          11.710000000000003,
          4.6499999999999995,
          14.879999999999997,
          14.89999999999998,
          47.259999999999984,
          48.319999999999986,
          66.90000000000012,
          62.67000000000003,
          52.75000000000003,
          94.88999999999986,
          109.74000000000032,
          103.8100000000003,
          107.32000000000035,
          121.94000000000041,
          129.23999999999984,
          160.49999999999972,
          184.3999999999998,
          191.5899999999998,
          176.73000000000016,
          167.44000000000023,
          118.78000000000002,
          125.80000000000004,
          125.6500000000001,
          97.71000000000002,
          26.760000000000066,
          0,
          0
         ],
         "yaxis": "y"
        },
        {
         "hovertemplate": "variable=Japan Sales in Millions<br>Year=%{x}<br>value=%{y}<extra></extra>",
         "legendgroup": "Japan Sales in Millions",
         "line": {
          "color": "#00cc96",
          "dash": "solid"
         },
         "marker": {
          "symbol": "circle"
         },
         "mode": "lines",
         "name": "Japan Sales in Millions",
         "orientation": "v",
         "showlegend": true,
         "type": "scatter",
         "x": [
          1980,
          1981,
          1982,
          1983,
          1984,
          1985,
          1986,
          1987,
          1988,
          1989,
          1990,
          1991,
          1992,
          1993,
          1994,
          1995,
          1996,
          1997,
          1998,
          1999,
          2000,
          2001,
          2002,
          2003,
          2004,
          2005,
          2006,
          2007,
          2008,
          2009,
          2010,
          2011,
          2012,
          2013,
          2014,
          2015,
          2016,
          2017,
          2020
         ],
         "xaxis": "x",
         "y": [
          0,
          0,
          0,
          8.1,
          14.269999999999998,
          14.56,
          19.81,
          11.63,
          15.759999999999998,
          18.360000000000003,
          14.880000000000003,
          14.780000000000001,
          28.91,
          25.33000000000001,
          33.990000000000016,
          45.750000000000014,
          57.43999999999997,
          48.86999999999997,
          50.04,
          52.34,
          42.770000000000046,
          39.85999999999999,
          41.76000000000002,
          34.20000000000003,
          41.64999999999999,
          54.28000000000001,
          73.72999999999998,
          60.290000000000106,
          60.26000000000002,
          61.88999999999998,
          59.490000000000215,
          53.040000000000084,
          51.74000000000012,
          47.59000000000005,
          39.460000000000086,
          33.72000000000013,
          13.699999999999969,
          0.05,
          0
         ],
         "yaxis": "y"
        }
       ],
       "layout": {
        "legend": {
         "title": {
          "text": "variable"
         },
         "tracegroupgap": 0
        },
        "template": {
         "data": {
          "bar": [
           {
            "error_x": {
             "color": "#2a3f5f"
            },
            "error_y": {
             "color": "#2a3f5f"
            },
            "marker": {
             "line": {
              "color": "#E5ECF6",
              "width": 0.5
             },
             "pattern": {
              "fillmode": "overlay",
              "size": 10,
              "solidity": 0.2
             }
            },
            "type": "bar"
           }
          ],
          "barpolar": [
           {
            "marker": {
             "line": {
              "color": "#E5ECF6",
              "width": 0.5
             },
             "pattern": {
              "fillmode": "overlay",
              "size": 10,
              "solidity": 0.2
             }
            },
            "type": "barpolar"
           }
          ],
          "carpet": [
           {
            "aaxis": {
             "endlinecolor": "#2a3f5f",
             "gridcolor": "white",
             "linecolor": "white",
             "minorgridcolor": "white",
             "startlinecolor": "#2a3f5f"
            },
            "baxis": {
             "endlinecolor": "#2a3f5f",
             "gridcolor": "white",
             "linecolor": "white",
             "minorgridcolor": "white",
             "startlinecolor": "#2a3f5f"
            },
            "type": "carpet"
           }
          ],
          "choropleth": [
           {
            "colorbar": {
             "outlinewidth": 0,
             "ticks": ""
            },
            "type": "choropleth"
           }
          ],
          "contour": [
           {
            "colorbar": {
             "outlinewidth": 0,
             "ticks": ""
            },
            "colorscale": [
             [
              0,
              "#0d0887"
             ],
             [
              0.1111111111111111,
              "#46039f"
             ],
             [
              0.2222222222222222,
              "#7201a8"
             ],
             [
              0.3333333333333333,
              "#9c179e"
             ],
             [
              0.4444444444444444,
              "#bd3786"
             ],
             [
              0.5555555555555556,
              "#d8576b"
             ],
             [
              0.6666666666666666,
              "#ed7953"
             ],
             [
              0.7777777777777778,
              "#fb9f3a"
             ],
             [
              0.8888888888888888,
              "#fdca26"
             ],
             [
              1,
              "#f0f921"
             ]
            ],
            "type": "contour"
           }
          ],
          "contourcarpet": [
           {
            "colorbar": {
             "outlinewidth": 0,
             "ticks": ""
            },
            "type": "contourcarpet"
           }
          ],
          "heatmap": [
           {
            "colorbar": {
             "outlinewidth": 0,
             "ticks": ""
            },
            "colorscale": [
             [
              0,
              "#0d0887"
             ],
             [
              0.1111111111111111,
              "#46039f"
             ],
             [
              0.2222222222222222,
              "#7201a8"
             ],
             [
              0.3333333333333333,
              "#9c179e"
             ],
             [
              0.4444444444444444,
              "#bd3786"
             ],
             [
              0.5555555555555556,
              "#d8576b"
             ],
             [
              0.6666666666666666,
              "#ed7953"
             ],
             [
              0.7777777777777778,
              "#fb9f3a"
             ],
             [
              0.8888888888888888,
              "#fdca26"
             ],
             [
              1,
              "#f0f921"
             ]
            ],
            "type": "heatmap"
           }
          ],
          "heatmapgl": [
           {
            "colorbar": {
             "outlinewidth": 0,
             "ticks": ""
            },
            "colorscale": [
             [
              0,
              "#0d0887"
             ],
             [
              0.1111111111111111,
              "#46039f"
             ],
             [
              0.2222222222222222,
              "#7201a8"
             ],
             [
              0.3333333333333333,
              "#9c179e"
             ],
             [
              0.4444444444444444,
              "#bd3786"
             ],
             [
              0.5555555555555556,
              "#d8576b"
             ],
             [
              0.6666666666666666,
              "#ed7953"
             ],
             [
              0.7777777777777778,
              "#fb9f3a"
             ],
             [
              0.8888888888888888,
              "#fdca26"
             ],
             [
              1,
              "#f0f921"
             ]
            ],
            "type": "heatmapgl"
           }
          ],
          "histogram": [
           {
            "marker": {
             "pattern": {
              "fillmode": "overlay",
              "size": 10,
              "solidity": 0.2
             }
            },
            "type": "histogram"
           }
          ],
          "histogram2d": [
           {
            "colorbar": {
             "outlinewidth": 0,
             "ticks": ""
            },
            "colorscale": [
             [
              0,
              "#0d0887"
             ],
             [
              0.1111111111111111,
              "#46039f"
             ],
             [
              0.2222222222222222,
              "#7201a8"
             ],
             [
              0.3333333333333333,
              "#9c179e"
             ],
             [
              0.4444444444444444,
              "#bd3786"
             ],
             [
              0.5555555555555556,
              "#d8576b"
             ],
             [
              0.6666666666666666,
              "#ed7953"
             ],
             [
              0.7777777777777778,
              "#fb9f3a"
             ],
             [
              0.8888888888888888,
              "#fdca26"
             ],
             [
              1,
              "#f0f921"
             ]
            ],
            "type": "histogram2d"
           }
          ],
          "histogram2dcontour": [
           {
            "colorbar": {
             "outlinewidth": 0,
             "ticks": ""
            },
            "colorscale": [
             [
              0,
              "#0d0887"
             ],
             [
              0.1111111111111111,
              "#46039f"
             ],
             [
              0.2222222222222222,
              "#7201a8"
             ],
             [
              0.3333333333333333,
              "#9c179e"
             ],
             [
              0.4444444444444444,
              "#bd3786"
             ],
             [
              0.5555555555555556,
              "#d8576b"
             ],
             [
              0.6666666666666666,
              "#ed7953"
             ],
             [
              0.7777777777777778,
              "#fb9f3a"
             ],
             [
              0.8888888888888888,
              "#fdca26"
             ],
             [
              1,
              "#f0f921"
             ]
            ],
            "type": "histogram2dcontour"
           }
          ],
          "mesh3d": [
           {
            "colorbar": {
             "outlinewidth": 0,
             "ticks": ""
            },
            "type": "mesh3d"
           }
          ],
          "parcoords": [
           {
            "line": {
             "colorbar": {
              "outlinewidth": 0,
              "ticks": ""
             }
            },
            "type": "parcoords"
           }
          ],
          "pie": [
           {
            "automargin": true,
            "type": "pie"
           }
          ],
          "scatter": [
           {
            "fillpattern": {
             "fillmode": "overlay",
             "size": 10,
             "solidity": 0.2
            },
            "type": "scatter"
           }
          ],
          "scatter3d": [
           {
            "line": {
             "colorbar": {
              "outlinewidth": 0,
              "ticks": ""
             }
            },
            "marker": {
             "colorbar": {
              "outlinewidth": 0,
              "ticks": ""
             }
            },
            "type": "scatter3d"
           }
          ],
          "scattercarpet": [
           {
            "marker": {
             "colorbar": {
              "outlinewidth": 0,
              "ticks": ""
             }
            },
            "type": "scattercarpet"
           }
          ],
          "scattergeo": [
           {
            "marker": {
             "colorbar": {
              "outlinewidth": 0,
              "ticks": ""
             }
            },
            "type": "scattergeo"
           }
          ],
          "scattergl": [
           {
            "marker": {
             "colorbar": {
              "outlinewidth": 0,
              "ticks": ""
             }
            },
            "type": "scattergl"
           }
          ],
          "scattermapbox": [
           {
            "marker": {
             "colorbar": {
              "outlinewidth": 0,
              "ticks": ""
             }
            },
            "type": "scattermapbox"
           }
          ],
          "scatterpolar": [
           {
            "marker": {
             "colorbar": {
              "outlinewidth": 0,
              "ticks": ""
             }
            },
            "type": "scatterpolar"
           }
          ],
          "scatterpolargl": [
           {
            "marker": {
             "colorbar": {
              "outlinewidth": 0,
              "ticks": ""
             }
            },
            "type": "scatterpolargl"
           }
          ],
          "scatterternary": [
           {
            "marker": {
             "colorbar": {
              "outlinewidth": 0,
              "ticks": ""
             }
            },
            "type": "scatterternary"
           }
          ],
          "surface": [
           {
            "colorbar": {
             "outlinewidth": 0,
             "ticks": ""
            },
            "colorscale": [
             [
              0,
              "#0d0887"
             ],
             [
              0.1111111111111111,
              "#46039f"
             ],
             [
              0.2222222222222222,
              "#7201a8"
             ],
             [
              0.3333333333333333,
              "#9c179e"
             ],
             [
              0.4444444444444444,
              "#bd3786"
             ],
             [
              0.5555555555555556,
              "#d8576b"
             ],
             [
              0.6666666666666666,
              "#ed7953"
             ],
             [
              0.7777777777777778,
              "#fb9f3a"
             ],
             [
              0.8888888888888888,
              "#fdca26"
             ],
             [
              1,
              "#f0f921"
             ]
            ],
            "type": "surface"
           }
          ],
          "table": [
           {
            "cells": {
             "fill": {
              "color": "#EBF0F8"
             },
             "line": {
              "color": "white"
             }
            },
            "header": {
             "fill": {
              "color": "#C8D4E3"
             },
             "line": {
              "color": "white"
             }
            },
            "type": "table"
           }
          ]
         },
         "layout": {
          "annotationdefaults": {
           "arrowcolor": "#2a3f5f",
           "arrowhead": 0,
           "arrowwidth": 1
          },
          "autotypenumbers": "strict",
          "coloraxis": {
           "colorbar": {
            "outlinewidth": 0,
            "ticks": ""
           }
          },
          "colorscale": {
           "diverging": [
            [
             0,
             "#8e0152"
            ],
            [
             0.1,
             "#c51b7d"
            ],
            [
             0.2,
             "#de77ae"
            ],
            [
             0.3,
             "#f1b6da"
            ],
            [
             0.4,
             "#fde0ef"
            ],
            [
             0.5,
             "#f7f7f7"
            ],
            [
             0.6,
             "#e6f5d0"
            ],
            [
             0.7,
             "#b8e186"
            ],
            [
             0.8,
             "#7fbc41"
            ],
            [
             0.9,
             "#4d9221"
            ],
            [
             1,
             "#276419"
            ]
           ],
           "sequential": [
            [
             0,
             "#0d0887"
            ],
            [
             0.1111111111111111,
             "#46039f"
            ],
            [
             0.2222222222222222,
             "#7201a8"
            ],
            [
             0.3333333333333333,
             "#9c179e"
            ],
            [
             0.4444444444444444,
             "#bd3786"
            ],
            [
             0.5555555555555556,
             "#d8576b"
            ],
            [
             0.6666666666666666,
             "#ed7953"
            ],
            [
             0.7777777777777778,
             "#fb9f3a"
            ],
            [
             0.8888888888888888,
             "#fdca26"
            ],
            [
             1,
             "#f0f921"
            ]
           ],
           "sequentialminus": [
            [
             0,
             "#0d0887"
            ],
            [
             0.1111111111111111,
             "#46039f"
            ],
            [
             0.2222222222222222,
             "#7201a8"
            ],
            [
             0.3333333333333333,
             "#9c179e"
            ],
            [
             0.4444444444444444,
             "#bd3786"
            ],
            [
             0.5555555555555556,
             "#d8576b"
            ],
            [
             0.6666666666666666,
             "#ed7953"
            ],
            [
             0.7777777777777778,
             "#fb9f3a"
            ],
            [
             0.8888888888888888,
             "#fdca26"
            ],
            [
             1,
             "#f0f921"
            ]
           ]
          },
          "colorway": [
           "#636efa",
           "#EF553B",
           "#00cc96",
           "#ab63fa",
           "#FFA15A",
           "#19d3f3",
           "#FF6692",
           "#B6E880",
           "#FF97FF",
           "#FECB52"
          ],
          "font": {
           "color": "#2a3f5f"
          },
          "geo": {
           "bgcolor": "white",
           "lakecolor": "white",
           "landcolor": "#E5ECF6",
           "showlakes": true,
           "showland": true,
           "subunitcolor": "white"
          },
          "hoverlabel": {
           "align": "left"
          },
          "hovermode": "closest",
          "mapbox": {
           "style": "light"
          },
          "paper_bgcolor": "white",
          "plot_bgcolor": "#E5ECF6",
          "polar": {
           "angularaxis": {
            "gridcolor": "white",
            "linecolor": "white",
            "ticks": ""
           },
           "bgcolor": "#E5ECF6",
           "radialaxis": {
            "gridcolor": "white",
            "linecolor": "white",
            "ticks": ""
           }
          },
          "scene": {
           "xaxis": {
            "backgroundcolor": "#E5ECF6",
            "gridcolor": "white",
            "gridwidth": 2,
            "linecolor": "white",
            "showbackground": true,
            "ticks": "",
            "zerolinecolor": "white"
           },
           "yaxis": {
            "backgroundcolor": "#E5ECF6",
            "gridcolor": "white",
            "gridwidth": 2,
            "linecolor": "white",
            "showbackground": true,
            "ticks": "",
            "zerolinecolor": "white"
           },
           "zaxis": {
            "backgroundcolor": "#E5ECF6",
            "gridcolor": "white",
            "gridwidth": 2,
            "linecolor": "white",
            "showbackground": true,
            "ticks": "",
            "zerolinecolor": "white"
           }
          },
          "shapedefaults": {
           "line": {
            "color": "#2a3f5f"
           }
          },
          "ternary": {
           "aaxis": {
            "gridcolor": "white",
            "linecolor": "white",
            "ticks": ""
           },
           "baxis": {
            "gridcolor": "white",
            "linecolor": "white",
            "ticks": ""
           },
           "bgcolor": "#E5ECF6",
           "caxis": {
            "gridcolor": "white",
            "linecolor": "white",
            "ticks": ""
           }
          },
          "title": {
           "x": 0.05
          },
          "xaxis": {
           "automargin": true,
           "gridcolor": "white",
           "linecolor": "white",
           "ticks": "",
           "title": {
            "standoff": 15
           },
           "zerolinecolor": "white",
           "zerolinewidth": 2
          },
          "yaxis": {
           "automargin": true,
           "gridcolor": "white",
           "linecolor": "white",
           "ticks": "",
           "title": {
            "standoff": 15
           },
           "zerolinecolor": "white",
           "zerolinewidth": 2
          }
         }
        },
        "title": {
         "text": "Evolución de los ingresos generados en función del año por región"
        },
        "xaxis": {
         "anchor": "y",
         "domain": [
          0,
          1
         ],
         "rangeslider": {
          "visible": true
         },
         "title": {
          "text": "Year"
         }
        },
        "yaxis": {
         "anchor": "x",
         "domain": [
          0,
          1
         ],
         "title": {
          "text": "value"
         }
        }
       }
      },
      "text/html": [
       "<div>                            <div id=\"ca93e628-510e-473d-a737-5383e48a4a9c\" class=\"plotly-graph-div\" style=\"height:525px; width:100%;\"></div>            <script type=\"text/javascript\">                require([\"plotly\"], function(Plotly) {                    window.PLOTLYENV=window.PLOTLYENV || {};                                    if (document.getElementById(\"ca93e628-510e-473d-a737-5383e48a4a9c\")) {                    Plotly.newPlot(                        \"ca93e628-510e-473d-a737-5383e48a4a9c\",                        [{\"hovertemplate\":\"variable=North America Sales in Millions<br>Year=%{x}<br>value=%{y}<extra></extra>\",\"legendgroup\":\"North America Sales in Millions\",\"line\":{\"color\":\"#636efa\",\"dash\":\"solid\"},\"marker\":{\"symbol\":\"circle\"},\"mode\":\"lines\",\"name\":\"North America Sales in Millions\",\"orientation\":\"v\",\"showlegend\":true,\"x\":[1980.0,1981.0,1982.0,1983.0,1984.0,1985.0,1986.0,1987.0,1988.0,1989.0,1990.0,1991.0,1992.0,1993.0,1994.0,1995.0,1996.0,1997.0,1998.0,1999.0,2000.0,2001.0,2002.0,2003.0,2004.0,2005.0,2006.0,2007.0,2008.0,2009.0,2010.0,2011.0,2012.0,2013.0,2014.0,2015.0,2016.0,2017.0,2020.0],\"xaxis\":\"x\",\"y\":[10.590000000000003,33.4,26.920000000000005,7.76,33.28,33.73,12.5,8.460000000000003,23.869999999999997,45.15,25.46,12.76,33.87,15.120000000000001,28.150000000000002,24.82000000000001,86.75999999999999,94.75000000000007,128.35999999999999,126.06000000000004,94.49000000000005,173.9800000000004,216.1900000000001,193.59000000000066,222.5900000000004,242.6100000000005,263.11999999999887,312.04999999999836,351.43999999999915,338.8499999999989,304.24,241.0600000000009,154.96000000000004,154.7700000000001,131.9700000000002,102.81999999999992,22.66000000000006,0.0,0.27],\"yaxis\":\"y\",\"type\":\"scatter\"},{\"hovertemplate\":\"variable=Europe Sales in Millions<br>Year=%{x}<br>value=%{y}<extra></extra>\",\"legendgroup\":\"Europe Sales in Millions\",\"line\":{\"color\":\"#EF553B\",\"dash\":\"solid\"},\"marker\":{\"symbol\":\"circle\"},\"mode\":\"lines\",\"name\":\"Europe Sales in Millions\",\"orientation\":\"v\",\"showlegend\":true,\"x\":[1980.0,1981.0,1982.0,1983.0,1984.0,1985.0,1986.0,1987.0,1988.0,1989.0,1990.0,1991.0,1992.0,1993.0,1994.0,1995.0,1996.0,1997.0,1998.0,1999.0,2000.0,2001.0,2002.0,2003.0,2004.0,2005.0,2006.0,2007.0,2008.0,2009.0,2010.0,2011.0,2012.0,2013.0,2014.0,2015.0,2016.0,2017.0,2020.0],\"xaxis\":\"x\",\"y\":[0.6700000000000002,1.9600000000000006,1.6500000000000008,0.8000000000000003,2.0999999999999996,4.74,2.8400000000000007,1.4100000000000001,6.590000000000001,8.44,7.629999999999998,3.9499999999999993,11.710000000000003,4.6499999999999995,14.879999999999997,14.89999999999998,47.259999999999984,48.319999999999986,66.90000000000012,62.67000000000003,52.75000000000003,94.88999999999986,109.74000000000032,103.8100000000003,107.32000000000035,121.94000000000041,129.23999999999984,160.49999999999972,184.3999999999998,191.5899999999998,176.73000000000016,167.44000000000023,118.78000000000002,125.80000000000004,125.6500000000001,97.71000000000002,26.760000000000066,0.0,0.0],\"yaxis\":\"y\",\"type\":\"scatter\"},{\"hovertemplate\":\"variable=Japan Sales in Millions<br>Year=%{x}<br>value=%{y}<extra></extra>\",\"legendgroup\":\"Japan Sales in Millions\",\"line\":{\"color\":\"#00cc96\",\"dash\":\"solid\"},\"marker\":{\"symbol\":\"circle\"},\"mode\":\"lines\",\"name\":\"Japan Sales in Millions\",\"orientation\":\"v\",\"showlegend\":true,\"x\":[1980.0,1981.0,1982.0,1983.0,1984.0,1985.0,1986.0,1987.0,1988.0,1989.0,1990.0,1991.0,1992.0,1993.0,1994.0,1995.0,1996.0,1997.0,1998.0,1999.0,2000.0,2001.0,2002.0,2003.0,2004.0,2005.0,2006.0,2007.0,2008.0,2009.0,2010.0,2011.0,2012.0,2013.0,2014.0,2015.0,2016.0,2017.0,2020.0],\"xaxis\":\"x\",\"y\":[0.0,0.0,0.0,8.1,14.269999999999998,14.56,19.81,11.63,15.759999999999998,18.360000000000003,14.880000000000003,14.780000000000001,28.91,25.33000000000001,33.990000000000016,45.750000000000014,57.43999999999997,48.86999999999997,50.04,52.34,42.770000000000046,39.85999999999999,41.76000000000002,34.20000000000003,41.64999999999999,54.28000000000001,73.72999999999998,60.290000000000106,60.26000000000002,61.88999999999998,59.490000000000215,53.040000000000084,51.74000000000012,47.59000000000005,39.460000000000086,33.72000000000013,13.699999999999969,0.05,0.0],\"yaxis\":\"y\",\"type\":\"scatter\"}],                        {\"template\":{\"data\":{\"histogram2dcontour\":[{\"type\":\"histogram2dcontour\",\"colorbar\":{\"outlinewidth\":0,\"ticks\":\"\"},\"colorscale\":[[0.0,\"#0d0887\"],[0.1111111111111111,\"#46039f\"],[0.2222222222222222,\"#7201a8\"],[0.3333333333333333,\"#9c179e\"],[0.4444444444444444,\"#bd3786\"],[0.5555555555555556,\"#d8576b\"],[0.6666666666666666,\"#ed7953\"],[0.7777777777777778,\"#fb9f3a\"],[0.8888888888888888,\"#fdca26\"],[1.0,\"#f0f921\"]]}],\"choropleth\":[{\"type\":\"choropleth\",\"colorbar\":{\"outlinewidth\":0,\"ticks\":\"\"}}],\"histogram2d\":[{\"type\":\"histogram2d\",\"colorbar\":{\"outlinewidth\":0,\"ticks\":\"\"},\"colorscale\":[[0.0,\"#0d0887\"],[0.1111111111111111,\"#46039f\"],[0.2222222222222222,\"#7201a8\"],[0.3333333333333333,\"#9c179e\"],[0.4444444444444444,\"#bd3786\"],[0.5555555555555556,\"#d8576b\"],[0.6666666666666666,\"#ed7953\"],[0.7777777777777778,\"#fb9f3a\"],[0.8888888888888888,\"#fdca26\"],[1.0,\"#f0f921\"]]}],\"heatmap\":[{\"type\":\"heatmap\",\"colorbar\":{\"outlinewidth\":0,\"ticks\":\"\"},\"colorscale\":[[0.0,\"#0d0887\"],[0.1111111111111111,\"#46039f\"],[0.2222222222222222,\"#7201a8\"],[0.3333333333333333,\"#9c179e\"],[0.4444444444444444,\"#bd3786\"],[0.5555555555555556,\"#d8576b\"],[0.6666666666666666,\"#ed7953\"],[0.7777777777777778,\"#fb9f3a\"],[0.8888888888888888,\"#fdca26\"],[1.0,\"#f0f921\"]]}],\"heatmapgl\":[{\"type\":\"heatmapgl\",\"colorbar\":{\"outlinewidth\":0,\"ticks\":\"\"},\"colorscale\":[[0.0,\"#0d0887\"],[0.1111111111111111,\"#46039f\"],[0.2222222222222222,\"#7201a8\"],[0.3333333333333333,\"#9c179e\"],[0.4444444444444444,\"#bd3786\"],[0.5555555555555556,\"#d8576b\"],[0.6666666666666666,\"#ed7953\"],[0.7777777777777778,\"#fb9f3a\"],[0.8888888888888888,\"#fdca26\"],[1.0,\"#f0f921\"]]}],\"contourcarpet\":[{\"type\":\"contourcarpet\",\"colorbar\":{\"outlinewidth\":0,\"ticks\":\"\"}}],\"contour\":[{\"type\":\"contour\",\"colorbar\":{\"outlinewidth\":0,\"ticks\":\"\"},\"colorscale\":[[0.0,\"#0d0887\"],[0.1111111111111111,\"#46039f\"],[0.2222222222222222,\"#7201a8\"],[0.3333333333333333,\"#9c179e\"],[0.4444444444444444,\"#bd3786\"],[0.5555555555555556,\"#d8576b\"],[0.6666666666666666,\"#ed7953\"],[0.7777777777777778,\"#fb9f3a\"],[0.8888888888888888,\"#fdca26\"],[1.0,\"#f0f921\"]]}],\"surface\":[{\"type\":\"surface\",\"colorbar\":{\"outlinewidth\":0,\"ticks\":\"\"},\"colorscale\":[[0.0,\"#0d0887\"],[0.1111111111111111,\"#46039f\"],[0.2222222222222222,\"#7201a8\"],[0.3333333333333333,\"#9c179e\"],[0.4444444444444444,\"#bd3786\"],[0.5555555555555556,\"#d8576b\"],[0.6666666666666666,\"#ed7953\"],[0.7777777777777778,\"#fb9f3a\"],[0.8888888888888888,\"#fdca26\"],[1.0,\"#f0f921\"]]}],\"mesh3d\":[{\"type\":\"mesh3d\",\"colorbar\":{\"outlinewidth\":0,\"ticks\":\"\"}}],\"scatter\":[{\"fillpattern\":{\"fillmode\":\"overlay\",\"size\":10,\"solidity\":0.2},\"type\":\"scatter\"}],\"parcoords\":[{\"type\":\"parcoords\",\"line\":{\"colorbar\":{\"outlinewidth\":0,\"ticks\":\"\"}}}],\"scatterpolargl\":[{\"type\":\"scatterpolargl\",\"marker\":{\"colorbar\":{\"outlinewidth\":0,\"ticks\":\"\"}}}],\"bar\":[{\"error_x\":{\"color\":\"#2a3f5f\"},\"error_y\":{\"color\":\"#2a3f5f\"},\"marker\":{\"line\":{\"color\":\"#E5ECF6\",\"width\":0.5},\"pattern\":{\"fillmode\":\"overlay\",\"size\":10,\"solidity\":0.2}},\"type\":\"bar\"}],\"scattergeo\":[{\"type\":\"scattergeo\",\"marker\":{\"colorbar\":{\"outlinewidth\":0,\"ticks\":\"\"}}}],\"scatterpolar\":[{\"type\":\"scatterpolar\",\"marker\":{\"colorbar\":{\"outlinewidth\":0,\"ticks\":\"\"}}}],\"histogram\":[{\"marker\":{\"pattern\":{\"fillmode\":\"overlay\",\"size\":10,\"solidity\":0.2}},\"type\":\"histogram\"}],\"scattergl\":[{\"type\":\"scattergl\",\"marker\":{\"colorbar\":{\"outlinewidth\":0,\"ticks\":\"\"}}}],\"scatter3d\":[{\"type\":\"scatter3d\",\"line\":{\"colorbar\":{\"outlinewidth\":0,\"ticks\":\"\"}},\"marker\":{\"colorbar\":{\"outlinewidth\":0,\"ticks\":\"\"}}}],\"scattermapbox\":[{\"type\":\"scattermapbox\",\"marker\":{\"colorbar\":{\"outlinewidth\":0,\"ticks\":\"\"}}}],\"scatterternary\":[{\"type\":\"scatterternary\",\"marker\":{\"colorbar\":{\"outlinewidth\":0,\"ticks\":\"\"}}}],\"scattercarpet\":[{\"type\":\"scattercarpet\",\"marker\":{\"colorbar\":{\"outlinewidth\":0,\"ticks\":\"\"}}}],\"carpet\":[{\"aaxis\":{\"endlinecolor\":\"#2a3f5f\",\"gridcolor\":\"white\",\"linecolor\":\"white\",\"minorgridcolor\":\"white\",\"startlinecolor\":\"#2a3f5f\"},\"baxis\":{\"endlinecolor\":\"#2a3f5f\",\"gridcolor\":\"white\",\"linecolor\":\"white\",\"minorgridcolor\":\"white\",\"startlinecolor\":\"#2a3f5f\"},\"type\":\"carpet\"}],\"table\":[{\"cells\":{\"fill\":{\"color\":\"#EBF0F8\"},\"line\":{\"color\":\"white\"}},\"header\":{\"fill\":{\"color\":\"#C8D4E3\"},\"line\":{\"color\":\"white\"}},\"type\":\"table\"}],\"barpolar\":[{\"marker\":{\"line\":{\"color\":\"#E5ECF6\",\"width\":0.5},\"pattern\":{\"fillmode\":\"overlay\",\"size\":10,\"solidity\":0.2}},\"type\":\"barpolar\"}],\"pie\":[{\"automargin\":true,\"type\":\"pie\"}]},\"layout\":{\"autotypenumbers\":\"strict\",\"colorway\":[\"#636efa\",\"#EF553B\",\"#00cc96\",\"#ab63fa\",\"#FFA15A\",\"#19d3f3\",\"#FF6692\",\"#B6E880\",\"#FF97FF\",\"#FECB52\"],\"font\":{\"color\":\"#2a3f5f\"},\"hovermode\":\"closest\",\"hoverlabel\":{\"align\":\"left\"},\"paper_bgcolor\":\"white\",\"plot_bgcolor\":\"#E5ECF6\",\"polar\":{\"bgcolor\":\"#E5ECF6\",\"angularaxis\":{\"gridcolor\":\"white\",\"linecolor\":\"white\",\"ticks\":\"\"},\"radialaxis\":{\"gridcolor\":\"white\",\"linecolor\":\"white\",\"ticks\":\"\"}},\"ternary\":{\"bgcolor\":\"#E5ECF6\",\"aaxis\":{\"gridcolor\":\"white\",\"linecolor\":\"white\",\"ticks\":\"\"},\"baxis\":{\"gridcolor\":\"white\",\"linecolor\":\"white\",\"ticks\":\"\"},\"caxis\":{\"gridcolor\":\"white\",\"linecolor\":\"white\",\"ticks\":\"\"}},\"coloraxis\":{\"colorbar\":{\"outlinewidth\":0,\"ticks\":\"\"}},\"colorscale\":{\"sequential\":[[0.0,\"#0d0887\"],[0.1111111111111111,\"#46039f\"],[0.2222222222222222,\"#7201a8\"],[0.3333333333333333,\"#9c179e\"],[0.4444444444444444,\"#bd3786\"],[0.5555555555555556,\"#d8576b\"],[0.6666666666666666,\"#ed7953\"],[0.7777777777777778,\"#fb9f3a\"],[0.8888888888888888,\"#fdca26\"],[1.0,\"#f0f921\"]],\"sequentialminus\":[[0.0,\"#0d0887\"],[0.1111111111111111,\"#46039f\"],[0.2222222222222222,\"#7201a8\"],[0.3333333333333333,\"#9c179e\"],[0.4444444444444444,\"#bd3786\"],[0.5555555555555556,\"#d8576b\"],[0.6666666666666666,\"#ed7953\"],[0.7777777777777778,\"#fb9f3a\"],[0.8888888888888888,\"#fdca26\"],[1.0,\"#f0f921\"]],\"diverging\":[[0,\"#8e0152\"],[0.1,\"#c51b7d\"],[0.2,\"#de77ae\"],[0.3,\"#f1b6da\"],[0.4,\"#fde0ef\"],[0.5,\"#f7f7f7\"],[0.6,\"#e6f5d0\"],[0.7,\"#b8e186\"],[0.8,\"#7fbc41\"],[0.9,\"#4d9221\"],[1,\"#276419\"]]},\"xaxis\":{\"gridcolor\":\"white\",\"linecolor\":\"white\",\"ticks\":\"\",\"title\":{\"standoff\":15},\"zerolinecolor\":\"white\",\"automargin\":true,\"zerolinewidth\":2},\"yaxis\":{\"gridcolor\":\"white\",\"linecolor\":\"white\",\"ticks\":\"\",\"title\":{\"standoff\":15},\"zerolinecolor\":\"white\",\"automargin\":true,\"zerolinewidth\":2},\"scene\":{\"xaxis\":{\"backgroundcolor\":\"#E5ECF6\",\"gridcolor\":\"white\",\"linecolor\":\"white\",\"showbackground\":true,\"ticks\":\"\",\"zerolinecolor\":\"white\",\"gridwidth\":2},\"yaxis\":{\"backgroundcolor\":\"#E5ECF6\",\"gridcolor\":\"white\",\"linecolor\":\"white\",\"showbackground\":true,\"ticks\":\"\",\"zerolinecolor\":\"white\",\"gridwidth\":2},\"zaxis\":{\"backgroundcolor\":\"#E5ECF6\",\"gridcolor\":\"white\",\"linecolor\":\"white\",\"showbackground\":true,\"ticks\":\"\",\"zerolinecolor\":\"white\",\"gridwidth\":2}},\"shapedefaults\":{\"line\":{\"color\":\"#2a3f5f\"}},\"annotationdefaults\":{\"arrowcolor\":\"#2a3f5f\",\"arrowhead\":0,\"arrowwidth\":1},\"geo\":{\"bgcolor\":\"white\",\"landcolor\":\"#E5ECF6\",\"subunitcolor\":\"white\",\"showland\":true,\"showlakes\":true,\"lakecolor\":\"white\"},\"title\":{\"x\":0.05},\"mapbox\":{\"style\":\"light\"}}},\"xaxis\":{\"anchor\":\"y\",\"domain\":[0.0,1.0],\"title\":{\"text\":\"Year\"},\"rangeslider\":{\"visible\":true}},\"yaxis\":{\"anchor\":\"x\",\"domain\":[0.0,1.0],\"title\":{\"text\":\"value\"}},\"legend\":{\"title\":{\"text\":\"variable\"},\"tracegroupgap\":0},\"title\":{\"text\":\"Evoluci\\u00f3n de los ingresos generados en funci\\u00f3n del a\\u00f1o por regi\\u00f3n\"}},                        {\"responsive\": true}                    ).then(function(){\n",
       "                            \n",
       "var gd = document.getElementById('ca93e628-510e-473d-a737-5383e48a4a9c');\n",
       "var x = new MutationObserver(function (mutations, observer) {{\n",
       "        var display = window.getComputedStyle(gd).display;\n",
       "        if (!display || display === 'none') {{\n",
       "            console.log([gd, 'removed!']);\n",
       "            Plotly.purge(gd);\n",
       "            observer.disconnect();\n",
       "        }}\n",
       "}});\n",
       "\n",
       "// Listen for the removal of the full notebook cells\n",
       "var notebookContainer = gd.closest('#notebook-container');\n",
       "if (notebookContainer) {{\n",
       "    x.observe(notebookContainer, {childList: true});\n",
       "}}\n",
       "\n",
       "// Listen for the clearing of the current output cell\n",
       "var outputEl = gd.closest('.output');\n",
       "if (outputEl) {{\n",
       "    x.observe(outputEl, {childList: true});\n",
       "}}\n",
       "\n",
       "                        })                };                });            </script>        </div>"
      ]
     },
     "metadata": {},
     "output_type": "display_data"
    }
   ],
   "source": [
    "fig = px.line(dfSalesByYear2, x='Year', y=['North America Sales in Millions', 'Europe Sales in Millions', 'Japan Sales in Millions'], title='Evolución de los ingresos generados en función del año por región')\n",
    "fig.update_xaxes(rangeslider_visible=True)"
   ]
  },
  {
   "cell_type": "markdown",
   "id": "45acc995",
   "metadata": {},
   "source": [
    "# ¿Qué géneros de videojuegos predominan en las distintas plataformas?"
   ]
  },
  {
   "cell_type": "markdown",
   "id": "dc57139f",
   "metadata": {},
   "source": [
    "El objetivo de este apartado es mostrar la proporción de géneros de videojuegos en las distintas plataformas. Con ello, se puede perfilar el tipo de usuario al que está dirigido cada plataforma."
   ]
  },
  {
   "cell_type": "markdown",
   "id": "7e9830a0",
   "metadata": {},
   "source": [
    "Gráfico que muestra la proporción de los géneros a los que pertenecen los videojuegos para la plataforma escogida."
   ]
  },
  {
   "cell_type": "code",
   "execution_count": 18,
   "id": "ca596307",
   "metadata": {},
   "outputs": [
    {
     "data": {
      "application/vnd.jupyter.widget-view+json": {
       "model_id": "c990205bc4524d8fb2baad74d162457a",
       "version_major": 2,
       "version_minor": 0
      },
      "text/plain": [
       "interactive(children=(Dropdown(description='platform', options=('Wii', 'NES', 'GB', 'DS', 'X360', 'PS3', 'PS2'…"
      ]
     },
     "metadata": {},
     "output_type": "display_data"
    }
   ],
   "source": [
    "@interact\n",
    "def show_dataframe_filtered(platform=list(dfSales[\"Platform\"].unique())):\n",
    "\n",
    "    condition1 = dfSales[\"Platform\"] == platform\n",
    "    dfSalesGenreFiltered=dfSales.loc[condition1, ['Name', 'Platform', 'Year', 'Genre']].reset_index(drop=True)\n",
    "                            \n",
    "    dataToPlot = dfSalesGenreFiltered['Genre'].value_counts()\n",
    "    labels = list(dataToPlot.index)\n",
    "    \n",
    "    fig, ax = plt.subplots(figsize = (12,9))\n",
    "    ax.pie(dataToPlot, labels=labels)\n",
    "    ax.set_title(f'Géneros a los que pertenecen los videojuegos de {platform}')\n",
    "\n",
    "\n",
    "    center_circle = plt.Circle((0,0), 0.7, color='white')\n",
    "    fig = plt.gcf()\n",
    "    fig.gca().add_artist(center_circle)    "
   ]
  },
  {
   "cell_type": "markdown",
   "id": "23a0afea",
   "metadata": {},
   "source": [
    "# Notas prensa VS Notas usuarios"
   ]
  },
  {
   "cell_type": "markdown",
   "id": "d3d1ca82",
   "metadata": {},
   "source": [
    "El objetivo de este apartado es ver cuánto concuerdan los usuarios y las críticas en valoraciones de los distintos videojuegos."
   ]
  },
  {
   "cell_type": "markdown",
   "id": "1c2a14f2",
   "metadata": {},
   "source": [
    "Este primer gráfico muestra en un scatter plot los distintos videojuegos en función de la nota de los críticos y de los usuarios."
   ]
  },
  {
   "cell_type": "code",
   "execution_count": 19,
   "id": "54c639bb",
   "metadata": {},
   "outputs": [
    {
     "data": {
      "text/html": [
       "\n",
       "    <div class=\"bk-root\">\n",
       "        <a href=\"https://bokeh.org\" target=\"_blank\" class=\"bk-logo bk-logo-small bk-logo-notebook\"></a>\n",
       "        <span id=\"1002\">Loading BokehJS ...</span>\n",
       "    </div>"
      ]
     },
     "metadata": {},
     "output_type": "display_data"
    },
    {
     "data": {
      "application/javascript": [
       "\n",
       "(function(root) {\n",
       "  function now() {\n",
       "    return new Date();\n",
       "  }\n",
       "\n",
       "  var force = true;\n",
       "\n",
       "  if (typeof root._bokeh_onload_callbacks === \"undefined\" || force === true) {\n",
       "    root._bokeh_onload_callbacks = [];\n",
       "    root._bokeh_is_loading = undefined;\n",
       "  }\n",
       "\n",
       "  var JS_MIME_TYPE = 'application/javascript';\n",
       "  var HTML_MIME_TYPE = 'text/html';\n",
       "  var EXEC_MIME_TYPE = 'application/vnd.bokehjs_exec.v0+json';\n",
       "  var CLASS_NAME = 'output_bokeh rendered_html';\n",
       "\n",
       "  /**\n",
       "   * Render data to the DOM node\n",
       "   */\n",
       "  function render(props, node) {\n",
       "    var script = document.createElement(\"script\");\n",
       "    node.appendChild(script);\n",
       "  }\n",
       "\n",
       "  /**\n",
       "   * Handle when an output is cleared or removed\n",
       "   */\n",
       "  function handleClearOutput(event, handle) {\n",
       "    var cell = handle.cell;\n",
       "\n",
       "    var id = cell.output_area._bokeh_element_id;\n",
       "    var server_id = cell.output_area._bokeh_server_id;\n",
       "    // Clean up Bokeh references\n",
       "    if (id != null && id in Bokeh.index) {\n",
       "      Bokeh.index[id].model.document.clear();\n",
       "      delete Bokeh.index[id];\n",
       "    }\n",
       "\n",
       "    if (server_id !== undefined) {\n",
       "      // Clean up Bokeh references\n",
       "      var cmd = \"from bokeh.io.state import curstate; print(curstate().uuid_to_server['\" + server_id + \"'].get_sessions()[0].document.roots[0]._id)\";\n",
       "      cell.notebook.kernel.execute(cmd, {\n",
       "        iopub: {\n",
       "          output: function(msg) {\n",
       "            var id = msg.content.text.trim();\n",
       "            if (id in Bokeh.index) {\n",
       "              Bokeh.index[id].model.document.clear();\n",
       "              delete Bokeh.index[id];\n",
       "            }\n",
       "          }\n",
       "        }\n",
       "      });\n",
       "      // Destroy server and session\n",
       "      var cmd = \"import bokeh.io.notebook as ion; ion.destroy_server('\" + server_id + \"')\";\n",
       "      cell.notebook.kernel.execute(cmd);\n",
       "    }\n",
       "  }\n",
       "\n",
       "  /**\n",
       "   * Handle when a new output is added\n",
       "   */\n",
       "  function handleAddOutput(event, handle) {\n",
       "    var output_area = handle.output_area;\n",
       "    var output = handle.output;\n",
       "\n",
       "    // limit handleAddOutput to display_data with EXEC_MIME_TYPE content only\n",
       "    if ((output.output_type != \"display_data\") || (!Object.prototype.hasOwnProperty.call(output.data, EXEC_MIME_TYPE))) {\n",
       "      return\n",
       "    }\n",
       "\n",
       "    var toinsert = output_area.element.find(\".\" + CLASS_NAME.split(' ')[0]);\n",
       "\n",
       "    if (output.metadata[EXEC_MIME_TYPE][\"id\"] !== undefined) {\n",
       "      toinsert[toinsert.length - 1].firstChild.textContent = output.data[JS_MIME_TYPE];\n",
       "      // store reference to embed id on output_area\n",
       "      output_area._bokeh_element_id = output.metadata[EXEC_MIME_TYPE][\"id\"];\n",
       "    }\n",
       "    if (output.metadata[EXEC_MIME_TYPE][\"server_id\"] !== undefined) {\n",
       "      var bk_div = document.createElement(\"div\");\n",
       "      bk_div.innerHTML = output.data[HTML_MIME_TYPE];\n",
       "      var script_attrs = bk_div.children[0].attributes;\n",
       "      for (var i = 0; i < script_attrs.length; i++) {\n",
       "        toinsert[toinsert.length - 1].firstChild.setAttribute(script_attrs[i].name, script_attrs[i].value);\n",
       "        toinsert[toinsert.length - 1].firstChild.textContent = bk_div.children[0].textContent\n",
       "      }\n",
       "      // store reference to server id on output_area\n",
       "      output_area._bokeh_server_id = output.metadata[EXEC_MIME_TYPE][\"server_id\"];\n",
       "    }\n",
       "  }\n",
       "\n",
       "  function register_renderer(events, OutputArea) {\n",
       "\n",
       "    function append_mime(data, metadata, element) {\n",
       "      // create a DOM node to render to\n",
       "      var toinsert = this.create_output_subarea(\n",
       "        metadata,\n",
       "        CLASS_NAME,\n",
       "        EXEC_MIME_TYPE\n",
       "      );\n",
       "      this.keyboard_manager.register_events(toinsert);\n",
       "      // Render to node\n",
       "      var props = {data: data, metadata: metadata[EXEC_MIME_TYPE]};\n",
       "      render(props, toinsert[toinsert.length - 1]);\n",
       "      element.append(toinsert);\n",
       "      return toinsert\n",
       "    }\n",
       "\n",
       "    /* Handle when an output is cleared or removed */\n",
       "    events.on('clear_output.CodeCell', handleClearOutput);\n",
       "    events.on('delete.Cell', handleClearOutput);\n",
       "\n",
       "    /* Handle when a new output is added */\n",
       "    events.on('output_added.OutputArea', handleAddOutput);\n",
       "\n",
       "    /**\n",
       "     * Register the mime type and append_mime function with output_area\n",
       "     */\n",
       "    OutputArea.prototype.register_mime_type(EXEC_MIME_TYPE, append_mime, {\n",
       "      /* Is output safe? */\n",
       "      safe: true,\n",
       "      /* Index of renderer in `output_area.display_order` */\n",
       "      index: 0\n",
       "    });\n",
       "  }\n",
       "\n",
       "  // register the mime type if in Jupyter Notebook environment and previously unregistered\n",
       "  if (root.Jupyter !== undefined) {\n",
       "    var events = require('base/js/events');\n",
       "    var OutputArea = require('notebook/js/outputarea').OutputArea;\n",
       "\n",
       "    if (OutputArea.prototype.mime_types().indexOf(EXEC_MIME_TYPE) == -1) {\n",
       "      register_renderer(events, OutputArea);\n",
       "    }\n",
       "  }\n",
       "\n",
       "  \n",
       "  if (typeof (root._bokeh_timeout) === \"undefined\" || force === true) {\n",
       "    root._bokeh_timeout = Date.now() + 5000;\n",
       "    root._bokeh_failed_load = false;\n",
       "  }\n",
       "\n",
       "  var NB_LOAD_WARNING = {'data': {'text/html':\n",
       "     \"<div style='background-color: #fdd'>\\n\"+\n",
       "     \"<p>\\n\"+\n",
       "     \"BokehJS does not appear to have successfully loaded. If loading BokehJS from CDN, this \\n\"+\n",
       "     \"may be due to a slow or bad network connection. Possible fixes:\\n\"+\n",
       "     \"</p>\\n\"+\n",
       "     \"<ul>\\n\"+\n",
       "     \"<li>re-rerun `output_notebook()` to attempt to load from CDN again, or</li>\\n\"+\n",
       "     \"<li>use INLINE resources instead, as so:</li>\\n\"+\n",
       "     \"</ul>\\n\"+\n",
       "     \"<code>\\n\"+\n",
       "     \"from bokeh.resources import INLINE\\n\"+\n",
       "     \"output_notebook(resources=INLINE)\\n\"+\n",
       "     \"</code>\\n\"+\n",
       "     \"</div>\"}};\n",
       "\n",
       "  function display_loaded() {\n",
       "    var el = document.getElementById(\"1002\");\n",
       "    if (el != null) {\n",
       "      el.textContent = \"BokehJS is loading...\";\n",
       "    }\n",
       "    if (root.Bokeh !== undefined) {\n",
       "      if (el != null) {\n",
       "        el.textContent = \"BokehJS \" + root.Bokeh.version + \" successfully loaded.\";\n",
       "      }\n",
       "    } else if (Date.now() < root._bokeh_timeout) {\n",
       "      setTimeout(display_loaded, 100)\n",
       "    }\n",
       "  }\n",
       "\n",
       "\n",
       "  function run_callbacks() {\n",
       "    try {\n",
       "      root._bokeh_onload_callbacks.forEach(function(callback) {\n",
       "        if (callback != null)\n",
       "          callback();\n",
       "      });\n",
       "    } finally {\n",
       "      delete root._bokeh_onload_callbacks\n",
       "    }\n",
       "    console.debug(\"Bokeh: all callbacks have finished\");\n",
       "  }\n",
       "\n",
       "  function load_libs(css_urls, js_urls, callback) {\n",
       "    if (css_urls == null) css_urls = [];\n",
       "    if (js_urls == null) js_urls = [];\n",
       "\n",
       "    root._bokeh_onload_callbacks.push(callback);\n",
       "    if (root._bokeh_is_loading > 0) {\n",
       "      console.debug(\"Bokeh: BokehJS is being loaded, scheduling callback at\", now());\n",
       "      return null;\n",
       "    }\n",
       "    if (js_urls == null || js_urls.length === 0) {\n",
       "      run_callbacks();\n",
       "      return null;\n",
       "    }\n",
       "    console.debug(\"Bokeh: BokehJS not loaded, scheduling load and callback at\", now());\n",
       "    root._bokeh_is_loading = css_urls.length + js_urls.length;\n",
       "\n",
       "    function on_load() {\n",
       "      root._bokeh_is_loading--;\n",
       "      if (root._bokeh_is_loading === 0) {\n",
       "        console.debug(\"Bokeh: all BokehJS libraries/stylesheets loaded\");\n",
       "        run_callbacks()\n",
       "      }\n",
       "    }\n",
       "\n",
       "    function on_error(url) {\n",
       "      console.error(\"failed to load \" + url);\n",
       "    }\n",
       "\n",
       "    for (let i = 0; i < css_urls.length; i++) {\n",
       "      const url = css_urls[i];\n",
       "      const element = document.createElement(\"link\");\n",
       "      element.onload = on_load;\n",
       "      element.onerror = on_error.bind(null, url);\n",
       "      element.rel = \"stylesheet\";\n",
       "      element.type = \"text/css\";\n",
       "      element.href = url;\n",
       "      console.debug(\"Bokeh: injecting link tag for BokehJS stylesheet: \", url);\n",
       "      document.body.appendChild(element);\n",
       "    }\n",
       "\n",
       "    const hashes = {\"https://cdn.bokeh.org/bokeh/release/bokeh-2.3.2.min.js\": \"XypntL49z55iwGVUW4qsEu83zKL3XEcz0MjuGOQ9SlaaQ68X/g+k1FcioZi7oQAc\", \"https://cdn.bokeh.org/bokeh/release/bokeh-tables-2.3.2.min.js\": \"bEsM86IHGDTLCS0Zod8a8WM6Y4+lafAL/eSiyQcuPzinmWNgNO2/olUF0Z2Dkn5i\", \"https://cdn.bokeh.org/bokeh/release/bokeh-widgets-2.3.2.min.js\": \"TX0gSQTdXTTeScqxj6PVQxTiRW8DOoGVwinyi1D3kxv7wuxQ02XkOxv0xwiypcAH\"};\n",
       "\n",
       "    for (let i = 0; i < js_urls.length; i++) {\n",
       "      const url = js_urls[i];\n",
       "      const element = document.createElement('script');\n",
       "      element.onload = on_load;\n",
       "      element.onerror = on_error.bind(null, url);\n",
       "      element.async = false;\n",
       "      element.src = url;\n",
       "      if (url in hashes) {\n",
       "        element.crossOrigin = \"anonymous\";\n",
       "        element.integrity = \"sha384-\" + hashes[url];\n",
       "      }\n",
       "      console.debug(\"Bokeh: injecting script tag for BokehJS library: \", url);\n",
       "      document.head.appendChild(element);\n",
       "    }\n",
       "  };\n",
       "\n",
       "  function inject_raw_css(css) {\n",
       "    const element = document.createElement(\"style\");\n",
       "    element.appendChild(document.createTextNode(css));\n",
       "    document.body.appendChild(element);\n",
       "  }\n",
       "\n",
       "  \n",
       "  var js_urls = [\"https://cdn.bokeh.org/bokeh/release/bokeh-2.3.2.min.js\", \"https://cdn.bokeh.org/bokeh/release/bokeh-widgets-2.3.2.min.js\", \"https://cdn.bokeh.org/bokeh/release/bokeh-tables-2.3.2.min.js\"];\n",
       "  var css_urls = [];\n",
       "  \n",
       "\n",
       "  var inline_js = [\n",
       "    function(Bokeh) {\n",
       "      Bokeh.set_log_level(\"info\");\n",
       "    },\n",
       "    function(Bokeh) {\n",
       "    \n",
       "    \n",
       "    }\n",
       "  ];\n",
       "\n",
       "  function run_inline_js() {\n",
       "    \n",
       "    if (root.Bokeh !== undefined || force === true) {\n",
       "      \n",
       "    for (var i = 0; i < inline_js.length; i++) {\n",
       "      inline_js[i].call(root, root.Bokeh);\n",
       "    }\n",
       "    if (force === true) {\n",
       "        display_loaded();\n",
       "      }} else if (Date.now() < root._bokeh_timeout) {\n",
       "      setTimeout(run_inline_js, 100);\n",
       "    } else if (!root._bokeh_failed_load) {\n",
       "      console.log(\"Bokeh: BokehJS failed to load within specified timeout.\");\n",
       "      root._bokeh_failed_load = true;\n",
       "    } else if (force !== true) {\n",
       "      var cell = $(document.getElementById(\"1002\")).parents('.cell').data().cell;\n",
       "      cell.output_area.append_execute_result(NB_LOAD_WARNING)\n",
       "    }\n",
       "\n",
       "  }\n",
       "\n",
       "  if (root._bokeh_is_loading === 0) {\n",
       "    console.debug(\"Bokeh: BokehJS loaded, going straight to plotting\");\n",
       "    run_inline_js();\n",
       "  } else {\n",
       "    load_libs(css_urls, js_urls, function() {\n",
       "      console.debug(\"Bokeh: BokehJS plotting callback run at\", now());\n",
       "      run_inline_js();\n",
       "    });\n",
       "  }\n",
       "}(window));"
      ],
      "application/vnd.bokehjs_load.v0+json": "\n(function(root) {\n  function now() {\n    return new Date();\n  }\n\n  var force = true;\n\n  if (typeof root._bokeh_onload_callbacks === \"undefined\" || force === true) {\n    root._bokeh_onload_callbacks = [];\n    root._bokeh_is_loading = undefined;\n  }\n\n  \n\n  \n  if (typeof (root._bokeh_timeout) === \"undefined\" || force === true) {\n    root._bokeh_timeout = Date.now() + 5000;\n    root._bokeh_failed_load = false;\n  }\n\n  var NB_LOAD_WARNING = {'data': {'text/html':\n     \"<div style='background-color: #fdd'>\\n\"+\n     \"<p>\\n\"+\n     \"BokehJS does not appear to have successfully loaded. If loading BokehJS from CDN, this \\n\"+\n     \"may be due to a slow or bad network connection. Possible fixes:\\n\"+\n     \"</p>\\n\"+\n     \"<ul>\\n\"+\n     \"<li>re-rerun `output_notebook()` to attempt to load from CDN again, or</li>\\n\"+\n     \"<li>use INLINE resources instead, as so:</li>\\n\"+\n     \"</ul>\\n\"+\n     \"<code>\\n\"+\n     \"from bokeh.resources import INLINE\\n\"+\n     \"output_notebook(resources=INLINE)\\n\"+\n     \"</code>\\n\"+\n     \"</div>\"}};\n\n  function display_loaded() {\n    var el = document.getElementById(\"1002\");\n    if (el != null) {\n      el.textContent = \"BokehJS is loading...\";\n    }\n    if (root.Bokeh !== undefined) {\n      if (el != null) {\n        el.textContent = \"BokehJS \" + root.Bokeh.version + \" successfully loaded.\";\n      }\n    } else if (Date.now() < root._bokeh_timeout) {\n      setTimeout(display_loaded, 100)\n    }\n  }\n\n\n  function run_callbacks() {\n    try {\n      root._bokeh_onload_callbacks.forEach(function(callback) {\n        if (callback != null)\n          callback();\n      });\n    } finally {\n      delete root._bokeh_onload_callbacks\n    }\n    console.debug(\"Bokeh: all callbacks have finished\");\n  }\n\n  function load_libs(css_urls, js_urls, callback) {\n    if (css_urls == null) css_urls = [];\n    if (js_urls == null) js_urls = [];\n\n    root._bokeh_onload_callbacks.push(callback);\n    if (root._bokeh_is_loading > 0) {\n      console.debug(\"Bokeh: BokehJS is being loaded, scheduling callback at\", now());\n      return null;\n    }\n    if (js_urls == null || js_urls.length === 0) {\n      run_callbacks();\n      return null;\n    }\n    console.debug(\"Bokeh: BokehJS not loaded, scheduling load and callback at\", now());\n    root._bokeh_is_loading = css_urls.length + js_urls.length;\n\n    function on_load() {\n      root._bokeh_is_loading--;\n      if (root._bokeh_is_loading === 0) {\n        console.debug(\"Bokeh: all BokehJS libraries/stylesheets loaded\");\n        run_callbacks()\n      }\n    }\n\n    function on_error(url) {\n      console.error(\"failed to load \" + url);\n    }\n\n    for (let i = 0; i < css_urls.length; i++) {\n      const url = css_urls[i];\n      const element = document.createElement(\"link\");\n      element.onload = on_load;\n      element.onerror = on_error.bind(null, url);\n      element.rel = \"stylesheet\";\n      element.type = \"text/css\";\n      element.href = url;\n      console.debug(\"Bokeh: injecting link tag for BokehJS stylesheet: \", url);\n      document.body.appendChild(element);\n    }\n\n    const hashes = {\"https://cdn.bokeh.org/bokeh/release/bokeh-2.3.2.min.js\": \"XypntL49z55iwGVUW4qsEu83zKL3XEcz0MjuGOQ9SlaaQ68X/g+k1FcioZi7oQAc\", \"https://cdn.bokeh.org/bokeh/release/bokeh-tables-2.3.2.min.js\": \"bEsM86IHGDTLCS0Zod8a8WM6Y4+lafAL/eSiyQcuPzinmWNgNO2/olUF0Z2Dkn5i\", \"https://cdn.bokeh.org/bokeh/release/bokeh-widgets-2.3.2.min.js\": \"TX0gSQTdXTTeScqxj6PVQxTiRW8DOoGVwinyi1D3kxv7wuxQ02XkOxv0xwiypcAH\"};\n\n    for (let i = 0; i < js_urls.length; i++) {\n      const url = js_urls[i];\n      const element = document.createElement('script');\n      element.onload = on_load;\n      element.onerror = on_error.bind(null, url);\n      element.async = false;\n      element.src = url;\n      if (url in hashes) {\n        element.crossOrigin = \"anonymous\";\n        element.integrity = \"sha384-\" + hashes[url];\n      }\n      console.debug(\"Bokeh: injecting script tag for BokehJS library: \", url);\n      document.head.appendChild(element);\n    }\n  };\n\n  function inject_raw_css(css) {\n    const element = document.createElement(\"style\");\n    element.appendChild(document.createTextNode(css));\n    document.body.appendChild(element);\n  }\n\n  \n  var js_urls = [\"https://cdn.bokeh.org/bokeh/release/bokeh-2.3.2.min.js\", \"https://cdn.bokeh.org/bokeh/release/bokeh-widgets-2.3.2.min.js\", \"https://cdn.bokeh.org/bokeh/release/bokeh-tables-2.3.2.min.js\"];\n  var css_urls = [];\n  \n\n  var inline_js = [\n    function(Bokeh) {\n      Bokeh.set_log_level(\"info\");\n    },\n    function(Bokeh) {\n    \n    \n    }\n  ];\n\n  function run_inline_js() {\n    \n    if (root.Bokeh !== undefined || force === true) {\n      \n    for (var i = 0; i < inline_js.length; i++) {\n      inline_js[i].call(root, root.Bokeh);\n    }\n    if (force === true) {\n        display_loaded();\n      }} else if (Date.now() < root._bokeh_timeout) {\n      setTimeout(run_inline_js, 100);\n    } else if (!root._bokeh_failed_load) {\n      console.log(\"Bokeh: BokehJS failed to load within specified timeout.\");\n      root._bokeh_failed_load = true;\n    } else if (force !== true) {\n      var cell = $(document.getElementById(\"1002\")).parents('.cell').data().cell;\n      cell.output_area.append_execute_result(NB_LOAD_WARNING)\n    }\n\n  }\n\n  if (root._bokeh_is_loading === 0) {\n    console.debug(\"Bokeh: BokehJS loaded, going straight to plotting\");\n    run_inline_js();\n  } else {\n    load_libs(css_urls, js_urls, function() {\n      console.debug(\"Bokeh: BokehJS plotting callback run at\", now());\n      run_inline_js();\n    });\n  }\n}(window));"
     },
     "metadata": {},
     "output_type": "display_data"
    },
    {
     "data": {
      "text/html": [
       "<div style=\"display: table;\"><div style=\"display: table-row;\"><div style=\"display: table-cell;\"><b title=\"bokeh.models.renderers.GlyphRenderer\">GlyphRenderer</b>(</div><div style=\"display: table-cell;\">id&nbsp;=&nbsp;'1043', <span id=\"1046\" style=\"cursor: pointer;\">&hellip;)</span></div></div><div class=\"1045\" style=\"display: none;\"><div style=\"display: table-cell;\"></div><div style=\"display: table-cell;\">data_source&nbsp;=&nbsp;ColumnDataSource(id='1040', ...),</div></div><div class=\"1045\" style=\"display: none;\"><div style=\"display: table-cell;\"></div><div style=\"display: table-cell;\">glyph&nbsp;=&nbsp;Circle(id='1041', ...),</div></div><div class=\"1045\" style=\"display: none;\"><div style=\"display: table-cell;\"></div><div style=\"display: table-cell;\">hover_glyph&nbsp;=&nbsp;None,</div></div><div class=\"1045\" style=\"display: none;\"><div style=\"display: table-cell;\"></div><div style=\"display: table-cell;\">js_event_callbacks&nbsp;=&nbsp;{},</div></div><div class=\"1045\" style=\"display: none;\"><div style=\"display: table-cell;\"></div><div style=\"display: table-cell;\">js_property_callbacks&nbsp;=&nbsp;{},</div></div><div class=\"1045\" style=\"display: none;\"><div style=\"display: table-cell;\"></div><div style=\"display: table-cell;\">level&nbsp;=&nbsp;'glyph',</div></div><div class=\"1045\" style=\"display: none;\"><div style=\"display: table-cell;\"></div><div style=\"display: table-cell;\">muted&nbsp;=&nbsp;False,</div></div><div class=\"1045\" style=\"display: none;\"><div style=\"display: table-cell;\"></div><div style=\"display: table-cell;\">muted_glyph&nbsp;=&nbsp;None,</div></div><div class=\"1045\" style=\"display: none;\"><div style=\"display: table-cell;\"></div><div style=\"display: table-cell;\">name&nbsp;=&nbsp;None,</div></div><div class=\"1045\" style=\"display: none;\"><div style=\"display: table-cell;\"></div><div style=\"display: table-cell;\">nonselection_glyph&nbsp;=&nbsp;Circle(id='1042', ...),</div></div><div class=\"1045\" style=\"display: none;\"><div style=\"display: table-cell;\"></div><div style=\"display: table-cell;\">selection_glyph&nbsp;=&nbsp;'auto',</div></div><div class=\"1045\" style=\"display: none;\"><div style=\"display: table-cell;\"></div><div style=\"display: table-cell;\">subscribed_events&nbsp;=&nbsp;[],</div></div><div class=\"1045\" style=\"display: none;\"><div style=\"display: table-cell;\"></div><div style=\"display: table-cell;\">syncable&nbsp;=&nbsp;True,</div></div><div class=\"1045\" style=\"display: none;\"><div style=\"display: table-cell;\"></div><div style=\"display: table-cell;\">tags&nbsp;=&nbsp;[],</div></div><div class=\"1045\" style=\"display: none;\"><div style=\"display: table-cell;\"></div><div style=\"display: table-cell;\">view&nbsp;=&nbsp;CDSView(id='1044', ...),</div></div><div class=\"1045\" style=\"display: none;\"><div style=\"display: table-cell;\"></div><div style=\"display: table-cell;\">visible&nbsp;=&nbsp;True,</div></div><div class=\"1045\" style=\"display: none;\"><div style=\"display: table-cell;\"></div><div style=\"display: table-cell;\">x_range_name&nbsp;=&nbsp;'default',</div></div><div class=\"1045\" style=\"display: none;\"><div style=\"display: table-cell;\"></div><div style=\"display: table-cell;\">y_range_name&nbsp;=&nbsp;'default')</div></div></div>\n",
       "<script>\n",
       "(function() {\n",
       "  var expanded = false;\n",
       "  var ellipsis = document.getElementById(\"1046\");\n",
       "  ellipsis.addEventListener(\"click\", function() {\n",
       "    var rows = document.getElementsByClassName(\"1045\");\n",
       "    for (var i = 0; i < rows.length; i++) {\n",
       "      var el = rows[i];\n",
       "      el.style.display = expanded ? \"none\" : \"table-row\";\n",
       "    }\n",
       "    ellipsis.innerHTML = expanded ? \"&hellip;)\" : \"&lsaquo;&lsaquo;&lsaquo;\";\n",
       "    expanded = !expanded;\n",
       "  });\n",
       "})();\n",
       "</script>\n"
      ],
      "text/plain": [
       "GlyphRenderer(id='1043', ...)"
      ]
     },
     "execution_count": 19,
     "metadata": {},
     "output_type": "execute_result"
    },
    {
     "data": {
      "text/html": [
       "\n",
       "\n",
       "\n",
       "\n",
       "\n",
       "\n",
       "  <div class=\"bk-root\" id=\"23e9daed-af7d-4a42-9ef5-1bef98705db0\" data-root-id=\"1004\"></div>\n"
      ]
     },
     "metadata": {},
     "output_type": "display_data"
    },
    {
     "data": {
      "application/javascript": [
       "(function(root) {\n",
       "  function embed_document(root) {\n",
       "    \n",
       "  var docs_json = {\"9ca8cc3c-30a1-41b7-ab4a-53282a0896cd\":{\"defs\":[],\"roots\":{\"references\":[{\"attributes\":{\"below\":[{\"id\":\"1013\"}],\"center\":[{\"id\":\"1016\"},{\"id\":\"1020\"}],\"left\":[{\"id\":\"1017\"}],\"renderers\":[{\"id\":\"1043\"}],\"title\":{\"id\":\"1048\"},\"toolbar\":{\"id\":\"1031\"},\"x_range\":{\"id\":\"1005\"},\"x_scale\":{\"id\":\"1009\"},\"y_range\":{\"id\":\"1007\"},\"y_scale\":{\"id\":\"1011\"}},\"id\":\"1004\",\"subtype\":\"Figure\",\"type\":\"Plot\"},{\"attributes\":{\"source\":{\"id\":\"1040\"}},\"id\":\"1044\",\"type\":\"CDSView\"},{\"attributes\":{\"bottom_units\":\"screen\",\"fill_alpha\":0.5,\"fill_color\":\"lightgrey\",\"left_units\":\"screen\",\"level\":\"overlay\",\"line_alpha\":1.0,\"line_color\":\"black\",\"line_dash\":[4,4],\"line_width\":2,\"right_units\":\"screen\",\"syncable\":false,\"top_units\":\"screen\"},\"id\":\"1028\",\"type\":\"BoxAnnotation\"},{\"attributes\":{\"bottom_units\":\"screen\",\"fill_alpha\":0.5,\"fill_color\":\"lightgrey\",\"left_units\":\"screen\",\"level\":\"overlay\",\"line_alpha\":1.0,\"line_color\":\"black\",\"line_dash\":[4,4],\"line_width\":2,\"right_units\":\"screen\",\"syncable\":false,\"top_units\":\"screen\"},\"id\":\"1029\",\"type\":\"BoxAnnotation\"},{\"attributes\":{},\"id\":\"1014\",\"type\":\"BasicTicker\"},{\"attributes\":{\"axis\":{\"id\":\"1017\"},\"dimension\":1,\"ticker\":null},\"id\":\"1020\",\"type\":\"Grid\"},{\"attributes\":{},\"id\":\"1053\",\"type\":\"AllLabels\"},{\"attributes\":{},\"id\":\"1054\",\"type\":\"BasicTickFormatter\"},{\"attributes\":{\"axis\":{\"id\":\"1013\"},\"ticker\":null},\"id\":\"1016\",\"type\":\"Grid\"},{\"attributes\":{},\"id\":\"1018\",\"type\":\"BasicTicker\"},{\"attributes\":{\"end\":100},\"id\":\"1005\",\"type\":\"Range1d\"},{\"attributes\":{},\"id\":\"1048\",\"type\":\"Title\"},{\"attributes\":{},\"id\":\"1023\",\"type\":\"WheelZoomTool\"},{\"attributes\":{\"data\":{\"fill_color\":[\"#f8d496\",\"#f6b296\",\"#f6b896\",\"#f6c696\",\"#f6bc96\",\"#f4d496\",\"#f4d496\",\"#f4be96\",\"#f4bc96\",\"#f4c496\",\"#f4c496\",\"#f4c496\",\"#f49a96\",\"#f4cc96\",\"#f4b496\",\"#f4ce96\",\"#f4c896\",\"#f4c696\",\"#f4ca96\",\"#f4c696\",\"#f4d096\",\"#f4cc96\",\"#f4c296\",\"#f49a96\",\"#f2d696\",\"#f2ba96\",\"#f2c496\",\"#f2d296\",\"#f2d296\",\"#f2ce96\",\"#f2d696\",\"#f2d296\",\"#f2d896\",\"#f2ce96\",\"#f2d496\",\"#f2d096\",\"#f2d096\",\"#f2ca96\",\"#f2d496\",\"#f2d296\",\"#f2d296\",\"#f2ca96\",\"#f2ca96\",\"#f2ce96\",\"#f2c096\",\"#f0d496\",\"#f0d496\",\"#f0ce96\",\"#f0a696\",\"#f0d096\",\"#f0d096\",\"#f0c696\",\"#f0cc96\",\"#f0d296\",\"#f0d496\",\"#f0d696\",\"#f0d296\",\"#f0b696\",\"#f0a896\",\"#f0c696\",\"#f0d696\",\"#f0c896\",\"#f0d496\",\"#f0d296\",\"#f0ce96\",\"#f0b496\",\"#f0cc96\",\"#eecc96\",\"#eec696\",\"#eec896\",\"#eed296\",\"#eea296\",\"#eed696\",\"#eec696\",\"#eeca96\",\"#eec696\",\"#eeb096\",\"#eece96\",\"#eed096\",\"#eed296\",\"#eece96\",\"#eeb296\",\"#eed096\",\"#eecc96\",\"#eece96\",\"#eec496\",\"#eec696\",\"#eecc96\",\"#eece96\",\"#eece96\",\"#eec896\",\"#eeca96\",\"#eec096\",\"#eece96\",\"#eec296\",\"#eeb296\",\"#eed096\",\"#eec496\",\"#eed696\",\"#eed496\",\"#eed496\",\"#eec896\",\"#eeb896\",\"#eecc96\",\"#eed496\",\"#eea296\",\"#eece96\",\"#eec496\",\"#eed096\",\"#eed496\",\"#eec296\",\"#eeae96\",\"#eec096\",\"#eed496\",\"#ecda96\",\"#ecd296\",\"#ecce96\",\"#eccc96\",\"#ecd296\",\"#ec9096\",\"#ecc896\",\"#ecca96\",\"#ecc496\",\"#ecb896\",\"#ecca96\",\"#ecd296\",\"#ecb896\",\"#ecd696\",\"#ecc896\",\"#ecce96\",\"#ecce96\",\"#ecca96\",\"#eccc96\",\"#ecc896\",\"#ecd296\",\"#ecd096\",\"#ecc496\",\"#ecc096\",\"#ecb096\",\"#ecbe96\",\"#ecc296\",\"#ecca96\",\"#eccc96\",\"#ec9a96\",\"#ecce96\",\"#ecca96\",\"#ecc296\",\"#ecc496\",\"#ecce96\",\"#ecd496\",\"#ecc296\",\"#ecc896\",\"#ecbc96\",\"#ecd096\",\"#ecc696\",\"#ecb096\",\"#ec9696\",\"#ecc696\",\"#ecc296\",\"#ecd096\",\"#ecc096\",\"#ecba96\",\"#ecc696\",\"#ecbe96\",\"#ecc496\",\"#ecc496\",\"#ecae96\",\"#ecd696\",\"#ecd096\",\"#ecd296\",\"#eccc96\",\"#ecce96\",\"#ecca96\",\"#ecba96\",\"#ec9296\",\"#ecd296\",\"#ecca96\",\"#ecce96\",\"#eccc96\",\"#ecc496\",\"#ecb296\",\"#ecd096\",\"#ecb496\",\"#ecc696\",\"#ecb296\",\"#eacc96\",\"#eaa296\",\"#eabe96\",\"#eac896\",\"#eac296\",\"#eace96\",\"#eab896\",\"#eaac96\",\"#eace96\",\"#eac496\",\"#eac096\",\"#eace96\",\"#eac696\",\"#eabe96\",\"#eac496\",\"#eace96\",\"#eacc96\",\"#ead696\",\"#eacc96\",\"#eabc96\",\"#ead496\",\"#eab296\",\"#eaca96\",\"#eaae96\",\"#eab696\",\"#eab696\",\"#eaba96\",\"#eaa896\",\"#ead096\",\"#ead296\",\"#eabc96\",\"#ead296\",\"#ead496\",\"#eacc96\",\"#eab696\",\"#eaac96\",\"#eab696\",\"#ead696\",\"#ead296\",\"#eac096\",\"#ead496\",\"#eab096\",\"#eac696\",\"#ead296\",\"#eac096\",\"#eabe96\",\"#eabc96\",\"#eac696\",\"#eacc96\",\"#eac696\",\"#eac496\",\"#eace96\",\"#eace96\",\"#ead296\",\"#ead296\",\"#ead496\",\"#ead096\",\"#eac096\",\"#eaca96\",\"#ead296\",\"#eace96\",\"#eac496\",\"#eabc96\",\"#eac296\",\"#ead096\",\"#eac896\",\"#ead496\",\"#eac096\",\"#ead496\",\"#eac896\",\"#eace96\",\"#ead496\",\"#ead096\",\"#eacc96\",\"#eab496\",\"#eac296\",\"#eaca96\",\"#eacc96\",\"#eaca96\",\"#eace96\",\"#ea6096\",\"#ead496\",\"#ead896\",\"#eacc96\",\"#eace96\",\"#eac696\",\"#ea8296\",\"#e8ae96\",\"#e8b896\",\"#e8bc96\",\"#e8be96\",\"#e8bc96\",\"#e8c896\",\"#e8c896\",\"#e8c896\",\"#e8c896\",\"#e8ca96\",\"#e8ca96\",\"#e8ae96\",\"#e88c96\",\"#e8ca96\",\"#e8bc96\",\"#e8a896\",\"#e8d296\",\"#e8a096\",\"#e8b696\",\"#e8c696\",\"#e8b496\",\"#e8d096\",\"#e8d096\",\"#e8d696\",\"#e8c096\",\"#e8ca96\",\"#e8cc96\",\"#e8ce96\",\"#e8cc96\",\"#e8c496\",\"#e8ba96\",\"#e8d496\",\"#e8d696\",\"#e8b696\",\"#e8cc96\",\"#e8d696\",\"#e8d096\",\"#e8c696\",\"#e8d096\",\"#e8c696\",\"#e89496\",\"#e8d496\",\"#e8cc96\",\"#e8d096\",\"#e8d496\",\"#e8be96\",\"#e8b096\",\"#e8d096\",\"#e8c296\",\"#e8c096\",\"#e8c896\",\"#e8c096\",\"#e8a296\",\"#e8c696\",\"#e8c096\",\"#e8ce96\",\"#e8ca96\",\"#e8c696\",\"#e8c096\",\"#e8a496\",\"#e8c296\",\"#e8ba96\",\"#e8d096\",\"#e8d496\",\"#e86a96\",\"#e8ba96\",\"#e8a296\",\"#e8cc96\",\"#e8c896\",\"#e8ca96\",\"#e8ca96\",\"#e8c696\",\"#e8ba96\",\"#e8cc96\",\"#e8cc96\",\"#e8c896\",\"#e8c696\",\"#e8c496\",\"#e8d496\",\"#e8c696\",\"#e8ce96\",\"#e8b496\",\"#e8be96\",\"#e8c696\",\"#e8ba96\",\"#e8ba96\",\"#e8cc96\",\"#e8a496\",\"#e8d696\",\"#e8c096\",\"#e8c096\",\"#e8c296\",\"#e8ce96\",\"#e8d096\",\"#e8ca96\",\"#e8c696\",\"#e8d296\",\"#e8ce96\",\"#e8d296\",\"#e8cc96\",\"#e8ae96\",\"#e8be96\",\"#e8c696\",\"#e8c496\",\"#e8c496\",\"#e8d296\",\"#e8cc96\",\"#e8ae96\",\"#e8c496\",\"#e8d096\",\"#e8a496\",\"#e8ca96\",\"#e8c096\",\"#e8c296\",\"#e8c096\",\"#e8b096\",\"#e8cc96\",\"#e8c696\",\"#e8ac96\",\"#e8be96\",\"#e8d296\",\"#e6ce96\",\"#e6cc96\",\"#e6a696\",\"#e68c96\",\"#e6cc96\",\"#e6d496\",\"#e69296\",\"#e6c696\",\"#e6b096\",\"#e6ce96\",\"#e6c096\",\"#e6bc96\",\"#e69e96\",\"#e6ca96\",\"#e6ce96\",\"#e6bc96\",\"#e6ae96\",\"#e6c696\",\"#e6d096\",\"#e6b896\",\"#e6cc96\",\"#e6ce96\",\"#e6c696\",\"#e6cc96\",\"#e6ce96\",\"#e6be96\",\"#e6be96\",\"#e6a696\",\"#e6c296\",\"#e6b296\",\"#e6b296\",\"#e6d096\",\"#e6cc96\",\"#e6bc96\",\"#e6b896\",\"#e6bc96\",\"#e6d296\",\"#e6ca96\",\"#e6c896\",\"#e6d696\",\"#e6a296\",\"#e6be96\",\"#e6c896\",\"#e6aa96\",\"#e6c696\",\"#e6a096\",\"#e6ce96\",\"#e6c696\",\"#e6be96\",\"#e6d296\",\"#e6ce96\",\"#e6ca96\",\"#e6be96\",\"#e6b896\",\"#e6ac96\",\"#e68c96\",\"#e6ae96\",\"#e6d096\",\"#e6c696\",\"#e6b096\",\"#e6c696\",\"#e6d096\",\"#e6d696\",\"#e6ca96\",\"#e6c696\",\"#e6ca96\",\"#e6d696\",\"#e69e96\",\"#e6ca96\",\"#e6ca96\",\"#e6b896\",\"#e6d296\",\"#e6c096\",\"#e6c496\",\"#e6c496\",\"#e6ce96\",\"#e6ba96\",\"#e6c696\",\"#e6c696\",\"#e6ac96\",\"#e6c696\",\"#e6c696\",\"#e6b296\",\"#e6ba96\",\"#e6c096\",\"#e6c496\",\"#e6ce96\",\"#e6be96\",\"#e6b296\",\"#e6ca96\",\"#e6d296\",\"#e6d296\",\"#e69496\",\"#e6b696\",\"#e6cc96\",\"#e6c496\",\"#e6be96\",\"#e6c696\",\"#e6d096\",\"#e6b896\",\"#e6c896\",\"#e6c496\",\"#e6ce96\",\"#e6b896\",\"#e6b096\",\"#e6ce96\",\"#e6c896\",\"#e6a096\",\"#e6b896\",\"#e6cc96\",\"#e6be96\",\"#e6c496\",\"#e6bc96\",\"#e6c496\",\"#e6d296\",\"#e6ce96\",\"#e6c496\",\"#e6a696\",\"#e6a496\",\"#e6ba96\",\"#e6b696\",\"#e6c696\",\"#e69c96\",\"#e6ac96\",\"#e6ba96\",\"#e6b496\",\"#e6be96\",\"#e6ca96\",\"#e6c496\",\"#e6be96\",\"#e6be96\",\"#e6aa96\",\"#e6c696\",\"#e6aa96\",\"#e69e96\",\"#e6c296\",\"#e6d096\",\"#e6cc96\",\"#e69c96\",\"#e6b896\",\"#e6b896\",\"#e6aa96\",\"#e6cc96\",\"#e6a696\",\"#e6cc96\",\"#e6b896\",\"#e6cc96\",\"#e4d496\",\"#e4cc96\",\"#e4c296\",\"#e4bc96\",\"#e4ce96\",\"#e4d296\",\"#e4c496\",\"#e4b696\",\"#e4c296\",\"#e4d296\",\"#e4c296\",\"#e4c896\",\"#e4cc96\",\"#e4d496\",\"#e4d096\",\"#e4d096\",\"#e49a96\",\"#e4ce96\",\"#e4ca96\",\"#e4d096\",\"#e4cc96\",\"#e49696\",\"#e4cc96\",\"#e4c496\",\"#e4ce96\",\"#e4c696\",\"#e4c696\",\"#e4c696\",\"#e4c896\",\"#e4ce96\",\"#e4be96\",\"#e4c896\",\"#e4cc96\",\"#e4c496\",\"#e4ce96\",\"#e4ca96\",\"#e4ba96\",\"#e4a896\",\"#e4ca96\",\"#e4a296\",\"#e4b496\",\"#e4bc96\",\"#e4ba96\",\"#e4d096\",\"#e4ce96\",\"#e4b696\",\"#e4c696\",\"#e4c896\",\"#e4c296\",\"#e4c496\",\"#e4c096\",\"#e4ce96\",\"#e4c896\",\"#e4bc96\",\"#e4d296\",\"#e4c696\",\"#e4c896\",\"#e4b096\",\"#e4d096\",\"#e4ca96\",\"#e4bc96\",\"#e4c696\",\"#e4ba96\",\"#e4a096\",\"#e4ba96\",\"#e48c96\",\"#e4c696\",\"#e4ce96\",\"#e4c496\",\"#e4b296\",\"#e4ca96\",\"#e4ca96\",\"#e4cc96\",\"#e4cc96\",\"#e4bc96\",\"#e4c896\",\"#e4ca96\",\"#e4d096\",\"#e4ba96\",\"#e4ae96\",\"#e4b096\",\"#e4a696\",\"#e4ce96\",\"#e4b696\",\"#e49a96\",\"#e4cc96\",\"#e4b896\",\"#e4ce96\",\"#e4c496\",\"#e4c296\",\"#e4b496\",\"#e4ac96\",\"#e4ac96\",\"#e4cc96\",\"#e4d496\",\"#e4c896\",\"#e4b696\",\"#e4ae96\",\"#e4ae96\",\"#e4ac96\",\"#e4bc96\",\"#e4c296\",\"#e4ce96\",\"#e4c096\",\"#e4c496\",\"#e4c096\",\"#e4ca96\",\"#e4c496\",\"#e4ba96\",\"#e4c896\",\"#e4be96\",\"#e4c896\",\"#e4b296\",\"#e4cc96\",\"#e4ba96\",\"#e48096\",\"#e4ca96\",\"#e4b896\",\"#e4be96\",\"#e4b896\",\"#e4ce96\",\"#e4bc96\",\"#e4ac96\",\"#e4bc96\",\"#e4c296\",\"#e49696\",\"#e4ce96\",\"#e4a896\",\"#e4b896\",\"#e4cc96\",\"#e4b096\",\"#e4ba96\",\"#e4b896\",\"#e4d696\",\"#e4d296\",\"#e4b096\",\"#e4ca96\",\"#e4d096\",\"#e4b696\",\"#e4c896\",\"#e4c896\",\"#e4cc96\",\"#e4ce96\",\"#e4c496\",\"#e4a696\",\"#e4ce96\",\"#e4ce96\",\"#e4ac96\",\"#e4c896\",\"#e4cc96\",\"#e4b296\",\"#e4c896\",\"#e4d096\",\"#e4c296\",\"#e4c696\",\"#e4a696\",\"#e4bc96\",\"#e4ce96\",\"#e4b896\",\"#e4c296\",\"#e4ce96\",\"#e4c896\",\"#e4d696\",\"#e4bc96\",\"#e4cc96\",\"#e4ba96\",\"#e4ce96\",\"#e4c496\",\"#e4be96\",\"#e4b896\",\"#e4b496\",\"#e48896\",\"#e4c496\",\"#e4b296\",\"#e4c696\",\"#e4be96\",\"#e4c096\",\"#e4a696\",\"#e4d096\",\"#e4ce96\",\"#e4c896\",\"#e4c296\",\"#e4c696\",\"#e4be96\",\"#e4c696\",\"#e4ae96\",\"#e4c096\",\"#e4a696\",\"#e4c896\",\"#e4c896\",\"#e2aa96\",\"#e2c296\",\"#e2be96\",\"#e2c296\",\"#e2cc96\",\"#e2bc96\",\"#e2a896\",\"#e2a096\",\"#e2c496\",\"#e2c296\",\"#e2ba96\",\"#e2c296\",\"#e2ca96\",\"#e2d496\",\"#e2b096\",\"#e2c096\",\"#e2cc96\",\"#e2cc96\",\"#e2be96\",\"#e2bc96\",\"#e2d696\",\"#e28c96\",\"#e26496\",\"#e2c496\",\"#e2bc96\",\"#e2c496\",\"#e2c896\",\"#e2be96\",\"#e2b896\",\"#e2bc96\",\"#e2c096\",\"#e2ce96\",\"#e2c496\",\"#e2d296\",\"#e2b696\",\"#e2ba96\",\"#e2c696\",\"#e2a496\",\"#e2b496\",\"#e2a096\",\"#e2ce96\",\"#e2ce96\",\"#e2ae96\",\"#e2b896\",\"#e2ce96\",\"#e2ca96\",\"#e2c496\",\"#e2ce96\",\"#e2ba96\",\"#e2d696\",\"#e2aa96\",\"#e29296\",\"#e2c496\",\"#e2c496\",\"#e2c296\",\"#e2c496\",\"#e2d496\",\"#e2c896\",\"#e2ce96\",\"#e2c496\",\"#e2c096\",\"#e2b696\",\"#e2d096\",\"#e2b296\",\"#e2cc96\",\"#e2b896\",\"#e2ba96\",\"#e2be96\",\"#e2b896\",\"#e2c096\",\"#e2bc96\",\"#e2cc96\",\"#e2b296\",\"#e2c296\",\"#e2b696\",\"#e2b296\",\"#e2b096\",\"#e2d696\",\"#e2a896\",\"#e2ce96\",\"#e2d496\",\"#e2c296\",\"#e2c896\",\"#e27c96\",\"#e2c696\",\"#e2b896\",\"#e2d296\",\"#e29896\",\"#e2b096\",\"#e2c296\",\"#e2c696\",\"#e2c696\",\"#e2c696\",\"#e2bc96\",\"#e29a96\",\"#e2ca96\",\"#e2cc96\",\"#e2c896\",\"#e2b096\",\"#e2be96\",\"#e2bc96\",\"#e2ba96\",\"#e2b696\",\"#e2c496\",\"#e2be96\",\"#e2b096\",\"#e2aa96\",\"#e2b896\",\"#e2ce96\",\"#e2b496\",\"#e2bc96\",\"#e2b896\",\"#e2ce96\",\"#e2c696\",\"#e2c896\",\"#e2c496\",\"#e2bc96\",\"#e2ce96\",\"#e2b696\",\"#e2be96\",\"#e2c296\",\"#e2d496\",\"#e2b896\",\"#e2cc96\",\"#e2ca96\",\"#e2cc96\",\"#e2bc96\",\"#e2b496\",\"#e2a696\",\"#e29e96\",\"#e2cc96\",\"#e2ca96\",\"#e2cc96\",\"#e2cc96\",\"#e2a896\",\"#e29696\",\"#e2b096\",\"#e2c696\",\"#e28296\",\"#e2c696\",\"#e2d296\",\"#e2b496\",\"#e29296\",\"#e27e96\",\"#e2b896\",\"#e2b896\",\"#e2c496\",\"#e2d296\",\"#e2c896\",\"#e29696\",\"#e2d296\",\"#e2c696\",\"#e2c096\",\"#e2c696\",\"#e2a096\",\"#e2be96\",\"#e2b496\",\"#e2ca96\",\"#e2c096\",\"#e2a896\",\"#e2b496\",\"#e2c296\",\"#e2bc96\",\"#e2c096\",\"#e2d096\",\"#e2d296\",\"#e2b096\",\"#e2aa96\",\"#e2ac96\",\"#e2c696\",\"#e27096\",\"#e2aa96\",\"#e2b096\",\"#e2a496\",\"#e2ba96\",\"#e2a696\",\"#e2b696\",\"#e2a496\",\"#e2d296\",\"#e2b496\",\"#e2ce96\",\"#e2d096\",\"#e2c696\",\"#e2c296\",\"#e2b896\",\"#e2ca96\",\"#e26096\",\"#e2b496\",\"#e2a896\",\"#e2c896\",\"#e2b696\",\"#e2a296\",\"#e2b896\",\"#e2b696\",\"#e2ba96\",\"#e2ce96\",\"#e2b896\",\"#e2ba96\",\"#e2aa96\",\"#e2b896\",\"#e2bc96\",\"#e2ce96\",\"#e2ca96\",\"#e29096\",\"#e2b696\",\"#e2ba96\",\"#e2ce96\",\"#e2d696\",\"#e2b696\",\"#e2c296\",\"#e2be96\",\"#e2c496\",\"#e2c296\",\"#e2b696\",\"#e2cc96\",\"#e2ae96\",\"#e2ac96\",\"#e2c096\",\"#e2ba96\",\"#e28e96\",\"#e2ce96\",\"#e2be96\",\"#e2c496\",\"#e2cc96\",\"#e2ce96\",\"#e2b696\",\"#e2b096\",\"#e29896\",\"#e2bc96\",\"#e2cc96\",\"#e2b096\",\"#e2c896\",\"#e2c496\",\"#e2c896\",\"#e0ce96\",\"#e0b496\",\"#e0b896\",\"#e0b696\",\"#e0b896\",\"#e0c896\",\"#e0a296\",\"#e0be96\",\"#e0be96\",\"#e0cc96\",\"#e0b696\",\"#e0c296\",\"#e0be96\",\"#e0ac96\",\"#e0ce96\",\"#e0c896\",\"#e0ce96\",\"#e0b296\",\"#e0b096\",\"#e0b696\",\"#e0be96\",\"#e0ce96\",\"#e0ae96\",\"#e0c896\",\"#e0cc96\",\"#e0c896\",\"#e0c696\",\"#e0c296\",\"#e0b896\",\"#e0b696\",\"#e0a696\",\"#e09096\",\"#e0c096\",\"#e0ce96\",\"#e0c096\",\"#e0c496\",\"#e0b896\",\"#e0ca96\",\"#e0b496\",\"#e0d096\",\"#e0bc96\",\"#e0c696\",\"#e0cc96\",\"#e0bc96\",\"#e0ce96\",\"#e0ce96\",\"#e0c696\",\"#e0b696\",\"#e0bc96\",\"#e0c096\",\"#e0c496\",\"#e0a096\",\"#e0c296\",\"#e0c496\",\"#e0b496\",\"#e0d296\",\"#e0ac96\",\"#e0d096\",\"#e0ca96\",\"#e0bc96\",\"#e0ac96\",\"#e0ae96\",\"#e0b096\",\"#e0ba96\",\"#e0b496\",\"#e0bc96\",\"#e0aa96\",\"#e0b696\",\"#e0c296\",\"#e0ba96\",\"#e0c096\",\"#e0bc96\",\"#e0ba96\",\"#e0c696\",\"#e0b696\",\"#e0d096\",\"#e0cc96\",\"#e0c896\",\"#e0d496\",\"#e0b096\",\"#e0ce96\",\"#e0cc96\",\"#e0d496\",\"#e0c496\",\"#e0c896\",\"#e0ac96\",\"#e0be96\",\"#e0cc96\",\"#e0c896\",\"#e0ca96\",\"#e0c496\",\"#e0d696\",\"#e0bc96\",\"#e0be96\",\"#e0c696\",\"#e0ba96\",\"#e0c296\",\"#e09c96\",\"#e0ac96\",\"#e0bc96\",\"#e0ca96\",\"#e0c496\",\"#e0d096\",\"#e0d296\",\"#e0b896\",\"#e0c896\",\"#e0ba96\",\"#e0cc96\",\"#e0c296\",\"#e0b696\",\"#e0c496\",\"#e0c896\",\"#e0c896\",\"#e0d496\",\"#e0b096\",\"#e0a896\",\"#e0c496\",\"#e0d296\",\"#e0ca96\",\"#e0c696\",\"#e0ac96\",\"#e0ca96\",\"#e0d096\",\"#e0b696\",\"#e0b696\",\"#e0c696\",\"#e0c496\",\"#e0ba96\",\"#e0ca96\",\"#e0d096\",\"#e0a296\",\"#e0ac96\",\"#e0c096\",\"#e0aa96\",\"#e0d096\",\"#e09096\",\"#e0be96\",\"#e0c096\",\"#e0c496\",\"#e0ca96\",\"#e0c096\",\"#e0bc96\",\"#e0bc96\",\"#e0b096\",\"#e0be96\",\"#e0d296\",\"#e0bc96\",\"#e0c096\",\"#e09c96\",\"#e0ce96\",\"#e0c496\",\"#e0c096\",\"#e0c096\",\"#e09896\",\"#e0bc96\",\"#e0bc96\",\"#e0b496\",\"#e0c696\",\"#e0c296\",\"#e0a296\",\"#e0cc96\",\"#e0d496\",\"#e0d096\",\"#e0cc96\",\"#e0be96\",\"#e0c696\",\"#e0a296\",\"#e0ca96\",\"#e09496\",\"#e0ae96\",\"#e0c896\",\"#e0bc96\",\"#e0be96\",\"#e0c296\",\"#e0c696\",\"#e0bc96\",\"#e0c696\",\"#e0c696\",\"#e0b096\",\"#e0cc96\",\"#e0c896\",\"#e0bc96\",\"#e0b896\",\"#e0c096\",\"#e0b096\",\"#e0c696\",\"#e0c296\",\"#e0c296\",\"#e0d496\",\"#e0c096\",\"#e0bc96\",\"#e08e96\",\"#e0cc96\",\"#e0be96\",\"#e0ca96\",\"#e0c096\",\"#e0c496\",\"#e07696\",\"#e0b696\",\"#e0b096\",\"#e0ce96\",\"#e0c296\",\"#e0b896\",\"#e0c296\",\"#e0c896\",\"#e0b896\",\"#e0a896\",\"#e0c096\",\"#e0d296\",\"#e0b696\",\"#e0a096\",\"#e0ba96\",\"#e0b296\",\"#e09e96\",\"#e0b096\",\"#e0ba96\",\"#e09a96\",\"#e0ca96\",\"#e0c896\",\"#e0cc96\",\"#e0a496\",\"#e0d096\",\"#e0be96\",\"#e0ba96\",\"#e0b096\",\"#e0ca96\",\"#e0b696\",\"#e07e96\",\"#e0a496\",\"#e0cc96\",\"#e0a896\",\"#e0bc96\",\"#e0b496\",\"#e0c896\",\"#e0cc96\",\"#e0be96\",\"#e0c096\",\"#e0c096\",\"#e0c696\",\"#e0bc96\",\"#e0be96\",\"#e0c296\",\"#e0b896\",\"#e09c96\",\"#e08296\",\"#e0ba96\",\"#e0c696\",\"#e0be96\",\"#e0d096\",\"#e0ca96\",\"#e0ba96\",\"#e0b896\",\"#e0c296\",\"#e0be96\",\"#e0d296\",\"#e0bc96\",\"#e0a496\",\"#e08296\",\"#e0b896\",\"#e0ce96\",\"#e0b696\",\"#e0b496\",\"#e0cc96\",\"#e0bc96\",\"#e0ca96\",\"#e0ce96\",\"#e0ca96\",\"#e0ce96\",\"#de9c96\",\"#debc96\",\"#deac96\",\"#decc96\",\"#deb896\",\"#de6096\",\"#de8c96\",\"#dec896\",\"#deae96\",\"#de8a96\",\"#deba96\",\"#deb696\",\"#dec896\",\"#deb696\",\"#debc96\",\"#deca96\",\"#dec896\",\"#deba96\",\"#dec496\",\"#dec296\",\"#dec896\",\"#decc96\",\"#deac96\",\"#deb096\",\"#ded096\",\"#ded696\",\"#deb896\",\"#deba96\",\"#deca96\",\"#decc96\",\"#dea896\",\"#dec296\",\"#dec096\",\"#debc96\",\"#dec896\",\"#deb496\",\"#deaa96\",\"#dec896\",\"#deb496\",\"#dec296\",\"#deb296\",\"#ded096\",\"#dea896\",\"#dec296\",\"#deb496\",\"#dec696\",\"#dea896\",\"#dea296\",\"#dece96\",\"#deb896\",\"#deb496\",\"#debe96\",\"#dec696\",\"#dec096\",\"#deba96\",\"#deb296\",\"#debc96\",\"#debe96\",\"#de9096\",\"#debe96\",\"#deb296\",\"#deb696\",\"#dea696\",\"#deba96\",\"#deca96\",\"#dec496\",\"#dec896\",\"#deae96\",\"#deb296\",\"#deb496\",\"#debe96\",\"#de8e96\",\"#dece96\",\"#dec696\",\"#dec296\",\"#debe96\",\"#ded096\",\"#deb896\",\"#dece96\",\"#dece96\",\"#deca96\",\"#dea896\",\"#dec296\",\"#dea296\",\"#decc96\",\"#dec896\",\"#deb896\",\"#deaa96\",\"#debe96\",\"#deb496\",\"#deba96\",\"#de9a96\",\"#deb696\",\"#de8a96\",\"#deba96\",\"#deb896\",\"#deb696\",\"#dea496\",\"#deca96\",\"#deb696\",\"#dec896\",\"#dec696\",\"#deba96\",\"#de9c96\",\"#dec496\",\"#dec496\",\"#deb896\",\"#deb496\",\"#dece96\",\"#decc96\",\"#deb496\",\"#dea696\",\"#dec296\",\"#debc96\",\"#dec496\",\"#debe96\",\"#dec696\",\"#decc96\",\"#dec896\",\"#de9096\",\"#de9a96\",\"#deba96\",\"#deca96\",\"#deba96\",\"#ded096\",\"#dec496\",\"#debe96\",\"#deb096\",\"#debe96\",\"#debe96\",\"#debe96\",\"#dec896\",\"#dec096\",\"#deb096\",\"#deb496\",\"#deba96\",\"#deca96\",\"#deaa96\",\"#dec296\",\"#dec896\",\"#ded096\",\"#dec496\",\"#de7a96\",\"#deb496\",\"#decc96\",\"#deca96\",\"#deb496\",\"#deae96\",\"#deae96\",\"#dec696\",\"#ded096\",\"#ded096\",\"#deb296\",\"#dec296\",\"#dec296\",\"#deb696\",\"#deba96\",\"#dea696\",\"#dec896\",\"#dec696\",\"#deb496\",\"#de8a96\",\"#dea496\",\"#dece96\",\"#dece96\",\"#debc96\",\"#dec896\",\"#deba96\",\"#de8c96\",\"#deae96\",\"#decc96\",\"#debe96\",\"#dece96\",\"#deb096\",\"#dec096\",\"#dea096\",\"#dec896\",\"#dece96\",\"#debe96\",\"#dec896\",\"#dece96\",\"#deb896\",\"#deca96\",\"#dec896\",\"#deaa96\",\"#dea696\",\"#deba96\",\"#debe96\",\"#deb496\",\"#deb896\",\"#ded296\",\"#deb296\",\"#deb896\",\"#deb696\",\"#dec696\",\"#deb096\",\"#dec496\",\"#deba96\",\"#dec896\",\"#dec896\",\"#de9c96\",\"#dec896\",\"#deca96\",\"#dece96\",\"#debe96\",\"#dec296\",\"#dec296\",\"#de6096\",\"#deb296\",\"#deba96\",\"#decc96\",\"#de9e96\",\"#deb696\",\"#deb896\",\"#dec496\",\"#deb696\",\"#debc96\",\"#dec696\",\"#debc96\",\"#debe96\",\"#deac96\",\"#debe96\",\"#dec296\",\"#de7c96\",\"#decc96\",\"#deb496\",\"#deb096\",\"#dec296\",\"#dea496\",\"#deb496\",\"#deb096\",\"#dec496\",\"#dec296\",\"#de7696\",\"#deae96\",\"#deb896\",\"#deba96\",\"#ded096\",\"#deb696\",\"#deb496\",\"#dec096\",\"#dec096\",\"#debe96\",\"#decc96\",\"#dec096\",\"#dec496\",\"#dec496\",\"#dec496\",\"#dece96\",\"#dec896\",\"#debc96\",\"#deb696\",\"#deb096\",\"#dec696\",\"#dec696\",\"#dec696\",\"#deba96\",\"#deca96\",\"#de9296\",\"#deb096\",\"#deca96\",\"#deba96\",\"#dec296\",\"#de9a96\",\"#de9c96\",\"#dea496\",\"#debe96\",\"#deb696\",\"#deba96\",\"#dec296\",\"#debe96\",\"#debe96\",\"#dec096\",\"#dea096\",\"#dec696\",\"#deb296\",\"#de9c96\",\"#dec296\",\"#dec896\",\"#deaa96\",\"#dec696\",\"#deb496\",\"#deac96\",\"#dec296\",\"#de9096\",\"#debe96\",\"#dec896\",\"#debc96\",\"#dec496\",\"#de9a96\",\"#deac96\",\"#debe96\",\"#dece96\",\"#dec096\",\"#dec896\",\"#dec696\",\"#deb896\",\"#dec896\",\"#de5c96\",\"#dec696\",\"#deb896\",\"#deb696\",\"#decc96\",\"#deb096\",\"#deb896\",\"#dec096\",\"#deb496\",\"#dcc096\",\"#dcbe96\",\"#dccc96\",\"#dcb896\",\"#dcc496\",\"#dc9296\",\"#dcc096\",\"#dcb896\",\"#dcca96\",\"#dcca96\",\"#dcce96\",\"#dcbc96\",\"#dcc896\",\"#dcbc96\",\"#dcc096\",\"#dca296\",\"#dccc96\",\"#dcac96\",\"#dcca96\",\"#dcce96\",\"#dcc296\",\"#dccc96\",\"#dcca96\",\"#dcc296\",\"#dcb096\",\"#dcaa96\",\"#dcca96\",\"#dcc096\",\"#dcc296\",\"#dca096\",\"#dcbe96\",\"#dcbc96\",\"#dcc096\",\"#dcce96\",\"#dcb696\",\"#dc9e96\",\"#dcbe96\",\"#dc7696\",\"#dcc096\",\"#dcae96\",\"#dc7096\",\"#dcce96\",\"#dcca96\",\"#dcae96\",\"#dcb096\",\"#dcca96\",\"#dc9696\",\"#dcc896\",\"#dcb096\",\"#dc8296\",\"#dca896\",\"#dccc96\",\"#dcc296\",\"#dcd496\",\"#dcbe96\",\"#dc8696\",\"#dcac96\",\"#dcb896\",\"#dcbe96\",\"#dcc696\",\"#dcb696\",\"#dcc296\",\"#dcc296\",\"#dcc896\",\"#dcc696\",\"#dcba96\",\"#dcca96\",\"#dcc696\",\"#dcaa96\",\"#dcc696\",\"#dcbc96\",\"#dccc96\",\"#dcca96\",\"#dcc696\",\"#dcc096\",\"#dcae96\",\"#dcc696\",\"#dca096\",\"#dcc696\",\"#dcc496\",\"#dc9696\",\"#dcc096\",\"#dc7096\",\"#dcb896\",\"#dca096\",\"#dcb496\",\"#dcc896\",\"#dccc96\",\"#dcbe96\",\"#dcc896\",\"#dcb496\",\"#dcb496\",\"#dcb096\",\"#dcbe96\",\"#dc9a96\",\"#dcac96\",\"#dcae96\",\"#dccc96\",\"#dccc96\",\"#dcca96\",\"#dcc096\",\"#dcc896\",\"#dc9c96\",\"#dcc496\",\"#dcbe96\",\"#dcb696\",\"#dcba96\",\"#dcb296\",\"#dcb096\",\"#dcc496\",\"#dccc96\",\"#dccc96\",\"#dcc296\",\"#dccc96\",\"#dcc496\",\"#dcca96\",\"#dcb296\",\"#dcc696\",\"#dcc096\",\"#dc7e96\",\"#dcba96\",\"#dcc896\",\"#dcae96\",\"#dcbe96\",\"#dcba96\",\"#dcce96\",\"#dcb496\",\"#dcc296\",\"#dcc696\",\"#dcca96\",\"#dcbc96\",\"#dcb496\",\"#dcc096\",\"#dcc896\",\"#dcc896\",\"#dcb896\",\"#dcbe96\",\"#dcb896\",\"#dcbe96\",\"#dcc896\",\"#dcd096\",\"#dcba96\",\"#dcae96\",\"#dca896\",\"#dcca96\",\"#dcc496\",\"#dcc896\",\"#dcb696\",\"#dcb696\",\"#dcb496\",\"#dcca96\",\"#dcc896\",\"#dcc296\",\"#dcce96\",\"#dca896\",\"#dcd096\",\"#dcaa96\",\"#dcba96\",\"#dcc496\",\"#dcac96\",\"#dcc896\",\"#dcc896\",\"#dcce96\",\"#dcb896\",\"#dcca96\",\"#dcb296\",\"#dcae96\",\"#dcae96\",\"#dcc096\",\"#dcbe96\",\"#dcb096\",\"#dcae96\",\"#dcbe96\",\"#dcc696\",\"#dcaa96\",\"#dcb496\",\"#dcbc96\",\"#dcbc96\",\"#dcb696\",\"#dcc696\",\"#dcd096\",\"#dcaa96\",\"#dcbe96\",\"#dcb896\",\"#dcaa96\",\"#dcc496\",\"#dcbe96\",\"#dcac96\",\"#dcac96\",\"#dcc696\",\"#dcc896\",\"#dccc96\",\"#dcbc96\",\"#dcb496\",\"#dcc296\",\"#dcbc96\",\"#dcc296\",\"#dcc896\",\"#dcd096\",\"#dca896\",\"#dcbc96\",\"#dc9896\",\"#dcb696\",\"#dcb496\",\"#dcaa96\",\"#dcd096\",\"#dcc696\",\"#dcc696\",\"#dcb696\",\"#dcc496\",\"#dcae96\",\"#dcbe96\",\"#dcca96\",\"#dcc896\",\"#dc9c96\",\"#dcc096\",\"#dc9696\",\"#dcc896\",\"#dcc696\",\"#dccc96\",\"#dca496\",\"#dcc896\",\"#dcc496\",\"#dcb896\",\"#dca896\",\"#dcbc96\",\"#dcb296\",\"#dc8296\",\"#dcb296\",\"#dcc296\",\"#dcc096\",\"#dcbc96\",\"#dcb496\",\"#dcb496\",\"#dcb096\",\"#dcc696\",\"#dc9e96\",\"#dc7496\",\"#dcb896\",\"#dcc096\",\"#dcc696\",\"#dcd096\",\"#dcac96\",\"#dcac96\",\"#dcc496\",\"#dcb696\",\"#dcae96\",\"#dcb696\",\"#dccc96\",\"#dcc896\",\"#dcc296\",\"#dcc496\",\"#dcc496\",\"#dcbe96\",\"#dcaa96\",\"#dc9696\",\"#dca296\",\"#dcbc96\",\"#dcbc96\",\"#dcc496\",\"#dcc096\",\"#dcc496\",\"#dcb096\",\"#dcc896\",\"#dcc496\",\"#dcc496\",\"#dcb296\",\"#dcbc96\",\"#dcc096\",\"#dcbc96\",\"#dcb696\",\"#dcc696\",\"#dcc496\",\"#dcb896\",\"#dcca96\",\"#dc9696\",\"#dc9096\",\"#dca096\",\"#dcca96\",\"#dcd096\",\"#dcb096\",\"#dcca96\",\"#dcb496\",\"#dcaa96\",\"#dca696\",\"#dcc496\",\"#dcbe96\",\"#dcaa96\",\"#dcc496\",\"#dcb896\",\"#dcc896\",\"#dcca96\",\"#dcc296\",\"#dcbe96\",\"#dcb296\",\"#dcc696\",\"#dcb096\",\"#dc9c96\",\"#dcc096\",\"#dcc696\",\"#dcb896\",\"#dcbc96\",\"#dcbe96\",\"#dcc496\",\"#dcbe96\",\"#dcbc96\",\"#dcb696\",\"#dcb096\",\"#dcb496\",\"#dcbe96\",\"#dcc896\",\"#dcb896\",\"#dcb896\",\"#dcb896\",\"#dcae96\",\"#dcca96\",\"#dcca96\",\"#dcba96\",\"#dcc096\",\"#dcc296\",\"#dcc896\",\"#dcc896\",\"#dcae96\",\"#dc8096\",\"#dc7e96\",\"#dccc96\",\"#dca896\",\"#dcb296\",\"#dcbe96\",\"#dcc496\",\"#dcbe96\",\"#dcba96\",\"#dcb696\",\"#dcbc96\",\"#dcc696\",\"#dcca96\",\"#dcbe96\",\"#dcc296\",\"#dc8c96\",\"#dcc096\",\"#dc9896\",\"#dcbc96\",\"#dc8e96\",\"#dc4296\",\"#dcc296\",\"#dcae96\",\"#dca896\",\"#dcbc96\",\"#dcba96\",\"#dc8296\",\"#dcb096\",\"#dcba96\",\"#dcae96\",\"#dcc496\",\"#dcac96\",\"#dcb696\",\"#dcc896\",\"#dcc896\",\"#dcb496\",\"#dcbc96\",\"#dca296\",\"#dcc896\",\"#dcb696\",\"#dc9696\",\"#dcc096\",\"#dcc696\",\"#dca496\",\"#dcc096\",\"#dcae96\",\"#dcb696\",\"#dcbc96\",\"#dc7a96\",\"#dcc096\",\"#dcc096\",\"#dccc96\",\"#dcc696\",\"#dcb296\",\"#dcb896\",\"#dcbe96\",\"#dcb896\",\"#dcac96\",\"#dac096\",\"#dace96\",\"#dab696\",\"#da8096\",\"#daca96\",\"#daca96\",\"#dac096\",\"#dabe96\",\"#dab496\",\"#da8e96\",\"#daba96\",\"#dace96\",\"#dabe96\",\"#dac296\",\"#dac096\",\"#da9a96\",\"#daba96\",\"#daba96\",\"#daba96\",\"#dabc96\",\"#dacc96\",\"#dad096\",\"#dab696\",\"#dab696\",\"#dac296\",\"#da8696\",\"#dab696\",\"#dac296\",\"#dabe96\",\"#dab296\",\"#dabe96\",\"#dacc96\",\"#dac696\",\"#dac496\",\"#da9e96\",\"#dac696\",\"#dab696\",\"#daba96\",\"#dac896\",\"#dab696\",\"#dabc96\",\"#dabe96\",\"#dac696\",\"#dabe96\",\"#dab896\",\"#dac896\",\"#dab896\",\"#dab896\",\"#daba96\",\"#dac896\",\"#dac096\",\"#dabe96\",\"#dab696\",\"#dabe96\",\"#daa896\",\"#dab296\",\"#dad096\",\"#daaa96\",\"#dab896\",\"#dab696\",\"#daca96\",\"#dac096\",\"#da8c96\",\"#dabc96\",\"#daba96\",\"#dac296\",\"#dab296\",\"#daba96\",\"#daca96\",\"#dace96\",\"#daba96\",\"#dab696\",\"#da8696\",\"#da8896\",\"#dac496\",\"#dacc96\",\"#daba96\",\"#dac096\",\"#dad096\",\"#dab896\",\"#daba96\",\"#dabe96\",\"#daba96\",\"#dac296\",\"#da9896\",\"#dab296\",\"#daae96\",\"#da8096\",\"#dac496\",\"#dab496\",\"#dacc96\",\"#dac096\",\"#dad696\",\"#dad096\",\"#dabc96\",\"#dabe96\",\"#da7896\",\"#dab896\",\"#dac696\",\"#dac496\",\"#daa696\",\"#dab496\",\"#daa496\",\"#dac896\",\"#dabc96\",\"#daba96\",\"#da9896\",\"#dabe96\",\"#daca96\",\"#daa696\",\"#dab696\",\"#dac296\",\"#daac96\",\"#dab696\",\"#dab296\",\"#dad096\",\"#dac696\",\"#dac496\",\"#dab296\",\"#daca96\",\"#dac696\",\"#da7896\",\"#daaa96\",\"#dac496\",\"#da9e96\",\"#dab096\",\"#dab296\",\"#dab896\",\"#daba96\",\"#dabe96\",\"#dac096\",\"#dab096\",\"#dabc96\",\"#dac696\",\"#da9696\",\"#dabc96\",\"#dac696\",\"#dabe96\",\"#dac096\",\"#dac696\",\"#daba96\",\"#dabe96\",\"#dac696\",\"#dace96\",\"#dacc96\",\"#dabe96\",\"#daac96\",\"#da8496\",\"#daba96\",\"#dabe96\",\"#da9a96\",\"#da9496\",\"#da8696\",\"#dab096\",\"#da9096\",\"#dac696\",\"#dab096\",\"#dac296\",\"#dac296\",\"#dacc96\",\"#dac296\",\"#daae96\",\"#dabc96\",\"#dab296\",\"#daae96\",\"#daaa96\",\"#da7096\",\"#dab096\",\"#da9a96\",\"#dabc96\",\"#dabc96\",\"#dab296\",\"#dac896\",\"#daa096\",\"#dac696\",\"#daba96\",\"#daaa96\",\"#dab296\",\"#dab696\",\"#da9496\",\"#dabe96\",\"#daae96\",\"#dac896\",\"#dabe96\",\"#daa696\",\"#dab096\",\"#dac096\",\"#dab096\",\"#daba96\",\"#daae96\",\"#dad496\",\"#daba96\",\"#dac896\",\"#dabe96\",\"#da9e96\",\"#dab696\",\"#dac696\",\"#dacc96\",\"#dabc96\",\"#daac96\",\"#dab896\",\"#dacc96\",\"#dacc96\",\"#dace96\",\"#dac696\",\"#dac296\",\"#dab896\",\"#da9696\",\"#daa496\",\"#dac896\",\"#daba96\",\"#daae96\",\"#dabc96\",\"#dacc96\",\"#dac896\",\"#da8e96\",\"#dabc96\",\"#dabe96\",\"#dabc96\",\"#daa296\",\"#da9296\",\"#dabc96\",\"#daa296\",\"#dab696\",\"#dabc96\",\"#dac496\",\"#dac296\",\"#dabc96\",\"#dabe96\",\"#da9896\",\"#da9896\",\"#dac896\",\"#dac096\",\"#dac896\",\"#dab896\",\"#dace96\",\"#dacc96\",\"#dab896\",\"#dac496\",\"#daba96\",\"#dab096\",\"#dab696\",\"#daca96\",\"#dab496\",\"#dac896\",\"#da5c96\",\"#dac296\",\"#dabe96\",\"#daba96\",\"#dac096\",\"#dab296\",\"#dac096\",\"#dac296\",\"#dab896\",\"#dab496\",\"#daae96\",\"#dac496\",\"#dace96\",\"#dabc96\",\"#dad096\",\"#dac696\",\"#dab696\",\"#daba96\",\"#dab896\",\"#daa896\",\"#dac696\",\"#dac296\",\"#daca96\",\"#daca96\",\"#dab096\",\"#dad496\",\"#dad096\",\"#dac896\",\"#dab496\",\"#dab896\",\"#dac696\",\"#dac496\",\"#dac096\",\"#da7a96\",\"#dac696\",\"#dace96\",\"#dacc96\",\"#daae96\",\"#daba96\",\"#daa896\",\"#dab896\",\"#daba96\",\"#dab296\",\"#dac496\",\"#dac096\",\"#dabe96\",\"#dac696\",\"#dac096\",\"#daca96\",\"#dac496\",\"#dabe96\",\"#dab296\",\"#dac496\",\"#dacc96\",\"#dab696\",\"#dac896\",\"#dab696\",\"#dab896\",\"#da9e96\",\"#dab496\",\"#dac096\",\"#dab896\",\"#daae96\",\"#dac096\",\"#dac096\",\"#daaa96\",\"#dabc96\",\"#dab896\",\"#da9296\",\"#dac096\",\"#dace96\",\"#dabe96\",\"#dabc96\",\"#dab096\",\"#dac896\",\"#dac096\",\"#daba96\",\"#dab896\",\"#da9e96\",\"#dac496\",\"#dab696\",\"#dac896\",\"#dac896\",\"#dab496\",\"#dac496\",\"#da9c96\",\"#dacc96\",\"#dacc96\",\"#da8e96\",\"#daaa96\",\"#dabe96\",\"#dac896\",\"#da9296\",\"#dac296\",\"#daaa96\",\"#daba96\",\"#da9696\",\"#dab296\",\"#daba96\",\"#dac496\",\"#dac496\",\"#dac496\",\"#dad096\",\"#da7496\",\"#dabe96\",\"#dab096\",\"#dac096\",\"#daa896\",\"#da7296\",\"#dac496\",\"#dac096\",\"#dab296\",\"#dacc96\",\"#dab696\",\"#dab096\",\"#da9a96\",\"#dace96\",\"#daaa96\",\"#daae96\",\"#dac896\",\"#dab696\",\"#dacc96\",\"#dac296\",\"#dabc96\",\"#da9896\",\"#da9e96\",\"#dab496\",\"#dabe96\",\"#dab896\",\"#dac896\",\"#daba96\",\"#dab496\",\"#dabe96\",\"#dac296\",\"#dab696\",\"#dac696\",\"#da8e96\",\"#dab696\",\"#dac696\",\"#dabe96\",\"#dad296\",\"#dab296\",\"#daba96\",\"#da7696\",\"#da9a96\",\"#dac896\",\"#dab696\",\"#da6496\",\"#dad696\",\"#daac96\",\"#daa696\",\"#dac296\",\"#dab896\",\"#dab096\",\"#dad496\",\"#dab896\",\"#da8696\",\"#dad296\",\"#dab896\",\"#dac496\",\"#dabe96\",\"#dab696\",\"#daba96\",\"#dac296\",\"#da6e96\",\"#dabc96\",\"#dabc96\",\"#dab496\",\"#dab896\",\"#dac696\",\"#daba96\",\"#dab696\",\"#daa696\",\"#dab496\",\"#daac96\",\"#dacc96\",\"#dab696\",\"#dac696\",\"#daa696\",\"#dac696\",\"#dac296\",\"#dac896\",\"#daae96\",\"#dac096\",\"#d8b896\",\"#d8ca96\",\"#d8cc96\",\"#d8b496\",\"#d8c496\",\"#d8c296\",\"#d8b896\",\"#d8c696\",\"#d8a896\",\"#d8b496\",\"#d8be96\",\"#d88096\",\"#d8b096\",\"#d8b496\",\"#d8b496\",\"#d8b096\",\"#d8c696\",\"#d8ae96\",\"#d86e96\",\"#d8c896\",\"#d8bc96\",\"#d8bc96\",\"#d8c296\",\"#d8a696\",\"#d8d496\",\"#d8c296\",\"#d8ca96\",\"#d8b496\",\"#d8ac96\",\"#d8ca96\",\"#d8cc96\",\"#d8b896\",\"#d8cc96\",\"#d8ba96\",\"#d8c696\",\"#d8ba96\",\"#d8d096\",\"#d8c296\",\"#d8c496\",\"#d8b496\",\"#d8b496\",\"#d8ca96\",\"#d8ce96\",\"#d8ac96\",\"#d8c296\",\"#d8ac96\",\"#d8b896\",\"#d8c096\",\"#d89496\",\"#d8d896\",\"#d8c896\",\"#d8c296\",\"#d8ba96\",\"#d8be96\",\"#d8c296\",\"#d8b896\",\"#d8b696\",\"#d8b296\",\"#d8c296\",\"#d8b096\",\"#d8a096\",\"#d8c096\",\"#d8a496\",\"#d8c896\",\"#d86096\",\"#d8c096\",\"#d8a896\",\"#d8c696\",\"#d8c496\",\"#d8b096\",\"#d8c296\",\"#d8c896\",\"#d8c896\",\"#d8c696\",\"#d8a696\",\"#d8b496\",\"#d8c096\",\"#d88496\",\"#d8be96\",\"#d8bc96\",\"#d8c696\",\"#d8c296\",\"#d89c96\",\"#d8ce96\",\"#d8c696\",\"#d8bc96\",\"#d8c096\",\"#d8b896\",\"#d8c096\",\"#d8ae96\",\"#d8b696\",\"#d8b696\",\"#d8e096\",\"#d8b696\",\"#d8a896\",\"#d8a296\",\"#d8c296\",\"#d8be96\",\"#d8c896\",\"#d89c96\",\"#d8be96\",\"#d8ca96\",\"#d89296\",\"#d8b496\",\"#d8ca96\",\"#d8b096\",\"#d8be96\",\"#d8ca96\",\"#d8ce96\",\"#d8c896\",\"#d8ca96\",\"#d8b496\",\"#d8c496\",\"#d8bc96\",\"#d85e96\",\"#d8ac96\",\"#d8ae96\",\"#d8c296\",\"#d8ce96\",\"#d8ba96\",\"#d87896\",\"#d8c096\",\"#d8a896\",\"#d8ac96\",\"#d88896\",\"#d89896\",\"#d8c896\",\"#d8c696\",\"#d8ba96\",\"#d8b496\",\"#d8c896\",\"#d8be96\",\"#d8c496\",\"#d8b096\",\"#d8b296\",\"#d8c096\",\"#d8ce96\",\"#d8ca96\",\"#d8c496\",\"#d87a96\",\"#d89896\",\"#d8b896\",\"#d8aa96\",\"#d8b296\",\"#d8c096\",\"#d8b496\",\"#d8b696\",\"#d8a096\",\"#d8b496\",\"#d8ca96\",\"#d8c096\",\"#d8c896\",\"#d8ba96\",\"#d8b096\",\"#d8be96\",\"#d8ac96\",\"#d89496\",\"#d8a096\",\"#d8c496\",\"#d8cc96\",\"#d8c496\",\"#d8ae96\",\"#d8a496\",\"#d8c496\",\"#d88096\",\"#d8ac96\",\"#d8cc96\",\"#d8b696\",\"#d8ae96\",\"#d8c296\",\"#d8b296\",\"#d8d496\",\"#d8c096\",\"#d89296\",\"#d8ba96\",\"#d89696\",\"#d8be96\",\"#d8c696\",\"#d8b896\",\"#d8b696\",\"#d8aa96\",\"#d8c496\",\"#d8cc96\",\"#d8ca96\",\"#d8c096\",\"#d8c096\",\"#d8c296\",\"#d8b296\",\"#d8bc96\",\"#d8ba96\",\"#d8c696\",\"#d8c896\",\"#d8b696\",\"#d8b096\",\"#d8bc96\",\"#d8b496\",\"#d8b096\",\"#d8c696\",\"#d8ae96\",\"#d8bc96\",\"#d8ca96\",\"#d85896\",\"#d8cc96\",\"#d8c296\",\"#d8a696\",\"#d87496\",\"#d8b096\",\"#d8ca96\",\"#d88c96\",\"#d8b896\",\"#d8b496\",\"#d88896\",\"#d8be96\",\"#d8be96\",\"#d8bc96\",\"#d8c696\",\"#d89296\",\"#d8c496\",\"#d8be96\",\"#d8c096\",\"#d8cc96\",\"#d8bc96\",\"#d8c096\",\"#d8a096\",\"#d88a96\",\"#d8c296\",\"#d8b896\",\"#d8ba96\",\"#d8cc96\",\"#d8c696\",\"#d8ae96\",\"#d8c496\",\"#d8ca96\",\"#d8aa96\",\"#d8ba96\",\"#d8bc96\",\"#d8be96\",\"#d8c896\",\"#d8bc96\",\"#d8c696\",\"#d8b496\",\"#d8c096\",\"#d8ba96\",\"#d8b296\",\"#d8be96\",\"#d8b496\",\"#d8a896\",\"#d8c896\",\"#d8b696\",\"#d8b896\",\"#d87896\",\"#d8ba96\",\"#d8b696\",\"#d8c096\",\"#d8bc96\",\"#d8bc96\",\"#d8b296\",\"#d8b896\",\"#d8ca96\",\"#d89a96\",\"#d8b696\",\"#d8ba96\",\"#d8bc96\",\"#d8ba96\",\"#d8be96\",\"#d8ba96\",\"#d89896\",\"#d8cc96\",\"#d8a896\",\"#d8c696\",\"#d89296\",\"#d8b896\",\"#d8be96\",\"#d8b696\",\"#d88296\",\"#d8be96\",\"#d8c696\",\"#d8c896\",\"#d8be96\",\"#d8bc96\",\"#d8bc96\",\"#d8a896\",\"#d8bc96\",\"#d8bc96\",\"#d8ca96\",\"#d8be96\",\"#d8b896\",\"#d8c296\",\"#d8ca96\",\"#d8c096\",\"#d8a896\",\"#d8d096\",\"#d88a96\",\"#d8b096\",\"#d8c296\",\"#d8ba96\",\"#d89096\",\"#d8c896\",\"#d89296\",\"#d8c696\",\"#d8a296\",\"#d8b496\",\"#d89e96\",\"#d8b896\",\"#d8b696\",\"#d8aa96\",\"#d8a296\",\"#d8b696\",\"#d8b696\",\"#d8bc96\",\"#d84896\",\"#d8a496\",\"#d8ba96\",\"#d8b896\",\"#d8b696\",\"#d8be96\",\"#d8b296\",\"#d8c296\",\"#d8c896\",\"#d8ba96\",\"#d8b096\",\"#d8b896\",\"#d8c496\",\"#d8a896\",\"#d8d096\",\"#d8c696\",\"#d8c696\",\"#d8b696\",\"#d8cc96\",\"#d8ce96\",\"#d8b496\",\"#d87096\",\"#d88896\",\"#d89096\",\"#d8ce96\",\"#d8ba96\",\"#d8c496\",\"#d8be96\",\"#d8c496\",\"#d8b696\",\"#d8c896\",\"#d8b496\",\"#d8bc96\",\"#d8ba96\",\"#d8c496\",\"#d8a896\",\"#d8b496\",\"#d8ae96\",\"#d8ba96\",\"#d8ba96\",\"#d8b696\",\"#d8ba96\",\"#d8ba96\",\"#d8b896\",\"#d8be96\",\"#d8ba96\",\"#d8b096\",\"#d8c496\",\"#d8c296\",\"#d8b096\",\"#d8c296\",\"#d8ae96\",\"#d8aa96\",\"#d8ac96\",\"#d8ba96\",\"#d8b296\",\"#d8a496\",\"#d8be96\",\"#d8b896\",\"#d8c696\",\"#d8b896\",\"#d8c296\",\"#d8b696\",\"#d8b496\",\"#d8b696\",\"#d8be96\",\"#d88296\",\"#d8c896\",\"#d8b496\",\"#d88c96\",\"#d8b296\",\"#d8a296\",\"#d8b896\",\"#d8ba96\",\"#d8b496\",\"#d8c696\",\"#d8be96\",\"#d8ca96\",\"#d8c096\",\"#d89096\",\"#d8bc96\",\"#d8c296\",\"#d8be96\",\"#d8bc96\",\"#d8b296\",\"#d8be96\",\"#d8b896\",\"#d88e96\",\"#d8be96\",\"#d8cc96\",\"#d8ba96\",\"#d8a296\",\"#d8c496\",\"#d8c496\",\"#d8b496\",\"#d8c296\",\"#d8ce96\",\"#d8c296\",\"#d8be96\",\"#d8be96\",\"#d8c496\",\"#d8be96\",\"#d8b896\",\"#d8c896\",\"#d8c296\",\"#d8b896\",\"#d8b896\",\"#d8d096\",\"#d8c896\",\"#d8c096\",\"#d8ba96\",\"#d8d496\",\"#d8cc96\",\"#d8a096\",\"#d8b296\",\"#d8ac96\",\"#d8c296\",\"#d8b896\",\"#d8b496\",\"#d8bc96\",\"#d8c096\",\"#d8c896\",\"#d89696\",\"#d8be96\",\"#d8c696\",\"#d84e96\",\"#d8c296\",\"#d89e96\",\"#d8ae96\",\"#d8ba96\",\"#d8ca96\",\"#d8ba96\",\"#d8b096\",\"#d8ba96\",\"#d89c96\",\"#d8aa96\",\"#d8ca96\",\"#d8b496\",\"#d8b696\",\"#d8ac96\",\"#d8bc96\",\"#d8ba96\",\"#d8a296\",\"#d8ca96\",\"#d8b696\",\"#d8ba96\",\"#d8c296\",\"#d8ba96\",\"#d8ce96\",\"#d8d096\",\"#d89e96\",\"#d8d096\",\"#d8c496\",\"#d8b696\",\"#d8a696\",\"#d8be96\",\"#d8ae96\",\"#d8b496\",\"#d8a496\",\"#d89696\",\"#d8b496\",\"#d8ca96\",\"#d8c096\",\"#d8c296\",\"#d8c896\",\"#d8c896\",\"#d8c296\",\"#d8c896\",\"#d8c496\",\"#d8ca96\",\"#d8d096\",\"#d8ca96\",\"#d6bc96\",\"#d6c296\",\"#d6c896\",\"#d6a896\",\"#d6c896\",\"#d6bc96\",\"#d6ba96\",\"#d6be96\",\"#d6b896\",\"#d6ac96\",\"#d6ba96\",\"#d6b696\",\"#d6b696\",\"#d6ca96\",\"#d6cc96\",\"#d6b696\",\"#d6c496\",\"#d6cc96\",\"#d6a096\",\"#d6a896\",\"#d6ca96\",\"#d69696\",\"#d6a496\",\"#d6c296\",\"#d6c696\",\"#d6b696\",\"#d6b896\",\"#d6b496\",\"#d6be96\",\"#d67696\",\"#d6ae96\",\"#d6cc96\",\"#d6aa96\",\"#d6c296\",\"#d6c696\",\"#d6b496\",\"#d68696\",\"#d69c96\",\"#d6a896\",\"#d69c96\",\"#d6aa96\",\"#d6c496\",\"#d6ce96\",\"#d6ba96\",\"#d6b496\",\"#d6c096\",\"#d6bc96\",\"#d6b896\",\"#d69896\",\"#d6ac96\",\"#d6ba96\",\"#d6b896\",\"#d6a096\",\"#d6b696\",\"#d6c096\",\"#d6c496\",\"#d6b696\",\"#d6c296\",\"#d6be96\",\"#d6b496\",\"#d6b296\",\"#d6be96\",\"#d6bc96\",\"#d6b496\",\"#d69696\",\"#d6b096\",\"#d6ae96\",\"#d69696\",\"#d69696\",\"#d6c896\",\"#d6b496\",\"#d6bc96\",\"#d6b496\",\"#d67a96\",\"#d6b696\",\"#d6ba96\",\"#d6ca96\",\"#d6b896\",\"#d6ca96\",\"#d6cc96\",\"#d6be96\",\"#d6ac96\",\"#d6ba96\",\"#d6b096\",\"#d6c096\",\"#d6bc96\",\"#d6a496\",\"#d6c496\",\"#d6a296\",\"#d6ba96\",\"#d6bc96\",\"#d6c696\",\"#d69a96\",\"#d6b496\",\"#d6be96\",\"#d6ac96\",\"#d6ba96\",\"#d66296\",\"#d6c696\",\"#d6b896\",\"#d68696\",\"#d6c696\",\"#d6bc96\",\"#d6c496\",\"#d6b296\",\"#d6a696\",\"#d6ba96\",\"#d66e96\",\"#d6b896\",\"#d65e96\",\"#d6b496\",\"#d6b696\",\"#d6b496\",\"#d6be96\",\"#d6cc96\",\"#d6c096\",\"#d6bc96\",\"#d6c096\",\"#d6b496\",\"#d69e96\",\"#d6b496\",\"#d6be96\",\"#d6c696\",\"#d6cc96\",\"#d6bc96\",\"#d6ac96\",\"#d69696\",\"#d6b096\",\"#d6ba96\",\"#d6ca96\",\"#d6a096\",\"#d6aa96\",\"#d6c496\",\"#d6be96\",\"#d6bc96\",\"#d6c696\",\"#d6ae96\",\"#d6b696\",\"#d6ca96\",\"#d69496\",\"#d6ba96\",\"#d6c696\",\"#d6b496\",\"#d6c296\",\"#d6a296\",\"#d6c496\",\"#d6ba96\",\"#d6ca96\",\"#d6b896\",\"#d68c96\",\"#d6ac96\",\"#d69496\",\"#d6c496\",\"#d6cc96\",\"#d6c496\",\"#d6ac96\",\"#d6a296\",\"#d6cc96\",\"#d6ba96\",\"#d6a296\",\"#d6ae96\",\"#d6c696\",\"#d6bc96\",\"#d6c096\",\"#d6bc96\",\"#d6ca96\",\"#d69296\",\"#d6ba96\",\"#d6c696\",\"#d6a696\",\"#d6ce96\",\"#d6b896\",\"#d6c096\",\"#d6c696\",\"#d6a296\",\"#d6c896\",\"#d69696\",\"#d6c096\",\"#d6b696\",\"#d6be96\",\"#d6bc96\",\"#d6ba96\",\"#d6be96\",\"#d6bc96\",\"#d6c896\",\"#d6c096\",\"#d6b296\",\"#d6b896\",\"#d6ca96\",\"#d6c496\",\"#d68a96\",\"#d6c896\",\"#d6d096\",\"#d6bc96\",\"#d6b096\",\"#d6ca96\",\"#d6cc96\",\"#d6ce96\",\"#d6be96\",\"#d6a496\",\"#d6ba96\",\"#d6c096\",\"#d69896\",\"#d65a96\",\"#d6a496\",\"#d6c696\",\"#d6ba96\",\"#d6ae96\",\"#d6bc96\",\"#d6bc96\",\"#d6c496\",\"#d6bc96\",\"#d6b096\",\"#d6ba96\",\"#d6c296\",\"#d6c296\",\"#d6c496\",\"#d6c496\",\"#d6b296\",\"#d6b896\",\"#d6b296\",\"#d6c496\",\"#d6b496\",\"#d6b496\",\"#d6ac96\",\"#d6b896\",\"#d69e96\",\"#d6c496\",\"#d6c896\",\"#d6c296\",\"#d6ac96\",\"#d69c96\",\"#d67a96\",\"#d67696\",\"#d6aa96\",\"#d6c096\",\"#d6be96\",\"#d6cc96\",\"#d6b696\",\"#d6b896\",\"#d6ac96\",\"#d6c696\",\"#d6aa96\",\"#d6be96\",\"#d6c496\",\"#d6bc96\",\"#d6c096\",\"#d6be96\",\"#d66e96\",\"#d6be96\",\"#d69a96\",\"#d68496\",\"#d6c296\",\"#d6c096\",\"#d6b296\",\"#d6c696\",\"#d6ce96\",\"#d69e96\",\"#d6be96\",\"#d6bc96\",\"#d6a496\",\"#d69a96\",\"#d6c896\",\"#d6b096\",\"#d6c896\",\"#d6d096\",\"#d6a896\",\"#d6c496\",\"#d6b296\",\"#d6d296\",\"#d6a496\",\"#d6ba96\",\"#d6be96\",\"#d6b896\",\"#d6ca96\",\"#d6be96\",\"#d6c296\",\"#d6ac96\",\"#d6b096\",\"#d6c696\",\"#d69c96\",\"#d6a896\",\"#d6ce96\",\"#d6ae96\",\"#d6a296\",\"#d6ae96\",\"#d6b696\",\"#d6b696\",\"#d6bc96\",\"#d6c696\",\"#d6ca96\",\"#d6c096\",\"#d6c696\",\"#d6c496\",\"#d66896\",\"#d6b296\",\"#d66096\",\"#d6aa96\",\"#d69296\",\"#d6be96\",\"#d6c096\",\"#d6c096\",\"#d6c296\",\"#d6be96\",\"#d6c696\",\"#d6c296\",\"#d6bc96\",\"#d6b296\",\"#d6b896\",\"#d6c496\",\"#d6b896\",\"#d6d096\",\"#d6c096\",\"#d6c296\",\"#d6ca96\",\"#d6ae96\",\"#d6c096\",\"#d6b296\",\"#d6a296\",\"#d6c096\",\"#d6ae96\",\"#d6b896\",\"#d6c696\",\"#d6be96\",\"#d6c896\",\"#d6ae96\",\"#d6b296\",\"#d67e96\",\"#d6c096\",\"#d6b896\",\"#d6b496\",\"#d6c296\",\"#d6ae96\",\"#d6c096\",\"#d6ac96\",\"#d6bc96\",\"#d6ac96\",\"#d6bc96\",\"#d6b896\",\"#d6c496\",\"#d6a296\",\"#d6a296\",\"#d6aa96\",\"#d6aa96\",\"#d6c296\",\"#d6bc96\",\"#d6c696\",\"#d69496\",\"#d64a96\",\"#d6c296\",\"#d6ae96\",\"#d6c096\",\"#d6b696\",\"#d6b696\",\"#d6b896\",\"#d6c696\",\"#d6c896\",\"#d6cc96\",\"#d6b696\",\"#d6ae96\",\"#d6bc96\",\"#d6be96\",\"#d69a96\",\"#d6b496\",\"#d6c496\",\"#d6be96\",\"#d6b896\",\"#d6c896\",\"#d6b896\",\"#d66896\",\"#d6b896\",\"#d6c296\",\"#d6c896\",\"#d6c296\",\"#d6b496\",\"#d6be96\",\"#d6be96\",\"#d6b296\",\"#d6b496\",\"#d6cc96\",\"#d6ca96\",\"#d6c296\",\"#d6ca96\",\"#d6bc96\",\"#d6ac96\",\"#d6b296\",\"#d6c496\",\"#d6b896\",\"#d6b296\",\"#d69a96\",\"#d69096\",\"#d6c896\",\"#d6bc96\",\"#d6c696\",\"#d6c096\",\"#d6b696\",\"#d69c96\",\"#d67896\",\"#d6ca96\",\"#d6b296\",\"#d6bc96\",\"#d6c896\",\"#d6ca96\",\"#d67e96\",\"#d6a296\",\"#d6b296\",\"#d6c496\",\"#d6c496\",\"#d69696\",\"#d69896\",\"#d6c496\",\"#d6c496\",\"#d6be96\",\"#d6cc96\",\"#d6ae96\",\"#d6c296\",\"#d6b296\",\"#d6c296\",\"#d6ba96\",\"#d6ce96\",\"#d6c496\",\"#d6ca96\",\"#d6bc96\",\"#d6b896\",\"#d6a896\",\"#d6b696\",\"#d6c496\",\"#d6c696\",\"#d6aa96\",\"#d6ce96\",\"#d6ae96\",\"#d6a696\",\"#d6ac96\",\"#d6c896\",\"#d6ac96\",\"#d6b096\",\"#d6c696\",\"#d6ba96\",\"#d6aa96\",\"#d6be96\",\"#d69a96\",\"#d6ca96\",\"#d6b696\",\"#d6c096\",\"#d6c696\",\"#d6c896\",\"#d6c896\",\"#d6c896\",\"#d6b896\",\"#d6b896\",\"#d65896\",\"#d65296\",\"#d6bc96\",\"#d6ba96\",\"#d6a296\",\"#d6c696\",\"#d6b896\",\"#d6c896\",\"#d6ba96\",\"#d6b496\",\"#d6a896\",\"#d6b096\",\"#d6b096\",\"#d6b696\",\"#d6b496\",\"#d6c496\",\"#d69696\",\"#d6c896\",\"#d68096\",\"#d6ae96\",\"#d6c096\",\"#d6b096\",\"#d6c096\",\"#d65496\",\"#d6b496\",\"#d6c496\",\"#d69e96\",\"#d6ca96\",\"#d6b696\",\"#d6c896\",\"#d6c096\",\"#d6c096\",\"#d6b296\",\"#d6b696\",\"#d6c296\",\"#d6c096\",\"#d6b896\",\"#d6c696\",\"#d6b096\",\"#d6b096\",\"#d6d696\",\"#d6be96\",\"#d6b696\",\"#d6bc96\",\"#d6b096\",\"#d6a096\",\"#d6c896\",\"#d6c696\",\"#d69296\",\"#d6b896\",\"#d6c496\",\"#d6c496\",\"#d6c496\",\"#d6bc96\",\"#d6c296\",\"#d67c96\",\"#d67696\",\"#d6c496\",\"#d6c496\",\"#d6ce96\",\"#d6a296\",\"#d6c896\",\"#d69c96\",\"#d69296\",\"#d6c296\",\"#d6b296\",\"#d6c096\",\"#d68e96\",\"#d68e96\",\"#d6ae96\",\"#d6be96\",\"#d6c296\",\"#d6c696\",\"#d6ca96\",\"#d6aa96\",\"#d6ce96\",\"#d6ba96\",\"#d6a896\",\"#d6b896\",\"#d6ac96\",\"#d6cc96\",\"#d6bc96\",\"#d6bc96\",\"#d6cc96\",\"#d6ce96\",\"#d6aa96\",\"#d6a296\",\"#d6b096\",\"#d6bc96\",\"#d69296\",\"#d6b496\",\"#d6b896\",\"#d6c496\",\"#d6b496\",\"#d6b296\",\"#d6bc96\",\"#d6c096\",\"#d6c496\",\"#d6c896\",\"#d69296\",\"#d6b696\",\"#d6c896\",\"#d6cc96\",\"#d4b296\",\"#d4c896\",\"#d4b496\",\"#d4c096\",\"#d4c096\",\"#d4c096\",\"#d4c496\",\"#d4b296\",\"#d4b696\",\"#d4be96\",\"#d4aa96\",\"#d4d096\",\"#d4b096\",\"#d4c096\",\"#d4c096\",\"#d49e96\",\"#d4c696\",\"#d4b096\",\"#d49696\",\"#d4c296\",\"#d4b696\",\"#d4a296\",\"#d4bc96\",\"#d4a696\",\"#d4b696\",\"#d49a96\",\"#d4a696\",\"#d4c296\",\"#d4a896\",\"#d4b296\",\"#d4a696\",\"#d4b696\",\"#d4c296\",\"#d4b096\",\"#d49e96\",\"#d49896\",\"#d4a096\",\"#d4c896\",\"#d4a296\",\"#d4d096\",\"#d49696\",\"#d4a096\",\"#d4aa96\",\"#d4ba96\",\"#d4b896\",\"#d4bc96\",\"#d4bc96\",\"#d4c096\",\"#d4c696\",\"#d4c096\",\"#d4b896\",\"#d49296\",\"#d4b896\",\"#d4b496\",\"#d4b896\",\"#d4ce96\",\"#d49896\",\"#d4ba96\",\"#d4cc96\",\"#d4c696\",\"#d4ba96\",\"#d4ac96\",\"#d4ca96\",\"#d49096\",\"#d4b096\",\"#d4c296\",\"#d4c096\",\"#d4be96\",\"#d4b696\",\"#d4a896\",\"#d4b696\",\"#d4b896\",\"#d4cc96\",\"#d4d096\",\"#d4ce96\",\"#d4ae96\",\"#d4c696\",\"#d4b896\",\"#d4b696\",\"#d4c496\",\"#d4c496\",\"#d4c296\",\"#d4ac96\",\"#d4be96\",\"#d4b496\",\"#d4ce96\",\"#d4bc96\",\"#d4be96\",\"#d4bc96\",\"#d4c896\",\"#d49896\",\"#d49c96\",\"#d47a96\",\"#d4a896\",\"#d4b496\",\"#d49c96\",\"#d4be96\",\"#d47e96\",\"#d4e096\",\"#d4c696\",\"#d4c096\",\"#d4bc96\",\"#d4ba96\",\"#d4c096\",\"#d4b696\",\"#d4ae96\",\"#d4be96\",\"#d4ac96\",\"#d4ba96\",\"#d4ce96\",\"#d4c696\",\"#d4c296\",\"#d4b096\",\"#d4bc96\",\"#d4bc96\",\"#d4c496\",\"#d4bc96\",\"#d4a496\",\"#d4ac96\",\"#d4c096\",\"#d4b296\",\"#d4ba96\",\"#d4c896\",\"#d4a696\",\"#d48c96\",\"#d47a96\",\"#d4c096\",\"#d4bc96\",\"#d4b296\",\"#d4c896\",\"#d4b696\",\"#d4cc96\",\"#d4b496\",\"#d4ba96\",\"#d4c896\",\"#d4b496\",\"#d4c496\",\"#d4a896\",\"#d4b496\",\"#d4aa96\",\"#d4ba96\",\"#d4c296\",\"#d47a96\",\"#d4bc96\",\"#d49c96\",\"#d4be96\",\"#d4ca96\",\"#d4be96\",\"#d4b696\",\"#d4c096\",\"#d4bc96\",\"#d4b496\",\"#d4ce96\",\"#d4c296\",\"#d4ba96\",\"#d4ca96\",\"#d4b896\",\"#d4ae96\",\"#d4c096\",\"#d4b296\",\"#d49496\",\"#d4bc96\",\"#d49e96\",\"#d4c296\",\"#d4c096\",\"#d4c896\",\"#d4bc96\",\"#d4be96\",\"#d4c896\",\"#d4ca96\",\"#d4c496\",\"#d4be96\",\"#d4c096\",\"#d4ae96\",\"#d4b696\",\"#d4a896\",\"#d4aa96\",\"#d4bc96\",\"#d4b496\",\"#d4ca96\",\"#d4be96\",\"#d4ae96\",\"#d4b696\",\"#d4b696\",\"#d4ba96\",\"#d4b696\",\"#d45a96\",\"#d4b496\",\"#d4bc96\",\"#d4ae96\",\"#d4c896\",\"#d4bc96\",\"#d49c96\",\"#d4a496\",\"#d4cc96\",\"#d4b696\",\"#d4c096\",\"#d48296\",\"#d49e96\",\"#d46a96\",\"#d4c296\",\"#d4ba96\",\"#d4c096\",\"#d4ca96\",\"#d4be96\",\"#d4cc96\",\"#d4ac96\",\"#d4ca96\",\"#d4d296\",\"#d4c296\",\"#d4b296\",\"#d4c496\",\"#d4ba96\",\"#d4b896\",\"#d4be96\",\"#d4ba96\",\"#d4b896\",\"#d4bc96\",\"#d4ae96\",\"#d4b296\",\"#d4b296\",\"#d4be96\",\"#d4ce96\",\"#d4c696\",\"#d4bc96\",\"#d4b696\",\"#d4ce96\",\"#d4cc96\",\"#d4b896\",\"#d4c096\",\"#d49c96\",\"#d4b096\",\"#d4c696\",\"#d4c896\",\"#d49896\",\"#d4be96\",\"#d4c096\",\"#d4c896\",\"#d4a496\",\"#d4c096\",\"#d4ae96\",\"#d4c696\",\"#d4c096\",\"#d48496\",\"#d4aa96\",\"#d4ba96\",\"#d4ba96\",\"#d49296\",\"#d4c896\",\"#d4c096\",\"#d4b496\",\"#d4ac96\",\"#d4a696\",\"#d4b696\",\"#d4a496\",\"#d4ac96\",\"#d4b696\",\"#d4be96\",\"#d4c696\",\"#d4a496\",\"#d4bc96\",\"#d4c096\",\"#d4b696\",\"#d4c896\",\"#d4cc96\",\"#d4ba96\",\"#d4ac96\",\"#d4c696\",\"#d4ba96\",\"#d4c296\",\"#d4c696\",\"#d4ae96\",\"#d4ac96\",\"#d45896\",\"#d4b296\",\"#d49296\",\"#d4be96\",\"#d4b496\",\"#d4b096\",\"#d4bc96\",\"#d4cc96\",\"#d4c096\",\"#d4b696\",\"#d4ae96\",\"#d4b896\",\"#d4ba96\",\"#d4c296\",\"#d4b696\",\"#d49a96\",\"#d4b096\",\"#d4ca96\",\"#d4c096\",\"#d4c896\",\"#d4c096\",\"#d4c096\",\"#d4c896\",\"#d4aa96\",\"#d4d096\",\"#d4c096\",\"#d4b296\",\"#d4cc96\",\"#d49c96\",\"#d4c296\",\"#d4c496\",\"#d4a496\",\"#d4be96\",\"#d4ba96\",\"#d49a96\",\"#d4b896\",\"#d4ca96\",\"#d4ba96\",\"#d4c296\",\"#d4aa96\",\"#d47696\",\"#d4ae96\",\"#d4b096\",\"#d4c496\",\"#d4ba96\",\"#d4c096\",\"#d48896\",\"#d4aa96\",\"#d4a696\",\"#d4ca96\",\"#d4b496\",\"#d4b296\",\"#d49c96\",\"#d4a296\",\"#d4ca96\",\"#d4ce96\",\"#d4be96\",\"#d4b696\",\"#d48a96\",\"#d4c096\",\"#d4c096\",\"#d4b696\",\"#d4b096\",\"#d4ac96\",\"#d4c896\",\"#d4ba96\",\"#d4b696\",\"#d4cc96\",\"#d4c096\",\"#d4c096\",\"#d4b096\",\"#d4bc96\",\"#d4b096\",\"#d4b296\",\"#d4aa96\",\"#d4a496\",\"#d4c096\",\"#d4ae96\",\"#d48c96\",\"#d4ac96\",\"#d4c296\",\"#d4b896\",\"#d4be96\",\"#d4ae96\",\"#d4aa96\",\"#d4c296\",\"#d4c096\",\"#d4b096\",\"#d4c096\",\"#d4b096\",\"#d4ae96\",\"#d46096\",\"#d4b296\",\"#d4c496\",\"#d4d096\",\"#d4a296\",\"#d49096\",\"#d4b896\",\"#d49e96\",\"#d4c696\",\"#d4ce96\",\"#d4a096\",\"#d4ae96\",\"#d4b696\",\"#d4cc96\",\"#d4c296\",\"#d4b696\",\"#d4aa96\",\"#d4aa96\",\"#d4ba96\",\"#d4ae96\",\"#d4c496\",\"#d4bc96\",\"#d4b896\",\"#d4a696\",\"#d49296\",\"#d4b496\",\"#d4c896\",\"#d4b296\",\"#d49096\",\"#d45096\",\"#d4c696\",\"#d4c496\",\"#d4a296\",\"#d48296\",\"#d4ac96\",\"#d4b296\",\"#d4c696\",\"#d49296\",\"#d4ba96\",\"#d4c496\",\"#d4ba96\",\"#d4ce96\",\"#d4c296\",\"#d4be96\",\"#d4a896\",\"#d4b096\",\"#d47a96\",\"#d4c896\",\"#d4aa96\",\"#d4bc96\",\"#d4ae96\",\"#d4ba96\",\"#d4bc96\",\"#d4c496\",\"#d49696\",\"#d4a696\",\"#d4a496\",\"#d4be96\",\"#d4b896\",\"#d48e96\",\"#d4b696\",\"#d4ae96\",\"#d4b696\",\"#d4c096\",\"#d4ce96\",\"#d4c496\",\"#d4b496\",\"#d4b896\",\"#d4ba96\",\"#d4c496\",\"#d4c496\",\"#d4c496\",\"#d48e96\",\"#d4a296\",\"#d4be96\",\"#d4b896\",\"#d4c296\",\"#d4d296\",\"#d4c096\",\"#d4bc96\",\"#d4b696\",\"#d4b896\",\"#d4ba96\",\"#d4bc96\",\"#d4bc96\",\"#d4be96\",\"#d4b896\",\"#d4ce96\",\"#d4a896\",\"#d4c096\",\"#d49e96\",\"#d4b696\",\"#d46e96\",\"#d4b696\",\"#d4be96\",\"#d4c096\",\"#d4c096\",\"#d4c096\",\"#d4c096\",\"#d4c296\",\"#d4cc96\",\"#d45896\",\"#d4c896\",\"#d4b296\",\"#d4ca96\",\"#d4c496\",\"#d4be96\",\"#d4ae96\",\"#d4a896\",\"#d49496\",\"#d49a96\",\"#d4b296\",\"#d4b096\",\"#d45696\",\"#d4ca96\",\"#d4bc96\",\"#d4a096\",\"#d4be96\",\"#d4ac96\",\"#d4cc96\",\"#d4ce96\",\"#d4be96\",\"#d4d096\",\"#d4b296\",\"#d4c696\",\"#d4b496\",\"#d4c696\",\"#d4b096\",\"#d4b896\",\"#d47e96\",\"#d4a096\",\"#d4b896\",\"#d49c96\",\"#d49696\",\"#d4b496\",\"#d4c696\",\"#d4c496\",\"#d4b696\",\"#d49c96\",\"#d49a96\",\"#d4b496\",\"#d4b496\",\"#d4d296\",\"#d4c896\",\"#d4c096\",\"#d4b496\",\"#d4c896\",\"#d4a496\",\"#d49696\",\"#d4ca96\",\"#d4c696\",\"#d4b896\",\"#d4cc96\",\"#d4be96\",\"#d4c496\",\"#d4c096\",\"#d4aa96\",\"#d4bc96\",\"#d4b896\",\"#d4b696\",\"#d4b296\",\"#d4a696\",\"#d4b096\",\"#d48296\",\"#d4be96\",\"#d4ae96\",\"#d4c096\",\"#d4b696\",\"#d4b696\",\"#d4b496\",\"#d4a496\",\"#d4a696\",\"#d4aa96\",\"#d4bc96\",\"#d4b096\",\"#d48a96\",\"#d4aa96\",\"#d4b896\",\"#d4aa96\",\"#d4c896\",\"#d4c496\",\"#d4c896\",\"#d4ac96\",\"#d4c696\",\"#d4b296\",\"#d4bc96\",\"#d4c296\",\"#d4ba96\",\"#d49696\",\"#d4b896\",\"#d4b496\",\"#d4c896\",\"#d4ae96\",\"#d4c496\",\"#d4ca96\",\"#d4bc96\",\"#d4ca96\",\"#d4ca96\",\"#d4c496\",\"#d4ca96\",\"#d4c096\",\"#d4ac96\",\"#d4c296\",\"#d4b896\",\"#d4b896\",\"#d4ba96\",\"#d47a96\",\"#d4ba96\",\"#d4b896\",\"#d4ce96\",\"#d4bc96\",\"#d4ba96\",\"#d4c296\",\"#d4c696\",\"#d49e96\",\"#d4cc96\",\"#d4c496\",\"#d4c696\",\"#d2b696\",\"#d2ba96\",\"#d2c296\",\"#d2c496\",\"#d26a96\",\"#d2a496\",\"#d2a296\",\"#d2c896\",\"#d2ac96\",\"#d2b696\",\"#d2c496\",\"#d2bc96\",\"#d2bc96\",\"#d2a096\",\"#d2cc96\",\"#d2c696\",\"#d28e96\",\"#d2c696\",\"#d2b296\",\"#d2b096\",\"#d2b096\",\"#d2c296\",\"#d2b896\",\"#d2b096\",\"#d2a896\",\"#d2c896\",\"#d2c096\",\"#d2b896\",\"#d2c696\",\"#d2c096\",\"#d2be96\",\"#d28c96\",\"#d2a096\",\"#d2ba96\",\"#d2be96\",\"#d2b896\",\"#d29e96\",\"#d2b096\",\"#d2c296\",\"#d2ba96\",\"#d2ba96\",\"#d2ac96\",\"#d2c496\",\"#d2bc96\",\"#d2b296\",\"#d2bc96\",\"#d2ca96\",\"#d2c896\",\"#d2b696\",\"#d2be96\",\"#d2b896\",\"#d2ac96\",\"#d2b696\",\"#d2a896\",\"#d2c696\",\"#d2d096\",\"#d2b696\",\"#d2be96\",\"#d2b696\",\"#d2c096\",\"#d2c496\",\"#d2cc96\",\"#d2c896\",\"#d29e96\",\"#d2ba96\",\"#d2c696\",\"#d2a096\",\"#d28a96\",\"#d2a096\",\"#d28696\",\"#d2b096\",\"#d2c496\",\"#d29096\",\"#d2c496\",\"#d2b896\",\"#d2b096\",\"#d2b096\",\"#d2bc96\",\"#d2be96\",\"#d29696\",\"#d2be96\",\"#d2c696\",\"#d2b896\",\"#d24296\",\"#d2b096\",\"#d29296\",\"#d2ce96\",\"#d2b896\",\"#d2c696\",\"#d2cc96\",\"#d29e96\",\"#d2c296\",\"#d2be96\",\"#d2ca96\",\"#d2c296\",\"#d2aa96\",\"#d2ce96\",\"#d2bc96\",\"#d2a696\",\"#d2b896\",\"#d2be96\",\"#d2c696\",\"#d2ba96\",\"#d2ac96\",\"#d2ba96\",\"#d2c496\",\"#d2a896\",\"#d2c696\",\"#d2b696\",\"#d2ca96\",\"#d2b696\",\"#d2ae96\",\"#d2c296\",\"#d2c296\",\"#d2b496\",\"#d2b296\",\"#d29496\",\"#d29696\",\"#d2bc96\",\"#d2ba96\",\"#d2c296\",\"#d2a896\",\"#d2b296\",\"#d2b696\",\"#d2b696\",\"#d29e96\",\"#d2b296\",\"#d2ba96\",\"#d2b696\",\"#d2c896\",\"#d2ba96\",\"#d2cc96\",\"#d2b496\",\"#d2cc96\",\"#d29696\",\"#d2bc96\",\"#d2c696\",\"#d27896\",\"#d2c696\",\"#d2b896\",\"#d2b096\",\"#d29e96\",\"#d2c096\",\"#d2aa96\",\"#d2cc96\",\"#d29496\",\"#d2bc96\",\"#d2ac96\",\"#d29896\",\"#d2ca96\",\"#d2b896\",\"#d2bc96\",\"#d2bc96\",\"#d2be96\",\"#d2aa96\",\"#d2c696\",\"#d2c296\",\"#d2c096\",\"#d2c296\",\"#d2b096\",\"#d2c696\",\"#d2c696\",\"#d28096\",\"#d2aa96\",\"#d2ca96\",\"#d2ac96\",\"#d2bc96\",\"#d29e96\",\"#d2b096\",\"#d2b096\",\"#d2c496\",\"#d2ba96\",\"#d2b696\",\"#d2c696\",\"#d2cc96\",\"#d2ba96\",\"#d2cc96\",\"#d29096\",\"#d2b896\",\"#d2ac96\",\"#d2a696\",\"#d2b696\",\"#d2be96\",\"#d2bc96\",\"#d2a896\",\"#d2bc96\",\"#d29c96\",\"#d2c096\",\"#d2cc96\",\"#d2a296\",\"#d2c296\",\"#d2ba96\",\"#d2b096\",\"#d2b896\",\"#d2b096\",\"#d29c96\",\"#d2b696\",\"#d2b296\",\"#d2ba96\",\"#d2bc96\",\"#d2d096\",\"#d2ce96\",\"#d2c096\",\"#d2ba96\",\"#d2b296\",\"#d2ba96\",\"#d2ca96\",\"#d2ba96\",\"#d2ca96\",\"#d27496\",\"#d2aa96\",\"#d2b096\",\"#d2be96\",\"#d2ac96\",\"#d2a496\",\"#d2cc96\",\"#d26296\",\"#d2b296\",\"#d2ac96\",\"#d2a496\",\"#d2aa96\",\"#d2ba96\",\"#d2c096\",\"#d2b696\",\"#d2ba96\",\"#d2c696\",\"#d2aa96\",\"#d2b896\",\"#d2b296\",\"#d29c96\",\"#d2ac96\",\"#d2ae96\",\"#d2c296\",\"#d2a896\",\"#d2bc96\",\"#d2aa96\",\"#d2c896\",\"#d2bc96\",\"#d2c496\",\"#d2ae96\",\"#d2be96\",\"#d2a896\",\"#d2a496\",\"#d2c096\",\"#d27496\",\"#d2ba96\",\"#d2bc96\",\"#d2ae96\",\"#d2be96\",\"#d27e96\",\"#d2b296\",\"#d2b496\",\"#d29c96\",\"#d2ca96\",\"#d2b896\",\"#d2c296\",\"#d2ba96\",\"#d2bc96\",\"#d27a96\",\"#d2be96\",\"#d27e96\",\"#d2ce96\",\"#d2b296\",\"#d2bc96\",\"#d2b896\",\"#d2b296\",\"#d2c296\",\"#d2ae96\",\"#d2c696\",\"#d2b296\",\"#d2aa96\",\"#d2c496\",\"#d2ba96\",\"#d2b896\",\"#d2a896\",\"#d2c696\",\"#d2b696\",\"#d2a896\",\"#d2ae96\",\"#d2ac96\",\"#d2c096\",\"#d28c96\",\"#d29a96\",\"#d2c096\",\"#d2ae96\",\"#d29296\",\"#d2bc96\",\"#d2b896\",\"#d2b696\",\"#d2ca96\",\"#d2a496\",\"#d2c096\",\"#d2c896\",\"#d2b896\",\"#d2be96\",\"#d2be96\",\"#d2c096\",\"#d2b696\",\"#d2b496\",\"#d2ae96\",\"#d2bc96\",\"#d2b896\",\"#d2ca96\",\"#d2c496\",\"#d2b896\",\"#d2b896\",\"#d24a96\",\"#d2ba96\",\"#d2c896\",\"#d2ae96\",\"#d2c896\",\"#d2c896\",\"#d2c696\",\"#d2b296\",\"#d2c696\",\"#d2ba96\",\"#d2cc96\",\"#d2c496\",\"#d2c496\",\"#d2ae96\",\"#d2c096\",\"#d2ca96\",\"#d26c96\",\"#d2ca96\",\"#d2b696\",\"#d2c096\",\"#d2be96\",\"#d2b096\",\"#d2ca96\",\"#d2ac96\",\"#d2ba96\",\"#d2c096\",\"#d2b296\",\"#d2ba96\",\"#d2ba96\",\"#d2c496\",\"#d28e96\",\"#d2b096\",\"#d2b496\",\"#d2bc96\",\"#d2b896\",\"#d2a696\",\"#d2c896\",\"#d2b296\",\"#d2b296\",\"#d2b696\",\"#d2c496\",\"#d2aa96\",\"#d2c896\",\"#d2c496\",\"#d29896\",\"#d2a296\",\"#d28296\",\"#d2cc96\",\"#d2a296\",\"#d2ba96\",\"#d29a96\",\"#d2c696\",\"#d2b496\",\"#d2c296\",\"#d2b896\",\"#d2b296\",\"#d2c896\",\"#d2b096\",\"#d2c496\",\"#d2ba96\",\"#d2c096\",\"#d2b696\",\"#d2a896\",\"#d2c296\",\"#d28696\",\"#d2a096\",\"#d2d296\",\"#d27a96\",\"#d2a696\",\"#d2ae96\",\"#d2ac96\",\"#d29a96\",\"#d2bc96\",\"#d2c696\",\"#d26296\",\"#d2d096\",\"#d29a96\",\"#d2ce96\",\"#d2ae96\",\"#d2c696\",\"#d2cc96\",\"#d2a696\",\"#d2cc96\",\"#d2be96\",\"#d2c696\",\"#d2c096\",\"#d29a96\",\"#d2b896\",\"#d2be96\",\"#d29696\",\"#d2b296\",\"#d2b096\",\"#d2ba96\",\"#d2a696\",\"#d2b496\",\"#d2aa96\",\"#d2bc96\",\"#d25c96\",\"#d2b096\",\"#d2aa96\",\"#d2c896\",\"#d2a696\",\"#d2ca96\",\"#d2c096\",\"#d2a296\",\"#d29296\",\"#d2c496\",\"#d2b696\",\"#d29296\",\"#d2aa96\",\"#d2b896\",\"#d2ca96\",\"#d2be96\",\"#d2ae96\",\"#d2b696\",\"#d2bc96\",\"#d2be96\",\"#d2ba96\",\"#d2c696\",\"#d2c296\",\"#d29a96\",\"#d28e96\",\"#d2ba96\",\"#d2ba96\",\"#d24696\",\"#d2be96\",\"#d2c296\",\"#d2bc96\",\"#d2ba96\",\"#d2b896\",\"#d2b496\",\"#d2a896\",\"#d2c896\",\"#d2ac96\",\"#d2b896\",\"#d2b096\",\"#d28696\",\"#d2be96\",\"#d2ca96\",\"#d2b496\",\"#d2b296\",\"#d2a296\",\"#d2ca96\",\"#d2c096\",\"#d2c296\",\"#d2ce96\",\"#d2be96\",\"#d2c496\",\"#d2ba96\",\"#d2be96\",\"#d2c496\",\"#d2a296\",\"#d2a096\",\"#d2b896\",\"#d2c896\",\"#d2ba96\",\"#d2ae96\",\"#d2ae96\",\"#d29a96\",\"#d28296\",\"#d2b496\",\"#d2b096\",\"#d2c496\",\"#d29c96\",\"#d2c696\",\"#d2c496\",\"#d2c896\",\"#d2c296\",\"#d2b096\",\"#d2a896\",\"#d2a096\",\"#d2b296\",\"#d2c096\",\"#d2ca96\",\"#d2a296\",\"#d2c296\",\"#d2c496\",\"#d2bc96\",\"#d2aa96\",\"#d2c696\",\"#d2ba96\",\"#d2c696\",\"#d2aa96\",\"#d2be96\",\"#d2ae96\",\"#d2c496\",\"#d2be96\",\"#d2b896\",\"#d2ba96\",\"#d2aa96\",\"#d2b696\",\"#d29c96\",\"#d2bc96\",\"#d2c096\",\"#d2c096\",\"#d2cc96\",\"#d2c296\",\"#d2ca96\",\"#d2b696\",\"#d2cc96\",\"#d2b896\",\"#d2be96\",\"#d2c896\",\"#d2cc96\",\"#d2ac96\",\"#d2c296\",\"#d2b096\",\"#d29896\",\"#d28296\",\"#d2ce96\",\"#d2b496\",\"#d2c296\",\"#d2be96\",\"#d29a96\",\"#d2a896\",\"#d28e96\",\"#d2c296\",\"#d2c496\",\"#d2bc96\",\"#d2b496\",\"#d2b896\",\"#d2c096\",\"#d2aa96\",\"#d2ce96\",\"#d2ae96\",\"#d2c896\",\"#d2c896\",\"#d2c296\",\"#d2ae96\",\"#d2c496\",\"#d2ba96\",\"#d2c896\",\"#d2cc96\",\"#d2cc96\",\"#d29a96\",\"#d2c896\",\"#d2c296\",\"#d2b496\",\"#d2c896\",\"#d2b696\",\"#d2c696\",\"#d2ba96\",\"#d2b696\",\"#d2c096\",\"#d2be96\",\"#d2b096\",\"#d28296\",\"#d2cc96\",\"#d2b896\",\"#d2b696\",\"#d2ba96\",\"#d2bc96\",\"#d2b296\",\"#d29c96\",\"#d2de96\",\"#d28496\",\"#d29c96\",\"#d29896\",\"#d2c096\",\"#d2be96\",\"#d29a96\",\"#d2ce96\",\"#d2c096\",\"#d2b896\",\"#d2bc96\",\"#d27296\",\"#d2aa96\",\"#d2be96\",\"#d28896\",\"#d2aa96\",\"#d2c096\",\"#d2ae96\",\"#d2b896\",\"#d2c096\",\"#d29e96\",\"#d2b296\",\"#d2ae96\",\"#d2a296\",\"#d2b896\",\"#d2c296\",\"#d2ae96\",\"#d2c096\",\"#d2b896\",\"#d2bc96\",\"#d2ba96\",\"#d2c296\",\"#d2b696\",\"#d2a696\",\"#d2c096\",\"#d2ac96\",\"#d2a896\",\"#d2c896\",\"#d2aa96\",\"#d2aa96\",\"#d2b296\",\"#d2b096\",\"#d2ba96\",\"#d2cc96\",\"#d2a496\",\"#d2c096\",\"#d2b896\",\"#d2cc96\",\"#d2c496\",\"#d2ba96\",\"#d2be96\",\"#d2b496\",\"#d2c096\",\"#d2a496\",\"#d2c496\",\"#d2c096\",\"#d2ca96\",\"#d2c896\",\"#d2cc96\",\"#d2a896\",\"#d2bc96\",\"#d2b496\",\"#d2c496\",\"#d2b896\",\"#d2aa96\",\"#d2b296\",\"#d2a496\",\"#d2bc96\",\"#d2ba96\",\"#d2ce96\",\"#d2ce96\",\"#d29896\",\"#d2ae96\",\"#d2ac96\",\"#d2be96\",\"#d26296\",\"#d2a696\",\"#d2c696\",\"#d2b496\",\"#d2ac96\",\"#d2be96\",\"#d2ae96\",\"#d26896\",\"#d2be96\",\"#d2ba96\",\"#d28496\",\"#d2a896\",\"#d27696\",\"#d2b096\",\"#d2a896\",\"#d28296\",\"#d2be96\",\"#d2b096\",\"#d2ac96\",\"#d2be96\",\"#d2b696\",\"#d2ca96\",\"#d2b896\",\"#d2b696\",\"#d29896\",\"#d2be96\",\"#d2c496\",\"#d23c96\",\"#d2c896\",\"#d2bc96\",\"#d2bc96\",\"#d27a96\",\"#d2a896\",\"#d2a296\",\"#d2a896\",\"#d2b496\",\"#d2aa96\",\"#d2b896\",\"#d2c296\",\"#d2b096\",\"#d2c096\",\"#d2b696\",\"#d2ca96\",\"#d2b896\",\"#d2cc96\",\"#d2c496\",\"#d2c496\",\"#d2bc96\",\"#d2ca96\",\"#d2b896\",\"#d2bc96\",\"#d09696\",\"#d0b496\",\"#d0ae96\",\"#d0aa96\",\"#d09296\",\"#d0ae96\",\"#d0b296\",\"#d0ac96\",\"#d0be96\",\"#d0b696\",\"#d0b696\",\"#d0c096\",\"#d0b696\",\"#d0c096\",\"#d0c296\",\"#d09296\",\"#d0ac96\",\"#d0ac96\",\"#d0bc96\",\"#d0ae96\",\"#d0ca96\",\"#d09a96\",\"#d0be96\",\"#d0c296\",\"#d0be96\",\"#d0c296\",\"#d0b696\",\"#d0ca96\",\"#d0a496\",\"#d0b296\",\"#d0ae96\",\"#d0a496\",\"#d0a096\",\"#d06696\",\"#d0a496\",\"#d0c296\",\"#d0bc96\",\"#d0a896\",\"#d0b696\",\"#d0aa96\",\"#d0c896\",\"#d0be96\",\"#d0ac96\",\"#d0bc96\",\"#d09496\",\"#d0b296\",\"#d0b496\",\"#d0ba96\",\"#d0b896\",\"#d0a296\",\"#d05e96\",\"#d0b896\",\"#d0ba96\",\"#d0c696\",\"#d0a696\",\"#d0c296\",\"#d0c496\",\"#d0c696\",\"#d0be96\",\"#d0b896\",\"#d0be96\",\"#d0ba96\",\"#d0ba96\",\"#d0c296\",\"#d0b696\",\"#d0c896\",\"#d08896\",\"#d0ac96\",\"#d0be96\",\"#d0b496\",\"#d0b696\",\"#d0ba96\",\"#d0bc96\",\"#d0be96\",\"#d0ac96\",\"#d0c096\",\"#d0ac96\",\"#d08a96\",\"#d0ae96\",\"#d0a096\",\"#d0b496\",\"#d0b896\",\"#d07496\",\"#d0ac96\",\"#d0b896\",\"#d0b496\",\"#d0ce96\",\"#d0bc96\",\"#d0c496\",\"#d0b496\",\"#d0b896\",\"#d0cc96\",\"#d0a896\",\"#d0be96\",\"#d09e96\",\"#d0b896\",\"#d0c896\",\"#d0aa96\",\"#d0bc96\",\"#d0b696\",\"#d0c496\",\"#d0c496\",\"#d0b296\",\"#d0c096\",\"#d0bc96\",\"#d08e96\",\"#d0a696\",\"#d0b696\",\"#d05c96\",\"#d0a696\",\"#d0a096\",\"#d0b496\",\"#d09296\",\"#d0ce96\",\"#d0b896\",\"#d0b496\",\"#d0b296\",\"#d0c296\",\"#d0a696\",\"#d0c496\",\"#d0a896\",\"#d0b096\",\"#d0b696\",\"#d0b896\",\"#d0ba96\",\"#d0b096\",\"#d0c096\",\"#d0bc96\",\"#d0c896\",\"#d0c096\",\"#d0a696\",\"#d0bc96\",\"#d0c096\",\"#d0ae96\",\"#d0a696\",\"#d0e096\",\"#d0c696\",\"#d0c096\",\"#d0b896\",\"#d0bc96\",\"#d0bc96\",\"#d0bc96\",\"#d0c296\",\"#d0cc96\",\"#d0bc96\",\"#d0ba96\",\"#d0a496\",\"#d09c96\",\"#d0ac96\",\"#d0b896\",\"#d0c896\",\"#d0c696\",\"#d0b696\",\"#d0bc96\",\"#d0c296\",\"#d0a296\",\"#d09896\",\"#d0c096\",\"#d0b496\",\"#d0ba96\",\"#d08896\",\"#d0c496\",\"#d0c696\",\"#d0c696\",\"#d0b496\",\"#d0b696\",\"#d0ca96\",\"#d0a096\",\"#d0b696\",\"#d0c496\",\"#d0c096\",\"#d0aa96\",\"#d0be96\",\"#d0b896\",\"#d0b296\",\"#d0a696\",\"#d0ac96\",\"#d0c496\",\"#d0bc96\",\"#d09e96\",\"#d0a696\",\"#d0ba96\",\"#d0ca96\",\"#d06a96\",\"#d0ba96\",\"#d0b496\",\"#d0b896\",\"#d0c496\",\"#d0ca96\",\"#d0c896\",\"#d0b696\",\"#d0b496\",\"#d09a96\",\"#d0c096\",\"#d0b296\",\"#d08496\",\"#d0c296\",\"#d0c296\",\"#d0bc96\",\"#d0ca96\",\"#d0b296\",\"#d0ac96\",\"#d0ae96\",\"#d0c296\",\"#d0b096\",\"#d0c896\",\"#d0b696\",\"#d0a096\",\"#d0c096\",\"#d0c296\",\"#d09a96\",\"#d0a496\",\"#d0c096\",\"#d0b696\",\"#d0b896\",\"#d0b696\",\"#d0c296\",\"#d0bc96\",\"#d0ac96\",\"#d0b896\",\"#d0c696\",\"#d08a96\",\"#d0cc96\",\"#d0c296\",\"#d0c896\",\"#d0c296\",\"#d09a96\",\"#d0ac96\",\"#d0ce96\",\"#d09296\",\"#d0cc96\",\"#d0ba96\",\"#d0b896\",\"#d09096\",\"#d0a096\",\"#d0ac96\",\"#d0c496\",\"#d0aa96\",\"#d0ce96\",\"#d09e96\",\"#d0c896\",\"#d0b496\",\"#d0b296\",\"#d0e096\",\"#d0c496\",\"#d0c496\",\"#d0a096\",\"#d0a496\",\"#d0b096\",\"#d0a696\",\"#d0c096\",\"#d0c296\",\"#d0a296\",\"#d06096\",\"#d0c496\",\"#d0bc96\",\"#d0a496\",\"#d0be96\",\"#d0b896\",\"#d0aa96\",\"#d0b096\",\"#d0aa96\",\"#d0ac96\",\"#d0bc96\",\"#d0b896\",\"#d0b896\",\"#d0a296\",\"#d0cc96\",\"#d0ac96\",\"#d0b096\",\"#d0aa96\",\"#d0b296\",\"#d0a696\",\"#d09e96\",\"#d0be96\",\"#d0b696\",\"#d09a96\",\"#d07896\",\"#d0b496\",\"#d0c696\",\"#d0b296\",\"#d0aa96\",\"#d0b296\",\"#d0ac96\",\"#d09e96\",\"#d0b896\",\"#d08496\",\"#d0b496\",\"#d0a496\",\"#d0ac96\",\"#d0ac96\",\"#d0c496\",\"#d0be96\",\"#d0bc96\",\"#d0a696\",\"#d0bc96\",\"#d0b296\",\"#d0a896\",\"#d09696\",\"#d0bc96\",\"#d09696\",\"#d0c496\",\"#d0d496\",\"#d0c096\",\"#d0b496\",\"#d0b896\",\"#d0ce96\",\"#d09e96\",\"#d0b496\",\"#d09696\",\"#d0c696\",\"#d0be96\",\"#d0ae96\",\"#d0bc96\",\"#d0ce96\",\"#d0b696\",\"#d0bc96\",\"#d0c896\",\"#d0b896\",\"#d0c896\",\"#d0ae96\",\"#d0c096\",\"#d03a96\",\"#d0bc96\",\"#d0b896\",\"#d0b696\",\"#d07296\",\"#d0ba96\",\"#d0c496\",\"#d0ac96\",\"#d0ba96\",\"#d0b296\",\"#d0a896\",\"#d0ac96\",\"#d0ba96\",\"#d0b696\",\"#d09896\",\"#d0ac96\",\"#d0c296\",\"#d0b896\",\"#d0be96\",\"#d0c096\",\"#d0b096\",\"#d0bc96\",\"#d0b896\",\"#d0c496\",\"#d0a896\",\"#d0a296\",\"#d0b496\",\"#d0b296\",\"#d0c496\",\"#d0cc96\",\"#d0ac96\",\"#d09c96\",\"#d0b696\",\"#d0c096\",\"#d0c896\",\"#d0cc96\",\"#d0aa96\",\"#d0d296\",\"#d0b296\",\"#d0aa96\",\"#d0b096\",\"#d0b696\",\"#d0b696\",\"#d09096\",\"#d0ba96\",\"#d0cc96\",\"#d0ca96\",\"#d0ba96\",\"#d0c696\",\"#d0c096\",\"#d0aa96\",\"#d0a496\",\"#d0a696\",\"#d0ba96\",\"#d08896\",\"#d08896\",\"#d0ba96\",\"#d0b096\",\"#d0c096\",\"#d07a96\",\"#d0be96\",\"#d07096\",\"#d0d096\",\"#d0c496\",\"#d0a296\",\"#d0ac96\",\"#d0a096\",\"#d0b496\",\"#d0be96\",\"#d09696\",\"#d0aa96\",\"#d0c896\",\"#d0b496\",\"#d0c896\",\"#d0c296\",\"#d0bc96\",\"#d0ca96\",\"#d0b296\",\"#d09896\",\"#d0ca96\",\"#d08496\",\"#d09696\",\"#d0ae96\",\"#d0a696\",\"#d0aa96\",\"#d0a696\",\"#d0c096\",\"#d0b896\",\"#d0aa96\",\"#d0c696\",\"#d05096\",\"#d0b496\",\"#d0a696\",\"#d0aa96\",\"#d0c496\",\"#d0c896\",\"#d0c896\",\"#d0ce96\",\"#d0aa96\",\"#d0ba96\",\"#d0c096\",\"#d0ac96\",\"#d0b896\",\"#d0ca96\",\"#d0c496\",\"#d0d296\",\"#d0b696\",\"#d0c296\",\"#d04696\",\"#d0ae96\",\"#d08e96\",\"#d08496\",\"#d0c496\",\"#d0a696\",\"#d0b096\",\"#d0cc96\",\"#d0aa96\",\"#d08496\",\"#d09496\",\"#d09896\",\"#d0aa96\",\"#d0a296\",\"#d0b896\",\"#d0bc96\",\"#d0a496\",\"#d0a896\",\"#d0be96\",\"#d0c096\",\"#d0be96\",\"#d0a496\",\"#d0b496\",\"#d0ae96\",\"#d0b096\",\"#d09e96\",\"#d0b296\",\"#d0ba96\",\"#d0c696\",\"#d09c96\",\"#d0a896\",\"#d09a96\",\"#d0c696\",\"#d09096\",\"#d09a96\",\"#d0b096\",\"#d0b696\",\"#d0a496\",\"#d0bc96\",\"#d0c096\",\"#d0c496\",\"#d0aa96\",\"#d0b896\",\"#d0ac96\",\"#d0c496\",\"#d0b096\",\"#d0ae96\",\"#d0ba96\",\"#d0ba96\",\"#d0cc96\",\"#d0b296\",\"#d0c496\",\"#d0c896\",\"#d0a496\",\"#d0c296\",\"#d0ba96\",\"#d0a096\",\"#d0b696\",\"#d0c296\",\"#d0bc96\",\"#d0c296\",\"#d07a96\",\"#d09296\",\"#d0ba96\",\"#d0b696\",\"#d0a696\",\"#d0ae96\",\"#d0bc96\",\"#d0b896\",\"#d0b496\",\"#d0c296\",\"#d0b296\",\"#d0b896\",\"#d0be96\",\"#d0b496\",\"#d0c896\",\"#d03696\",\"#d0ba96\",\"#d0c096\",\"#d0c496\",\"#d0aa96\",\"#d0bc96\",\"#d0c496\",\"#d09e96\",\"#d0c496\",\"#d06c96\",\"#d0c096\",\"#d0ba96\",\"#d0b896\",\"#d0b896\",\"#d0ba96\",\"#d0ce96\",\"#d0ac96\",\"#d0b896\",\"#d0be96\",\"#d0c896\",\"#d0ce96\",\"#d0c896\",\"#d0ba96\",\"#d0b496\",\"#d0b096\",\"#d0cc96\",\"#d0c096\",\"#d0ba96\",\"#d0a296\",\"#d0a096\",\"#d0bc96\",\"#d0c496\",\"#d09896\",\"#d0b096\",\"#d09696\",\"#d0c096\",\"#d0a496\",\"#d0b496\",\"#d0ac96\",\"#d08696\",\"#d07a96\",\"#d07c96\",\"#d0b496\",\"#d0c896\",\"#d0ac96\",\"#d0b896\",\"#d0b896\",\"#d0b896\",\"#d08496\",\"#d0b696\",\"#d0b896\",\"#d0b096\",\"#d0a896\",\"#d09896\",\"#d0c096\",\"#d0ae96\",\"#d03096\",\"#d09296\",\"#d0a696\",\"#d0b696\",\"#d05696\",\"#d0b896\",\"#d0b696\",\"#d09c96\",\"#d0a696\",\"#d0bc96\",\"#d0aa96\",\"#d0b696\",\"#d0b096\",\"#d0b296\",\"#d09496\",\"#d0b096\",\"#d0b696\",\"#d09296\",\"#d07e96\",\"#d0c496\",\"#d09c96\",\"#d0a096\",\"#d0b496\",\"#d0b896\",\"#d09296\",\"#d0a896\",\"#d09096\",\"#d0b496\",\"#d0a296\",\"#d0aa96\",\"#d0c296\",\"#d0ce96\",\"#d0a896\",\"#d0ba96\",\"#d0c696\",\"#d0ce96\",\"#d0ca96\",\"#d0b696\",\"#d0ba96\",\"#d0b896\",\"#d0b696\",\"#d0cc96\",\"#d0ca96\",\"#cebe96\",\"#ceac96\",\"#ceb896\",\"#cea096\",\"#ce7896\",\"#ceca96\",\"#cec896\",\"#ceba96\",\"#ceb296\",\"#cec296\",\"#ceaa96\",\"#ceb096\",\"#cec496\",\"#ceb696\",\"#cea296\",\"#ceba96\",\"#ce9896\",\"#ceb896\",\"#ceb696\",\"#ceb696\",\"#ceaa96\",\"#ceb096\",\"#ceb896\",\"#ce9a96\",\"#ceb496\",\"#ce9c96\",\"#cec296\",\"#cea496\",\"#cea296\",\"#ceb096\",\"#ce7496\",\"#cece96\",\"#ceb296\",\"#cec096\",\"#ceae96\",\"#ce9096\",\"#cea496\",\"#cec296\",\"#cea896\",\"#ceba96\",\"#cec496\",\"#ceac96\",\"#ceb896\",\"#cea696\",\"#ce9496\",\"#ceb296\",\"#cea496\",\"#cec296\",\"#cec496\",\"#ceb496\",\"#ceb296\",\"#cec896\",\"#cece96\",\"#cec496\",\"#ceb696\",\"#cece96\",\"#cec496\",\"#ce8a96\",\"#ceb496\",\"#ce9096\",\"#ce9a96\",\"#cec096\",\"#cebc96\",\"#ce9296\",\"#ce9896\",\"#cec696\",\"#cec496\",\"#ce8a96\",\"#cec296\",\"#ceca96\",\"#cea696\",\"#ce6296\",\"#ce9896\",\"#ceca96\",\"#cea496\",\"#ce8496\",\"#ce9e96\",\"#cebe96\",\"#ceb696\",\"#cece96\",\"#ceb496\",\"#cea296\",\"#cea696\",\"#cec696\",\"#cebe96\",\"#ceca96\",\"#ceb296\",\"#ce8296\",\"#ceb696\",\"#cec296\",\"#ce6c96\",\"#ceb296\",\"#cebc96\",\"#cebe96\",\"#ce9496\",\"#cea696\",\"#cec896\",\"#cea896\",\"#ce6e96\",\"#ce9e96\",\"#cea696\",\"#cebe96\",\"#ce9496\",\"#ce8c96\",\"#ceb896\",\"#cebe96\",\"#cebc96\",\"#ceb496\",\"#cec096\",\"#ceb296\",\"#cea096\",\"#ceb496\",\"#cebe96\",\"#cea496\",\"#cec296\",\"#cec896\",\"#cec896\",\"#ceb696\",\"#ceb896\",\"#ceaa96\",\"#ceba96\",\"#ceca96\",\"#cec496\",\"#cec896\",\"#cebc96\",\"#cebc96\",\"#ceb896\",\"#ceb096\",\"#ce8896\",\"#cecc96\",\"#ce7096\",\"#cec496\",\"#ce9696\",\"#cec296\",\"#ce9896\",\"#ce9896\",\"#cea096\",\"#cea096\",\"#cec296\",\"#ceb296\",\"#cec696\",\"#ce7e96\",\"#cea096\",\"#ceb896\",\"#cea896\",\"#ce7c96\",\"#cea696\",\"#ce8c96\",\"#cec696\",\"#ceba96\",\"#ceaa96\",\"#ceac96\",\"#cec696\",\"#ceca96\",\"#ceb496\",\"#ceb096\",\"#ceb296\",\"#cebc96\",\"#cec296\",\"#ce8696\",\"#cec296\",\"#cec096\",\"#ceb096\",\"#ceba96\",\"#ceba96\",\"#ceb696\",\"#ceba96\",\"#ceb096\",\"#ceba96\",\"#cecc96\",\"#ced296\",\"#cea296\",\"#ceb096\",\"#ce9c96\",\"#ceb496\",\"#ceb096\",\"#ce8e96\",\"#ceb496\",\"#cebe96\",\"#cebe96\",\"#cea496\",\"#ceb296\",\"#cec296\",\"#cec496\",\"#cea096\",\"#ceb696\",\"#cebe96\",\"#ce5296\",\"#ceb496\",\"#ceaa96\",\"#ceb896\",\"#ce8696\",\"#ceb096\",\"#cec696\",\"#ceca96\",\"#ce5096\",\"#ceba96\",\"#ce9696\",\"#cecc96\",\"#ceb296\",\"#cea296\",\"#ce9e96\",\"#ce9496\",\"#ceb296\",\"#ceb896\",\"#cea296\",\"#ceb496\",\"#ceb296\",\"#ceb096\",\"#ce8a96\",\"#cebe96\",\"#ce9696\",\"#ceb296\",\"#ceb896\",\"#cec096\",\"#cec496\",\"#cea496\",\"#ceac96\",\"#cec096\",\"#cea296\",\"#ceaa96\",\"#cebe96\",\"#cece96\",\"#cec696\",\"#ceb296\",\"#cec496\",\"#cebc96\",\"#ceca96\",\"#cec896\",\"#ceb896\",\"#cec296\",\"#ceb896\",\"#ceaa96\",\"#ceb496\",\"#cec296\",\"#ce9e96\",\"#ceb096\",\"#cec896\",\"#ce5a96\",\"#ceaa96\",\"#cec896\",\"#cea296\",\"#ceba96\",\"#cebe96\",\"#ceb896\",\"#ceb096\",\"#cec896\",\"#cec296\",\"#cebe96\",\"#ce9496\",\"#ceb696\",\"#cea896\",\"#cebc96\",\"#cec096\",\"#cec496\",\"#ce8a96\",\"#ce7496\",\"#cebc96\",\"#cea296\",\"#ceb696\",\"#ceae96\",\"#ceba96\",\"#ceba96\",\"#ce7c96\",\"#ce8e96\",\"#cebe96\",\"#cebe96\",\"#cec096\",\"#cec496\",\"#ceac96\",\"#cebc96\",\"#ce9a96\",\"#ceb896\",\"#cece96\",\"#ceb696\",\"#ceb696\",\"#ce9896\",\"#cebe96\",\"#ce9896\",\"#ce9e96\",\"#ce8296\",\"#cebc96\",\"#ceb896\",\"#cea296\",\"#ceb296\",\"#ce9896\",\"#ceb696\",\"#cec696\",\"#ceb696\",\"#ceb896\",\"#ceb696\",\"#cec496\",\"#ce7496\",\"#cec296\",\"#ceb296\",\"#ceca96\",\"#cec296\",\"#ceca96\",\"#ceb496\",\"#cece96\",\"#cea896\",\"#ceaa96\",\"#cec096\",\"#cec696\",\"#ceca96\",\"#ce8c96\",\"#ce9e96\",\"#cec696\",\"#cebe96\",\"#cec296\",\"#ceb096\",\"#ceba96\",\"#cec496\",\"#ce7096\",\"#cece96\",\"#ceba96\",\"#cebe96\",\"#cec696\",\"#cea496\",\"#ceb696\",\"#ceac96\",\"#ce9e96\",\"#ce8a96\",\"#ce9c96\",\"#ceb896\",\"#cece96\",\"#cec896\",\"#cebc96\",\"#ceb896\",\"#ceb696\",\"#cea496\",\"#ceb296\",\"#ceaa96\",\"#ce9e96\",\"#cec896\",\"#cebe96\",\"#cec496\",\"#cea496\",\"#cec296\",\"#cebe96\",\"#cecc96\",\"#ceba96\",\"#cea696\",\"#ceb096\",\"#cebc96\",\"#cebc96\",\"#cebe96\",\"#ceb096\",\"#ce7696\",\"#cec896\",\"#ceba96\",\"#ce6896\",\"#ceba96\",\"#ceae96\",\"#cea296\",\"#cea896\",\"#ceb496\",\"#ceb096\",\"#cec896\",\"#ce5896\",\"#cec696\",\"#ceb496\",\"#ceca96\",\"#ceca96\",\"#cea896\",\"#ceb496\",\"#cea096\",\"#cea296\",\"#ceac96\",\"#ceb896\",\"#ce9896\",\"#ceba96\",\"#cec296\",\"#ceb096\",\"#ceb496\",\"#cebc96\",\"#cebe96\",\"#cea296\",\"#ceac96\",\"#cea896\",\"#ceb696\",\"#ceb896\",\"#cec696\",\"#cebc96\",\"#cea296\",\"#cec896\",\"#ced096\",\"#ceb296\",\"#ceb096\",\"#cec296\",\"#ceaa96\",\"#cec096\",\"#ceb296\",\"#cea096\",\"#cec696\",\"#ceca96\",\"#cea096\",\"#cebc96\",\"#ceb096\",\"#cece96\",\"#cebc96\",\"#ce8296\",\"#ceb296\",\"#cec496\",\"#cea696\",\"#cecc96\",\"#cec096\",\"#ceca96\",\"#ceb296\",\"#cec496\",\"#cea896\",\"#ceb496\",\"#ceba96\",\"#ceb696\",\"#ceb896\",\"#ce9e96\",\"#ce9c96\",\"#cec496\",\"#cece96\",\"#cebe96\",\"#ce9c96\",\"#ceac96\",\"#cece96\",\"#ce8696\",\"#ceb896\",\"#cebe96\",\"#ceb496\",\"#ceb496\",\"#cebe96\",\"#ce9296\",\"#ceb896\",\"#cec696\",\"#ce8096\",\"#ce7696\",\"#cec096\",\"#cebc96\",\"#cea096\",\"#ceb696\",\"#ce9296\",\"#cea096\",\"#ceb496\",\"#ceaa96\",\"#cebe96\",\"#ceb696\",\"#cea496\",\"#ce8a96\",\"#ceb096\",\"#cec296\",\"#ceba96\",\"#ceb496\",\"#ce9296\",\"#ceaa96\",\"#ce6e96\",\"#ceb896\",\"#ceb496\",\"#ceb496\",\"#ceba96\",\"#ceb496\",\"#ceb896\",\"#cebc96\",\"#cec096\",\"#cea296\",\"#ceaa96\",\"#ceb896\",\"#ceb896\",\"#cec096\",\"#cea696\",\"#cec096\",\"#ceaa96\",\"#cea096\",\"#ce9296\",\"#cea296\",\"#ceba96\",\"#ceb096\",\"#cec296\",\"#ceb096\",\"#cebe96\",\"#cea296\",\"#cec696\",\"#cece96\",\"#cec896\",\"#ceb696\",\"#cebe96\",\"#ceb896\",\"#ceca96\",\"#ce9296\",\"#cec296\",\"#ceba96\",\"#cebc96\",\"#cebc96\",\"#cec696\",\"#cec896\",\"#ce7e96\",\"#ce3a96\",\"#cea296\",\"#cec296\",\"#ceb696\",\"#cea296\",\"#ceb496\",\"#ceb296\",\"#ceb696\",\"#ceb896\",\"#ce9896\",\"#ceb696\",\"#ceb896\",\"#ceb696\",\"#ce9e96\",\"#ceb896\",\"#ceb296\",\"#ceb696\",\"#cebc96\",\"#ceae96\",\"#ceb496\",\"#ceba96\",\"#ceb696\",\"#cea296\",\"#cea896\",\"#ceb896\",\"#ced096\",\"#ceb296\",\"#ceca96\",\"#ce9e96\",\"#cea296\",\"#ceb096\",\"#cec496\",\"#ceb896\",\"#ceb296\",\"#ceae96\",\"#cec896\",\"#ceca96\",\"#ceba96\",\"#ceb296\",\"#cebe96\",\"#ceb296\",\"#cea896\",\"#ceac96\",\"#ce9c96\",\"#cea896\",\"#ce7496\",\"#ceb696\",\"#ce6e96\",\"#ceac96\",\"#ceb896\",\"#ceb896\",\"#cec496\",\"#ce9496\",\"#ce9e96\",\"#ceb696\",\"#ce9696\",\"#ceac96\",\"#cec296\",\"#ceb296\",\"#cec896\",\"#cec496\",\"#ceb496\",\"#ce9c96\",\"#ceca96\",\"#ceb496\",\"#ceca96\",\"#ced096\",\"#ceb496\",\"#ceac96\",\"#cec496\",\"#ce7a96\",\"#ceb696\",\"#cebc96\",\"#cebc96\",\"#cebe96\",\"#ceb296\",\"#cec296\",\"#ceb296\",\"#ce3c96\",\"#cec096\",\"#ceb696\",\"#ceac96\",\"#ce8e96\",\"#cea696\",\"#ceae96\",\"#ceb296\",\"#ceb896\",\"#ce9696\",\"#cea496\",\"#ce6e96\",\"#cec696\",\"#cea296\",\"#ceba96\",\"#cea496\",\"#ceaa96\",\"#ceca96\",\"#cebc96\",\"#ce8496\",\"#ceae96\",\"#ceb296\",\"#cea896\",\"#ceba96\",\"#ceb696\",\"#ceaa96\",\"#ceb896\",\"#cea696\",\"#ceb896\",\"#ceb296\",\"#cec896\",\"#cea096\",\"#ceb896\",\"#ceb696\",\"#cebe96\",\"#cec096\",\"#cea696\",\"#ce8e96\",\"#ceb696\",\"#cec096\",\"#ceb496\",\"#cec896\",\"#ceba96\",\"#ceb496\",\"#ceba96\",\"#cea496\",\"#ceb696\",\"#cea896\",\"#ce6496\",\"#cea896\",\"#cea696\",\"#cebe96\",\"#cea496\",\"#cebc96\",\"#ceb296\",\"#cec496\",\"#ce8296\",\"#cec496\",\"#ceb896\",\"#ceca96\",\"#cec496\",\"#cec496\",\"#cebe96\",\"#cebc96\",\"#cec296\",\"#cec896\",\"#cebc96\",\"#ceb096\",\"#ccc096\",\"#ccbe96\",\"#ccba96\",\"#cc8a96\",\"#ccb896\",\"#ccaa96\",\"#ccc096\",\"#ccb496\",\"#ccb096\",\"#cca896\",\"#cca896\",\"#ccbc96\",\"#cc7c96\",\"#ccba96\",\"#ccac96\",\"#ccb496\",\"#ccc296\",\"#ccc896\",\"#ccae96\",\"#ccc296\",\"#ccb696\",\"#ccc496\",\"#cc9096\",\"#ccbc96\",\"#ccc496\",\"#cca896\",\"#ccce96\",\"#cc9a96\",\"#ccba96\",\"#ccaa96\",\"#cccc96\",\"#ccae96\",\"#cca696\",\"#cc8c96\",\"#ccca96\",\"#ccb096\",\"#ccb896\",\"#ccb296\",\"#ccca96\",\"#ccbe96\",\"#ccc296\",\"#cca896\",\"#ccbc96\",\"#ccb096\",\"#cca696\",\"#ccbc96\",\"#ccb496\",\"#ccbc96\",\"#cc4496\",\"#cc8c96\",\"#cc9696\",\"#ccc896\",\"#cc9a96\",\"#ccb896\",\"#ccc896\",\"#ccc296\",\"#cccc96\",\"#ccb896\",\"#ccbe96\",\"#ccc496\",\"#cca296\",\"#ccc896\",\"#ccb896\",\"#cc7e96\",\"#ccc896\",\"#ccbc96\",\"#ccc296\",\"#cca096\",\"#cca296\",\"#ccc296\",\"#ccb496\",\"#ccb896\",\"#cc9296\",\"#ccb496\",\"#cca896\",\"#cc9896\",\"#ccc496\",\"#cc9c96\",\"#cca296\",\"#cc7e96\",\"#cc9e96\",\"#cca096\",\"#cc9296\",\"#cc9696\",\"#ccbc96\",\"#cca896\",\"#ccb296\",\"#ccae96\",\"#ccb496\",\"#cc8c96\",\"#ccb096\",\"#ccc096\",\"#ccb296\",\"#ccb696\",\"#cc6696\",\"#cc9e96\",\"#cc9296\",\"#cccc96\",\"#ccb296\",\"#cca696\",\"#ccb496\",\"#cc6696\",\"#ccb696\",\"#ccac96\",\"#ccb896\",\"#cc9c96\",\"#cca896\",\"#ccd096\",\"#ccaa96\",\"#ccc096\",\"#ccb696\",\"#ccc896\",\"#ccaa96\",\"#ccbc96\",\"#cca296\",\"#cca696\",\"#cc9496\",\"#ccb496\",\"#ccb296\",\"#ccb896\",\"#ccc496\",\"#ccb896\",\"#ccc696\",\"#ccb696\",\"#cccc96\",\"#ccb296\",\"#ccba96\",\"#ccb296\",\"#ccc496\",\"#cccc96\",\"#ccb296\",\"#ccb896\",\"#ccc496\",\"#cca896\",\"#cc8e96\",\"#cca696\",\"#ccb496\",\"#cc8096\",\"#ccac96\",\"#ccb896\",\"#ccc296\",\"#ccc096\",\"#ccc296\",\"#ccc496\",\"#ccc296\",\"#cca496\",\"#ccc896\",\"#ccbc96\",\"#ccc496\",\"#ccb496\",\"#ccba96\",\"#ccb296\",\"#ccac96\",\"#ccc896\",\"#ccb696\",\"#cca696\",\"#ccc496\",\"#ccbe96\",\"#ccb296\",\"#ccaa96\",\"#cc6896\",\"#cc8296\",\"#ccbc96\",\"#cca096\",\"#ccce96\",\"#cca696\",\"#ccc296\",\"#ccc296\",\"#ccca96\",\"#cca096\",\"#ccbe96\",\"#ccba96\",\"#ccc096\",\"#ccc896\",\"#ccc696\",\"#ccbe96\",\"#ccba96\",\"#ccc696\",\"#ccbe96\",\"#cc9c96\",\"#cc9c96\",\"#ccb896\",\"#ccb696\",\"#cc8696\",\"#cc6a96\",\"#ccba96\",\"#ccb096\",\"#ccc096\",\"#ccb896\",\"#ccb896\",\"#ccbc96\",\"#ccac96\",\"#ccb296\",\"#cca896\",\"#ccae96\",\"#ccbc96\",\"#ccbc96\",\"#cca696\",\"#ccc496\",\"#ccc896\",\"#cca496\",\"#cc7c96\",\"#ccb296\",\"#cca296\",\"#ccba96\",\"#ccae96\",\"#ccd096\",\"#ccbe96\",\"#cca896\",\"#ccca96\",\"#cccc96\",\"#ccc696\",\"#ccc096\",\"#ccc096\",\"#ccb096\",\"#ccba96\",\"#ccb096\",\"#cccc96\",\"#cc9496\",\"#ccac96\",\"#cc6a96\",\"#ccc096\",\"#ccb296\",\"#ccc096\",\"#ccb896\",\"#ccb896\",\"#ccb896\",\"#ccae96\",\"#ccb896\",\"#cc9496\",\"#ccbc96\",\"#ccba96\",\"#cca096\",\"#ccb296\",\"#ccc896\",\"#ccb896\",\"#cccc96\",\"#ccc496\",\"#ccb296\",\"#ccbe96\",\"#ccba96\",\"#cc8496\",\"#ccb496\",\"#ccac96\",\"#cca896\",\"#ccc096\",\"#ccb896\",\"#ccba96\",\"#cc8296\",\"#ccac96\",\"#ccc496\",\"#cc8e96\",\"#cccc96\",\"#ccba96\",\"#cc9a96\",\"#ccb296\",\"#ccae96\",\"#ccaa96\",\"#cca496\",\"#ccaa96\",\"#ccae96\",\"#cc9096\",\"#ccb096\",\"#cc9e96\",\"#ccc296\",\"#ccaa96\",\"#ccc296\",\"#ccc896\",\"#ccb896\",\"#ccbe96\",\"#ccb896\",\"#ccac96\",\"#ccc096\",\"#ccac96\",\"#ccb296\",\"#ccb896\",\"#ccc296\",\"#ccca96\",\"#cc8496\",\"#ccba96\",\"#ccb896\",\"#ccc696\",\"#cc7496\",\"#ccc896\",\"#cc8e96\",\"#ccb696\",\"#cca096\",\"#cc9896\",\"#ccb896\",\"#ccb896\",\"#ccb096\",\"#ccc896\",\"#ccb896\",\"#cc9096\",\"#ccbc96\",\"#cca296\",\"#ccbc96\",\"#cca296\",\"#ccb896\",\"#cca296\",\"#cccc96\",\"#ccba96\",\"#ccc696\",\"#ccca96\",\"#ccbe96\",\"#ccca96\",\"#ccba96\",\"#ccbe96\",\"#cc9896\",\"#ccb696\",\"#ccb296\",\"#ccb696\",\"#ccba96\",\"#cc8896\",\"#ccb696\",\"#ccb496\",\"#cca896\",\"#ccc096\",\"#cc8896\",\"#ccac96\",\"#ccb696\",\"#cc9e96\",\"#cca096\",\"#cc9896\",\"#ccb696\",\"#cc9c96\",\"#ccb296\",\"#ccbe96\",\"#ccb496\",\"#ccc096\",\"#ccb896\",\"#ccb896\",\"#cca296\",\"#ccbe96\",\"#cca496\",\"#ccc096\",\"#ccc696\",\"#ccb096\",\"#ccaa96\",\"#ccc096\",\"#ccbe96\",\"#cc9296\",\"#cca096\",\"#cca696\",\"#ccb096\",\"#cca896\",\"#cca496\",\"#ccb696\",\"#ccc496\",\"#ccb896\",\"#ccb496\",\"#cc9896\",\"#cca896\",\"#ccbe96\",\"#ccbe96\",\"#ccbe96\",\"#ccb496\",\"#ccba96\",\"#ccb696\",\"#ccc696\",\"#ccb496\",\"#ccb296\",\"#cc9496\",\"#ccb896\",\"#ccae96\",\"#ccb096\",\"#cc8c96\",\"#ccb496\",\"#ccc296\",\"#ccbc96\",\"#ccac96\",\"#ccba96\",\"#cca696\",\"#ccbc96\",\"#ccc696\",\"#ccb496\",\"#cc9e96\",\"#cc9096\",\"#ccbe96\",\"#ccb696\",\"#ccc696\",\"#ccb096\",\"#ccce96\",\"#cc3696\",\"#ccb896\",\"#ccb496\",\"#ccb696\",\"#ccc096\",\"#ccc896\",\"#ccbc96\",\"#cca296\",\"#cc9a96\",\"#ccc896\",\"#ccc096\",\"#ccbe96\",\"#ccac96\",\"#ccca96\",\"#ccbe96\",\"#ccba96\",\"#cc6c96\",\"#cca296\",\"#ccbe96\",\"#ccb696\",\"#ccc696\",\"#cccc96\",\"#cc9696\",\"#cc9096\",\"#cc7096\",\"#ccc296\",\"#cca096\",\"#cca696\",\"#cca496\",\"#ccc096\",\"#cc7c96\",\"#ccb496\",\"#cca096\",\"#ccc496\",\"#ccb296\",\"#ccbe96\",\"#cc8c96\",\"#ccaa96\",\"#ccc496\",\"#cc9496\",\"#ccbe96\",\"#cc9e96\",\"#cc9696\",\"#ccca96\",\"#ccba96\",\"#ccac96\",\"#ccc696\",\"#ccb096\",\"#ccb696\",\"#ccba96\",\"#cc9296\",\"#ccb696\",\"#ccb896\",\"#ccaa96\",\"#ccc696\",\"#cca896\",\"#ccc696\",\"#ccc496\",\"#ccb896\",\"#cccc96\",\"#cca896\",\"#ccb696\",\"#ccb696\",\"#cc9e96\",\"#ccd696\",\"#cccc96\",\"#ccc896\",\"#ccc496\",\"#cc9696\",\"#cc7496\",\"#cca096\",\"#cca696\",\"#cc8296\",\"#ccbc96\",\"#cc9c96\",\"#cc9896\",\"#ccb696\",\"#cca496\",\"#ccc296\",\"#cc7096\",\"#cc6896\",\"#cc8c96\",\"#ccbc96\",\"#ccb696\",\"#ccba96\",\"#ccac96\",\"#ccca96\",\"#cca496\",\"#ccac96\",\"#ccba96\",\"#ccb696\",\"#ccce96\",\"#ccc096\",\"#ccc696\",\"#ccbc96\",\"#ccb096\",\"#ccbe96\",\"#ccaa96\",\"#ccc296\",\"#ccbe96\",\"#ccbe96\",\"#ccb096\",\"#cc7696\",\"#ccae96\",\"#ccd096\",\"#ccba96\",\"#ccc696\",\"#cc9e96\",\"#ccc296\",\"#ccce96\",\"#ccaa96\",\"#ccb296\",\"#ccb296\",\"#ccc296\",\"#cca096\",\"#ccba96\",\"#cc9296\",\"#cc8896\",\"#cc8e96\",\"#ccbc96\",\"#cca296\",\"#ccb096\",\"#ccba96\",\"#ccb696\",\"#ccae96\",\"#ccba96\",\"#ccc896\",\"#ccb296\",\"#ccd096\",\"#ccb096\",\"#ccc696\",\"#cca896\",\"#ccb696\",\"#ccc896\",\"#ccae96\",\"#cc9896\",\"#ccac96\",\"#ccc496\",\"#ccac96\",\"#ccb296\",\"#ccaa96\",\"#ccba96\",\"#ccc296\",\"#ccbe96\",\"#ccc096\",\"#ccc296\",\"#cca696\",\"#ccb496\",\"#ccc496\",\"#cc8a96\",\"#ccb496\",\"#cca296\",\"#ccc496\",\"#cca096\",\"#cccc96\",\"#cc9e96\",\"#ccb296\",\"#ccb096\",\"#cca496\",\"#cc9696\",\"#ccba96\",\"#ccba96\",\"#cc7a96\",\"#ccb496\",\"#ccba96\",\"#cc8e96\",\"#ccb696\",\"#ccbe96\",\"#ccb696\",\"#ccaa96\",\"#cc9696\",\"#cca696\",\"#cccc96\",\"#ccc096\",\"#cca896\",\"#ccce96\",\"#cc8e96\",\"#cca696\",\"#ccae96\",\"#ccb096\",\"#ccb896\",\"#ccce96\",\"#ccc896\",\"#ccc296\",\"#cc9a96\",\"#cca896\",\"#ccba96\",\"#ccbe96\",\"#ccbe96\",\"#cccc96\",\"#ccce96\",\"#cccc96\",\"#ccac96\",\"#ccba96\",\"#cca896\",\"#ccb896\",\"#ccb896\",\"#ccb896\",\"#ccb896\",\"#cca296\",\"#cccc96\",\"#ccb896\",\"#ccb096\",\"#ccc096\",\"#ccb496\",\"#ccb896\",\"#ccae96\",\"#ccb696\",\"#ccb096\",\"#cc9496\",\"#ccaa96\",\"#ccac96\",\"#ccb696\",\"#ccbc96\",\"#ccb496\",\"#ccb496\",\"#ccaa96\",\"#ccce96\",\"#cca696\",\"#cca296\",\"#ccc096\",\"#ccbc96\",\"#ccae96\",\"#ccc696\",\"#ccc496\",\"#ccb696\",\"#ccac96\",\"#ccac96\",\"#ccbc96\",\"#ccc896\",\"#ccb896\",\"#ccb696\",\"#ccb696\",\"#cc8a96\",\"#ccb296\",\"#cca696\",\"#ccb496\",\"#ccbe96\",\"#ccbe96\",\"#cca496\",\"#ccb896\",\"#ccb296\",\"#ccc296\",\"#cc9896\",\"#cc9696\",\"#ccc296\",\"#cc8496\",\"#ccb896\",\"#ccbc96\",\"#ccae96\",\"#cca096\",\"#cc8e96\",\"#ccbe96\",\"#ccc496\",\"#ccb496\",\"#ccba96\",\"#ccaa96\",\"#cabc96\",\"#ca9e96\",\"#ca7c96\",\"#caac96\",\"#cabe96\",\"#caba96\",\"#caa696\",\"#cab496\",\"#caba96\",\"#caae96\",\"#cab696\",\"#cab496\",\"#cabe96\",\"#cab896\",\"#ca8096\",\"#cabc96\",\"#caae96\",\"#cac696\",\"#caa496\",\"#cabc96\",\"#cac296\",\"#cabc96\",\"#ca8a96\",\"#ca9896\",\"#cab696\",\"#cab496\",\"#ca9896\",\"#ca8296\",\"#cac096\",\"#cabc96\",\"#cab496\",\"#cab896\",\"#cab896\",\"#cac896\",\"#caa096\",\"#caa096\",\"#cabe96\",\"#caba96\",\"#caa096\",\"#cab296\",\"#cab496\",\"#cac296\",\"#cab896\",\"#ca7496\",\"#caa496\",\"#cab696\",\"#cac496\",\"#cab096\",\"#cab696\",\"#caae96\",\"#caba96\",\"#caa896\",\"#cac896\",\"#cabc96\",\"#caa696\",\"#ca9e96\",\"#ca5e96\",\"#cab896\",\"#cabe96\",\"#cab296\",\"#cabe96\",\"#ca9296\",\"#cab896\",\"#cab096\",\"#cab296\",\"#cab496\",\"#cac696\",\"#ca9c96\",\"#ca9096\",\"#cab696\",\"#cab496\",\"#cacc96\",\"#ca8a96\",\"#caa696\",\"#ca8e96\",\"#cac496\",\"#caac96\",\"#ca9896\",\"#ca9a96\",\"#caa296\",\"#cab496\",\"#caae96\",\"#caac96\",\"#ca9896\",\"#caaa96\",\"#ca9896\",\"#cabc96\",\"#caaa96\",\"#caa296\",\"#ca5c96\",\"#caba96\",\"#cac496\",\"#cab496\",\"#cab096\",\"#caa296\",\"#cabc96\",\"#cab096\",\"#caae96\",\"#caba96\",\"#ca9c96\",\"#cab496\",\"#cab296\",\"#ca9e96\",\"#cab896\",\"#cabc96\",\"#cac496\",\"#caca96\",\"#ca9a96\",\"#ca8696\",\"#cab296\",\"#caae96\",\"#caae96\",\"#ca9296\",\"#cab096\",\"#ca9e96\",\"#caaa96\",\"#caac96\",\"#cac896\",\"#cab296\",\"#cacc96\",\"#cab696\",\"#cab096\",\"#caba96\",\"#cac896\",\"#cad096\",\"#cac096\",\"#cac896\",\"#ca7a96\",\"#caa896\",\"#cabe96\",\"#cab696\",\"#cabc96\",\"#caac96\",\"#cac496\",\"#caa296\",\"#ca6296\",\"#cac296\",\"#cab696\",\"#caa696\",\"#cace96\",\"#cab896\",\"#cac296\",\"#ca9696\",\"#cab096\",\"#cab296\",\"#ca9a96\",\"#caac96\",\"#ca7c96\",\"#cab896\",\"#cab696\",\"#ca9c96\",\"#caa096\",\"#caa296\",\"#cab496\",\"#ca9e96\",\"#cab496\",\"#cab296\",\"#cac096\",\"#caa896\",\"#ca8296\",\"#cab896\",\"#caca96\",\"#cab896\",\"#ca9a96\",\"#cab696\",\"#cab896\",\"#cab096\",\"#caa496\",\"#ca9296\",\"#cab296\",\"#ca8096\",\"#cab496\",\"#caaa96\",\"#cab496\",\"#cab696\",\"#ca5896\",\"#caba96\",\"#cab096\",\"#cacc96\",\"#ca7496\",\"#cac896\",\"#cab696\",\"#caa896\",\"#ca9c96\",\"#caaa96\",\"#ca9a96\",\"#cabe96\",\"#cac696\",\"#caa096\",\"#caa296\",\"#ca9896\",\"#caba96\",\"#ca8a96\",\"#cab896\",\"#cab696\",\"#cabe96\",\"#ca9696\",\"#ca9e96\",\"#cac496\",\"#caaa96\",\"#cab496\",\"#caaa96\",\"#ca8e96\",\"#cabe96\",\"#caae96\",\"#cab496\",\"#caba96\",\"#cabe96\",\"#cab696\",\"#cac296\",\"#cab696\",\"#cac096\",\"#cac296\",\"#cac896\",\"#cabc96\",\"#ca8696\",\"#ca6a96\",\"#caac96\",\"#caa896\",\"#ca9896\",\"#ca8296\",\"#ca9296\",\"#cab296\",\"#cab696\",\"#cac296\",\"#cab296\",\"#cabc96\",\"#caa896\",\"#caba96\",\"#cab696\",\"#caae96\",\"#ca9a96\",\"#cabc96\",\"#caa896\",\"#cac496\",\"#caae96\",\"#cabe96\",\"#ca8296\",\"#caba96\",\"#cab696\",\"#caca96\",\"#cab496\",\"#ca8c96\",\"#caaa96\",\"#cab496\",\"#caae96\",\"#caca96\",\"#caac96\",\"#cac896\",\"#caa096\",\"#cace96\",\"#cab096\",\"#cabc96\",\"#cab696\",\"#cac896\",\"#cac096\",\"#caa896\",\"#caa696\",\"#ca8296\",\"#cab696\",\"#ca3a96\",\"#caba96\",\"#cabc96\",\"#cab696\",\"#caca96\",\"#cab496\",\"#cab096\",\"#caa096\",\"#caaa96\",\"#cac096\",\"#caaa96\",\"#cac696\",\"#ca9a96\",\"#cab696\",\"#cac696\",\"#ca8a96\",\"#caa696\",\"#ca9e96\",\"#caae96\",\"#cac696\",\"#cab696\",\"#ca9e96\",\"#ca8096\",\"#cab896\",\"#ca4296\",\"#caa896\",\"#cab296\",\"#caac96\",\"#cab696\",\"#caac96\",\"#cac296\",\"#caba96\",\"#caaa96\",\"#cac096\",\"#cac696\",\"#cabc96\",\"#ca9096\",\"#cac296\",\"#caa896\",\"#cac696\",\"#caa296\",\"#caae96\",\"#caac96\",\"#caaa96\",\"#caca96\",\"#cac496\",\"#cac496\",\"#cac096\",\"#cab696\",\"#cab496\",\"#caa896\",\"#cabc96\",\"#cabe96\",\"#caa696\",\"#caac96\",\"#cab296\",\"#caac96\",\"#cab696\",\"#cac496\",\"#cac496\",\"#cab896\",\"#cabc96\",\"#caaa96\",\"#cab896\",\"#ca8c96\",\"#ca7c96\",\"#ca9e96\",\"#cab896\",\"#cab496\",\"#caa696\",\"#cabc96\",\"#cab896\",\"#cab696\",\"#cab896\",\"#caa696\",\"#cac296\",\"#cac496\",\"#caaa96\",\"#cab896\",\"#ca9c96\",\"#caba96\",\"#caca96\",\"#cace96\",\"#ca9c96\",\"#cac296\",\"#ca8a96\",\"#cab096\",\"#ca9496\",\"#caae96\",\"#cac296\",\"#caba96\",\"#cab696\",\"#caac96\",\"#cab096\",\"#cac096\",\"#cab296\",\"#caae96\",\"#caa896\",\"#cabe96\",\"#cac296\",\"#cac496\",\"#cab096\",\"#cac496\",\"#cab496\",\"#ca9096\",\"#cab696\",\"#caca96\",\"#caa296\",\"#caac96\",\"#ca8a96\",\"#cab896\",\"#cab496\",\"#cab096\",\"#ca8896\",\"#cac096\",\"#cab496\",\"#caac96\",\"#ca8c96\",\"#cabe96\",\"#cac496\",\"#cabc96\",\"#caa296\",\"#cab296\",\"#ca9696\",\"#cacc96\",\"#cab896\",\"#cabe96\",\"#cab896\",\"#cabc96\",\"#cab496\",\"#caae96\",\"#ca8e96\",\"#cac696\",\"#ca9a96\",\"#cac096\",\"#ca8696\",\"#caae96\",\"#cabc96\",\"#caac96\",\"#caa296\",\"#ca9e96\",\"#ca9296\",\"#cabe96\",\"#caa496\",\"#cab696\",\"#cab496\",\"#caa096\",\"#cac496\",\"#caaa96\",\"#caa296\",\"#caae96\",\"#cab496\",\"#cac896\",\"#cab896\",\"#cab696\",\"#caca96\",\"#ca8a96\",\"#cab896\",\"#cabe96\",\"#cab296\",\"#cacc96\",\"#cab896\",\"#cace96\",\"#cab496\",\"#cace96\",\"#cab896\",\"#ca9896\",\"#ca9c96\",\"#cab696\",\"#cabe96\",\"#caaa96\",\"#cab696\",\"#caac96\",\"#cab296\",\"#cabe96\",\"#caba96\",\"#cac896\",\"#cab696\",\"#caa096\",\"#cabc96\",\"#cac096\",\"#caba96\",\"#cab896\",\"#cab496\",\"#cac296\",\"#cab296\",\"#cab896\",\"#cac496\",\"#cac296\",\"#caa896\",\"#cace96\",\"#cab696\",\"#cac696\",\"#caa296\",\"#caba96\",\"#cabe96\",\"#cac296\",\"#cab096\",\"#ca9096\",\"#caa496\",\"#cab696\",\"#caae96\",\"#ca6896\",\"#caac96\",\"#cac496\",\"#cac096\",\"#cabc96\",\"#caa896\",\"#caca96\",\"#caa696\",\"#caaa96\",\"#caae96\",\"#caa896\",\"#caac96\",\"#ca8c96\",\"#cac896\",\"#cab096\",\"#caae96\",\"#cac496\",\"#caba96\",\"#caa896\",\"#ca9a96\",\"#caac96\",\"#caac96\",\"#ca9c96\",\"#caa896\",\"#cacc96\",\"#cac496\",\"#cabc96\",\"#cab096\",\"#caa696\",\"#cac496\",\"#cac096\",\"#cab496\",\"#caae96\",\"#ca9e96\",\"#caa296\",\"#caa296\",\"#cab496\",\"#cabe96\",\"#cac296\",\"#cac296\",\"#ca7296\",\"#ca7496\",\"#cabe96\",\"#cac696\",\"#ca6296\",\"#caa696\",\"#caaa96\",\"#cac496\",\"#caa896\",\"#cab896\",\"#caa696\",\"#caa896\",\"#caaa96\",\"#cac496\",\"#cac096\",\"#caaa96\",\"#cad096\",\"#cab296\",\"#caca96\",\"#caca96\",\"#cac696\",\"#caae96\",\"#caa096\",\"#caa096\",\"#ca8496\",\"#caba96\",\"#cab696\",\"#cac896\",\"#caa096\",\"#cab696\",\"#cac496\",\"#ca9896\",\"#caba96\",\"#cab096\",\"#cab696\",\"#ca9496\",\"#cab296\",\"#cac296\",\"#caa096\",\"#caac96\",\"#cab496\",\"#cac296\",\"#cabe96\",\"#ca9896\",\"#caa096\",\"#cab896\",\"#cac296\",\"#caac96\",\"#caba96\",\"#cab496\",\"#cabc96\",\"#caae96\",\"#caac96\",\"#caa496\",\"#ca8a96\",\"#cac296\",\"#cabe96\",\"#ca9e96\",\"#cac296\",\"#cac496\",\"#cab696\",\"#cac696\",\"#cac496\",\"#cab496\",\"#cab696\",\"#ca4a96\",\"#caa696\",\"#ca7496\",\"#ca7a96\",\"#cac096\",\"#caa696\",\"#caba96\",\"#ca6c96\",\"#caba96\",\"#ca6c96\",\"#cac096\",\"#cab296\",\"#cab496\",\"#cab696\",\"#cace96\",\"#cab896\",\"#cab496\",\"#cac296\",\"#cac296\",\"#caae96\",\"#cac296\",\"#cad096\",\"#ca8e96\",\"#cac096\",\"#caac96\",\"#ca9c96\",\"#cac496\",\"#cab896\",\"#caaa96\",\"#caca96\",\"#caba96\",\"#cac696\",\"#caa696\",\"#caa696\",\"#caae96\",\"#cab496\",\"#cac296\",\"#cac496\",\"#caaa96\",\"#cabc96\",\"#caba96\",\"#caa096\",\"#ca9e96\",\"#cabc96\",\"#cab696\",\"#cac296\",\"#caba96\",\"#caaa96\",\"#cab096\",\"#ca7296\",\"#ca6896\",\"#cacc96\",\"#cab496\",\"#cac296\",\"#cac096\",\"#cabc96\",\"#cab296\",\"#cac496\",\"#caa496\",\"#c8c096\",\"#c89e96\",\"#c8ba96\",\"#c8c496\",\"#c8aa96\",\"#c8a096\",\"#c8c496\",\"#c8a896\",\"#c8c496\",\"#c8c696\",\"#c8a896\",\"#c8c096\",\"#c8c496\",\"#c8a096\",\"#c8a096\",\"#c8b296\",\"#c8ae96\",\"#c8ac96\",\"#c8aa96\",\"#c89696\",\"#c8c496\",\"#c88496\",\"#c8b696\",\"#c8ac96\",\"#c8b096\",\"#c88c96\",\"#c8b896\",\"#c8ba96\",\"#c8a296\",\"#c8a496\",\"#c8a696\",\"#c8ae96\",\"#c89e96\",\"#c89e96\",\"#c8b696\",\"#c8ca96\",\"#c89296\",\"#c8b896\",\"#c8b696\",\"#c8ba96\",\"#c8c696\",\"#c8c496\",\"#c8a896\",\"#c8b096\",\"#c8a296\",\"#c8ae96\",\"#c86e96\",\"#c8ac96\",\"#c8b496\",\"#c8ae96\",\"#c8b896\",\"#c8c296\",\"#c88696\",\"#c8c896\",\"#c88e96\",\"#c8ce96\",\"#c8bc96\",\"#c8ba96\",\"#c8c296\",\"#c8b096\",\"#c8c896\",\"#c8a696\",\"#c8b696\",\"#c8ae96\",\"#c89696\",\"#c8aa96\",\"#c88a96\",\"#c8b296\",\"#c8b496\",\"#c8ba96\",\"#c89896\",\"#c8b896\",\"#c8a496\",\"#c89c96\",\"#c89c96\",\"#c8b696\",\"#c8b896\",\"#c8ac96\",\"#c8b896\",\"#c88e96\",\"#c8b896\",\"#c8d096\",\"#c8ac96\",\"#c8b496\",\"#c8c896\",\"#c8a696\",\"#c8aa96\",\"#c8b096\",\"#c89896\",\"#c8c896\",\"#c8ba96\",\"#c8b096\",\"#c8b296\",\"#c8b496\",\"#c8ac96\",\"#c8ac96\",\"#c8b696\",\"#c8b696\",\"#c86696\",\"#c8a696\",\"#c8b096\",\"#c8b896\",\"#c8ba96\",\"#c8cc96\",\"#c8c496\",\"#c8ac96\",\"#c8b696\",\"#c8c496\",\"#c8a296\",\"#c8bc96\",\"#c8be96\",\"#c8a496\",\"#c88c96\",\"#c8ae96\",\"#c8b496\",\"#c8aa96\",\"#c8ac96\",\"#c8b096\",\"#c89896\",\"#c8b496\",\"#c89296\",\"#c8a496\",\"#c8c496\",\"#c8b296\",\"#c89896\",\"#c8a896\",\"#c8bc96\",\"#c8b496\",\"#c8a496\",\"#c8c296\",\"#c8ba96\",\"#c8c496\",\"#c8c896\",\"#c8b096\",\"#c8b496\",\"#c8b896\",\"#c8ba96\",\"#c87096\",\"#c8a096\",\"#c8b696\",\"#c89296\",\"#c8bc96\",\"#c8b896\",\"#c8ba96\",\"#c8c696\",\"#c89c96\",\"#c8b096\",\"#c8ae96\",\"#c8b896\",\"#c8c496\",\"#c8a096\",\"#c8b096\",\"#c8aa96\",\"#c87296\",\"#c8ba96\",\"#c8b296\",\"#c8b896\",\"#c8b296\",\"#c8ac96\",\"#c87e96\",\"#c86c96\",\"#c8b496\",\"#c8bc96\",\"#c8ba96\",\"#c8b896\",\"#c8a096\",\"#c8ac96\",\"#c8c896\",\"#c88496\",\"#c89e96\",\"#c87696\",\"#c8ac96\",\"#c8ae96\",\"#c87496\",\"#c8ae96\",\"#c8a696\",\"#c8b296\",\"#c8c096\",\"#c8b296\",\"#c8c096\",\"#c8bc96\",\"#c89e96\",\"#c8ae96\",\"#c89c96\",\"#c87e96\",\"#c8b296\",\"#c8ba96\",\"#c8b496\",\"#c8b696\",\"#c8ce96\",\"#c8c096\",\"#c8a896\",\"#c8b296\",\"#c8bc96\",\"#c89696\",\"#c8c896\",\"#c8b696\",\"#c8ae96\",\"#c89e96\",\"#c8b696\",\"#c8c696\",\"#c8a896\",\"#c86e96\",\"#c8b496\",\"#c8c096\",\"#c8be96\",\"#c8bc96\",\"#c8ae96\",\"#c8cc96\",\"#c8c696\",\"#c8c296\",\"#c88696\",\"#c8ae96\",\"#c8a696\",\"#c8a896\",\"#c8be96\",\"#c8b696\",\"#c8b896\",\"#c8ae96\",\"#c8b896\",\"#c8cc96\",\"#c8c296\",\"#c8b096\",\"#c8b696\",\"#c8b296\",\"#c88a96\",\"#c8b096\",\"#c8ae96\",\"#c8c296\",\"#c8c096\",\"#c8aa96\",\"#c87096\",\"#c8b496\",\"#c8a896\",\"#c8b496\",\"#c8b496\",\"#c8c496\",\"#c8b496\",\"#c8c096\",\"#c8bc96\",\"#c8ae96\",\"#c8ac96\",\"#c88896\",\"#c8b296\",\"#c8a696\",\"#c8ca96\",\"#c8a896\",\"#c8aa96\",\"#c8ba96\",\"#c8c696\",\"#c8c496\",\"#c8ca96\",\"#c8a096\",\"#c8be96\",\"#c8b496\",\"#c8c296\",\"#c8be96\",\"#c8b896\",\"#c8a096\",\"#c8a696\",\"#c89896\",\"#c8a696\",\"#c89c96\",\"#c8c896\",\"#c8a096\",\"#c8b296\",\"#c8b096\",\"#c8b096\",\"#c8b496\",\"#c8ac96\",\"#c8b496\",\"#c8c496\",\"#c8a696\",\"#c8bc96\",\"#c8a296\",\"#c8ac96\",\"#c8aa96\",\"#c8ba96\",\"#c8ae96\",\"#c8ae96\",\"#c8bc96\",\"#c8c096\",\"#c87a96\",\"#c8b296\",\"#c8ca96\",\"#c89e96\",\"#c89a96\",\"#c88e96\",\"#c87096\",\"#c8b696\",\"#c8b296\",\"#c8b296\",\"#c8a296\",\"#c88e96\",\"#c8ac96\",\"#c8ba96\",\"#c87496\",\"#c8a696\",\"#c8a296\",\"#c8de96\",\"#c87096\",\"#c8ba96\",\"#c8b496\",\"#c8b696\",\"#c8b296\",\"#c8b296\",\"#c8c096\",\"#c8a296\",\"#c89c96\",\"#c8ba96\",\"#c89696\",\"#c8b296\",\"#c8b096\",\"#c8c496\",\"#c88a96\",\"#c8ac96\",\"#c8b896\",\"#c8c696\",\"#c8a296\",\"#c89096\",\"#c8a496\",\"#c89696\",\"#c8a296\",\"#c89a96\",\"#c8c096\",\"#c8aa96\",\"#c8b896\",\"#c8b496\",\"#c8b496\",\"#c8b096\",\"#c8ce96\",\"#c8bc96\",\"#c8b696\",\"#c8b696\",\"#c8b696\",\"#c8b496\",\"#c8ba96\",\"#c8be96\",\"#c8c296\",\"#c8a296\",\"#c8b096\",\"#c8a296\",\"#c8b896\",\"#c89c96\",\"#c8bc96\",\"#c8b296\",\"#c8b696\",\"#c8b896\",\"#c8c496\",\"#c8c496\",\"#c8a296\",\"#c87096\",\"#c8b296\",\"#c8ae96\",\"#c8ba96\",\"#c8b696\",\"#c8ac96\",\"#c88a96\",\"#c88096\",\"#c8c896\",\"#c89496\",\"#c8b896\",\"#c87e96\",\"#c8aa96\",\"#c8ae96\",\"#c87896\",\"#c8c496\",\"#c89696\",\"#c89a96\",\"#c8aa96\",\"#c8ac96\",\"#c8a496\",\"#c8b896\",\"#c8c096\",\"#c8be96\",\"#c8bc96\",\"#c8aa96\",\"#c89896\",\"#c8ce96\",\"#c8aa96\",\"#c8b496\",\"#c8a496\",\"#c88c96\",\"#c8b096\",\"#c8ce96\",\"#c8ac96\",\"#c8c096\",\"#c89a96\",\"#c8c496\",\"#c8b496\",\"#c8bc96\",\"#c8bc96\",\"#c8c496\",\"#c89696\",\"#c8b496\",\"#c8c296\",\"#c8ba96\",\"#c8c896\",\"#c89c96\",\"#c8b096\",\"#c8a696\",\"#c8c296\",\"#c8b896\",\"#c8b696\",\"#c8c696\",\"#c8b496\",\"#c8a896\",\"#c8b296\",\"#c8ba96\",\"#c8b896\",\"#c8b296\",\"#c8ac96\",\"#c8b296\",\"#c8aa96\",\"#c8b096\",\"#c8b696\",\"#c8b896\",\"#c8b096\",\"#c89e96\",\"#c8b696\",\"#c8ba96\",\"#c8c496\",\"#c89e96\",\"#c8c296\",\"#c8a296\",\"#c8b296\",\"#c8aa96\",\"#c8b896\",\"#c8b496\",\"#c8b696\",\"#c8be96\",\"#c8ac96\",\"#c8b096\",\"#c8b696\",\"#c8ca96\",\"#c8a496\",\"#c8cc96\",\"#c8c296\",\"#c8bc96\",\"#c8b096\",\"#c8ca96\",\"#c8c296\",\"#c8ba96\",\"#c8b096\",\"#c8b696\",\"#c89c96\",\"#c8b496\",\"#c8c696\",\"#c8b696\",\"#c87e96\",\"#c88496\",\"#c8b696\",\"#c8ca96\",\"#c8b296\",\"#c8b896\",\"#c8b496\",\"#c88896\",\"#c8be96\",\"#c8b496\",\"#c8c696\",\"#c8c096\",\"#c86c96\",\"#c8aa96\",\"#c8a696\",\"#c8b896\",\"#c8b496\",\"#c8a696\",\"#c8b296\",\"#c8a096\",\"#c8aa96\",\"#c8ae96\",\"#c8b496\",\"#c8cc96\",\"#c8c496\",\"#c8ba96\",\"#c87c96\",\"#c8b696\",\"#c8ac96\",\"#c89a96\",\"#c8b496\",\"#c8a896\",\"#c8c296\",\"#c8ba96\",\"#c8bc96\",\"#c8a896\",\"#c8ba96\",\"#c8b696\",\"#c8a096\",\"#c8b096\",\"#c8a296\",\"#c8b296\",\"#c8c496\",\"#c8c496\",\"#c8c096\",\"#c8b496\",\"#c8b896\",\"#c8aa96\",\"#c8b096\",\"#c8bc96\",\"#c8c496\",\"#c8ae96\",\"#c8aa96\",\"#c8b696\",\"#c8ae96\",\"#c8cc96\",\"#c8ca96\",\"#c8c696\",\"#c8a296\",\"#c8c096\",\"#c87896\",\"#c8c896\",\"#c8be96\",\"#c8ac96\",\"#c8aa96\",\"#c89e96\",\"#c8a496\",\"#c8ba96\",\"#c8ba96\",\"#c89c96\",\"#c89e96\",\"#c88696\",\"#c8b896\",\"#c8c296\",\"#c8b096\",\"#c8b496\",\"#c8c496\",\"#c8ce96\",\"#c8b496\",\"#c8cc96\",\"#c8b496\",\"#c8b696\",\"#c8a296\",\"#c8c896\",\"#c8be96\",\"#c8a096\",\"#c8bc96\",\"#c8c496\",\"#c8b496\",\"#c8b696\",\"#c8ca96\",\"#c88a96\",\"#c8b696\",\"#c8a696\",\"#c8bc96\",\"#c8a496\",\"#c8ba96\",\"#c8b096\",\"#c89096\",\"#c84896\",\"#c8a696\",\"#c8bc96\",\"#c8c296\",\"#c8c696\",\"#c8a296\",\"#c8ac96\",\"#c8ba96\",\"#c8ac96\",\"#c8b696\",\"#c89296\",\"#c8c696\",\"#c8c896\",\"#c8ce96\",\"#c8c296\",\"#c8b296\",\"#c8ba96\",\"#c8ca96\",\"#c8b696\",\"#c8b896\",\"#c8b096\",\"#c8b696\",\"#c8b296\",\"#c8a496\",\"#c8b496\",\"#c8ba96\",\"#c8ba96\",\"#c8ba96\",\"#c89696\",\"#c8c896\",\"#c8c496\",\"#c8aa96\",\"#c8b296\",\"#c8ba96\",\"#c8b296\",\"#c8b496\",\"#c8ac96\",\"#c8c496\",\"#c8a696\",\"#c8c496\",\"#c8aa96\",\"#c8c496\",\"#c89496\",\"#c8b496\",\"#c8a496\",\"#c8a296\",\"#c89e96\",\"#c8b696\",\"#c8a896\",\"#c8b696\",\"#c8a096\",\"#c8b496\",\"#c8b296\",\"#c8b096\",\"#c8be96\",\"#c8b696\",\"#c8aa96\",\"#c8b296\",\"#c88496\",\"#c89296\",\"#c88896\",\"#c8b296\",\"#c8c696\",\"#c8c296\",\"#c8b096\",\"#c8ba96\",\"#c89a96\",\"#c8bc96\",\"#c8c496\",\"#c8bc96\",\"#c8c496\",\"#c8b896\",\"#c8b696\",\"#c8c496\",\"#c8c096\",\"#c8ac96\",\"#c88696\",\"#c8bc96\",\"#c8a696\",\"#c8ba96\",\"#c8a496\",\"#c88a96\",\"#c8b096\",\"#c89c96\",\"#c87096\",\"#c8a896\",\"#c89e96\",\"#c8b896\",\"#c8b096\",\"#c8b496\",\"#c8ba96\",\"#c8b896\",\"#c8be96\",\"#c8a096\",\"#c8be96\",\"#c88496\",\"#c8ba96\",\"#c8ca96\",\"#c6b096\",\"#c68496\",\"#c69896\",\"#c6b296\",\"#c6be96\",\"#c6c096\",\"#c6b496\",\"#c6a896\",\"#c6b496\",\"#c6a496\",\"#c6b096\",\"#c6ae96\",\"#c6a096\",\"#c6a496\",\"#c6b896\",\"#c6b496\",\"#c6a296\",\"#c6aa96\",\"#c6ae96\",\"#c6b496\",\"#c6ae96\",\"#c6aa96\",\"#c6ae96\",\"#c6ac96\",\"#c6b296\",\"#c6ac96\",\"#c6c896\",\"#c6a096\",\"#c6a696\",\"#c6b696\",\"#c6c496\",\"#c6b496\",\"#c6ac96\",\"#c69c96\",\"#c6ae96\",\"#c6c496\",\"#c6b496\",\"#c6aa96\",\"#c6ae96\",\"#c6aa96\",\"#c6aa96\",\"#c6c096\",\"#c66696\",\"#c6c096\",\"#c68e96\",\"#c6c896\",\"#c6a696\",\"#c6ba96\",\"#c6c896\",\"#c6b696\",\"#c68e96\",\"#c6ba96\",\"#c6b296\",\"#c6ac96\",\"#c6b096\",\"#c67096\",\"#c6c296\",\"#c6c296\",\"#c6b496\",\"#c68a96\",\"#c6a696\",\"#c6aa96\",\"#c6a696\",\"#c6b496\",\"#c6b696\",\"#c6b896\",\"#c6c496\",\"#c6b896\",\"#c6c296\",\"#c6b696\",\"#c6ac96\",\"#c6ba96\",\"#c6aa96\",\"#c6b496\",\"#c6a296\",\"#c6bc96\",\"#c69896\",\"#c6ca96\",\"#c6a096\",\"#c68a96\",\"#c6a696\",\"#c6ba96\",\"#c6c496\",\"#c69496\",\"#c6aa96\",\"#c6b296\",\"#c6a096\",\"#c6bc96\",\"#c6ba96\",\"#c69496\",\"#c68896\",\"#c6b896\",\"#c6ae96\",\"#c6a696\",\"#c6ac96\",\"#c6a496\",\"#c6cc96\",\"#c6aa96\",\"#c6b096\",\"#c6bc96\",\"#c6b096\",\"#c6b096\",\"#c6bc96\",\"#c6a696\",\"#c6be96\",\"#c6b096\",\"#c6b896\",\"#c6ba96\",\"#c6be96\",\"#c6c696\",\"#c6b096\",\"#c6d096\",\"#c6a896\",\"#c6ba96\",\"#c68e96\",\"#c6c096\",\"#c6be96\",\"#c69896\",\"#c6c296\",\"#c6a496\",\"#c68896\",\"#c68896\",\"#c69e96\",\"#c6c296\",\"#c6c496\",\"#c6ca96\",\"#c6bc96\",\"#c6aa96\",\"#c6b096\",\"#c6ba96\",\"#c69296\",\"#c6a696\",\"#c6ca96\",\"#c6b896\",\"#c67c96\",\"#c6b096\",\"#c6ba96\",\"#c6c096\",\"#c6ba96\",\"#c6c496\",\"#c6b096\",\"#c6b896\",\"#c6cc96\",\"#c6b096\",\"#c6b096\",\"#c6ba96\",\"#c6b896\",\"#c6a496\",\"#c69e96\",\"#c6aa96\",\"#c69096\",\"#c6aa96\",\"#c6b696\",\"#c69096\",\"#c6b296\",\"#c6c896\",\"#c68896\",\"#c6c296\",\"#c69696\",\"#c6ae96\",\"#c6be96\",\"#c6c896\",\"#c6a096\",\"#c6b896\",\"#c6c296\",\"#c6bc96\",\"#c6bc96\",\"#c6b696\",\"#c6ba96\",\"#c6b296\",\"#c6b696\",\"#c6be96\",\"#c6ba96\",\"#c6bc96\",\"#c6b496\",\"#c6c096\",\"#c6bc96\",\"#c6ca96\",\"#c6b896\",\"#c6b896\",\"#c6cc96\",\"#c6b496\",\"#c6b696\",\"#c6c296\",\"#c69e96\",\"#c6a496\",\"#c6ae96\",\"#c6c096\",\"#c6ba96\",\"#c6ae96\",\"#c6be96\",\"#c6ae96\",\"#c6c096\",\"#c6c096\",\"#c6b696\",\"#c69696\",\"#c6a496\",\"#c6be96\",\"#c6a696\",\"#c69496\",\"#c6ac96\",\"#c69296\",\"#c6ba96\",\"#c6ce96\",\"#c67296\",\"#c68896\",\"#c6b696\",\"#c6b096\",\"#c6b496\",\"#c6a296\",\"#c6b296\",\"#c6ac96\",\"#c69e96\",\"#c6b696\",\"#c6b496\",\"#c6be96\",\"#c69896\",\"#c69096\",\"#c6bc96\",\"#c6a296\",\"#c6b696\",\"#c6c896\",\"#c6be96\",\"#c6b296\",\"#c67696\",\"#c6a496\",\"#c6ac96\",\"#c6a696\",\"#c6aa96\",\"#c67e96\",\"#c6be96\",\"#c6c696\",\"#c6ae96\",\"#c6a296\",\"#c69c96\",\"#c6bc96\",\"#c6ac96\",\"#c6c096\",\"#c6be96\",\"#c6b696\",\"#c6ba96\",\"#c6cc96\",\"#c6b496\",\"#c6ae96\",\"#c6c696\",\"#c6a296\",\"#c6be96\",\"#c6ae96\",\"#c6b696\",\"#c6a696\",\"#c6c696\",\"#c6c096\",\"#c6bc96\",\"#c6b296\",\"#c69296\",\"#c6aa96\",\"#c6ac96\",\"#c67496\",\"#c6ac96\",\"#c6b496\",\"#c6ba96\",\"#c68696\",\"#c6a296\",\"#c67c96\",\"#c6c296\",\"#c6b896\",\"#c6c696\",\"#c6aa96\",\"#c69c96\",\"#c6c296\",\"#c6c696\",\"#c6b296\",\"#c6b296\",\"#c69896\",\"#c6a696\",\"#c6b096\",\"#c6b896\",\"#c6ba96\",\"#c6c896\",\"#c6ae96\",\"#c65e96\",\"#c6cc96\",\"#c63696\",\"#c69a96\",\"#c6a296\",\"#c67a96\",\"#c68c96\",\"#c6b296\",\"#c6ae96\",\"#c6a496\",\"#c6c096\",\"#c67496\",\"#c69696\",\"#c6b496\",\"#c6ac96\",\"#c66496\",\"#c6aa96\",\"#c6a496\",\"#c6b296\",\"#c6ba96\",\"#c6a496\",\"#c6b696\",\"#c6be96\",\"#c6c296\",\"#c6a496\",\"#c6b096\",\"#c6ca96\",\"#c6bc96\",\"#c6b696\",\"#c6b096\",\"#c6be96\",\"#c6ba96\",\"#c66296\",\"#c6be96\",\"#c6b296\",\"#c6ba96\",\"#c6b296\",\"#c6b896\",\"#c6a896\",\"#c6c096\",\"#c6b296\",\"#c69296\",\"#c6a296\",\"#c69e96\",\"#c6b296\",\"#c6a496\",\"#c6a296\",\"#c6b496\",\"#c6b296\",\"#c6a496\",\"#c6b496\",\"#c6b696\",\"#c69c96\",\"#c6b096\",\"#c68a96\",\"#c6b296\",\"#c6ba96\",\"#c6ba96\",\"#c6b696\",\"#c6aa96\",\"#c68a96\",\"#c69e96\",\"#c6b496\",\"#c6a696\",\"#c6be96\",\"#c6cc96\",\"#c6be96\",\"#c6be96\",\"#c6be96\",\"#c6a696\",\"#c6a496\",\"#c6b496\",\"#c69896\",\"#c6aa96\",\"#c69496\",\"#c6b496\",\"#c68296\",\"#c6b296\",\"#c6aa96\",\"#c6a696\",\"#c6a896\",\"#c6ae96\",\"#c6ae96\",\"#c6b096\",\"#c69c96\",\"#c69a96\",\"#c6c296\",\"#c6c096\",\"#c6c696\",\"#c6a496\",\"#c6cc96\",\"#c6a896\",\"#c6be96\",\"#c6b296\",\"#c6bc96\",\"#c6a896\",\"#c6b496\",\"#c6ac96\",\"#c6ae96\",\"#c6c496\",\"#c6b096\",\"#c6bc96\",\"#c6ae96\",\"#c6ae96\",\"#c6c496\",\"#c6aa96\",\"#c6a896\",\"#c6a896\",\"#c6be96\",\"#c6ae96\",\"#c6b096\",\"#c6ac96\",\"#c6c096\",\"#c6bc96\",\"#c6ae96\",\"#c68a96\",\"#c6ae96\",\"#c6b296\",\"#c69896\",\"#c6b096\",\"#c6ba96\",\"#c6c896\",\"#c6c096\",\"#c6b296\",\"#c6ca96\",\"#c6c096\",\"#c6c696\",\"#c6aa96\",\"#c6c096\",\"#c6c096\",\"#c69c96\",\"#c6ca96\",\"#c6b896\",\"#c6c496\",\"#c69096\",\"#c6a696\",\"#c68e96\",\"#c67296\",\"#c6b496\",\"#c6a096\",\"#c6a696\",\"#c6b696\",\"#c6be96\",\"#c65e96\",\"#c6a496\",\"#c6b896\",\"#c6ac96\",\"#c6ac96\",\"#c6c896\",\"#c6b496\",\"#c6b496\",\"#c69496\",\"#c6bc96\",\"#c6b896\",\"#c6b096\",\"#c6c496\",\"#c69296\",\"#c6cc96\",\"#c6ae96\",\"#c68296\",\"#c67096\",\"#c67c96\",\"#c6a696\",\"#c6b496\",\"#c6b096\",\"#c68c96\",\"#c6b096\",\"#c6b296\",\"#c6b296\",\"#c6b496\",\"#c69a96\",\"#c6c296\",\"#c6be96\",\"#c6a896\",\"#c6b296\",\"#c6ac96\",\"#c67e96\",\"#c69696\",\"#c69c96\",\"#c6a896\",\"#c67896\",\"#c69c96\",\"#c6b696\",\"#c6bc96\",\"#c6b496\",\"#c69e96\",\"#c6a696\",\"#c6aa96\",\"#c6b496\",\"#c6c696\",\"#c6ba96\",\"#c6b096\",\"#c69e96\",\"#c6b696\",\"#c6c296\",\"#c6ae96\",\"#c69896\",\"#c6ce96\",\"#c6c896\",\"#c68a96\",\"#c6c296\",\"#c6b096\",\"#c6b296\",\"#c69296\",\"#c6b496\",\"#c68c96\",\"#c6b496\",\"#c66c96\",\"#c6a496\",\"#c67696\",\"#c69896\",\"#c6bc96\",\"#c6b896\",\"#c6b496\",\"#c6a696\",\"#c6aa96\",\"#c6ba96\",\"#c68496\",\"#c67c96\",\"#c6b696\",\"#c6b296\",\"#c6b496\",\"#c6a496\",\"#c69e96\",\"#c6aa96\",\"#c6ae96\",\"#c6b896\",\"#c6c096\",\"#c68a96\",\"#c68096\",\"#c6ae96\",\"#c6c496\",\"#c69c96\",\"#c6c296\",\"#c68896\",\"#c6ae96\",\"#c69096\",\"#c68096\",\"#c63496\",\"#c6b696\",\"#c6a896\",\"#c6b496\",\"#c6ac96\",\"#c6aa96\",\"#c6ac96\",\"#c6ba96\",\"#c69896\",\"#c6bc96\",\"#c6c496\",\"#c6bc96\",\"#c6b496\",\"#c6b696\",\"#c69696\",\"#c6c896\",\"#c6a896\",\"#c6ba96\",\"#c6c496\",\"#c6b696\",\"#c6a296\",\"#c64696\",\"#c6b096\",\"#c69096\",\"#c6a096\",\"#c6b296\",\"#c6ba96\",\"#c69a96\",\"#c69296\",\"#c6a096\",\"#c6ae96\",\"#c6b096\",\"#c69c96\",\"#c69a96\",\"#c6b696\",\"#c6a496\",\"#c6b696\",\"#c67696\",\"#c6be96\",\"#c6ac96\",\"#c6b496\",\"#c6b696\",\"#c6ac96\",\"#c6bc96\",\"#c6b896\",\"#c68496\",\"#c6ba96\",\"#c6b296\",\"#c6b296\",\"#c6b696\",\"#c6ba96\",\"#c6b496\",\"#c6b296\",\"#c6a896\",\"#c6a696\",\"#c6ba96\",\"#c6a696\",\"#c6b496\",\"#c6ac96\",\"#c68896\",\"#c67a96\",\"#c68096\",\"#c69296\",\"#c69a96\",\"#c6b496\",\"#c6b496\",\"#c6ba96\",\"#c69c96\",\"#c66896\",\"#c6b096\",\"#c69696\",\"#c69e96\",\"#c69296\",\"#c69e96\",\"#c6ce96\",\"#c6b296\",\"#c6aa96\",\"#c6c096\",\"#c6aa96\",\"#c6c496\",\"#c6c296\",\"#c6b496\",\"#c6a496\",\"#c6aa96\",\"#c4aa96\",\"#c4c096\",\"#c4be96\",\"#c4b896\",\"#c4ac96\",\"#c45496\",\"#c4aa96\",\"#c4b096\",\"#c49a96\",\"#c4b296\",\"#c4b896\",\"#c4c096\",\"#c48896\",\"#c4bc96\",\"#c4ac96\",\"#c4b696\",\"#c4b296\",\"#c4a896\",\"#c4a696\",\"#c4ba96\",\"#c4b496\",\"#c4ac96\",\"#c4a296\",\"#c4b896\",\"#c4ac96\",\"#c4ba96\",\"#c4ba96\",\"#c49696\",\"#c4a496\",\"#c4b096\",\"#c4bc96\",\"#c4be96\",\"#c49e96\",\"#c4c296\",\"#c48296\",\"#c46c96\",\"#c4b896\",\"#c4c096\",\"#c4ae96\",\"#c4a696\",\"#c4ae96\",\"#c4b296\",\"#c48696\",\"#c4ba96\",\"#c4a496\",\"#c49c96\",\"#c49296\",\"#c4be96\",\"#c4c496\",\"#c4c096\",\"#c4c696\",\"#c4be96\",\"#c4a296\",\"#c4ac96\",\"#c4c696\",\"#c4bc96\",\"#c4aa96\",\"#c4c696\",\"#c49496\",\"#c4a896\",\"#c4ac96\",\"#c4b296\",\"#c4a096\",\"#c4ba96\",\"#c49e96\",\"#c4aa96\",\"#c4a296\",\"#c4c296\",\"#c4ca96\",\"#c4a096\",\"#c4a896\",\"#c4ac96\",\"#c4a896\",\"#c48e96\",\"#c4a696\",\"#c4ae96\",\"#c4ba96\",\"#c4b696\",\"#c4b096\",\"#c4ca96\",\"#c4b896\",\"#c4ae96\",\"#c48e96\",\"#c4a496\",\"#c4ac96\",\"#c4a296\",\"#c4a696\",\"#c49096\",\"#c4ae96\",\"#c4b896\",\"#c4a496\",\"#c4b096\",\"#c4a696\",\"#c48896\",\"#c4a896\",\"#c48496\",\"#c4a496\",\"#c4b896\",\"#c45096\",\"#c4a496\",\"#c4c296\",\"#c4c096\",\"#c4b496\",\"#c49a96\",\"#c4a696\",\"#c4a896\",\"#c4c096\",\"#c49e96\",\"#c4a696\",\"#c49496\",\"#c4b696\",\"#c4be96\",\"#c4c496\",\"#c4c296\",\"#c4cc96\",\"#c4b896\",\"#c49c96\",\"#c49696\",\"#c4c496\",\"#c4b896\",\"#c4c096\",\"#c4ba96\",\"#c4b096\",\"#c4b696\",\"#c47c96\",\"#c4b496\",\"#c48296\",\"#c4ae96\",\"#c4b696\",\"#c4a696\",\"#c4a096\",\"#c4aa96\",\"#c46e96\",\"#c4b496\",\"#c4c096\",\"#c4b896\",\"#c4a096\",\"#c49496\",\"#c44696\",\"#c4ac96\",\"#c4ba96\",\"#c4b696\",\"#c4bc96\",\"#c4b896\",\"#c4ba96\",\"#c4b696\",\"#c4c896\",\"#c4b096\",\"#c4be96\",\"#c4a296\",\"#c4b496\",\"#c4c296\",\"#c4a296\",\"#c4b696\",\"#c4bc96\",\"#c4c096\",\"#c49296\",\"#c4b496\",\"#c4bc96\",\"#c4b096\",\"#c4bc96\",\"#c49896\",\"#c4c496\",\"#c4b896\",\"#c4bc96\",\"#c4a896\",\"#c4ba96\",\"#c4ba96\",\"#c4b896\",\"#c48e96\",\"#c4bc96\",\"#c48296\",\"#c4a496\",\"#c4be96\",\"#c4b496\",\"#c4a496\",\"#c4ba96\",\"#c49c96\",\"#c4b696\",\"#c4a096\",\"#c4a496\",\"#c4a296\",\"#c4ba96\",\"#c4a896\",\"#c4b496\",\"#c4a496\",\"#c49e96\",\"#c4b096\",\"#c4ba96\",\"#c4c896\",\"#c49c96\",\"#c4c496\",\"#c4ce96\",\"#c4b896\",\"#c4b296\",\"#c4b296\",\"#c4ae96\",\"#c4bc96\",\"#c4b296\",\"#c4b096\",\"#c4a096\",\"#c4a296\",\"#c48e96\",\"#c49696\",\"#c4ac96\",\"#c4b496\",\"#c4aa96\",\"#c4b896\",\"#c49896\",\"#c4b696\",\"#c4b896\",\"#c49496\",\"#c4b296\",\"#c4c696\",\"#c4be96\",\"#c48696\",\"#c4b096\",\"#c4b096\",\"#c4c496\",\"#c4a296\",\"#c4b496\",\"#c49696\",\"#c4b896\",\"#c49096\",\"#c48296\",\"#c4b096\",\"#c4c696\",\"#c48c96\",\"#c48e96\",\"#c4c496\",\"#c4a296\",\"#c4c296\",\"#c4a296\",\"#c4ae96\",\"#c4be96\",\"#c4c496\",\"#c4b496\",\"#c49496\",\"#c49496\",\"#c4ca96\",\"#c4a896\",\"#c4a696\",\"#c4b496\",\"#c4b896\",\"#c4a096\",\"#c4c096\",\"#c48096\",\"#c4a696\",\"#c4c696\",\"#c4a496\",\"#c4a896\",\"#c4c896\",\"#c4c896\",\"#c4ba96\",\"#c4b296\",\"#c4c296\",\"#c4b696\",\"#c4c696\",\"#c49e96\",\"#c4b896\",\"#c49a96\",\"#c4b496\",\"#c4b096\",\"#c4a696\",\"#c4b696\",\"#c4be96\",\"#c4ba96\",\"#c4be96\",\"#c4b496\",\"#c4a096\",\"#c4b896\",\"#c4b296\",\"#c4b496\",\"#c4bc96\",\"#c4b896\",\"#c4b096\",\"#c4a696\",\"#c4aa96\",\"#c4b296\",\"#c4b096\",\"#c4b096\",\"#c49c96\",\"#c4b496\",\"#c4b696\",\"#c4b296\",\"#c49096\",\"#c4b696\",\"#c48896\",\"#c4bc96\",\"#c4b296\",\"#c4ae96\",\"#c4aa96\",\"#c4c896\",\"#c4b496\",\"#c49e96\",\"#c4c896\",\"#c4b096\",\"#c4bc96\",\"#c4a296\",\"#c4b296\",\"#c49a96\",\"#c4c896\",\"#c4aa96\",\"#c44096\",\"#c4b296\",\"#c49496\",\"#c47696\",\"#c48096\",\"#c4ae96\",\"#c4b096\",\"#c4b096\",\"#c4ae96\",\"#c4aa96\",\"#c49c96\",\"#c4ac96\",\"#c48096\",\"#c4a096\",\"#c4c696\",\"#c48296\",\"#c49096\",\"#c4ba96\",\"#c4b496\",\"#c4a896\",\"#c4b896\",\"#c4b696\",\"#c4a296\",\"#c4a696\",\"#c4bc96\",\"#c4b696\",\"#c4b296\",\"#c4be96\",\"#c4ce96\",\"#c4ba96\",\"#c4a896\",\"#c4b896\",\"#c4c296\",\"#c49096\",\"#c4b296\",\"#c4a696\",\"#c49696\",\"#c48e96\",\"#c4ae96\",\"#c4a896\",\"#c48096\",\"#c46c96\",\"#c49496\",\"#c49c96\",\"#c4b896\",\"#c4a896\",\"#c4ac96\",\"#c4ac96\",\"#c4b096\",\"#c4b896\",\"#c48496\",\"#c4ac96\",\"#c4ce96\",\"#c47a96\",\"#c4b896\",\"#c48696\",\"#c46496\",\"#c4a696\",\"#c48096\",\"#c4a096\",\"#c4b096\",\"#c4ba96\",\"#c4b096\",\"#c4a096\",\"#c4ac96\",\"#c4b896\",\"#c4b896\",\"#c4c896\",\"#c4ca96\",\"#c4a096\",\"#c4c096\",\"#c4c296\",\"#c4a496\",\"#c4a896\",\"#c4aa96\",\"#c4ae96\",\"#c4bc96\",\"#c46096\",\"#c4a496\",\"#c4c296\",\"#c4a496\",\"#c4ca96\",\"#c47096\",\"#c4aa96\",\"#c4ac96\",\"#c4ae96\",\"#c49096\",\"#c4ae96\",\"#c47a96\",\"#c49a96\",\"#c49e96\",\"#c4ae96\",\"#c4aa96\",\"#c49096\",\"#c4a896\",\"#c4b096\",\"#c47e96\",\"#c4a696\",\"#c4ac96\",\"#c4b096\",\"#c48a96\",\"#c4b296\",\"#c4b096\",\"#c4ae96\",\"#c49a96\",\"#c4a696\",\"#c4a496\",\"#c4b496\",\"#c49696\",\"#c4b296\",\"#c4a296\",\"#c4c096\",\"#c48c96\",\"#c4a696\",\"#c4ca96\",\"#c4a896\",\"#c4b896\",\"#c4b496\",\"#c4cc96\",\"#c4c896\",\"#c4b096\",\"#c4ce96\",\"#c4be96\",\"#c4c096\",\"#c4ca96\",\"#c4ba96\",\"#c4ac96\",\"#c4a896\",\"#c4bc96\",\"#c48696\",\"#c4a896\",\"#c4c296\",\"#c4ba96\",\"#c4a696\",\"#c4ca96\",\"#c4d296\",\"#c49a96\",\"#c4ba96\",\"#c4c496\",\"#c4be96\",\"#c4aa96\",\"#c49a96\",\"#c4b496\",\"#c4a096\",\"#c4b296\",\"#c49896\",\"#c4be96\",\"#c4ae96\",\"#c4b896\",\"#c49e96\",\"#c4b096\",\"#c4b096\",\"#c4be96\",\"#c4b296\",\"#c4a896\",\"#c4b296\",\"#c49696\",\"#c49c96\",\"#c4b096\",\"#c4a696\",\"#c4ce96\",\"#c4a296\",\"#c4ae96\",\"#c4b296\",\"#c4ca96\",\"#c4b896\",\"#c4ac96\",\"#c4aa96\",\"#c4a096\",\"#c4bc96\",\"#c4b096\",\"#c48c96\",\"#c4be96\",\"#c49c96\",\"#c4bc96\",\"#c48c96\",\"#c4bc96\",\"#c49496\",\"#c4c896\",\"#c4b096\",\"#c4b896\",\"#c4a296\",\"#c49096\",\"#c49e96\",\"#c4ba96\",\"#c49496\",\"#c4ba96\",\"#c4b096\",\"#c4b296\",\"#c4b096\",\"#c4be96\",\"#c4ba96\",\"#c4c496\",\"#c4b496\",\"#c4ac96\",\"#c4b296\",\"#c49496\",\"#c4ba96\",\"#c4b896\",\"#c49696\",\"#c4b096\",\"#c4be96\",\"#c4a696\",\"#c4c096\",\"#c4ac96\",\"#c49496\",\"#c49a96\",\"#c4b096\",\"#c49a96\",\"#c49c96\",\"#c4c496\",\"#c49896\",\"#c4b496\",\"#c4d496\",\"#c48096\",\"#c49c96\",\"#c4c096\",\"#c4a096\",\"#c49696\",\"#c48096\",\"#c4b496\",\"#c45e96\",\"#c48a96\",\"#c4b096\",\"#c4c496\",\"#c4b496\",\"#c4a696\",\"#c4b296\",\"#c4be96\",\"#c4b296\",\"#c4ca96\",\"#c4a896\",\"#c4b296\",\"#c4ae96\",\"#c4a496\",\"#c4a896\",\"#c4b696\",\"#c4b496\",\"#c4b696\",\"#c4a696\",\"#c4b296\",\"#c4ba96\",\"#c4a896\",\"#c4b096\",\"#c4ae96\",\"#c49a96\",\"#c4a496\",\"#c4ba96\",\"#c4ca96\",\"#c4c096\",\"#c4b296\",\"#c4c896\",\"#c4b296\",\"#c4c096\",\"#c4a296\",\"#c4b896\",\"#c4b296\",\"#c4a696\",\"#c49a96\",\"#c4ac96\",\"#c4c496\",\"#c4b296\",\"#c4ae96\",\"#c4aa96\",\"#c47496\",\"#c4a496\",\"#c49c96\",\"#c46c96\",\"#c49496\",\"#c48496\",\"#c49896\",\"#c4ac96\",\"#c49096\",\"#c4ae96\",\"#c4c296\",\"#c4a696\",\"#c4be96\",\"#c4ce96\",\"#c47e96\",\"#c4ce96\",\"#c4ba96\",\"#c4ac96\",\"#c49a96\",\"#c4b896\",\"#c49c96\",\"#c4b296\",\"#c4aa96\",\"#c46096\",\"#c4ba96\",\"#c49a96\",\"#c4b296\",\"#c49296\",\"#c4b096\",\"#c49296\",\"#c4c896\",\"#c4be96\",\"#c48096\",\"#c4c896\",\"#c4ce96\",\"#c4c496\",\"#c4bc96\",\"#c4b296\",\"#c4b296\",\"#c4bc96\",\"#c4c296\",\"#c4b296\",\"#c4a096\",\"#c4ae96\",\"#c4b296\",\"#c4ae96\",\"#c49496\",\"#c4b296\",\"#c4ac96\",\"#c4a496\",\"#c49696\",\"#c4ae96\",\"#c4b696\",\"#c4b296\",\"#c4b496\",\"#c49e96\",\"#c4ba96\",\"#c49e96\",\"#c4a896\",\"#c4c296\",\"#c4be96\",\"#c4b096\",\"#c4c296\",\"#c4b296\",\"#c4b696\",\"#c4b496\",\"#c4b296\",\"#c4b096\",\"#c4ba96\",\"#c2c696\",\"#c2ae96\",\"#c2c496\",\"#c2b696\",\"#c2ba96\",\"#c2b696\",\"#c2c496\",\"#c29c96\",\"#c2ae96\",\"#c29496\",\"#c2ae96\",\"#c2c496\",\"#c2be96\",\"#c2a696\",\"#c2ba96\",\"#c29e96\",\"#c29896\",\"#c2ae96\",\"#c2c096\",\"#c2c096\",\"#c2ae96\",\"#c27696\",\"#c2aa96\",\"#c29c96\",\"#c2a096\",\"#c2c496\",\"#c2ae96\",\"#c2a896\",\"#c2c296\",\"#c29a96\",\"#c2ac96\",\"#c2bc96\",\"#c2b496\",\"#c2ae96\",\"#c2be96\",\"#c2a896\",\"#c2b296\",\"#c2c096\",\"#c2b096\",\"#c27296\",\"#c2ae96\",\"#c27e96\",\"#c28c96\",\"#c2b296\",\"#c2bc96\",\"#c24a96\",\"#c2b096\",\"#c2b496\",\"#c2b496\",\"#c27e96\",\"#c2a496\",\"#c29a96\",\"#c29e96\",\"#c2ba96\",\"#c2c696\",\"#c2bc96\",\"#c2c296\",\"#c2a096\",\"#c2ce96\",\"#c2aa96\",\"#c2bc96\",\"#c2b696\",\"#c2c496\",\"#c2b896\",\"#c2ca96\",\"#c2ac96\",\"#c2c896\",\"#c2be96\",\"#c29696\",\"#c2a896\",\"#c2b096\",\"#c2b296\",\"#c2c096\",\"#c2b496\",\"#c2a096\",\"#c29a96\",\"#c2c296\",\"#c2b696\",\"#c2b496\",\"#c2a696\",\"#c2be96\",\"#c2c296\",\"#c27496\",\"#c2a096\",\"#c2ae96\",\"#c2a496\",\"#c2aa96\",\"#c2a296\",\"#c29696\",\"#c29296\",\"#c2c696\",\"#c2ac96\",\"#c29896\",\"#c28a96\",\"#c2ba96\",\"#c2be96\",\"#c2a496\",\"#c28a96\",\"#c29696\",\"#c2b696\",\"#c2a896\",\"#c2a896\",\"#c2b896\",\"#c2b096\",\"#c29896\",\"#c2ba96\",\"#c2ce96\",\"#c2cc96\",\"#c2b296\",\"#c25896\",\"#c29e96\",\"#c2ac96\",\"#c2ba96\",\"#c2a096\",\"#c2b096\",\"#c29e96\",\"#c2b296\",\"#c26e96\",\"#c2ac96\",\"#c2b696\",\"#c2b296\",\"#c2b096\",\"#c2b896\",\"#c2bc96\",\"#c2a896\",\"#c28e96\",\"#c2a696\",\"#c2a296\",\"#c2ac96\",\"#c2a696\",\"#c2a496\",\"#c2be96\",\"#c2ae96\",\"#c2b296\",\"#c2c496\",\"#c2aa96\",\"#c2ba96\",\"#c2b896\",\"#c27e96\",\"#c28a96\",\"#c2b496\",\"#c2be96\",\"#c2a296\",\"#c2b896\",\"#c2c896\",\"#c2ca96\",\"#c2a896\",\"#c2b096\",\"#c2b296\",\"#c29e96\",\"#c29e96\",\"#c2aa96\",\"#c2a896\",\"#c29296\",\"#c28296\",\"#c2b096\",\"#c29e96\",\"#c2c296\",\"#c29696\",\"#c29496\",\"#c2a696\",\"#c29896\",\"#c27a96\",\"#c29296\",\"#c2a696\",\"#c2b896\",\"#c2ae96\",\"#c28696\",\"#c2aa96\",\"#c2b496\",\"#c29096\",\"#c2be96\",\"#c2be96\",\"#c2ac96\",\"#c2b896\",\"#c2b896\",\"#c2ba96\",\"#c2ba96\",\"#c2b896\",\"#c2b496\",\"#c2b696\",\"#c2b296\",\"#c2aa96\",\"#c2c496\",\"#c29896\",\"#c29496\",\"#c2a096\",\"#c26696\",\"#c2a496\",\"#c2b296\",\"#c2ce96\",\"#c2c696\",\"#c2bc96\",\"#c2ba96\",\"#c2ba96\",\"#c2ba96\",\"#c2ba96\",\"#c2a696\",\"#c28c96\",\"#c27c96\",\"#c2b296\",\"#c2a296\",\"#c2c496\",\"#c2ae96\",\"#c2b896\",\"#c28696\",\"#c2ba96\",\"#c2a096\",\"#c2bc96\",\"#c28096\",\"#c2c096\",\"#c2a896\",\"#c29c96\",\"#c2ba96\",\"#c2b696\",\"#c2be96\",\"#c2b896\",\"#c29696\",\"#c2a096\",\"#c2b296\",\"#c2a696\",\"#c2b496\",\"#c2b896\",\"#c2ba96\",\"#c2b696\",\"#c29496\",\"#c29696\",\"#c2a696\",\"#c2a896\",\"#c2bc96\",\"#c2a096\",\"#c2ac96\",\"#c2e096\",\"#c2b296\",\"#c2b096\",\"#c2b896\",\"#c2ba96\",\"#c2b096\",\"#c2be96\",\"#c29496\",\"#c2a096\",\"#c2b696\",\"#c29696\",\"#c2aa96\",\"#c28896\",\"#c2b296\",\"#c2ac96\",\"#c2aa96\",\"#c29296\",\"#c2c496\",\"#c2ba96\",\"#c2b096\",\"#c27e96\",\"#c2bc96\",\"#c2b696\",\"#c2ca96\",\"#c2c096\",\"#c2b096\",\"#c2a296\",\"#c2ae96\",\"#c25896\",\"#c28896\",\"#c27a96\",\"#c28c96\",\"#c2a096\",\"#c2ac96\",\"#c2b696\",\"#c2a896\",\"#c2aa96\",\"#c2a896\",\"#c28896\",\"#c27296\",\"#c2a296\",\"#c2b496\",\"#c2be96\",\"#c2aa96\",\"#c2be96\",\"#c2a496\",\"#c2ba96\",\"#c2b696\",\"#c28296\",\"#c2ba96\",\"#c2c096\",\"#c2b296\",\"#c28696\",\"#c2aa96\",\"#c2ba96\",\"#c2c896\",\"#c2b296\",\"#c2ac96\",\"#c2c096\",\"#c29296\",\"#c2c896\",\"#c2c096\",\"#c22e96\",\"#c2a496\",\"#c2aa96\",\"#c28096\",\"#c2ba96\",\"#c29496\",\"#c2a096\",\"#c2b296\",\"#c2c096\",\"#c2b496\",\"#c2aa96\",\"#c2ae96\",\"#c2a296\",\"#c2a096\",\"#c2a696\",\"#c2cc96\",\"#c2b296\",\"#c2b896\",\"#c2a896\",\"#c2c496\",\"#c29896\",\"#c2ae96\",\"#c27a96\",\"#c2c296\",\"#c27a96\",\"#c27296\",\"#c23296\",\"#c2b096\",\"#c29496\",\"#c2b296\",\"#c28e96\",\"#c2a096\",\"#c2c496\",\"#c2a896\",\"#c2a496\",\"#c2b296\",\"#c29696\",\"#c2aa96\",\"#c29a96\",\"#c2b296\",\"#c2ca96\",\"#c2b896\",\"#c2ae96\",\"#c2bc96\",\"#c29296\",\"#c2b496\",\"#c2b896\",\"#c2c496\",\"#c2ba96\",\"#c2b896\",\"#c2c496\",\"#c2ca96\",\"#c2a896\",\"#c2c296\",\"#c2bc96\",\"#c2b096\",\"#c2c896\",\"#c2aa96\",\"#c2b896\",\"#c29496\",\"#c2ae96\",\"#c2a496\",\"#c2a296\",\"#c27a96\",\"#c2ae96\",\"#c2ae96\",\"#c2b696\",\"#c2b696\",\"#c2c296\",\"#c2cc96\",\"#c2ae96\",\"#c2be96\",\"#c2b296\",\"#c29e96\",\"#c2b896\",\"#c2b896\",\"#c2a696\",\"#c29096\",\"#c2b496\",\"#c2b096\",\"#c2a496\",\"#c2b696\",\"#c29896\",\"#c2c896\",\"#c2bc96\",\"#c29a96\",\"#c27c96\",\"#c27c96\",\"#c2ba96\",\"#c2b896\",\"#c29296\",\"#c29a96\",\"#c2ce96\",\"#c2c896\",\"#c2c296\",\"#c27e96\",\"#c2a896\",\"#c2ae96\",\"#c2ac96\",\"#c2b296\",\"#c29e96\",\"#c2c096\",\"#c2b496\",\"#c2b496\",\"#c2b896\",\"#c2b496\",\"#c2ac96\",\"#c2b496\",\"#c2be96\",\"#c27e96\",\"#c2a896\",\"#c2a496\",\"#c25496\",\"#c2b296\",\"#c2b896\",\"#c2c496\",\"#c2a096\",\"#c29896\",\"#c2c896\",\"#c28e96\",\"#c2a096\",\"#c2b096\",\"#c2ae96\",\"#c2b496\",\"#c2a296\",\"#c29c96\",\"#c29896\",\"#c2a096\",\"#c2ac96\",\"#c2a896\",\"#c28a96\",\"#c2b296\",\"#c28e96\",\"#c29c96\",\"#c2b696\",\"#c2a696\",\"#c2aa96\",\"#c2a096\",\"#c2ba96\",\"#c2b496\",\"#c29e96\",\"#c2b096\",\"#c2ae96\",\"#c2b096\",\"#c25e96\",\"#c2ba96\",\"#c2b896\",\"#c2ae96\",\"#c2ae96\",\"#c2ba96\",\"#c2a096\",\"#c2c296\",\"#c2b096\",\"#c2b696\",\"#c2a496\",\"#c2a296\",\"#c2b496\",\"#c27a96\",\"#c2ac96\",\"#c2ba96\",\"#c2cc96\",\"#c29896\",\"#c2ac96\",\"#c2ae96\",\"#c2b896\",\"#c2b496\",\"#c2ba96\",\"#c28a96\",\"#c27c96\",\"#c2aa96\",\"#c29e96\",\"#c29c96\",\"#c2be96\",\"#c2b296\",\"#c2a496\",\"#c2a296\",\"#c29896\",\"#c2c096\",\"#c2b496\",\"#c2c496\",\"#c28896\",\"#c2aa96\",\"#c29096\",\"#c2b896\",\"#c2ae96\",\"#c2a896\",\"#c29c96\",\"#c2a296\",\"#c29696\",\"#c2aa96\",\"#c2a896\",\"#c28896\",\"#c2bc96\",\"#c2ac96\",\"#c2b496\",\"#c2b896\",\"#c2c696\",\"#c2be96\",\"#c26e96\",\"#c2a296\",\"#c2c696\",\"#c2b096\",\"#c29496\",\"#c2a096\",\"#c2ac96\",\"#c2b096\",\"#c29296\",\"#c2a496\",\"#c27296\",\"#c2b296\",\"#c2b696\",\"#c28c96\",\"#c2a096\",\"#c2c096\",\"#c2b496\",\"#c29a96\",\"#c2ce96\",\"#c2ba96\",\"#c29296\",\"#c2b696\",\"#c2a896\",\"#c27696\",\"#c2c096\",\"#c2aa96\",\"#c2ac96\",\"#c2b896\",\"#c2b696\",\"#c2b496\",\"#c2ba96\",\"#c2aa96\",\"#c29a96\",\"#c2aa96\",\"#c2c296\",\"#c2ae96\",\"#c2b496\",\"#c2b696\",\"#c28c96\",\"#c2b696\",\"#c2ae96\",\"#c2b096\",\"#c2b096\",\"#c2ba96\",\"#c26496\",\"#c25c96\",\"#c2ac96\",\"#c29c96\",\"#c2b096\",\"#c2a496\",\"#c2a896\",\"#c2c496\",\"#c27a96\",\"#c2c696\",\"#c2b496\",\"#c28e96\",\"#c2a496\",\"#c29496\",\"#c29296\",\"#c2ae96\",\"#c2c096\",\"#c23c96\",\"#c2aa96\",\"#c28e96\",\"#c2ae96\",\"#c2ac96\",\"#c2cc96\",\"#c2bc96\",\"#c2c496\",\"#c2b496\",\"#c2c096\",\"#c2a496\",\"#c29e96\",\"#c2ae96\",\"#c2a096\",\"#c2ca96\",\"#c29c96\",\"#c2ac96\",\"#c2b896\",\"#c28896\",\"#c29496\",\"#c2a696\",\"#c2a096\",\"#c29c96\",\"#c2b696\",\"#c29c96\",\"#c2aa96\",\"#c2a896\",\"#c2b296\",\"#c2c696\",\"#c2aa96\",\"#c2ba96\",\"#c2c496\",\"#c2be96\",\"#c29896\",\"#c2b696\",\"#c2a696\",\"#c27696\",\"#c2bc96\",\"#c2b896\",\"#c27a96\",\"#c2a896\",\"#c2b096\",\"#c2aa96\",\"#c2ae96\",\"#c2b096\",\"#c2b496\",\"#c2a296\",\"#c28696\",\"#c2a296\",\"#c27896\",\"#c2b896\",\"#c2b296\",\"#c2b296\",\"#c2a696\",\"#c2b696\",\"#c2ca96\",\"#c2ae96\",\"#c2c096\",\"#c2c696\",\"#c0a896\",\"#c0ac96\",\"#c0be96\",\"#c0a496\",\"#c0ce96\",\"#c08c96\",\"#c08696\",\"#c0ac96\",\"#c0b696\",\"#c09496\",\"#c09c96\",\"#c09a96\",\"#c0b496\",\"#c09c96\",\"#c0c296\",\"#c0b296\",\"#c0aa96\",\"#c0a096\",\"#c09e96\",\"#c0b096\",\"#c0aa96\",\"#c09096\",\"#c09e96\",\"#c08696\",\"#c0ae96\",\"#c0b496\",\"#c0ae96\",\"#c0b096\",\"#c0aa96\",\"#c0b496\",\"#c0a696\",\"#c06a96\",\"#c0b896\",\"#c0a696\",\"#c0c296\",\"#c0a296\",\"#c0be96\",\"#c0c296\",\"#c07a96\",\"#c0a896\",\"#c06c96\",\"#c09c96\",\"#c0be96\",\"#c0ba96\",\"#c0c896\",\"#c0cc96\",\"#c0c296\",\"#c0b696\",\"#c0a696\",\"#c0a896\",\"#c0b496\",\"#c0b896\",\"#c0b296\",\"#c0c896\",\"#c0a896\",\"#c0b496\",\"#c0ca96\",\"#c09c96\",\"#c0a296\",\"#c0ae96\",\"#c0ca96\",\"#c0aa96\",\"#c0c096\",\"#c0be96\",\"#c09c96\",\"#c0aa96\",\"#c09c96\",\"#c0ae96\",\"#c09696\",\"#c09e96\",\"#c0b496\",\"#c09896\",\"#c0b896\",\"#c0ae96\",\"#c0b096\",\"#c07296\",\"#c09e96\",\"#c0b296\",\"#c09496\",\"#c0a896\",\"#c07e96\",\"#c0b096\",\"#c0c496\",\"#c09a96\",\"#c0a296\",\"#c09296\",\"#c09a96\",\"#c0ae96\",\"#c0b096\",\"#c0ae96\",\"#c0ba96\",\"#c0b296\",\"#c0ae96\",\"#c0ac96\",\"#c0a096\",\"#c0bc96\",\"#c09696\",\"#c0aa96\",\"#c0b696\",\"#c0b496\",\"#c09a96\",\"#c0b296\",\"#c09096\",\"#c09a96\",\"#c0aa96\",\"#c0aa96\",\"#c0b296\",\"#c09496\",\"#c09c96\",\"#c0c096\",\"#c0c096\",\"#c08e96\",\"#c0ce96\",\"#c0b096\",\"#c0b496\",\"#c0aa96\",\"#c0bc96\",\"#c0c896\",\"#c05696\",\"#c0b096\",\"#c0a696\",\"#c08a96\",\"#c0b896\",\"#c0aa96\",\"#c0be96\",\"#c0be96\",\"#c0ba96\",\"#c0c096\",\"#c0b896\",\"#c09696\",\"#c0cc96\",\"#c0b896\",\"#c0bc96\",\"#c0a496\",\"#c08096\",\"#c0a896\",\"#c0b096\",\"#c0c296\",\"#c0aa96\",\"#c0b696\",\"#c0a496\",\"#c09e96\",\"#c0b096\",\"#c0be96\",\"#c0a696\",\"#c09496\",\"#c0b096\",\"#c0ae96\",\"#c08e96\",\"#c0ba96\",\"#c0a696\",\"#c0a096\",\"#c0b496\",\"#c0ac96\",\"#c0b296\",\"#c0ac96\",\"#c0b696\",\"#c0b296\",\"#c09096\",\"#c08e96\",\"#c0b096\",\"#c0a696\",\"#c09496\",\"#c0c496\",\"#c0b896\",\"#c09a96\",\"#c0ae96\",\"#c0b896\",\"#c09e96\",\"#c0b696\",\"#c09296\",\"#c0a496\",\"#c0b696\",\"#c0bc96\",\"#c0ca96\",\"#c0b096\",\"#c0c896\",\"#c0a096\",\"#c0a896\",\"#c07496\",\"#c0c696\",\"#c0a896\",\"#c0b296\",\"#c0aa96\",\"#c0aa96\",\"#c09296\",\"#c0be96\",\"#c09a96\",\"#c0ca96\",\"#c08896\",\"#c08896\",\"#c0ac96\",\"#c0b096\",\"#c09896\",\"#c09096\",\"#c0ba96\",\"#c09a96\",\"#c0c096\",\"#c0ac96\",\"#c0aa96\",\"#c0a896\",\"#c0bc96\",\"#c0a096\",\"#c0a496\",\"#c0b296\",\"#c07896\",\"#c0a696\",\"#c0aa96\",\"#c0ac96\",\"#c09296\",\"#c0b696\",\"#c08496\",\"#c0a696\",\"#c0b496\",\"#c0b296\",\"#c0aa96\",\"#c09e96\",\"#c0a296\",\"#c0be96\",\"#c09a96\",\"#c0c096\",\"#c0a896\",\"#c08e96\",\"#c09a96\",\"#c0be96\",\"#c0b896\",\"#c0ac96\",\"#c0ac96\",\"#c09e96\",\"#c0ca96\",\"#c0aa96\",\"#c0be96\",\"#c0b296\",\"#c0b296\",\"#c0c296\",\"#c0a696\",\"#c0ba96\",\"#c0b496\",\"#c0aa96\",\"#c09c96\",\"#c0bc96\",\"#c0b096\",\"#c09296\",\"#c0a096\",\"#c0b496\",\"#c09096\",\"#c0ae96\",\"#c0be96\",\"#c09296\",\"#c09a96\",\"#c07696\",\"#c09296\",\"#c0b296\",\"#c0cc96\",\"#c0ac96\",\"#c08896\",\"#c0ae96\",\"#c0ce96\",\"#c0c096\",\"#c0ca96\",\"#c08696\",\"#c0c296\",\"#c08c96\",\"#c07296\",\"#c0b096\",\"#c0ac96\",\"#c09c96\",\"#c0b296\",\"#c0a096\",\"#c0c896\",\"#c0c096\",\"#c0c696\",\"#c0b096\",\"#c09c96\",\"#c0bc96\",\"#c0ba96\",\"#c0b296\",\"#c0a296\",\"#c0ae96\",\"#c0ae96\",\"#c0a496\",\"#c0a896\",\"#c0a696\",\"#c0b296\",\"#c07a96\",\"#c0b296\",\"#c0aa96\",\"#c0b496\",\"#c0a896\",\"#c0aa96\",\"#c09296\",\"#c0a296\",\"#c09696\",\"#c0b296\",\"#c0ae96\",\"#c0b896\",\"#c0b296\",\"#c0c896\",\"#c0a896\",\"#c0ba96\",\"#c0cc96\",\"#c0ba96\",\"#c0c296\",\"#c0a296\",\"#c0aa96\",\"#c0b896\",\"#c0aa96\",\"#c0b296\",\"#c0b696\",\"#c0ae96\",\"#c08896\",\"#c0b896\",\"#c09a96\",\"#c0b096\",\"#c09c96\",\"#c0c096\",\"#c0b296\",\"#c0b096\",\"#c0b296\",\"#c0c696\",\"#c07496\",\"#c0ac96\",\"#c0a496\",\"#c08c96\",\"#c0ac96\",\"#c08c96\",\"#c09c96\",\"#c0b296\",\"#c0c096\",\"#c0ac96\",\"#c0be96\",\"#c0bc96\",\"#c07696\",\"#c09696\",\"#c0c496\",\"#c0ac96\",\"#c0a896\",\"#c0a896\",\"#c0a496\",\"#c0b296\",\"#c0b096\",\"#c0c896\",\"#c09e96\",\"#c0b896\",\"#c0a296\",\"#c0c696\",\"#c0cc96\",\"#c0c296\",\"#c0ce96\",\"#c0ac96\",\"#c09496\",\"#c0aa96\",\"#c0c296\",\"#c08896\",\"#c0aa96\",\"#c0c096\",\"#c09496\",\"#c08296\",\"#c0a296\",\"#c0a296\",\"#c0b496\",\"#c0ac96\",\"#c08e96\",\"#c0aa96\",\"#c0b096\",\"#c0b096\",\"#c09c96\",\"#c09c96\",\"#c0aa96\",\"#c0b096\",\"#c0ae96\",\"#c09696\",\"#c0ac96\",\"#c0bc96\",\"#c0b496\",\"#c0b296\",\"#c09e96\",\"#c0be96\",\"#c0b496\",\"#c09696\",\"#c08a96\",\"#c0ba96\",\"#c0a096\",\"#c0bc96\",\"#c0b696\",\"#c0b696\",\"#c0b296\",\"#c0c496\",\"#c08096\",\"#c09a96\",\"#c09296\",\"#c0c096\",\"#c0be96\",\"#c0a696\",\"#c0ba96\",\"#c0aa96\",\"#c0ae96\",\"#c0a696\",\"#c0b096\",\"#c0b296\",\"#c0ac96\",\"#c0b696\",\"#c0c096\",\"#c0c696\",\"#c0c496\",\"#c0b496\",\"#c08c96\",\"#c0a696\",\"#c0c096\",\"#c0be96\",\"#c0b496\",\"#c0bc96\",\"#c0a896\",\"#c0ac96\",\"#c0ae96\",\"#c09e96\",\"#c0a296\",\"#c0cc96\",\"#c0b096\",\"#c0b296\",\"#c0ca96\",\"#c09096\",\"#c09496\",\"#c0c896\",\"#c0c496\",\"#c0ae96\",\"#c0c096\",\"#c0a496\",\"#c0b496\",\"#c0b896\",\"#c0ba96\",\"#c0b096\",\"#c04096\",\"#c0b096\",\"#c0b296\",\"#c0ba96\",\"#c0b696\",\"#c0b896\",\"#c0b096\",\"#c09c96\",\"#c09a96\",\"#c0a096\",\"#c09696\",\"#c09496\",\"#c0b696\",\"#c08096\",\"#c0b896\",\"#c0c296\",\"#c0be96\",\"#c0a896\",\"#c0ba96\",\"#c0ae96\",\"#c0a696\",\"#c0b096\",\"#c09696\",\"#c0b496\",\"#c09a96\",\"#c0ca96\",\"#c0c296\",\"#c0b096\",\"#c0c096\",\"#c0b496\",\"#c0b696\",\"#c0b496\",\"#c0a896\",\"#c0ba96\",\"#c0a696\",\"#c0b696\",\"#c05696\",\"#c0a296\",\"#c0ae96\",\"#c0aa96\",\"#c0a296\",\"#c0ac96\",\"#c0b096\",\"#c0b096\",\"#c0a096\",\"#c09696\",\"#c0ac96\",\"#c0ac96\",\"#c0ba96\",\"#c0ba96\",\"#c09c96\",\"#c09096\",\"#c0aa96\",\"#c0b296\",\"#c0b696\",\"#c0be96\",\"#c0aa96\",\"#c09896\",\"#c0be96\",\"#c08096\",\"#c09a96\",\"#c0c296\",\"#c0be96\",\"#c07e96\",\"#c0b096\",\"#c09496\",\"#c0b696\",\"#c0be96\",\"#c0bc96\",\"#c0b896\",\"#c0a696\",\"#c0aa96\",\"#c0b296\",\"#c0a096\",\"#c0b896\",\"#c0c896\",\"#c0a696\",\"#c0ac96\",\"#c07896\",\"#c0b896\",\"#c0ac96\",\"#c0a096\",\"#c0be96\",\"#c0a496\",\"#c0b296\",\"#c0a696\",\"#c09c96\",\"#c0bc96\",\"#c0ae96\",\"#c0b696\",\"#c0ba96\",\"#c0cc96\",\"#c0ba96\",\"#c0a896\",\"#c0c296\",\"#c0b696\",\"#c09a96\",\"#c0c696\",\"#c07c96\",\"#c0a096\",\"#c09e96\",\"#c0c096\",\"#c09896\",\"#c0b496\",\"#c07c96\",\"#c08696\",\"#c0b296\",\"#c09096\",\"#c08696\",\"#c0a696\",\"#c0b296\",\"#c09a96\",\"#c09496\",\"#c0c496\",\"#c0a896\",\"#c0bc96\",\"#c0aa96\",\"#c0c896\",\"#c07296\",\"#c0a496\",\"#c0a496\",\"#c0b096\",\"#c0ae96\",\"#c0c096\",\"#c0b896\",\"#c09c96\",\"#c09096\",\"#c0c696\",\"#c07496\",\"#c09c96\",\"#c0a496\",\"#c0b296\",\"#c0a496\",\"#c07e96\",\"#c0a696\",\"#c0a896\",\"#c0b896\",\"#c0aa96\",\"#c0ac96\",\"#c08e96\",\"#c0a896\",\"#c06096\",\"#c07a96\",\"#c0a696\",\"#c09e96\",\"#c0ae96\",\"#c0be96\",\"#c0b696\",\"#c0c696\",\"#c0c496\",\"#c0a696\",\"#c0c096\",\"#c0ba96\",\"#c0c696\",\"#c0be96\",\"#c0cc96\",\"#be9c96\",\"#bea696\",\"#beb896\",\"#bec296\",\"#beb496\",\"#beb696\",\"#bea696\",\"#be7696\",\"#bea096\",\"#be9a96\",\"#beba96\",\"#beb496\",\"#be9696\",\"#beae96\",\"#be9096\",\"#bea096\",\"#beb696\",\"#bea096\",\"#bec896\",\"#be9c96\",\"#be9e96\",\"#be9696\",\"#be9696\",\"#beb496\",\"#be6496\",\"#bebc96\",\"#bea696\",\"#be9096\",\"#be9496\",\"#beaa96\",\"#be9c96\",\"#bea296\",\"#bea896\",\"#beaa96\",\"#be8096\",\"#bec496\",\"#be9696\",\"#beb496\",\"#bec296\",\"#bec096\",\"#beb896\",\"#bed096\",\"#beb896\",\"#bece96\",\"#beb296\",\"#bebc96\",\"#beac96\",\"#beca96\",\"#beb896\",\"#be9e96\",\"#be6e96\",\"#bec296\",\"#beb096\",\"#bea696\",\"#beaa96\",\"#bea496\",\"#beac96\",\"#bebc96\",\"#bec296\",\"#beb096\",\"#bea296\",\"#be9696\",\"#beac96\",\"#be9c96\",\"#beb096\",\"#beae96\",\"#beb296\",\"#beb896\",\"#bebe96\",\"#beb096\",\"#be9696\",\"#be7c96\",\"#beba96\",\"#be9e96\",\"#be6c96\",\"#beba96\",\"#bea896\",\"#beb696\",\"#beac96\",\"#be9696\",\"#beb296\",\"#beba96\",\"#be9496\",\"#bebc96\",\"#beac96\",\"#be9e96\",\"#beb696\",\"#be9696\",\"#bebe96\",\"#beba96\",\"#beca96\",\"#be7096\",\"#beca96\",\"#be9296\",\"#be9c96\",\"#be9096\",\"#beb096\",\"#beaa96\",\"#beac96\",\"#bea696\",\"#bea496\",\"#bec496\",\"#becc96\",\"#be4696\",\"#beac96\",\"#beac96\",\"#bec896\",\"#beb496\",\"#beb896\",\"#bea296\",\"#beca96\",\"#beb296\",\"#be8e96\",\"#beb896\",\"#beae96\",\"#be8a96\",\"#bea296\",\"#be8a96\",\"#bea496\",\"#beb096\",\"#beb896\",\"#bea096\",\"#be8696\",\"#beb896\",\"#be9296\",\"#beaa96\",\"#beba96\",\"#be8a96\",\"#bebe96\",\"#beba96\",\"#bea096\",\"#beb896\",\"#beae96\",\"#beaa96\",\"#beba96\",\"#bea296\",\"#be6896\",\"#beac96\",\"#beb296\",\"#beb296\",\"#beb696\",\"#beb296\",\"#bea896\",\"#beac96\",\"#beb096\",\"#be8296\",\"#bebc96\",\"#bebc96\",\"#beb696\",\"#beb496\",\"#bec096\",\"#bea696\",\"#bec496\",\"#becc96\",\"#beac96\",\"#bec896\",\"#beb896\",\"#bece96\",\"#bec296\",\"#be6496\",\"#beb896\",\"#be8a96\",\"#bea096\",\"#beb496\",\"#beb296\",\"#bec096\",\"#bea096\",\"#bea696\",\"#be9e96\",\"#be8496\",\"#be9696\",\"#beb496\",\"#beaa96\",\"#beb496\",\"#bec696\",\"#be9a96\",\"#bea896\",\"#be9e96\",\"#bea096\",\"#bea696\",\"#bea896\",\"#be9696\",\"#bea096\",\"#beae96\",\"#bea696\",\"#be9e96\",\"#bea096\",\"#be9e96\",\"#be8696\",\"#be5e96\",\"#be8a96\",\"#beb696\",\"#be9496\",\"#bea896\",\"#be8896\",\"#bea296\",\"#be6a96\",\"#be8896\",\"#bebc96\",\"#beac96\",\"#bec496\",\"#bebc96\",\"#bec496\",\"#be9c96\",\"#bea096\",\"#bec096\",\"#be9c96\",\"#beae96\",\"#be9296\",\"#bec096\",\"#beb496\",\"#beac96\",\"#be8a96\",\"#bea896\",\"#bea696\",\"#beb896\",\"#be9c96\",\"#bec496\",\"#be8e96\",\"#be9896\",\"#bec696\",\"#bea696\",\"#beb696\",\"#bec096\",\"#bea696\",\"#be8c96\",\"#bea096\",\"#beb896\",\"#beba96\",\"#bec696\",\"#be9c96\",\"#bebc96\",\"#beb096\",\"#beae96\",\"#beac96\",\"#bea296\",\"#bea096\",\"#bec896\",\"#be2a96\",\"#be9c96\",\"#be8e96\",\"#be3296\",\"#bea296\",\"#bea296\",\"#be9496\",\"#be8896\",\"#be8c96\",\"#be8a96\",\"#beb896\",\"#bea696\",\"#be9e96\",\"#beb896\",\"#bebc96\",\"#beb296\",\"#be9896\",\"#be9896\",\"#beac96\",\"#be9e96\",\"#be9696\",\"#beb896\",\"#be9096\",\"#beb496\",\"#beb296\",\"#beb896\",\"#beae96\",\"#beb296\",\"#beae96\",\"#be8e96\",\"#beb296\",\"#beba96\",\"#beae96\",\"#beae96\",\"#be9e96\",\"#bec296\",\"#beb496\",\"#be9896\",\"#be9496\",\"#beba96\",\"#be9c96\",\"#be9e96\",\"#becc96\",\"#bec296\",\"#beb896\",\"#be9896\",\"#beaa96\",\"#beb496\",\"#beaa96\",\"#beb496\",\"#beca96\",\"#be9296\",\"#be9896\",\"#beb496\",\"#bec296\",\"#bea696\",\"#beb896\",\"#beae96\",\"#be8296\",\"#be8a96\",\"#bec696\",\"#bec496\",\"#be9c96\",\"#bee096\",\"#be9496\",\"#beac96\",\"#bebc96\",\"#beb096\",\"#be8896\",\"#bea696\",\"#beb296\",\"#beac96\",\"#beae96\",\"#beaa96\",\"#beb096\",\"#beaa96\",\"#beaa96\",\"#beaa96\",\"#be9496\",\"#be7296\",\"#beac96\",\"#beba96\",\"#bea496\",\"#beac96\",\"#bea896\",\"#bea096\",\"#beae96\",\"#beb496\",\"#beae96\",\"#be9a96\",\"#beb696\",\"#be8e96\",\"#beb696\",\"#beaa96\",\"#bebe96\",\"#beae96\",\"#be9c96\",\"#beb096\",\"#beca96\",\"#beb496\",\"#be9896\",\"#be9496\",\"#bec096\",\"#beba96\",\"#beae96\",\"#bea896\",\"#bea096\",\"#be9a96\",\"#beae96\",\"#be8c96\",\"#bea096\",\"#be6c96\",\"#bec296\",\"#be7e96\",\"#beb696\",\"#be9896\",\"#bec096\",\"#be7c96\",\"#bec096\",\"#bec696\",\"#bea496\",\"#bea496\",\"#be9296\",\"#be9a96\",\"#beba96\",\"#bebe96\",\"#be8a96\",\"#be6896\",\"#bebe96\",\"#beaa96\",\"#bec696\",\"#bec296\",\"#beae96\",\"#bec896\",\"#becc96\",\"#beb096\",\"#bea896\",\"#be9096\",\"#bec696\",\"#beb096\",\"#beaa96\",\"#be8296\",\"#bec296\",\"#be9e96\",\"#beb696\",\"#beba96\",\"#be9496\",\"#be9e96\",\"#beaa96\",\"#be9696\",\"#be7296\",\"#beaa96\",\"#be8c96\",\"#be8696\",\"#bebe96\",\"#bea696\",\"#bec296\",\"#beb096\",\"#beb896\",\"#beb296\",\"#bea896\",\"#beb496\",\"#beb896\",\"#be9296\",\"#becc96\",\"#bec496\",\"#beb896\",\"#bec096\",\"#beba96\",\"#beba96\",\"#beba96\",\"#beba96\",\"#be9e96\",\"#be9c96\",\"#be9c96\",\"#bec696\",\"#beb496\",\"#bea096\",\"#bea696\",\"#bea096\",\"#be9096\",\"#bec696\",\"#beb296\",\"#be6896\",\"#be8a96\",\"#bea296\",\"#beb296\",\"#be8e96\",\"#be8c96\",\"#be9696\",\"#beb096\",\"#bebc96\",\"#beaa96\",\"#beb296\",\"#bea296\",\"#beb496\",\"#beae96\",\"#bea896\",\"#beb096\",\"#be9c96\",\"#bea696\",\"#bebc96\",\"#beb096\",\"#bebe96\",\"#beae96\",\"#beb096\",\"#be4c96\",\"#bec296\",\"#be9e96\",\"#beba96\",\"#beb296\",\"#be9096\",\"#beaa96\",\"#beb696\",\"#bec296\",\"#beb096\",\"#bec696\",\"#beb896\",\"#bec096\",\"#beb096\",\"#beba96\",\"#be8496\",\"#beba96\",\"#be9896\",\"#beb296\",\"#beb896\",\"#beae96\",\"#be7096\",\"#be8c96\",\"#beb096\",\"#be8496\",\"#bea496\",\"#bea096\",\"#be7896\",\"#be9496\",\"#bea496\",\"#beba96\",\"#be4c96\",\"#be9a96\",\"#be9e96\",\"#be9896\",\"#beb696\",\"#bea096\",\"#beba96\",\"#be9296\",\"#be9896\",\"#bea096\",\"#be9c96\",\"#be8e96\",\"#bea696\",\"#bea696\",\"#be9c96\",\"#bea096\",\"#beac96\",\"#be8e96\",\"#be8e96\",\"#bec496\",\"#beb496\",\"#beae96\",\"#bebe96\",\"#beae96\",\"#bea296\",\"#bea496\",\"#beb096\",\"#be4696\",\"#beac96\",\"#beb496\",\"#beca96\",\"#be9696\",\"#be8c96\",\"#bebe96\",\"#bea896\",\"#beb696\",\"#beb896\",\"#bebe96\",\"#beb296\",\"#beb496\",\"#beb896\",\"#bea096\",\"#bec496\",\"#be8296\",\"#beae96\",\"#be9c96\",\"#bec696\",\"#be9096\",\"#beaa96\",\"#bec296\",\"#bebc96\",\"#be9296\",\"#bea696\",\"#bec696\",\"#becc96\",\"#beb096\",\"#bea096\",\"#beb496\",\"#beb096\",\"#bebe96\",\"#bea696\",\"#beb896\",\"#beb896\",\"#beac96\",\"#be9496\",\"#bec496\",\"#beb096\",\"#be9c96\",\"#bebe96\",\"#beb496\",\"#be9896\",\"#be9c96\",\"#beb096\",\"#be8096\",\"#beb896\",\"#bebe96\",\"#be9e96\",\"#beca96\",\"#be5696\",\"#bea896\",\"#bea696\",\"#beb496\",\"#be9096\",\"#beae96\",\"#bea696\",\"#bea696\",\"#bea896\",\"#beb096\",\"#bea696\",\"#bec496\",\"#bece96\",\"#bec096\",\"#beb296\",\"#bcba96\",\"#bcae96\",\"#bcae96\",\"#bcc496\",\"#bcae96\",\"#bcb896\",\"#bc9696\",\"#bc7096\",\"#bc9896\",\"#bc6c96\",\"#bcba96\",\"#bc9c96\",\"#bcaa96\",\"#bcb496\",\"#bcc496\",\"#bcc496\",\"#bc9e96\",\"#bcaa96\",\"#bcc096\",\"#bca496\",\"#bcc896\",\"#bc9a96\",\"#bcb096\",\"#bcbe96\",\"#bcc496\",\"#bcb696\",\"#bcb296\",\"#bcc096\",\"#bc2896\",\"#bcc896\",\"#bc6496\",\"#bca696\",\"#bcbc96\",\"#bc9096\",\"#bcaa96\",\"#bcb696\",\"#bc4c96\",\"#bcaa96\",\"#bca496\",\"#bcbc96\",\"#bca896\",\"#bc9096\",\"#bca696\",\"#bcbe96\",\"#bcae96\",\"#bcc296\",\"#bcb096\",\"#bc7896\",\"#bca696\",\"#bc8c96\",\"#bcb696\",\"#bcc696\",\"#bc9896\",\"#bca296\",\"#bc6896\",\"#bcae96\",\"#bcb696\",\"#bc9096\",\"#bcb096\",\"#bcb096\",\"#bc7896\",\"#bcbe96\",\"#bc8c96\",\"#bcbe96\",\"#bca096\",\"#bc7a96\",\"#bcde96\",\"#bca696\",\"#bca896\",\"#bc9696\",\"#bc4e96\",\"#bc9496\",\"#bcac96\",\"#bca096\",\"#bcc096\",\"#bc9496\",\"#bccc96\",\"#bcaa96\",\"#bc5c96\",\"#bcaa96\",\"#bcb096\",\"#bca696\",\"#bcae96\",\"#bcac96\",\"#bcb696\",\"#bcbc96\",\"#bcc496\",\"#bcbe96\",\"#bc9296\",\"#bcb696\",\"#bc8a96\",\"#bcbc96\",\"#bc9896\",\"#bcb096\",\"#bccc96\",\"#bcb696\",\"#bcc096\",\"#bcba96\",\"#bcac96\",\"#bcb896\",\"#bcae96\",\"#bcb696\",\"#bcc496\",\"#bcb696\",\"#bcbe96\",\"#bcae96\",\"#bc9696\",\"#bca696\",\"#bca696\",\"#bca896\",\"#bcac96\",\"#bcac96\",\"#bca496\",\"#bcb096\",\"#bca896\",\"#bc7896\",\"#bcc096\",\"#bcbe96\",\"#bcb096\",\"#bcb896\",\"#bcca96\",\"#bcbc96\",\"#bc9e96\",\"#bcb296\",\"#bca296\",\"#bcaa96\",\"#bca896\",\"#bc9a96\",\"#bcba96\",\"#bca896\",\"#bcc296\",\"#bc9c96\",\"#bc8696\",\"#bc9e96\",\"#bcb896\",\"#bca496\",\"#bcc296\",\"#bcb496\",\"#bcc096\",\"#bcb096\",\"#bcbe96\",\"#bcaa96\",\"#bcaa96\",\"#bcbe96\",\"#bcb696\",\"#bcc096\",\"#bcbe96\",\"#bcc896\",\"#bcba96\",\"#bcc696\",\"#bc8296\",\"#bcaa96\",\"#bc9a96\",\"#bc6496\",\"#bcae96\",\"#bcb896\",\"#bcaa96\",\"#bc9896\",\"#bcb496\",\"#bcb296\",\"#bc7296\",\"#bc9096\",\"#bcae96\",\"#bca696\",\"#bca096\",\"#bcae96\",\"#bcb096\",\"#bcac96\",\"#bcbe96\",\"#bc9096\",\"#bcca96\",\"#bcb096\",\"#bc9096\",\"#bcc096\",\"#bca496\",\"#bcae96\",\"#bcb696\",\"#bcb496\",\"#bc8096\",\"#bcb496\",\"#bcc096\",\"#bc9296\",\"#bcaa96\",\"#bcd296\",\"#bcb896\",\"#bc8e96\",\"#bcaa96\",\"#bcaa96\",\"#bcaa96\",\"#bcba96\",\"#bca896\",\"#bca696\",\"#bcbc96\",\"#bca496\",\"#bcae96\",\"#bc9e96\",\"#bc6a96\",\"#bca496\",\"#bcae96\",\"#bcb496\",\"#bc9296\",\"#bcbc96\",\"#bcb896\",\"#bcc896\",\"#bc5a96\",\"#bcb296\",\"#bcc096\",\"#bc9c96\",\"#bcac96\",\"#bc9696\",\"#bcb096\",\"#bcb296\",\"#bca096\",\"#bcb296\",\"#bcca96\",\"#bcca96\",\"#bcb296\",\"#bca296\",\"#bca296\",\"#bcb296\",\"#bcb696\",\"#bcae96\",\"#bc6a96\",\"#bc9496\",\"#bcbc96\",\"#bcaa96\",\"#bc8296\",\"#bcb296\",\"#bc9896\",\"#bca496\",\"#bc9896\",\"#bc8896\",\"#bc8096\",\"#bc9a96\",\"#bca096\",\"#bc9096\",\"#bcb696\",\"#bcb896\",\"#bcb696\",\"#bcb296\",\"#bcb896\",\"#bcac96\",\"#bcb696\",\"#bc9096\",\"#bc8496\",\"#bc9096\",\"#bc8296\",\"#bc9896\",\"#bc8e96\",\"#bcce96\",\"#bc9a96\",\"#bca296\",\"#bcbc96\",\"#bcb296\",\"#bcb096\",\"#bca096\",\"#bcbe96\",\"#bca496\",\"#bc9496\",\"#bcb496\",\"#bcba96\",\"#bc9896\",\"#bca096\",\"#bc9496\",\"#bca696\",\"#bcba96\",\"#bcc696\",\"#bca096\",\"#bc9096\",\"#bc9e96\",\"#bc9096\",\"#bc6c96\",\"#bcae96\",\"#bcba96\",\"#bcba96\",\"#bc8696\",\"#bc9c96\",\"#bcb896\",\"#bc7c96\",\"#bc9e96\",\"#bc7c96\",\"#bcba96\",\"#bca096\",\"#bcac96\",\"#bca296\",\"#bc9c96\",\"#bcc496\",\"#bcb096\",\"#bcb896\",\"#bcc096\",\"#bc9e96\",\"#bcaa96\",\"#bc8c96\",\"#bcb496\",\"#bcae96\",\"#bcb296\",\"#bcb096\",\"#bcaa96\",\"#bc7e96\",\"#bcb696\",\"#bcb296\",\"#bca096\",\"#bcb496\",\"#bc9896\",\"#bca496\",\"#bca896\",\"#bcb696\",\"#bcb696\",\"#bc9896\",\"#bc7e96\",\"#bcc896\",\"#bcac96\",\"#bcb696\",\"#bcac96\",\"#bca896\",\"#bc9696\",\"#bc9c96\",\"#bc8896\",\"#bc6696\",\"#bc9296\",\"#bcb296\",\"#bcbe96\",\"#bc9a96\",\"#bc9496\",\"#bcba96\",\"#bc9896\",\"#bcac96\",\"#bca496\",\"#bc8296\",\"#bcbc96\",\"#bc8a96\",\"#bca696\",\"#bcb496\",\"#bcaa96\",\"#bcaa96\",\"#bc9296\",\"#bcca96\",\"#bc9496\",\"#bca696\",\"#bcac96\",\"#bcc496\",\"#bca496\",\"#bcc496\",\"#bc9a96\",\"#bc7896\",\"#bc8896\",\"#bcbc96\",\"#bc9c96\",\"#bca696\",\"#bcc896\",\"#bcb496\",\"#bcae96\",\"#bcb696\",\"#bcbe96\",\"#bca496\",\"#bc9c96\",\"#bcaa96\",\"#bca896\",\"#bc5a96\",\"#bcaa96\",\"#bcbc96\",\"#bca096\",\"#bc8896\",\"#bcac96\",\"#bc9c96\",\"#bcb296\",\"#bca696\",\"#bc8696\",\"#bcbc96\",\"#bcc096\",\"#bca296\",\"#bca296\",\"#bcca96\",\"#bcac96\",\"#bcb896\",\"#bca696\",\"#bcc096\",\"#bc8096\",\"#bcbc96\",\"#bcb096\",\"#bcac96\",\"#bc8c96\",\"#bcb096\",\"#bcc496\",\"#bca496\",\"#bca896\",\"#bca296\",\"#bca296\",\"#bcb496\",\"#bca696\",\"#bc8096\",\"#bcae96\",\"#bca696\",\"#bca496\",\"#bcaa96\",\"#bcae96\",\"#bcaa96\",\"#bcb296\",\"#bcb496\",\"#bc8696\",\"#bcb296\",\"#bcc096\",\"#bcb496\",\"#bcbc96\",\"#bcb696\",\"#bc8496\",\"#bcb096\",\"#bc9096\",\"#bcb096\",\"#bcb096\",\"#bc9896\",\"#bcac96\",\"#bcae96\",\"#bc8c96\",\"#bc9e96\",\"#bc9a96\",\"#bca696\",\"#bca696\",\"#bc6296\",\"#bc9a96\",\"#bcb896\",\"#bca296\",\"#bcbc96\",\"#bcac96\",\"#bcb896\",\"#bcb296\",\"#bcb696\",\"#bcae96\",\"#bcb496\",\"#bc8696\",\"#bc8a96\",\"#bcb696\",\"#bca296\",\"#bcae96\",\"#bc9e96\",\"#bca096\",\"#bcbe96\",\"#bc9696\",\"#bcbe96\",\"#bcc496\",\"#bcba96\",\"#bcae96\",\"#bca696\",\"#bcb696\",\"#bcaa96\",\"#bcb896\",\"#bc7e96\",\"#bca496\",\"#bc8c96\",\"#bcb096\",\"#bccc96\",\"#bcac96\",\"#bcb296\",\"#bcc696\",\"#bcaa96\",\"#bcca96\",\"#bcba96\",\"#bcac96\",\"#bc8296\",\"#bccc96\",\"#bca696\",\"#bcac96\",\"#bcb896\",\"#bca496\",\"#bcc296\",\"#bcb296\",\"#bc7096\",\"#bc9696\",\"#bcaa96\",\"#bc9696\",\"#bcb696\",\"#bc9e96\",\"#bcb296\",\"#bcaa96\",\"#bcbe96\",\"#bc9e96\",\"#bcac96\",\"#bcb696\",\"#bcb896\",\"#bc9896\",\"#bcac96\",\"#bcae96\",\"#bc9a96\",\"#bcbc96\",\"#bc9696\",\"#bc8896\",\"#bc8c96\",\"#bcb096\",\"#bc8696\",\"#bca896\",\"#bca296\",\"#bcae96\",\"#bcb896\",\"#bcca96\",\"#bc7096\",\"#bc9896\",\"#bca696\",\"#bcac96\",\"#bcb496\",\"#bcb496\",\"#bcae96\",\"#bc9a96\",\"#bc9e96\",\"#bc9496\",\"#bca896\",\"#bcb496\",\"#bcb296\",\"#bcc496\",\"#bcaa96\",\"#bcba96\",\"#bcc096\",\"#bcb096\",\"#bcc696\",\"#bcb496\",\"#bcb496\",\"#bad296\",\"#bab096\",\"#baa296\",\"#bab896\",\"#baac96\",\"#baaa96\",\"#baac96\",\"#baba96\",\"#bab896\",\"#ba9e96\",\"#ba9a96\",\"#ba8096\",\"#bac096\",\"#bac896\",\"#ba7c96\",\"#ba9a96\",\"#ba8c96\",\"#baa496\",\"#baa096\",\"#baa496\",\"#ba4a96\",\"#ba8296\",\"#bac096\",\"#bab496\",\"#baae96\",\"#baa896\",\"#ba9296\",\"#baae96\",\"#ba9096\",\"#bab096\",\"#baae96\",\"#ba9e96\",\"#ba5296\",\"#ba5096\",\"#baac96\",\"#ba9a96\",\"#baac96\",\"#ba8e96\",\"#ba6a96\",\"#baa096\",\"#ba9a96\",\"#ba7296\",\"#bac296\",\"#baaa96\",\"#ba9896\",\"#ba9c96\",\"#bab896\",\"#baba96\",\"#bace96\",\"#bab296\",\"#baac96\",\"#baa096\",\"#ba9696\",\"#bab496\",\"#bace96\",\"#ba7a96\",\"#bace96\",\"#bacc96\",\"#ba8a96\",\"#baae96\",\"#ba8296\",\"#ba9096\",\"#bab896\",\"#ba2e96\",\"#ba7a96\",\"#babe96\",\"#ba7096\",\"#baa296\",\"#ba9896\",\"#ba8296\",\"#bac296\",\"#bab496\",\"#bab496\",\"#ba9a96\",\"#bab296\",\"#bab096\",\"#ba8c96\",\"#baae96\",\"#baac96\",\"#babe96\",\"#bab496\",\"#ba5e96\",\"#baaa96\",\"#ba9496\",\"#bab296\",\"#ba8496\",\"#baa096\",\"#bab296\",\"#ba9496\",\"#bac896\",\"#baa296\",\"#bab496\",\"#baae96\",\"#baca96\",\"#baa096\",\"#bac096\",\"#bab696\",\"#baaa96\",\"#bac096\",\"#bab896\",\"#ba7e96\",\"#ba9e96\",\"#babc96\",\"#bab296\",\"#baa296\",\"#baac96\",\"#baae96\",\"#baa096\",\"#baba96\",\"#baa496\",\"#babc96\",\"#ba8696\",\"#baaa96\",\"#bac096\",\"#bab696\",\"#baca96\",\"#bacc96\",\"#baa096\",\"#ba8896\",\"#babc96\",\"#ba9096\",\"#ba9896\",\"#baa496\",\"#bab296\",\"#ba3c96\",\"#bac296\",\"#ba9e96\",\"#baa296\",\"#ba9e96\",\"#baa496\",\"#baa896\",\"#ba7096\",\"#ba7696\",\"#baa696\",\"#baa896\",\"#bab296\",\"#baae96\",\"#ba9896\",\"#ba9296\",\"#baac96\",\"#baac96\",\"#babe96\",\"#bab096\",\"#bac096\",\"#baa496\",\"#bac496\",\"#bab896\",\"#baa696\",\"#ba8496\",\"#baba96\",\"#baba96\",\"#baa696\",\"#baa896\",\"#baac96\",\"#bacc96\",\"#bacc96\",\"#baa296\",\"#baca96\",\"#bac496\",\"#ba6496\",\"#ba9a96\",\"#bab696\",\"#bab296\",\"#baaa96\",\"#baa896\",\"#baa496\",\"#baaa96\",\"#ba9296\",\"#ba7896\",\"#baca96\",\"#ba9e96\",\"#bab296\",\"#ba8296\",\"#ba9a96\",\"#bac896\",\"#baa096\",\"#baa096\",\"#bab496\",\"#bab296\",\"#ba7e96\",\"#bab896\",\"#baa296\",\"#baa896\",\"#baba96\",\"#bac496\",\"#bab696\",\"#bab296\",\"#baae96\",\"#baae96\",\"#ba9c96\",\"#ba9696\",\"#baa896\",\"#ba5496\",\"#ba9c96\",\"#bacc96\",\"#bac496\",\"#bab896\",\"#baae96\",\"#baba96\",\"#bab096\",\"#bac696\",\"#baa496\",\"#baae96\",\"#babe96\",\"#bab896\",\"#baac96\",\"#baa296\",\"#ba9c96\",\"#baaa96\",\"#baa696\",\"#ba8296\",\"#ba9e96\",\"#bac096\",\"#bab496\",\"#baa296\",\"#baa496\",\"#ba9e96\",\"#ba9496\",\"#bac096\",\"#ba8496\",\"#baa896\",\"#ba8a96\",\"#babc96\",\"#ba6096\",\"#ba8e96\",\"#ba8296\",\"#bac296\",\"#baaa96\",\"#bacc96\",\"#baa096\",\"#bab496\",\"#baac96\",\"#bab896\",\"#baa096\",\"#ba9e96\",\"#bac096\",\"#ba7e96\",\"#babc96\",\"#baa896\",\"#ba9e96\",\"#babc96\",\"#bab296\",\"#baaa96\",\"#bab096\",\"#bab296\",\"#bab096\",\"#ba9696\",\"#ba8a96\",\"#ba9c96\",\"#bab096\",\"#baa896\",\"#babe96\",\"#baac96\",\"#baac96\",\"#ba9496\",\"#baaa96\",\"#baa096\",\"#baac96\",\"#ba7696\",\"#bab496\",\"#baac96\",\"#bab496\",\"#baaa96\",\"#baba96\",\"#ba9a96\",\"#bab896\",\"#baa696\",\"#bac896\",\"#bab896\",\"#baaa96\",\"#ba8896\",\"#baaa96\",\"#bace96\",\"#babc96\",\"#ba6696\",\"#babc96\",\"#bac096\",\"#bab696\",\"#bab096\",\"#ba8896\",\"#ba9896\",\"#baaa96\",\"#babe96\",\"#ba7896\",\"#bac696\",\"#ba8a96\",\"#ba9c96\",\"#baa296\",\"#ba6c96\",\"#baa496\",\"#ba9896\",\"#baaa96\",\"#baa896\",\"#bab696\",\"#bab696\",\"#baac96\",\"#babc96\",\"#bac096\",\"#bac296\",\"#bab096\",\"#ba6096\",\"#baba96\",\"#baa696\",\"#bab496\",\"#ba9a96\",\"#baaa96\",\"#ba8e96\",\"#ba7a96\",\"#ba9c96\",\"#bab496\",\"#baa696\",\"#ba6a96\",\"#babc96\",\"#bab296\",\"#ba9696\",\"#babe96\",\"#baae96\",\"#bac496\",\"#ba7c96\",\"#ba8496\",\"#ba9c96\",\"#baa696\",\"#ba8e96\",\"#baaa96\",\"#bac096\",\"#baaa96\",\"#bac096\",\"#ba9696\",\"#babc96\",\"#baa096\",\"#ba9296\",\"#bab496\",\"#baae96\",\"#baae96\",\"#baac96\",\"#baa896\",\"#bace96\",\"#baba96\",\"#bab696\",\"#ba9096\",\"#ba9296\",\"#bab096\",\"#baa296\",\"#bac496\",\"#bab896\",\"#bab296\",\"#bab496\",\"#baae96\",\"#baa696\",\"#baa496\",\"#bac096\",\"#bac096\",\"#baae96\",\"#baaa96\",\"#bab896\",\"#baba96\",\"#ba9896\",\"#bac696\",\"#baae96\",\"#bab696\",\"#baaa96\",\"#bab296\",\"#ba9896\",\"#ba7096\",\"#bab696\",\"#bac896\",\"#babe96\",\"#babe96\",\"#ba9e96\",\"#babe96\",\"#bab096\",\"#ba8896\",\"#baa496\",\"#baa896\",\"#babc96\",\"#bab496\",\"#bac096\",\"#bab496\",\"#bab896\",\"#bab896\",\"#ba7896\",\"#baa896\",\"#ba8496\",\"#baae96\",\"#babe96\",\"#ba9a96\",\"#ba9c96\",\"#bab096\",\"#baa896\",\"#bab496\",\"#ba9c96\",\"#bab896\",\"#bab096\",\"#bab096\",\"#baac96\",\"#bab496\",\"#bab296\",\"#baa496\",\"#baca96\",\"#baa096\",\"#bab096\",\"#babc96\",\"#baba96\",\"#babc96\",\"#ba9896\",\"#baa896\",\"#bab696\",\"#babe96\",\"#ba9e96\",\"#ba9a96\",\"#ba8896\",\"#baa496\",\"#ba9e96\",\"#ba9e96\",\"#bab896\",\"#bac696\",\"#bac496\",\"#bab496\",\"#ba8e96\",\"#baac96\",\"#baac96\",\"#ba9c96\",\"#bab296\",\"#baaa96\",\"#ba8a96\",\"#baca96\",\"#ba8e96\",\"#bab096\",\"#baae96\",\"#bab496\",\"#baa896\",\"#baa896\",\"#ba8496\",\"#baaa96\",\"#bac696\",\"#baac96\",\"#ba9696\",\"#baba96\",\"#ba8e96\",\"#ba8896\",\"#ba9696\",\"#bab296\",\"#bab696\",\"#babc96\",\"#baca96\",\"#ba9896\",\"#bab896\",\"#bab496\",\"#ba9696\",\"#ba7096\",\"#baa696\",\"#baa296\",\"#ba9e96\",\"#ba7c96\",\"#baa096\",\"#bac096\",\"#ba8896\",\"#ba8696\",\"#ba9a96\",\"#bab896\",\"#bac096\",\"#ba6496\",\"#ba8496\",\"#ba7c96\",\"#baac96\",\"#ba7896\",\"#bac696\",\"#bab296\",\"#bac096\",\"#baa296\",\"#ba8c96\",\"#ba9896\",\"#baa296\",\"#ba9e96\",\"#bab296\",\"#baae96\",\"#ba8a96\",\"#bab896\",\"#bac696\",\"#baa696\",\"#bab496\",\"#ba2896\",\"#ba8e96\",\"#ba9096\",\"#baa696\",\"#ba8c96\",\"#baa696\",\"#ba9c96\",\"#ba8a96\",\"#baa296\",\"#ba7696\",\"#bab496\",\"#baa096\",\"#baa496\",\"#ba4696\",\"#babe96\",\"#baba96\",\"#baae96\",\"#ba9e96\",\"#bab696\",\"#bac896\",\"#bab296\",\"#babe96\",\"#bab696\",\"#b8ba96\",\"#b8b896\",\"#b8a096\",\"#b85696\",\"#b89a96\",\"#b8c896\",\"#b89696\",\"#b8c896\",\"#b89296\",\"#b8a096\",\"#b89896\",\"#b8a896\",\"#b8ca96\",\"#b8aa96\",\"#b8ae96\",\"#b8b696\",\"#b8c096\",\"#b8aa96\",\"#b8b496\",\"#b8a896\",\"#b8a896\",\"#b8b896\",\"#b89896\",\"#b8bc96\",\"#b88496\",\"#b89296\",\"#b8ba96\",\"#b8c296\",\"#b8b896\",\"#b89c96\",\"#b8c096\",\"#b8c296\",\"#b8a296\",\"#b89a96\",\"#b8b296\",\"#b8a696\",\"#b85a96\",\"#b87a96\",\"#b8ba96\",\"#b8ba96\",\"#b8a496\",\"#b88e96\",\"#b8b296\",\"#b8ac96\",\"#b89496\",\"#b8a296\",\"#b8ba96\",\"#b89696\",\"#b8ac96\",\"#b89696\",\"#b8b496\",\"#b8a096\",\"#b89e96\",\"#b88496\",\"#b8b496\",\"#b8aa96\",\"#b8b296\",\"#b8a896\",\"#b8b496\",\"#b8bc96\",\"#b8c096\",\"#b8be96\",\"#b8ae96\",\"#b8bc96\",\"#b87e96\",\"#b8ae96\",\"#b8b896\",\"#b8de96\",\"#b87296\",\"#b8ac96\",\"#b8a696\",\"#b87a96\",\"#b8a696\",\"#b88e96\",\"#b8aa96\",\"#b86496\",\"#b8c496\",\"#b8ba96\",\"#b8b496\",\"#b8c296\",\"#b88296\",\"#b8b696\",\"#b86896\",\"#b8ac96\",\"#b89a96\",\"#b8ac96\",\"#b8a296\",\"#b88896\",\"#b86c96\",\"#b8aa96\",\"#b89c96\",\"#b8a296\",\"#b8b096\",\"#b8a896\",\"#b8a896\",\"#b8bc96\",\"#b88096\",\"#b89496\",\"#b8a096\",\"#b8ba96\",\"#b8b496\",\"#b8c696\",\"#b88696\",\"#b89296\",\"#b89696\",\"#b89696\",\"#b89096\",\"#b8ae96\",\"#b89896\",\"#b88496\",\"#b8a696\",\"#b8c096\",\"#b8b496\",\"#b8bc96\",\"#b8c096\",\"#b8ba96\",\"#b89896\",\"#b8c696\",\"#b8ba96\",\"#b88c96\",\"#b8bc96\",\"#b88a96\",\"#b88296\",\"#b8c296\",\"#b88a96\",\"#b8ca96\",\"#b89296\",\"#b8c296\",\"#b8ac96\",\"#b8c496\",\"#b8a896\",\"#b88a96\",\"#b87896\",\"#b8a896\",\"#b8b696\",\"#b8bc96\",\"#b8a496\",\"#b8ac96\",\"#b8ae96\",\"#b8a696\",\"#b8a696\",\"#b8b496\",\"#b8ae96\",\"#b87896\",\"#b8b096\",\"#b8a496\",\"#b89296\",\"#b88896\",\"#b8ba96\",\"#b88696\",\"#b8b896\",\"#b8a496\",\"#b88896\",\"#b89496\",\"#b8ba96\",\"#b8ac96\",\"#b89296\",\"#b87896\",\"#b88e96\",\"#b89a96\",\"#b89896\",\"#b8aa96\",\"#b8ac96\",\"#b8a296\",\"#b8a896\",\"#b89e96\",\"#b8b496\",\"#b8ae96\",\"#b89696\",\"#b8c096\",\"#b8b696\",\"#b8be96\",\"#b8ba96\",\"#b8c096\",\"#b8be96\",\"#b8c096\",\"#b8b496\",\"#b89a96\",\"#b8b896\",\"#b88096\",\"#b8a696\",\"#b8c496\",\"#b88096\",\"#b8b096\",\"#b8be96\",\"#b88096\",\"#b8a496\",\"#b88296\",\"#b8a096\",\"#b8cc96\",\"#b87296\",\"#b8a096\",\"#b8a296\",\"#b8ac96\",\"#b8a496\",\"#b89e96\",\"#b88c96\",\"#b8ae96\",\"#b87296\",\"#b8a696\",\"#b8b496\",\"#b88296\",\"#b8aa96\",\"#b86896\",\"#b89e96\",\"#b89496\",\"#b89296\",\"#b8a696\",\"#b8a896\",\"#b86a96\",\"#b8b096\",\"#b8aa96\",\"#b8a896\",\"#b89c96\",\"#b88e96\",\"#b8aa96\",\"#b8b696\",\"#b8cc96\",\"#b87e96\",\"#b8a296\",\"#b8cc96\",\"#b89296\",\"#b8bc96\",\"#b8c896\",\"#b8aa96\",\"#b8c496\",\"#b89096\",\"#b8c496\",\"#b8cc96\",\"#b8b096\",\"#b8b096\",\"#b8a496\",\"#b8c696\",\"#b8aa96\",\"#b8b896\",\"#b8aa96\",\"#b8ae96\",\"#b88c96\",\"#b8a496\",\"#b8be96\",\"#b8ac96\",\"#b8ae96\",\"#b8aa96\",\"#b8c096\",\"#b8ae96\",\"#b8a296\",\"#b8a496\",\"#b89496\",\"#b8a696\",\"#b88896\",\"#b87896\",\"#b8a696\",\"#b88896\",\"#b8c696\",\"#b8a296\",\"#b89c96\",\"#b88c96\",\"#b8a896\",\"#b89696\",\"#b8a296\",\"#b8a896\",\"#b89696\",\"#b8aa96\",\"#b87e96\",\"#b89a96\",\"#b88e96\",\"#b89e96\",\"#b8bc96\",\"#b8cc96\",\"#b8b496\",\"#b8b496\",\"#b8b496\",\"#b8bc96\",\"#b8a096\",\"#b8c096\",\"#b8a896\",\"#b8b896\",\"#b89696\",\"#b8b096\",\"#b8ba96\",\"#b8b296\",\"#b8b296\",\"#b89896\",\"#b89e96\",\"#b88296\",\"#b8ce96\",\"#b8b496\",\"#b89a96\",\"#b8a896\",\"#b88696\",\"#b8ce96\",\"#b8a896\",\"#b89696\",\"#b8ba96\",\"#b8a896\",\"#b8be96\",\"#b8a496\",\"#b8aa96\",\"#b8b496\",\"#b8b096\",\"#b8b096\",\"#b8ca96\",\"#b8b696\",\"#b84096\",\"#b89696\",\"#b87a96\",\"#b8a096\",\"#b89496\",\"#b8c496\",\"#b8b296\",\"#b8b296\",\"#b8b696\",\"#b89496\",\"#b8c496\",\"#b8c296\",\"#b8a696\",\"#b8ca96\",\"#b8ba96\",\"#b8ba96\",\"#b89496\",\"#b8b096\",\"#b8ba96\",\"#b8b496\",\"#b8c896\",\"#b8bc96\",\"#b8a496\",\"#b88696\",\"#b8b696\",\"#b8ac96\",\"#b89696\",\"#b89c96\",\"#b89e96\",\"#b8a096\",\"#b8ca96\",\"#b8bc96\",\"#b8ac96\",\"#b8aa96\",\"#b89896\",\"#b89296\",\"#b8b496\",\"#b88496\",\"#b89296\",\"#b8b896\",\"#b8ae96\",\"#b8a696\",\"#b8c096\",\"#b8a696\",\"#b89696\",\"#b89696\",\"#b8b096\",\"#b8b296\",\"#b89c96\",\"#b8ae96\",\"#b8aa96\",\"#b89c96\",\"#b8a296\",\"#b88096\",\"#b8bc96\",\"#b89a96\",\"#b8ae96\",\"#b88896\",\"#b8b496\",\"#b8a896\",\"#b89e96\",\"#b8a096\",\"#b87896\",\"#b88696\",\"#b89296\",\"#b8c896\",\"#b8a096\",\"#b8b896\",\"#b8a096\",\"#b8c296\",\"#b89e96\",\"#b8ae96\",\"#b8ac96\",\"#b8b496\",\"#b89a96\",\"#b8ba96\",\"#b8bc96\",\"#b89e96\",\"#b88a96\",\"#b88296\",\"#b8a296\",\"#b87e96\",\"#b8a496\",\"#b8b296\",\"#b8b096\",\"#b8b496\",\"#b8b696\",\"#b87c96\",\"#b8c496\",\"#b89c96\",\"#b89a96\",\"#b8b096\",\"#b8b496\",\"#b86696\",\"#b88096\",\"#b8b696\",\"#b8a496\",\"#b89c96\",\"#b8a896\",\"#b8ae96\",\"#b88296\",\"#b8b696\",\"#b89296\",\"#b89e96\",\"#b89c96\",\"#b8a696\",\"#b8b896\",\"#b89696\",\"#b8aa96\",\"#b89896\",\"#b89896\",\"#b88e96\",\"#b89696\",\"#b87e96\",\"#b89e96\",\"#b8ba96\",\"#b8aa96\",\"#b88e96\",\"#b89896\",\"#b8a896\",\"#b89496\",\"#b8c296\",\"#b89896\",\"#b8c096\",\"#b8c696\",\"#b8a096\",\"#b89896\",\"#b8aa96\",\"#b89696\",\"#b8a896\",\"#b8ae96\",\"#b89696\",\"#b8ac96\",\"#b8ac96\",\"#b8b296\",\"#b8aa96\",\"#b8ac96\",\"#b8be96\",\"#b8a696\",\"#b8b896\",\"#b6ba96\",\"#b6aa96\",\"#b6bc96\",\"#b68696\",\"#b6b296\",\"#b6b496\",\"#b6b696\",\"#b69096\",\"#b63e96\",\"#b68c96\",\"#b6b496\",\"#b6b296\",\"#b6a296\",\"#b6ae96\",\"#b6b296\",\"#b69c96\",\"#b6a696\",\"#b6a696\",\"#b6b896\",\"#b6c496\",\"#b6b496\",\"#b6b696\",\"#b6ae96\",\"#b67296\",\"#b69296\",\"#b69896\",\"#b6b896\",\"#b6c496\",\"#b6c296\",\"#b66a96\",\"#b6b896\",\"#b68e96\",\"#b6a696\",\"#b6bc96\",\"#b68e96\",\"#b6cc96\",\"#b6b096\",\"#b6c496\",\"#b6d296\",\"#b6b696\",\"#b68e96\",\"#b6b496\",\"#b6aa96\",\"#b69096\",\"#b6aa96\",\"#b6b896\",\"#b6c496\",\"#b63a96\",\"#b69e96\",\"#b6c496\",\"#b69e96\",\"#b6a496\",\"#b69a96\",\"#b68c96\",\"#b6ba96\",\"#b6b096\",\"#b69e96\",\"#b6ba96\",\"#b6aa96\",\"#b67096\",\"#b6ba96\",\"#b69096\",\"#b6b496\",\"#b6ae96\",\"#b6b496\",\"#b6c896\",\"#b6a496\",\"#b6b096\",\"#b69e96\",\"#b68e96\",\"#b6a096\",\"#b68c96\",\"#b6b496\",\"#b69c96\",\"#b6b096\",\"#b6b696\",\"#b6a496\",\"#b66a96\",\"#b6c896\",\"#b6a296\",\"#b6ba96\",\"#b6be96\",\"#b6be96\",\"#b69c96\",\"#b6a896\",\"#b6a896\",\"#b6c096\",\"#b68296\",\"#b6ae96\",\"#b6b496\",\"#b6a696\",\"#b6b296\",\"#b69a96\",\"#b6b096\",\"#b69a96\",\"#b6b096\",\"#b69696\",\"#b6c296\",\"#b6b296\",\"#b69c96\",\"#b69296\",\"#b6cc96\",\"#b69696\",\"#b6a696\",\"#b69e96\",\"#b6a296\",\"#b6a696\",\"#b6a696\",\"#b67696\",\"#b6aa96\",\"#b6c896\",\"#b6c696\",\"#b6c096\",\"#b6ac96\",\"#b6b496\",\"#b6c496\",\"#b6ae96\",\"#b6a696\",\"#b6ac96\",\"#b6ae96\",\"#b6ae96\",\"#b6a696\",\"#b6ae96\",\"#b6a096\",\"#b6b496\",\"#b65896\",\"#b69c96\",\"#b66a96\",\"#b67296\",\"#b68e96\",\"#b6b696\",\"#b6ac96\",\"#b69a96\",\"#b68896\",\"#b68296\",\"#b6b696\",\"#b6bc96\",\"#b6ae96\",\"#b68c96\",\"#b6c296\",\"#b6cc96\",\"#b6b496\",\"#b6bc96\",\"#b6a096\",\"#b67e96\",\"#b6ac96\",\"#b6a696\",\"#b6c496\",\"#b67696\",\"#b67696\",\"#b6b896\",\"#b6b296\",\"#b6bc96\",\"#b69896\",\"#b6b096\",\"#b6b496\",\"#b6ac96\",\"#b6ce96\",\"#b6b296\",\"#b68696\",\"#b6c296\",\"#b6b696\",\"#b6b296\",\"#b6b096\",\"#b6c296\",\"#b6ae96\",\"#b6b896\",\"#b6a096\",\"#b6a696\",\"#b6a496\",\"#b6a296\",\"#b6a496\",\"#b6ba96\",\"#b6b896\",\"#b6a096\",\"#b68e96\",\"#b6a696\",\"#b6a896\",\"#b6a096\",\"#b67496\",\"#b68696\",\"#b6ac96\",\"#b68c96\",\"#b67896\",\"#b6c096\",\"#b67896\",\"#b6cc96\",\"#b69c96\",\"#b6a896\",\"#b68696\",\"#b69c96\",\"#b6b096\",\"#b69a96\",\"#b6aa96\",\"#b6a696\",\"#b69696\",\"#b6b096\",\"#b69a96\",\"#b6aa96\",\"#b68296\",\"#b6c096\",\"#b6b696\",\"#b67096\",\"#b6a896\",\"#b6ae96\",\"#b6ba96\",\"#b6a096\",\"#b6c896\",\"#b6a896\",\"#b69896\",\"#b6c296\",\"#b69c96\",\"#b6bc96\",\"#b69a96\",\"#b6b296\",\"#b6a096\",\"#b68496\",\"#b6aa96\",\"#b67096\",\"#b69896\",\"#b66896\",\"#b69e96\",\"#b6ba96\",\"#b68c96\",\"#b6aa96\",\"#b6ba96\",\"#b6b896\",\"#b6ae96\",\"#b69896\",\"#b68a96\",\"#b6b096\",\"#b6a296\",\"#b6ba96\",\"#b6ca96\",\"#b6ba96\",\"#b6ca96\",\"#b68696\",\"#b68096\",\"#b68c96\",\"#b6a496\",\"#b6a096\",\"#b6ae96\",\"#b6b096\",\"#b69c96\",\"#b6ba96\",\"#b6cc96\",\"#b6bc96\",\"#b6aa96\",\"#b69696\",\"#b6b896\",\"#b69e96\",\"#b69a96\",\"#b69e96\",\"#b6a096\",\"#b6ae96\",\"#b69a96\",\"#b67a96\",\"#b6b896\",\"#b69096\",\"#b69696\",\"#b69e96\",\"#b67e96\",\"#b69696\",\"#b6ba96\",\"#b6be96\",\"#b69e96\",\"#b66c96\",\"#b6b096\",\"#b6c096\",\"#b69296\",\"#b6a896\",\"#b68096\",\"#b6a096\",\"#b6b096\",\"#b69696\",\"#b68e96\",\"#b6bc96\",\"#b6b696\",\"#b67896\",\"#b6a696\",\"#b6b896\",\"#b6a496\",\"#b6ac96\",\"#b6ba96\",\"#b6c096\",\"#b69096\",\"#b6b096\",\"#b6b896\",\"#b6a296\",\"#b6ba96\",\"#b6c296\",\"#b69296\",\"#b6ca96\",\"#b68e96\",\"#b6c696\",\"#b69e96\",\"#b6a896\",\"#b6aa96\",\"#b6a696\",\"#b68c96\",\"#b6a896\",\"#b6a496\",\"#b69896\",\"#b6ac96\",\"#b6ae96\",\"#b6c896\",\"#b6a096\",\"#b66a96\",\"#b69096\",\"#b6ac96\",\"#b67096\",\"#b69e96\",\"#b6ba96\",\"#b6a296\",\"#b6c496\",\"#b6b296\",\"#b6a896\",\"#b6c296\",\"#b6c696\",\"#b65a96\",\"#b6a696\",\"#b69896\",\"#b6ae96\",\"#b68696\",\"#b69896\",\"#b6c096\",\"#b6c896\",\"#b69296\",\"#b6be96\",\"#b6b096\",\"#b69c96\",\"#b6b696\",\"#b6a896\",\"#b6a896\",\"#b6bc96\",\"#b68896\",\"#b6a496\",\"#b6b896\",\"#b69c96\",\"#b6b096\",\"#b6c696\",\"#b69096\",\"#b6c296\",\"#b6b696\",\"#b69e96\",\"#b6a496\",\"#b6b696\",\"#b6b696\",\"#b6a896\",\"#b6ae96\",\"#b6aa96\",\"#b6a296\",\"#b69c96\",\"#b6aa96\",\"#b6ac96\",\"#b67e96\",\"#b69e96\",\"#b69296\",\"#b6c096\",\"#b69296\",\"#b6a296\",\"#b6a696\",\"#b69e96\",\"#b6b696\",\"#b68696\",\"#b67e96\",\"#b69a96\",\"#b6b496\",\"#b69696\",\"#b68696\",\"#b68e96\",\"#b68896\",\"#b6c096\",\"#b6c496\",\"#b69e96\",\"#b67e96\",\"#b6b096\",\"#b6ae96\",\"#b6b496\",\"#b66c96\",\"#b69e96\",\"#b6c696\",\"#b6b296\",\"#b6c696\",\"#b6ca96\",\"#b6ae96\",\"#b69e96\",\"#b66096\",\"#b6b696\",\"#b69296\",\"#b69c96\",\"#b6a296\",\"#b64c96\",\"#b6c496\",\"#b6a296\",\"#b6ae96\",\"#b69296\",\"#b68896\",\"#b6ae96\",\"#b6ae96\",\"#b6a096\",\"#b6b496\",\"#b6a696\",\"#b69496\",\"#b6a096\",\"#b6ae96\",\"#b69296\",\"#b6c496\",\"#b6ba96\",\"#b6b296\",\"#b6aa96\",\"#b6b696\",\"#b6c096\",\"#b6c496\",\"#b6ba96\",\"#b6b496\",\"#b6b096\",\"#b4c496\",\"#b4a496\",\"#b4b896\",\"#b4b896\",\"#b48296\",\"#b48a96\",\"#b49e96\",\"#b4b296\",\"#b4b096\",\"#b4b896\",\"#b49896\",\"#b4b496\",\"#b4a896\",\"#b4a896\",\"#b47e96\",\"#b49a96\",\"#b49496\",\"#b4aa96\",\"#b4aa96\",\"#b49896\",\"#b4ca96\",\"#b4bc96\",\"#b44e96\",\"#b49696\",\"#b48e96\",\"#b4b496\",\"#b4c496\",\"#b49696\",\"#b4a896\",\"#b49696\",\"#b49a96\",\"#b4cc96\",\"#b48c96\",\"#b49896\",\"#b4b296\",\"#b4a896\",\"#b47096\",\"#b48096\",\"#b46696\",\"#b49696\",\"#b4c096\",\"#b4a496\",\"#b4ae96\",\"#b4b896\",\"#b4b296\",\"#b47896\",\"#b4a696\",\"#b4b096\",\"#b49a96\",\"#b48896\",\"#b4b696\",\"#b46896\",\"#b48296\",\"#b4b096\",\"#b48896\",\"#b4a496\",\"#b4b696\",\"#b4bc96\",\"#b48e96\",\"#b4b496\",\"#b4ae96\",\"#b4bc96\",\"#b49c96\",\"#b4c496\",\"#b4c496\",\"#b4b696\",\"#b4b696\",\"#b4b296\",\"#b4b296\",\"#b4ba96\",\"#b4ae96\",\"#b4a296\",\"#b49a96\",\"#b4ce96\",\"#b4b296\",\"#b46c96\",\"#b47a96\",\"#b49e96\",\"#b4b096\",\"#b4b096\",\"#b4b296\",\"#b49896\",\"#b4ae96\",\"#b48a96\",\"#b4ba96\",\"#b45c96\",\"#b47a96\",\"#b46a96\",\"#b48c96\",\"#b4ae96\",\"#b4a696\",\"#b4b096\",\"#b4a496\",\"#b48496\",\"#b4b496\",\"#b4c496\",\"#b4a496\",\"#b49296\",\"#b4b496\",\"#b4ae96\",\"#b4ac96\",\"#b48896\",\"#b4aa96\",\"#b4aa96\",\"#b4c096\",\"#b4aa96\",\"#b49c96\",\"#b4a096\",\"#b4c896\",\"#b4a696\",\"#b4a896\",\"#b4aa96\",\"#b48e96\",\"#b49096\",\"#b49696\",\"#b49a96\",\"#b4aa96\",\"#b4a296\",\"#b4be96\",\"#b4a696\",\"#b4b896\",\"#b48e96\",\"#b49c96\",\"#b4be96\",\"#b48296\",\"#b4ae96\",\"#b4a696\",\"#b4be96\",\"#b4ba96\",\"#b4ae96\",\"#b49a96\",\"#b4b096\",\"#b46e96\",\"#b48896\",\"#b48296\",\"#b4a896\",\"#b4b096\",\"#b4ca96\",\"#b4b296\",\"#b4bc96\",\"#b4aa96\",\"#b4c496\",\"#b49496\",\"#b49e96\",\"#b4c096\",\"#b4c096\",\"#b4a496\",\"#b4b696\",\"#b4ac96\",\"#b4a496\",\"#b4b496\",\"#b49c96\",\"#b4c496\",\"#b4cc96\",\"#b4c096\",\"#b49896\",\"#b4ae96\",\"#b4a296\",\"#b49a96\",\"#b47c96\",\"#b4a896\",\"#b4a096\",\"#b46096\",\"#b4ac96\",\"#b48e96\",\"#b47296\",\"#b48e96\",\"#b49296\",\"#b4a296\",\"#b4a096\",\"#b49c96\",\"#b49c96\",\"#b49896\",\"#b4a496\",\"#b4b296\",\"#b4a096\",\"#b4b096\",\"#b4c296\",\"#b4aa96\",\"#b4ba96\",\"#b4b096\",\"#b4bc96\",\"#b4c896\",\"#b4a696\",\"#b4bc96\",\"#b4a896\",\"#b4b296\",\"#b4a096\",\"#b49e96\",\"#b48c96\",\"#b4b096\",\"#b49a96\",\"#b46096\",\"#b4b696\",\"#b4bc96\",\"#b4b896\",\"#b4aa96\",\"#b4a896\",\"#b48696\",\"#b4b496\",\"#b44c96\",\"#b4aa96\",\"#b4b896\",\"#b4a896\",\"#b47e96\",\"#b47a96\",\"#b49a96\",\"#b4ce96\",\"#b4b696\",\"#b4a496\",\"#b4ce96\",\"#b4c496\",\"#b4ca96\",\"#b4a096\",\"#b4ba96\",\"#b4b896\",\"#b4b096\",\"#b4c696\",\"#b4b296\",\"#b4aa96\",\"#b49696\",\"#b4b096\",\"#b4ac96\",\"#b4b696\",\"#b48e96\",\"#b49e96\",\"#b49696\",\"#b49296\",\"#b4b896\",\"#b4b296\",\"#b47496\",\"#b4ae96\",\"#b4b296\",\"#b4a896\",\"#b4b096\",\"#b4aa96\",\"#b49896\",\"#b4b496\",\"#b4a096\",\"#b4b096\",\"#b4b696\",\"#b4aa96\",\"#b4a096\",\"#b48296\",\"#b48c96\",\"#b4c296\",\"#b49c96\",\"#b4c096\",\"#b4b096\",\"#b48096\",\"#b4ce96\",\"#b49e96\",\"#b4cc96\",\"#b4c296\",\"#b4a096\",\"#b47696\",\"#b49a96\",\"#b4b896\",\"#b4be96\",\"#b4b096\",\"#b4be96\",\"#b49c96\",\"#b4c696\",\"#b49296\",\"#b4be96\",\"#b48e96\",\"#b49c96\",\"#b4a496\",\"#b4a496\",\"#b47c96\",\"#b4a896\",\"#b49896\",\"#b4c496\",\"#b46e96\",\"#b4c096\",\"#b4b296\",\"#b4b696\",\"#b48e96\",\"#b4a296\",\"#b4b896\",\"#b4ae96\",\"#b4b296\",\"#b4aa96\",\"#b4be96\",\"#b4b096\",\"#b4ba96\",\"#b49696\",\"#b4b096\",\"#b48496\",\"#b47a96\",\"#b4bc96\",\"#b4b496\",\"#b4b296\",\"#b4b096\",\"#b4ba96\",\"#b4be96\",\"#b4ac96\",\"#b4ae96\",\"#b4b296\",\"#b4c296\",\"#b4ca96\",\"#b4c296\",\"#b4a896\",\"#b49a96\",\"#b4aa96\",\"#b4ac96\",\"#b49a96\",\"#b49e96\",\"#b4aa96\",\"#b4ac96\",\"#b4b096\",\"#b49c96\",\"#b4a096\",\"#b49296\",\"#b48296\",\"#b46e96\",\"#b4a296\",\"#b46c96\",\"#b4b296\",\"#b46496\",\"#b47a96\",\"#b4a496\",\"#b4a096\",\"#b4b296\",\"#b47c96\",\"#b4b296\",\"#b4b096\",\"#b4c096\",\"#b4ae96\",\"#b48e96\",\"#b4ae96\",\"#b46896\",\"#b49696\",\"#b4b696\",\"#b4be96\",\"#b4b496\",\"#b4aa96\",\"#b4c696\",\"#b4a296\",\"#b4b896\",\"#b4a696\",\"#b4a696\",\"#b45496\",\"#b49e96\",\"#b4aa96\",\"#b49e96\",\"#b4a896\",\"#b4a296\",\"#b4be96\",\"#b4b896\",\"#b4b096\",\"#b4be96\",\"#b4ce96\",\"#b4aa96\",\"#b46296\",\"#b4c096\",\"#b4ae96\",\"#b4b296\",\"#b48696\",\"#b4ac96\",\"#b49e96\",\"#b49c96\",\"#b48e96\",\"#b49c96\",\"#b4a296\",\"#b4ae96\",\"#b44296\",\"#b49a96\",\"#b49096\",\"#b4ba96\",\"#b4a296\",\"#b4b896\",\"#b4ca96\",\"#b4ce96\",\"#b4a896\",\"#b4b096\",\"#b4c296\",\"#b29a96\",\"#b2aa96\",\"#b2b896\",\"#b29a96\",\"#b28a96\",\"#b2b096\",\"#b2ba96\",\"#b2a696\",\"#b2ae96\",\"#b2bc96\",\"#b2a696\",\"#b29296\",\"#b2c696\",\"#b28896\",\"#b29e96\",\"#b28496\",\"#b2b696\",\"#b29696\",\"#b2ae96\",\"#b2b896\",\"#b2b896\",\"#b2a296\",\"#b2b896\",\"#b29096\",\"#b27296\",\"#b2ac96\",\"#b2a496\",\"#b2a096\",\"#b2ac96\",\"#b28296\",\"#b26c96\",\"#b2bc96\",\"#b2b896\",\"#b2c096\",\"#b29a96\",\"#b2b896\",\"#b26e96\",\"#b28c96\",\"#b27496\",\"#b2b096\",\"#b27a96\",\"#b29696\",\"#b29c96\",\"#b29a96\",\"#b2b096\",\"#b2be96\",\"#b29896\",\"#b29e96\",\"#b2b096\",\"#b2b896\",\"#b28c96\",\"#b28296\",\"#b29696\",\"#b27696\",\"#b28496\",\"#b2b096\",\"#b29e96\",\"#b2a296\",\"#b28e96\",\"#b29e96\",\"#b2b896\",\"#b29e96\",\"#b2b896\",\"#b26496\",\"#b2be96\",\"#b25696\",\"#b28c96\",\"#b26096\",\"#b2b496\",\"#b2b496\",\"#b2bc96\",\"#b2b096\",\"#b2b096\",\"#b2a496\",\"#b2b896\",\"#b2ac96\",\"#b28496\",\"#b27296\",\"#b29696\",\"#b27496\",\"#b2ae96\",\"#b2ae96\",\"#b2a896\",\"#b2aa96\",\"#b2b296\",\"#b29e96\",\"#b2c496\",\"#b2a896\",\"#b2a896\",\"#b28a96\",\"#b2b696\",\"#b2b496\",\"#b2c296\",\"#b2b096\",\"#b2aa96\",\"#b2a296\",\"#b29896\",\"#b2a696\",\"#b28e96\",\"#b2c896\",\"#b28096\",\"#b2ca96\",\"#b2a896\",\"#b2ae96\",\"#b2aa96\",\"#b2a496\",\"#b2a696\",\"#b2cc96\",\"#b27896\",\"#b2ae96\",\"#b2cc96\",\"#b29a96\",\"#b2c296\",\"#b29896\",\"#b2b896\",\"#b2a896\",\"#b2aa96\",\"#b2c296\",\"#b29c96\",\"#b2b296\",\"#b2be96\",\"#b29696\",\"#b2ba96\",\"#b2c696\",\"#b2a096\",\"#b28496\",\"#b28296\",\"#b27096\",\"#b27e96\",\"#b2ae96\",\"#b29e96\",\"#b28896\",\"#b29e96\",\"#b2a096\",\"#b2a296\",\"#b2b496\",\"#b2a896\",\"#b29696\",\"#b26a96\",\"#b2a896\",\"#b2c496\",\"#b2b096\",\"#b28896\",\"#b2ae96\",\"#b29a96\",\"#b2b696\",\"#b2c496\",\"#b29696\",\"#b2c296\",\"#b29696\",\"#b29296\",\"#b29896\",\"#b2b096\",\"#b2b496\",\"#b29896\",\"#b28e96\",\"#b2a896\",\"#b2c696\",\"#b2aa96\",\"#b2bc96\",\"#b29096\",\"#b25096\",\"#b2a896\",\"#b29896\",\"#b29296\",\"#b28e96\",\"#b2a696\",\"#b26296\",\"#b2a096\",\"#b2a096\",\"#b2b096\",\"#b2a696\",\"#b2b496\",\"#b28896\",\"#b2b096\",\"#b2ac96\",\"#b29696\",\"#b2c296\",\"#b2b296\",\"#b2be96\",\"#b2c296\",\"#b29696\",\"#b2ac96\",\"#b29096\",\"#b2a496\",\"#b2b096\",\"#b29896\",\"#b29696\",\"#b27496\",\"#b28696\",\"#b2a696\",\"#b28496\",\"#b2bc96\",\"#b29c96\",\"#b29896\",\"#b2aa96\",\"#b29e96\",\"#b2b096\",\"#b29696\",\"#b28e96\",\"#b2b496\",\"#b28496\",\"#b28c96\",\"#b2b296\",\"#b2bc96\",\"#b2b296\",\"#b2ba96\",\"#b28a96\",\"#b29296\",\"#b28c96\",\"#b28296\",\"#b2a896\",\"#b2ba96\",\"#b29896\",\"#b2a696\",\"#b29e96\",\"#b29496\",\"#b2b496\",\"#b28296\",\"#b29096\",\"#b2b096\",\"#b2aa96\",\"#b29296\",\"#b2b696\",\"#b28496\",\"#b2ae96\",\"#b29a96\",\"#b26e96\",\"#b2a496\",\"#b2b096\",\"#b2a896\",\"#b29496\",\"#b2b496\",\"#b2b496\",\"#b2a696\",\"#b28696\",\"#b2a896\",\"#b2b096\",\"#b2be96\",\"#b2b496\",\"#b2c496\",\"#b2b096\",\"#b2a496\",\"#b29696\",\"#b2b496\",\"#b24a96\",\"#b2a096\",\"#b29296\",\"#b2ae96\",\"#b29296\",\"#b2ba96\",\"#b2c696\",\"#b2a096\",\"#b2aa96\",\"#b28a96\",\"#b2b296\",\"#b2b896\",\"#b28096\",\"#b29e96\",\"#b2a296\",\"#b28096\",\"#b28096\",\"#b2a696\",\"#b27496\",\"#b29a96\",\"#b28496\",\"#b2b696\",\"#b2a296\",\"#b2be96\",\"#b2ae96\",\"#b2b296\",\"#b29c96\",\"#b2b696\",\"#b28896\",\"#b26896\",\"#b2a896\",\"#b2c096\",\"#b2c096\",\"#b2ba96\",\"#b2a896\",\"#b2c696\",\"#b2ae96\",\"#b2be96\",\"#b29096\",\"#b2ac96\",\"#b2a696\",\"#b28896\",\"#b2b496\",\"#b29e96\",\"#b2ac96\",\"#b29896\",\"#b29696\",\"#b2aa96\",\"#b2ae96\",\"#b24896\",\"#b2b296\",\"#b2ac96\",\"#b29696\",\"#b2ae96\",\"#b2c696\",\"#b2b296\",\"#b2bc96\",\"#b2a296\",\"#b2a696\",\"#b28a96\",\"#b2a696\",\"#b27e96\",\"#b2b696\",\"#b2a096\",\"#b29696\",\"#b29096\",\"#b2b696\",\"#b2aa96\",\"#b2a696\",\"#b28a96\",\"#b2c896\",\"#b29696\",\"#b2b496\",\"#b2b896\",\"#b2aa96\",\"#b2ae96\",\"#b2b496\",\"#b28896\",\"#b2aa96\",\"#b29e96\",\"#b2aa96\",\"#b29096\",\"#b26696\",\"#b2a296\",\"#b28496\",\"#b2c696\",\"#b2aa96\",\"#b28296\",\"#b29496\",\"#b2b696\",\"#b2a296\",\"#b29a96\",\"#b2a496\",\"#b29496\",\"#b25896\",\"#b27a96\",\"#b29296\",\"#b2ac96\",\"#b2ba96\",\"#b2c096\",\"#b2a496\",\"#b29296\",\"#b28296\",\"#b29296\",\"#b2ae96\",\"#b28a96\",\"#b2c696\",\"#b2b096\",\"#b2ac96\",\"#b29696\",\"#b29096\",\"#b2ba96\",\"#b2c296\",\"#b29e96\",\"#b2c696\",\"#b05296\",\"#b0ae96\",\"#b09e96\",\"#b08c96\",\"#b0b296\",\"#b0c696\",\"#b0a296\",\"#b0a896\",\"#b08c96\",\"#b0b496\",\"#b0a496\",\"#b09c96\",\"#b09e96\",\"#b0a496\",\"#b0a896\",\"#b09696\",\"#b0a096\",\"#b0ac96\",\"#b09896\",\"#b0bc96\",\"#b0b896\",\"#b09a96\",\"#b07896\",\"#b0a496\",\"#b0aa96\",\"#b0c496\",\"#b0aa96\",\"#b0b296\",\"#b0ac96\",\"#b09496\",\"#b09296\",\"#b0b896\",\"#b0ba96\",\"#b0ae96\",\"#b0b896\",\"#b09e96\",\"#b07496\",\"#b08e96\",\"#b0a496\",\"#b09296\",\"#b09696\",\"#b09696\",\"#b0aa96\",\"#b0b696\",\"#b09c96\",\"#b0a696\",\"#b09896\",\"#b09696\",\"#b0b496\",\"#b0b496\",\"#b0a696\",\"#b0aa96\",\"#b09896\",\"#b0a696\",\"#b09a96\",\"#b0b896\",\"#b0b296\",\"#b0a496\",\"#b09496\",\"#b0ac96\",\"#b0bc96\",\"#b0a096\",\"#b09296\",\"#b05c96\",\"#b0b496\",\"#b0c096\",\"#b09496\",\"#b0ae96\",\"#b0c296\",\"#b0a496\",\"#b09896\",\"#b0ae96\",\"#b0b296\",\"#b06e96\",\"#b06296\",\"#b0a696\",\"#b08296\",\"#b09c96\",\"#b0a296\",\"#b08496\",\"#b0ae96\",\"#b08896\",\"#b05296\",\"#b08296\",\"#b0b296\",\"#b07096\",\"#b0c896\",\"#b0b496\",\"#b0b696\",\"#b07e96\",\"#b09c96\",\"#b0a096\",\"#b0b696\",\"#b09896\",\"#b0a896\",\"#b0a696\",\"#b0b896\",\"#b0a696\",\"#b0a496\",\"#b0b496\",\"#b0a696\",\"#b0b696\",\"#b0ae96\",\"#b0b696\",\"#b0ae96\",\"#b0aa96\",\"#b0a696\",\"#b0a896\",\"#b09896\",\"#b0b296\",\"#b0ca96\",\"#b0ac96\",\"#b07896\",\"#b09096\",\"#b0ac96\",\"#b0b496\",\"#b09496\",\"#b09a96\",\"#b09e96\",\"#b06696\",\"#b0aa96\",\"#b06c96\",\"#b06296\",\"#b0b696\",\"#b07696\",\"#b0a496\",\"#b0a296\",\"#b0a696\",\"#b0bc96\",\"#b0b496\",\"#b0a296\",\"#b0b096\",\"#b09a96\",\"#b09896\",\"#b0b496\",\"#b0ac96\",\"#b0be96\",\"#b0b496\",\"#b0ac96\",\"#b0a496\",\"#b08a96\",\"#b09e96\",\"#b0b896\",\"#b04496\",\"#b0ac96\",\"#b0b296\",\"#b0ba96\",\"#b09a96\",\"#b08e96\",\"#b08e96\",\"#b08896\",\"#b0aa96\",\"#b09c96\",\"#b0b096\",\"#b08696\",\"#b0b296\",\"#b0a096\",\"#b09e96\",\"#b08496\",\"#b08e96\",\"#b0a496\",\"#b0ba96\",\"#b0ce96\",\"#b0b096\",\"#b09896\",\"#b0ac96\",\"#b0aa96\",\"#b09696\",\"#b09896\",\"#b05a96\",\"#b0a496\",\"#b0a696\",\"#b08c96\",\"#b0a496\",\"#b0ae96\",\"#b08696\",\"#b09296\",\"#b0cc96\",\"#b08896\",\"#b0cc96\",\"#b09296\",\"#b06096\",\"#b0be96\",\"#b0b696\",\"#b0ba96\",\"#b0a096\",\"#b0b896\",\"#b0ae96\",\"#b07496\",\"#b0c696\",\"#b0aa96\",\"#b0aa96\",\"#b0a696\",\"#b09a96\",\"#b09c96\",\"#b0a496\",\"#b08296\",\"#b09696\",\"#b09a96\",\"#b0a496\",\"#b0b096\",\"#b0ba96\",\"#b09c96\",\"#b0b896\",\"#b07a96\",\"#b09c96\",\"#b0b496\",\"#b0c296\",\"#b0ba96\",\"#b0ac96\",\"#b0ce96\",\"#b0a696\",\"#b0c696\",\"#b0be96\",\"#b0a896\",\"#b06696\",\"#b09696\",\"#b0be96\",\"#b08096\",\"#b0a896\",\"#b08696\",\"#b08496\",\"#b08c96\",\"#b07096\",\"#b09c96\",\"#b0a496\",\"#b0ae96\",\"#b07696\",\"#b08496\",\"#b09a96\",\"#b07496\",\"#b09c96\",\"#b0a696\",\"#b08896\",\"#b08c96\",\"#b08896\",\"#b0c896\",\"#b0c696\",\"#b0b296\",\"#b06496\",\"#b08296\",\"#b09e96\",\"#b08e96\",\"#b0ba96\",\"#b0a296\",\"#b0b296\",\"#b0d096\",\"#b0c096\",\"#b09a96\",\"#b0b096\",\"#b0ac96\",\"#b09896\",\"#b0a296\",\"#b0ba96\",\"#b06c96\",\"#b09a96\",\"#b0b496\",\"#b05a96\",\"#b0ac96\",\"#b0c496\",\"#b0ac96\",\"#b09c96\",\"#b0ca96\",\"#b09c96\",\"#b09e96\",\"#b0ca96\",\"#b09296\",\"#b08a96\",\"#b0ae96\",\"#b08696\",\"#b0ac96\",\"#b0a096\",\"#b09696\",\"#b07e96\",\"#b0b296\",\"#b09c96\",\"#b0b096\",\"#b09e96\",\"#b09e96\",\"#b0a496\",\"#b0a096\",\"#b0b696\",\"#b09e96\",\"#b07a96\",\"#b08096\",\"#b0a696\",\"#b0b496\",\"#b0b896\",\"#b09896\",\"#b0b896\",\"#b07096\",\"#b0be96\",\"#b0a096\",\"#b08e96\",\"#b0b696\",\"#b09e96\",\"#b09296\",\"#b0a096\",\"#b08296\",\"#b0ac96\",\"#b09c96\",\"#b02296\",\"#b09c96\",\"#b0ac96\",\"#b07e96\",\"#b0b496\",\"#b0a696\",\"#b09096\",\"#b0b296\",\"#b0a296\",\"#b06e96\",\"#b0a296\",\"#b0a496\",\"#b08896\",\"#b09e96\",\"#b0ac96\",\"#b0b296\",\"#b0ae96\",\"#b0a496\",\"#b0ac96\",\"#b0be96\",\"#b0ba96\",\"#b07e96\",\"#b0a696\",\"#b08296\",\"#b0c896\",\"#b0ae96\",\"#b0b696\",\"#b09c96\",\"#b0b296\",\"#b09a96\",\"#b09a96\",\"#b0a096\",\"#b0b496\",\"#b07696\",\"#b0aa96\",\"#b0ba96\",\"#b0c296\",\"#b0c096\",\"#b0c496\",\"#aea296\",\"#aeb096\",\"#ae9c96\",\"#aeb496\",\"#aea296\",\"#ae6c96\",\"#aea696\",\"#aeb696\",\"#ae5096\",\"#aeb696\",\"#ae9e96\",\"#ae9e96\",\"#ae5e96\",\"#aeae96\",\"#aebc96\",\"#ae7296\",\"#ae8a96\",\"#ae8c96\",\"#aea096\",\"#aea896\",\"#ae8e96\",\"#aeb296\",\"#aea896\",\"#aea296\",\"#ae7e96\",\"#aeac96\",\"#aea896\",\"#aebe96\",\"#aeaa96\",\"#ae8a96\",\"#aeac96\",\"#aeb496\",\"#ae9e96\",\"#aeca96\",\"#aebe96\",\"#aeb896\",\"#ae9c96\",\"#ae8696\",\"#aeb096\",\"#ae8096\",\"#ae8296\",\"#aeca96\",\"#aeb696\",\"#aec096\",\"#aec896\",\"#aeba96\",\"#aeba96\",\"#aebc96\",\"#aeb096\",\"#ae9296\",\"#ae6a96\",\"#aece96\",\"#ae6a96\",\"#aea296\",\"#aea296\",\"#ae9e96\",\"#ae9896\",\"#aebe96\",\"#aea496\",\"#aeaa96\",\"#ae9096\",\"#ae9296\",\"#aebe96\",\"#ae6c96\",\"#aea896\",\"#ae9296\",\"#ae8296\",\"#aeb296\",\"#aec296\",\"#aec096\",\"#aeca96\",\"#aeae96\",\"#aea696\",\"#aeb496\",\"#ae8296\",\"#ae8c96\",\"#ae9096\",\"#aea696\",\"#aec096\",\"#ae9a96\",\"#ae8496\",\"#ae7e96\",\"#ae9296\",\"#ae6696\",\"#aeb496\",\"#ae9e96\",\"#ae7e96\",\"#aebe96\",\"#ae9e96\",\"#ae8a96\",\"#ae9c96\",\"#ae9e96\",\"#ae8296\",\"#ae7c96\",\"#ae9296\",\"#ae8696\",\"#ae9896\",\"#ae6a96\",\"#aea896\",\"#aebc96\",\"#ae8296\",\"#ae9e96\",\"#aeae96\",\"#aebe96\",\"#ae9c96\",\"#aea096\",\"#ae8c96\",\"#ae8496\",\"#ae9696\",\"#ae8296\",\"#aeae96\",\"#aeb296\",\"#aea296\",\"#aeba96\",\"#aea896\",\"#ae8696\",\"#aeb496\",\"#ae8096\",\"#aea896\",\"#ae9c96\",\"#aeac96\",\"#aeb896\",\"#aea696\",\"#aeb296\",\"#aea296\",\"#ae7296\",\"#aeb296\",\"#aea696\",\"#aeba96\",\"#aecc96\",\"#ae9296\",\"#aea496\",\"#ae9096\",\"#ae9496\",\"#aea296\",\"#aeac96\",\"#aec096\",\"#ae9496\",\"#ae9696\",\"#aeb896\",\"#ae8e96\",\"#aeb896\",\"#ae8696\",\"#aeb496\",\"#ae9c96\",\"#aeb096\",\"#aebc96\",\"#aeba96\",\"#ae9096\",\"#aeac96\",\"#ae7c96\",\"#aeac96\",\"#aeac96\",\"#ae9e96\",\"#aebe96\",\"#ae9e96\",\"#ae9296\",\"#ae8696\",\"#ae9496\",\"#aeb696\",\"#aec296\",\"#aea896\",\"#aeb696\",\"#ae8296\",\"#ae9496\",\"#ae9496\",\"#aea296\",\"#ae7a96\",\"#aebe96\",\"#aeb296\",\"#aea696\",\"#aeaa96\",\"#ae8a96\",\"#aea896\",\"#aebc96\",\"#aec496\",\"#aeca96\",\"#aeb496\",\"#ae8896\",\"#ae9496\",\"#aec096\",\"#aea896\",\"#ae9096\",\"#aeac96\",\"#aec696\",\"#ae9a96\",\"#ae8496\",\"#aea296\",\"#ae8696\",\"#ae9c96\",\"#aebe96\",\"#aecc96\",\"#aeb496\",\"#aeb496\",\"#aec896\",\"#ae8c96\",\"#aeae96\",\"#aecc96\",\"#aec096\",\"#ae8096\",\"#aeac96\",\"#ae9e96\",\"#aeba96\",\"#ae9096\",\"#aeca96\",\"#aebc96\",\"#aecc96\",\"#aeb496\",\"#ae9a96\",\"#aeac96\",\"#aea296\",\"#ae8696\",\"#aec096\",\"#aeae96\",\"#ae7896\",\"#aeaa96\",\"#ae6296\",\"#ae8c96\",\"#ae9a96\",\"#aeaa96\",\"#aea096\",\"#ae9696\",\"#aeca96\",\"#aea296\",\"#ae9696\",\"#ae9c96\",\"#ae9c96\",\"#ae9c96\",\"#aeaa96\",\"#aea696\",\"#ae9696\",\"#aeb696\",\"#aec096\",\"#ae9696\",\"#aeac96\",\"#aee096\",\"#aea296\",\"#aeba96\",\"#aec096\",\"#ae9c96\",\"#ae9296\",\"#ae9e96\",\"#aebc96\",\"#aeac96\",\"#aeac96\",\"#ae7896\",\"#aeca96\",\"#ae9a96\",\"#ae9096\",\"#ae8496\",\"#aea496\",\"#aeac96\",\"#ae9c96\",\"#ae7696\",\"#ae9496\",\"#ae9896\",\"#ae4696\",\"#aeb296\",\"#ae8e96\",\"#aea496\",\"#ae9c96\",\"#aeb496\",\"#ae9a96\",\"#aeb296\",\"#ae7e96\",\"#ae8e96\",\"#aeba96\",\"#aec696\",\"#aec696\",\"#aea296\",\"#ae8896\",\"#ae9096\",\"#ae7096\",\"#ae9c96\",\"#ae5a96\",\"#aeb096\",\"#ae9e96\",\"#aea896\",\"#ae9896\",\"#aea296\",\"#ae8e96\",\"#aeb896\",\"#aec896\",\"#aeac96\",\"#ae9496\",\"#aea896\",\"#aeba96\",\"#aea296\",\"#aeb096\",\"#aeba96\",\"#ae8296\",\"#ae9c96\",\"#aeaa96\",\"#aea096\",\"#ae9e96\",\"#ae9a96\",\"#ae9296\",\"#ae7696\",\"#ae8c96\",\"#aeb096\",\"#aeb696\",\"#aea096\",\"#aeae96\",\"#aeb296\",\"#aec496\",\"#aecc96\",\"#aea896\",\"#aeb896\",\"#aeac96\",\"#ae7696\",\"#aeb096\",\"#ae7496\",\"#aec496\",\"#ae9c96\",\"#aeae96\",\"#aeac96\",\"#aeae96\",\"#ae8696\",\"#ae9296\",\"#ae9496\",\"#aeae96\",\"#ae9896\",\"#aeb496\",\"#aea096\",\"#ae8696\",\"#aea696\",\"#ae9a96\",\"#aeb896\",\"#aebe96\",\"#aebe96\",\"#ae7e96\",\"#aeac96\",\"#aca696\",\"#acba96\",\"#aca896\",\"#acb296\",\"#acb096\",\"#ac6a96\",\"#aca096\",\"#acb096\",\"#ac9296\",\"#acb296\",\"#ac9296\",\"#acc296\",\"#ac9696\",\"#ac8296\",\"#acac96\",\"#ac9096\",\"#aca296\",\"#acc496\",\"#ac9096\",\"#ac9c96\",\"#aca896\",\"#ac8a96\",\"#ac9096\",\"#acbc96\",\"#acca96\",\"#acbe96\",\"#aca496\",\"#aca496\",\"#aca296\",\"#acb296\",\"#ac9896\",\"#ac9896\",\"#ac5896\",\"#ac9696\",\"#acaa96\",\"#ac8296\",\"#ac7e96\",\"#aca296\",\"#ac9496\",\"#acac96\",\"#ac8696\",\"#aca096\",\"#ac8296\",\"#acb096\",\"#ac9096\",\"#aca696\",\"#acc496\",\"#ac9a96\",\"#ac9e96\",\"#acb096\",\"#acb696\",\"#aca096\",\"#acac96\",\"#aca896\",\"#ac9096\",\"#aca896\",\"#aca296\",\"#ac9696\",\"#acb896\",\"#acbe96\",\"#acae96\",\"#acaa96\",\"#acac96\",\"#acb496\",\"#ac5c96\",\"#acc896\",\"#aca296\",\"#ac9a96\",\"#ac9696\",\"#ac9896\",\"#acac96\",\"#acbe96\",\"#ac6896\",\"#ac9e96\",\"#ac8c96\",\"#acb496\",\"#ac8296\",\"#ac9896\",\"#ac8e96\",\"#ac8c96\",\"#ac7e96\",\"#ac8896\",\"#ac8896\",\"#acc296\",\"#ac6296\",\"#aca296\",\"#acba96\",\"#acb896\",\"#aca696\",\"#aca696\",\"#acaa96\",\"#aca496\",\"#ac8096\",\"#aca096\",\"#acaa96\",\"#acc096\",\"#ac9696\",\"#aca696\",\"#aca696\",\"#acb496\",\"#acc696\",\"#ac9496\",\"#ac9c96\",\"#acbc96\",\"#ac9896\",\"#acb096\",\"#acc096\",\"#ac8896\",\"#aca096\",\"#aca696\",\"#ac9c96\",\"#acaa96\",\"#acaa96\",\"#ac6c96\",\"#acb296\",\"#acc096\",\"#ac9896\",\"#acae96\",\"#acb296\",\"#acaa96\",\"#accc96\",\"#acbe96\",\"#ac8496\",\"#aca896\",\"#acb496\",\"#aca896\",\"#aca896\",\"#aca096\",\"#acbc96\",\"#ac9096\",\"#ac9a96\",\"#acae96\",\"#ac8c96\",\"#ac8896\",\"#aca896\",\"#acac96\",\"#acbe96\",\"#ac8a96\",\"#acc296\",\"#ac9896\",\"#acc296\",\"#acc496\",\"#ac8696\",\"#acb696\",\"#ac9e96\",\"#ac9496\",\"#ac8296\",\"#ac4296\",\"#aca096\",\"#acaa96\",\"#acaa96\",\"#ac6a96\",\"#ac9096\",\"#acb496\",\"#ac9a96\",\"#ac6c96\",\"#acaa96\",\"#acaa96\",\"#acb696\",\"#ac8e96\",\"#acac96\",\"#acc296\",\"#acba96\",\"#ac9a96\",\"#ac9696\",\"#aca696\",\"#ac8496\",\"#ac7896\",\"#acac96\",\"#ac9e96\",\"#ac9e96\",\"#aca696\",\"#aca896\",\"#ac8096\",\"#acae96\",\"#aca696\",\"#ac8096\",\"#ac8c96\",\"#ac9e96\",\"#acb896\",\"#acac96\",\"#aca696\",\"#ac6296\",\"#acc296\",\"#ac9696\",\"#ac8e96\",\"#ac9e96\",\"#acbc96\",\"#ac9496\",\"#aca896\",\"#acb896\",\"#acae96\",\"#aca896\",\"#acb696\",\"#acac96\",\"#ac9696\",\"#ac9c96\",\"#aca696\",\"#acb096\",\"#ac9a96\",\"#aca096\",\"#acb296\",\"#ac9a96\",\"#acb896\",\"#ac9896\",\"#acb696\",\"#ac6e96\",\"#aca296\",\"#aca296\",\"#ac8096\",\"#aca296\",\"#ac9896\",\"#acac96\",\"#ac9a96\",\"#ac9296\",\"#acaa96\",\"#acc896\",\"#acd096\",\"#ac8e96\",\"#aca496\",\"#acbe96\",\"#acb496\",\"#ac7896\",\"#ac8896\",\"#ac6c96\",\"#acb296\",\"#ac9c96\",\"#aca896\",\"#ac6e96\",\"#aca696\",\"#ac6496\",\"#aca296\",\"#aca296\",\"#ac9c96\",\"#aca696\",\"#aca496\",\"#ac7496\",\"#acaa96\",\"#aca496\",\"#ac7896\",\"#acb296\",\"#acb296\",\"#ac9e96\",\"#acca96\",\"#ac7296\",\"#acb096\",\"#acb096\",\"#ac9e96\",\"#acac96\",\"#aca096\",\"#ac9696\",\"#ac8c96\",\"#acc096\",\"#ac7e96\",\"#acbc96\",\"#ac8c96\",\"#ac7c96\",\"#ac9a96\",\"#aca696\",\"#acb296\",\"#acae96\",\"#acb896\",\"#ac7c96\",\"#aca896\",\"#acbe96\",\"#aca296\",\"#aca896\",\"#ac8896\",\"#acb296\",\"#ac8096\",\"#aca096\",\"#acc096\",\"#ac9c96\",\"#ac7c96\",\"#ac6e96\",\"#ac7e96\",\"#acac96\",\"#acb296\",\"#ac7296\",\"#ac8896\",\"#acac96\",\"#ac8896\",\"#aca296\",\"#ac9096\",\"#ac4696\",\"#acaa96\",\"#ac8496\",\"#acb696\",\"#aca896\",\"#ac7c96\",\"#acaa96\",\"#accc96\",\"#acb096\",\"#aca696\",\"#acc496\",\"#acb096\",\"#ac8896\",\"#acae96\",\"#acb696\",\"#aa8096\",\"#aa8296\",\"#aa9a96\",\"#aa9e96\",\"#aaa696\",\"#aa9c96\",\"#aacc96\",\"#aa9c96\",\"#aa7c96\",\"#aaac96\",\"#aa9896\",\"#aa7a96\",\"#aabe96\",\"#aaba96\",\"#aaa496\",\"#aa9896\",\"#aa8c96\",\"#aa9a96\",\"#aaa096\",\"#aabc96\",\"#aa7e96\",\"#aab096\",\"#aa7696\",\"#aab096\",\"#aaa696\",\"#aaba96\",\"#aaa096\",\"#aaac96\",\"#aacc96\",\"#aabe96\",\"#aab296\",\"#aa8c96\",\"#aab896\",\"#aabe96\",\"#aa9e96\",\"#aa9896\",\"#aa9c96\",\"#aaba96\",\"#aab096\",\"#aa7696\",\"#aa5e96\",\"#aa9496\",\"#aa9c96\",\"#aab696\",\"#aab496\",\"#aab296\",\"#aaa296\",\"#aaa096\",\"#aab296\",\"#aaaa96\",\"#aac496\",\"#aa9696\",\"#aaa696\",\"#aab896\",\"#aaca96\",\"#aa8e96\",\"#aa8e96\",\"#aaa696\",\"#aa8a96\",\"#aab696\",\"#aac496\",\"#aac096\",\"#aaa296\",\"#aa8896\",\"#aaae96\",\"#aaa296\",\"#aab296\",\"#aa9e96\",\"#aa9a96\",\"#aab096\",\"#aa8296\",\"#aab696\",\"#aa7a96\",\"#aa9896\",\"#aaa096\",\"#aa4296\",\"#aa8c96\",\"#aa7a96\",\"#aa8e96\",\"#aa9296\",\"#aab496\",\"#aa8296\",\"#aac896\",\"#aa9a96\",\"#aaa296\",\"#aaa296\",\"#aaa096\",\"#aab096\",\"#aa9c96\",\"#aab496\",\"#aac296\",\"#aa8496\",\"#aa8e96\",\"#aab296\",\"#aaba96\",\"#aab896\",\"#aaca96\",\"#aab496\",\"#aab696\",\"#aaa096\",\"#aaa696\",\"#aac496\",\"#aaa096\",\"#aa6a96\",\"#aaba96\",\"#aaaa96\",\"#aab096\",\"#aa8496\",\"#aaa096\",\"#aaa296\",\"#aab096\",\"#aab896\",\"#aa5e96\",\"#aa8896\",\"#aa8496\",\"#aa6896\",\"#aab096\",\"#aa9e96\",\"#aa9696\",\"#aa9c96\",\"#aa9696\",\"#aa8e96\",\"#aaa296\",\"#aaa496\",\"#aabe96\",\"#aa9a96\",\"#aab296\",\"#aa7696\",\"#aa9696\",\"#aab296\",\"#aab096\",\"#aa6896\",\"#aa6896\",\"#aacc96\",\"#aaae96\",\"#aa9c96\",\"#aa9296\",\"#aa8e96\",\"#aab696\",\"#aa9a96\",\"#aa7496\",\"#aa9496\",\"#aa9e96\",\"#aaa496\",\"#aaa296\",\"#aabe96\",\"#aaa296\",\"#aaa696\",\"#aa7296\",\"#aaa296\",\"#aa9896\",\"#aab096\",\"#aa9896\",\"#aa9096\",\"#aa9c96\",\"#aa9a96\",\"#aac896\",\"#aaaa96\",\"#aa7c96\",\"#aaae96\",\"#aaa696\",\"#aac496\",\"#aaaa96\",\"#aaa096\",\"#aaac96\",\"#aa6e96\",\"#aaa896\",\"#aab696\",\"#aa9e96\",\"#aaaa96\",\"#aa7896\",\"#aaae96\",\"#aaaa96\",\"#aa9696\",\"#aaae96\",\"#aaca96\",\"#aac696\",\"#aa8e96\",\"#aa9296\",\"#aa9096\",\"#aaa096\",\"#aa9e96\",\"#aab496\",\"#aaaa96\",\"#aaac96\",\"#aac296\",\"#aa9496\",\"#aaa896\",\"#aaa896\",\"#aa7e96\",\"#aa3a96\",\"#aa6e96\",\"#aa8c96\",\"#aaa496\",\"#aaa496\",\"#aab896\",\"#aab496\",\"#aabe96\",\"#aac696\",\"#aa7696\",\"#aa9c96\",\"#aaa096\",\"#aaac96\",\"#aaa696\",\"#aa9896\",\"#aa8896\",\"#aa9e96\",\"#aaa096\",\"#aa4e96\",\"#aaca96\",\"#aaa096\",\"#aa8e96\",\"#aabc96\",\"#aab896\",\"#aab896\",\"#aaba96\",\"#aa9c96\",\"#aab096\",\"#aaca96\",\"#aa9e96\",\"#aac296\",\"#aaa096\",\"#aac096\",\"#aab096\",\"#aab896\",\"#aa9096\",\"#aa9096\",\"#aa7096\",\"#aac096\",\"#aaa496\",\"#aa7e96\",\"#aaaa96\",\"#aa7296\",\"#aa8096\",\"#aaaa96\",\"#aaae96\",\"#aac896\",\"#aaaa96\",\"#aaaa96\",\"#aabe96\",\"#aaa896\",\"#a89496\",\"#a87e96\",\"#a85696\",\"#a89e96\",\"#a89c96\",\"#a89c96\",\"#a8bc96\",\"#a8ac96\",\"#a8cc96\",\"#a8c096\",\"#a88a96\",\"#a84a96\",\"#a86896\",\"#a88a96\",\"#a88096\",\"#a88696\",\"#a8a496\",\"#a8b896\",\"#a86c96\",\"#a8a496\",\"#a88296\",\"#a88c96\",\"#a8a696\",\"#a88096\",\"#a89a96\",\"#a8a696\",\"#a88e96\",\"#a8b896\",\"#a8c896\",\"#a8a896\",\"#a8b496\",\"#a8a496\",\"#a88a96\",\"#a89e96\",\"#a89496\",\"#a88e96\",\"#a87296\",\"#a89c96\",\"#a8a096\",\"#a87696\",\"#a8ae96\",\"#a8b296\",\"#a89896\",\"#a8ce96\",\"#a8a296\",\"#a89e96\",\"#a8be96\",\"#a8a096\",\"#a8a096\",\"#a86a96\",\"#a8ae96\",\"#a86c96\",\"#a8ac96\",\"#a8b496\",\"#a8c496\",\"#a89c96\",\"#a8ba96\",\"#a88296\",\"#a8c696\",\"#a8ae96\",\"#a89e96\",\"#a8c896\",\"#a88296\",\"#a89a96\",\"#a89e96\",\"#a89a96\",\"#a8c096\",\"#a89c96\",\"#a8aa96\",\"#a87e96\",\"#a8a696\",\"#a8bc96\",\"#a86696\",\"#a8bc96\",\"#a8ac96\",\"#a89696\",\"#a88a96\",\"#a8cc96\",\"#a85696\",\"#a89c96\",\"#a8bc96\",\"#a8a296\",\"#a88e96\",\"#a8c896\",\"#a8b696\",\"#a89a96\",\"#a8be96\",\"#a88896\",\"#a89896\",\"#a89896\",\"#a8ba96\",\"#a89496\",\"#a8aa96\",\"#a8aa96\",\"#a89e96\",\"#a8ae96\",\"#a82a96\",\"#a8ac96\",\"#a8a696\",\"#a8b296\",\"#a89a96\",\"#a8ba96\",\"#a8ae96\",\"#a89496\",\"#a89896\",\"#a8a696\",\"#a8aa96\",\"#a8be96\",\"#a89496\",\"#a8b096\",\"#a8c096\",\"#a8aa96\",\"#a89a96\",\"#a89696\",\"#a8b896\",\"#a8ac96\",\"#a89496\",\"#a8a496\",\"#a8c496\",\"#a88a96\",\"#a88a96\",\"#a89a96\",\"#a87496\",\"#a8bc96\",\"#a87c96\",\"#a8b896\",\"#a8b496\",\"#a88896\",\"#a89296\",\"#a8aa96\",\"#a87296\",\"#a8ba96\",\"#a89296\",\"#a8ca96\",\"#a8b096\",\"#a89896\",\"#a8aa96\",\"#a8b496\",\"#a8b096\",\"#a86096\",\"#a89a96\",\"#a8a096\",\"#a89e96\",\"#a8a496\",\"#a8c096\",\"#a89e96\",\"#a85096\",\"#a87496\",\"#a89896\",\"#a89e96\",\"#a8a296\",\"#a8aa96\",\"#a87e96\",\"#a89296\",\"#a85e96\",\"#a8a096\",\"#a8a696\",\"#a89696\",\"#a8bc96\",\"#a89496\",\"#a89496\",\"#a8aa96\",\"#a88696\",\"#a8ae96\",\"#a89e96\",\"#a8c296\",\"#a8a896\",\"#a8c896\",\"#a8b496\",\"#a88e96\",\"#a89c96\",\"#a89096\",\"#a88a96\",\"#a87496\",\"#a88a96\",\"#a8be96\",\"#a8be96\",\"#a87696\",\"#a89c96\",\"#a89c96\",\"#a89096\",\"#a8b296\",\"#a86a96\",\"#a8c896\",\"#a8a496\",\"#a8aa96\",\"#a89c96\",\"#a89896\",\"#a86e96\",\"#a89a96\",\"#a8be96\",\"#a89896\",\"#a86696\",\"#a89a96\",\"#a8a296\",\"#a88896\",\"#a8a896\",\"#a8a496\",\"#a88696\",\"#a8ac96\",\"#a88c96\",\"#a85c96\",\"#a89896\",\"#a87696\",\"#a8ce96\",\"#a8a696\",\"#a8ac96\",\"#a8c696\",\"#a8aa96\",\"#a89896\",\"#a88696\",\"#a89296\",\"#a8b896\",\"#a8bc96\",\"#a8a296\",\"#a8b896\",\"#a8ae96\",\"#a88c96\",\"#a86496\",\"#a88c96\",\"#a8b096\",\"#a89a96\",\"#a8b896\",\"#a8b496\",\"#a88a96\",\"#a8b096\",\"#a89496\",\"#a86a96\",\"#a8a296\",\"#a8ae96\",\"#a8b296\",\"#a88496\",\"#a88e96\",\"#a89696\",\"#a87496\",\"#a87a96\",\"#a8b296\",\"#a8b496\",\"#a87496\",\"#a8a696\",\"#a8aa96\",\"#a8b496\",\"#a8aa96\",\"#a89e96\",\"#a89e96\",\"#a89696\",\"#a8a096\",\"#a87496\",\"#a8ca96\",\"#a88296\",\"#a8b096\",\"#a88296\",\"#a8c496\",\"#a8c896\",\"#a8a296\",\"#a89696\",\"#a8a096\",\"#a8b096\",\"#a8ae96\",\"#a8a896\",\"#a89c96\",\"#a8ae96\",\"#a89096\",\"#a8ac96\",\"#a8a696\",\"#a8ae96\",\"#a8a096\",\"#a89696\",\"#a8ca96\",\"#a8aa96\",\"#a8a296\",\"#a8c896\",\"#a8c096\",\"#a8b496\",\"#a8ba96\",\"#a88096\",\"#a88896\",\"#a88e96\",\"#a8a296\",\"#a8c496\",\"#a8ca96\",\"#a89896\",\"#a89296\",\"#a85c96\",\"#a87296\",\"#a8b896\",\"#a89096\",\"#a86e96\",\"#a8be96\",\"#a89c96\",\"#a8ae96\",\"#a8b096\",\"#a89696\",\"#a89e96\",\"#a8c496\",\"#a8ac96\",\"#a6b296\",\"#a6a896\",\"#a67c96\",\"#a6a896\",\"#a6a096\",\"#a6ba96\",\"#a69e96\",\"#a69c96\",\"#a68e96\",\"#a6a896\",\"#a69896\",\"#a6ca96\",\"#a6b496\",\"#a6c296\",\"#a6a896\",\"#a69696\",\"#a6ba96\",\"#a66c96\",\"#a69696\",\"#a6aa96\",\"#a66296\",\"#a68e96\",\"#a66496\",\"#a6bc96\",\"#a6b696\",\"#a6c096\",\"#a6be96\",\"#a67e96\",\"#a6a696\",\"#a69c96\",\"#a69e96\",\"#a6c096\",\"#a69496\",\"#a6b496\",\"#a6aa96\",\"#a6c896\",\"#a6a696\",\"#a6ac96\",\"#a69696\",\"#a6b496\",\"#a65e96\",\"#a69896\",\"#a6b496\",\"#a68296\",\"#a69096\",\"#a6a696\",\"#a68496\",\"#a69c96\",\"#a69c96\",\"#a67696\",\"#a68296\",\"#a69096\",\"#a6ac96\",\"#a69896\",\"#a6a496\",\"#a6aa96\",\"#a69896\",\"#a6c096\",\"#a6b496\",\"#a6be96\",\"#a6a696\",\"#a6a696\",\"#a6be96\",\"#a69696\",\"#a6a096\",\"#a68e96\",\"#a6a696\",\"#a6c896\",\"#a69896\",\"#a6b896\",\"#a67e96\",\"#a6ac96\",\"#a6c496\",\"#a6a896\",\"#a69296\",\"#a6be96\",\"#a67a96\",\"#a6a496\",\"#a6be96\",\"#a67696\",\"#a6b096\",\"#a66296\",\"#a65a96\",\"#a6b096\",\"#a66e96\",\"#a6aa96\",\"#a6c096\",\"#a6aa96\",\"#a6b496\",\"#a6a696\",\"#a6a896\",\"#a69096\",\"#a6ba96\",\"#a6a496\",\"#a69296\",\"#a6ba96\",\"#a69696\",\"#a68696\",\"#a69496\",\"#a69c96\",\"#a69696\",\"#a6a696\",\"#a68e96\",\"#a69c96\",\"#a69496\",\"#a65096\",\"#a6ce96\",\"#a69e96\",\"#a6bc96\",\"#a6be96\",\"#a6a296\",\"#a69c96\",\"#a6ae96\",\"#a6be96\",\"#a6aa96\",\"#a69e96\",\"#a67696\",\"#a6b296\",\"#a68c96\",\"#a69c96\",\"#a6a096\",\"#a6a096\",\"#a6a296\",\"#a69296\",\"#a68296\",\"#a6a696\",\"#a69696\",\"#a6c496\",\"#a6cc96\",\"#a6ae96\",\"#a6ae96\",\"#a6aa96\",\"#a6ac96\",\"#a6b896\",\"#a6a696\",\"#a6c496\",\"#a6a096\",\"#a65496\",\"#a68696\",\"#a6c096\",\"#a6ba96\",\"#a6b096\",\"#a69a96\",\"#a6c696\",\"#a6be96\",\"#a6b096\",\"#a69096\",\"#a69e96\",\"#a68a96\",\"#a6cc96\",\"#a6a096\",\"#a67c96\",\"#a69096\",\"#a6a096\",\"#a6c096\",\"#a6a096\",\"#a69896\",\"#a6b096\",\"#a68c96\",\"#a67296\",\"#a6b896\",\"#a68c96\",\"#a6a296\",\"#a6b696\",\"#a69096\",\"#a6ba96\",\"#a69296\",\"#a69e96\",\"#a69296\",\"#a68a96\",\"#a6ca96\",\"#a69696\",\"#a69896\",\"#a6a896\",\"#a6aa96\",\"#a67e96\",\"#a64a96\",\"#a6b296\",\"#a6a896\",\"#a69896\",\"#a69096\",\"#a69696\",\"#a67e96\",\"#a69c96\",\"#a65a96\",\"#a6cc96\",\"#a6a296\",\"#a68c96\",\"#a6ca96\",\"#a6a496\",\"#a6b896\",\"#a68c96\",\"#a6a496\",\"#a6ce96\",\"#a6ae96\",\"#a69896\",\"#a6a096\",\"#a6ba96\",\"#a67a96\",\"#a6bc96\",\"#a68496\",\"#a6c096\",\"#a6b896\",\"#a6be96\",\"#a69696\",\"#a66c96\",\"#a6aa96\",\"#a6bc96\",\"#a67e96\",\"#a6aa96\",\"#a6c296\",\"#a69096\",\"#a6ae96\",\"#a6b696\",\"#a6b296\",\"#a6c696\",\"#a67896\",\"#a66e96\",\"#a6a296\",\"#a6ae96\",\"#a6aa96\",\"#a6a696\",\"#a6a896\",\"#a6b296\",\"#a69c96\",\"#a6a496\",\"#a69296\",\"#a6c696\",\"#a6aa96\",\"#a69a96\",\"#a6b096\",\"#a69896\",\"#a6a296\",\"#a6a696\",\"#a6a096\",\"#a6ac96\",\"#a6b696\",\"#a6ac96\",\"#a6a496\",\"#a6bc96\",\"#a68896\",\"#a6a096\",\"#a68e96\",\"#a67696\",\"#a69c96\",\"#a6a696\",\"#a68e96\",\"#a69e96\",\"#a66e96\",\"#a6be96\",\"#a66496\",\"#a6aa96\",\"#a69e96\",\"#a69a96\",\"#a6b296\",\"#a6a896\",\"#a6ac96\",\"#a6c296\",\"#a48696\",\"#a49696\",\"#a48e96\",\"#a4ac96\",\"#a4aa96\",\"#a48c96\",\"#a48696\",\"#a49a96\",\"#a46296\",\"#a4bc96\",\"#a47a96\",\"#a49c96\",\"#a4c096\",\"#a4b696\",\"#a4a296\",\"#a49c96\",\"#a4ba96\",\"#a4ae96\",\"#a4a696\",\"#a4ae96\",\"#a4ca96\",\"#a4aa96\",\"#a4b096\",\"#a43c96\",\"#a48e96\",\"#a4ae96\",\"#a4a896\",\"#a43696\",\"#a4b096\",\"#a47296\",\"#a45896\",\"#a48296\",\"#a4b296\",\"#a46c96\",\"#a48896\",\"#a4a896\",\"#a4b096\",\"#a4b896\",\"#a4a096\",\"#a4ca96\",\"#a4a696\",\"#a48e96\",\"#a47a96\",\"#a4a496\",\"#a4a696\",\"#a49496\",\"#a4b496\",\"#a43a96\",\"#a49a96\",\"#a49c96\",\"#a47e96\",\"#a49e96\",\"#a49296\",\"#a4ba96\",\"#a48296\",\"#a4a496\",\"#a4b496\",\"#a4a496\",\"#a48696\",\"#a4a496\",\"#a47a96\",\"#a4a696\",\"#a49a96\",\"#a46a96\",\"#a4a896\",\"#a4a896\",\"#a46896\",\"#a49896\",\"#a45096\",\"#a48896\",\"#a49c96\",\"#a4ac96\",\"#a4a696\",\"#a4ba96\",\"#a49e96\",\"#a4b496\",\"#a49e96\",\"#a4ce96\",\"#a4a096\",\"#a45296\",\"#a48896\",\"#a4ae96\",\"#a4a096\",\"#a47c96\",\"#a4ac96\",\"#a4a296\",\"#a4c096\",\"#a48c96\",\"#a49496\",\"#a4aa96\",\"#a49296\",\"#a49296\",\"#a4aa96\",\"#a4b296\",\"#a4a496\",\"#a4bc96\",\"#a49896\",\"#a4a296\",\"#a43c96\",\"#a48e96\",\"#a46e96\",\"#a48e96\",\"#a48096\",\"#a48c96\",\"#a49296\",\"#a47696\",\"#a4a896\",\"#a4ae96\",\"#a48c96\",\"#a46c96\",\"#a4ba96\",\"#a4ac96\",\"#a4b096\",\"#a4ca96\",\"#a4a696\",\"#a48496\",\"#a49c96\",\"#a4a696\",\"#a47696\",\"#a4a096\",\"#a49096\",\"#a49096\",\"#a47096\",\"#a4a296\",\"#a47a96\",\"#a4aa96\",\"#a49696\",\"#a4a496\",\"#a48e96\",\"#a4a696\",\"#a46296\",\"#a48e96\",\"#a4a896\",\"#a4b696\",\"#a49e96\",\"#a4bc96\",\"#a4c496\",\"#a4c096\",\"#a4b496\",\"#a49e96\",\"#a45696\",\"#a49896\",\"#a4a696\",\"#a48896\",\"#a4a296\",\"#a49896\",\"#a49c96\",\"#a46696\",\"#a4b496\",\"#a4a096\",\"#a4bc96\",\"#a49e96\",\"#a4a296\",\"#a4c496\",\"#a4b096\",\"#a49e96\",\"#a46696\",\"#a4b296\",\"#a48496\",\"#a49e96\",\"#a49896\",\"#a28e96\",\"#a25696\",\"#a2b496\",\"#a2aa96\",\"#a28696\",\"#a2bc96\",\"#a2b696\",\"#a2b096\",\"#a28496\",\"#a2a696\",\"#a2a496\",\"#a27a96\",\"#a2b696\",\"#a29a96\",\"#a29896\",\"#a28896\",\"#a29496\",\"#a29296\",\"#a2a296\",\"#a28096\",\"#a27896\",\"#a2b096\",\"#a2a696\",\"#a29296\",\"#a28696\",\"#a2a296\",\"#a2a496\",\"#a2ac96\",\"#a2ae96\",\"#a27296\",\"#a2b896\",\"#a2a696\",\"#a2bc96\",\"#a29096\",\"#a2aa96\",\"#a29496\",\"#a2a296\",\"#a28e96\",\"#a2c896\",\"#a27e96\",\"#a24c96\",\"#a28096\",\"#a2b896\",\"#a29896\",\"#a2a696\",\"#a29896\",\"#a29a96\",\"#a29896\",\"#a28296\",\"#a29896\",\"#a2a096\",\"#a2a096\",\"#a2be96\",\"#a27e96\",\"#a28896\",\"#a2be96\",\"#a29296\",\"#a2a896\",\"#a28496\",\"#a28a96\",\"#a2aa96\",\"#a2b896\",\"#a2c896\",\"#a29e96\",\"#a27096\",\"#a2b296\",\"#a29296\",\"#a29c96\",\"#a27a96\",\"#a27c96\",\"#a2c296\",\"#a29c96\",\"#a29496\",\"#a2ba96\",\"#a2ca96\",\"#a2b896\",\"#a27e96\",\"#a29696\",\"#a28696\",\"#a28c96\",\"#a2a096\",\"#a2aa96\",\"#a2b496\",\"#a2ba96\",\"#a29696\",\"#a29a96\",\"#a2b896\",\"#a2a696\",\"#a28c96\",\"#a29e96\",\"#a2c296\",\"#a28296\",\"#a29a96\",\"#a28a96\",\"#a29e96\",\"#a2be96\",\"#a28e96\",\"#a29496\",\"#a27e96\",\"#a27096\",\"#a28e96\",\"#a28c96\",\"#a27c96\",\"#a29296\",\"#a2c296\",\"#a28e96\",\"#a27696\",\"#a2c296\",\"#a28696\",\"#a2b696\",\"#a29296\",\"#a2bc96\",\"#a29c96\",\"#a28096\",\"#a29496\",\"#a29696\",\"#a2b496\",\"#a2a296\",\"#a29696\",\"#a29a96\",\"#a2a696\",\"#a29e96\",\"#a2ba96\",\"#a28496\",\"#a29296\",\"#a27896\",\"#a29296\",\"#a29c96\",\"#a2ac96\",\"#a28e96\",\"#a29296\",\"#a28c96\",\"#a29896\",\"#a27496\",\"#a29e96\",\"#a28896\",\"#a2b296\",\"#a26e96\",\"#a29896\",\"#a2a696\",\"#a27a96\",\"#a29496\",\"#a2aa96\",\"#a2a896\",\"#a2b096\",\"#a2c296\",\"#a2c296\",\"#a27896\",\"#a25a96\",\"#a29e96\",\"#a27a96\",\"#a2c496\",\"#a2a896\",\"#a27896\",\"#a27096\",\"#a29e96\",\"#a26096\",\"#a2a096\",\"#a06a96\",\"#a0b296\",\"#a08c96\",\"#a09896\",\"#a0be96\",\"#a09896\",\"#a0a096\",\"#a09e96\",\"#a09a96\",\"#a08696\",\"#a08a96\",\"#a0ae96\",\"#a07e96\",\"#a08a96\",\"#a08696\",\"#a0b496\",\"#a0be96\",\"#a08a96\",\"#a09496\",\"#a09696\",\"#a0b296\",\"#a0aa96\",\"#a0c496\",\"#a08296\",\"#a0aa96\",\"#a08896\",\"#a07696\",\"#a0c696\",\"#a0aa96\",\"#a0b296\",\"#a09e96\",\"#a0a696\",\"#a08896\",\"#a08096\",\"#a0b496\",\"#a0b696\",\"#a0a296\",\"#a07296\",\"#a0aa96\",\"#a0a096\",\"#a09296\",\"#a09e96\",\"#a08296\",\"#a0ba96\",\"#a09a96\",\"#a0a496\",\"#a09696\",\"#a0a496\",\"#a0aa96\",\"#a0b696\",\"#a0aa96\",\"#a08696\",\"#a0a896\",\"#a0bc96\",\"#a0be96\",\"#a07e96\",\"#a08a96\",\"#a0ac96\",\"#a09496\",\"#a0a696\",\"#a09c96\",\"#a0b496\",\"#a0ba96\",\"#a0ba96\",\"#a09696\",\"#a07096\",\"#a08a96\",\"#a09896\",\"#a0ac96\",\"#a08296\",\"#a0ba96\",\"#a08a96\",\"#a0a096\",\"#a09496\",\"#a09096\",\"#a0a496\",\"#a09696\",\"#a0a696\",\"#a09896\",\"#a0aa96\",\"#a0b096\",\"#a09e96\",\"#a09e96\",\"#a08896\",\"#a09896\",\"#a09c96\",\"#a0a496\",\"#a0a896\",\"#a07e96\",\"#a09c96\",\"#a07c96\",\"#a0a296\",\"#a0c296\",\"#a09c96\",\"#a07296\",\"#a0a696\",\"#a08c96\",\"#a08c96\",\"#a08c96\",\"#a06296\",\"#a09c96\",\"#a0c296\",\"#a09c96\",\"#a09896\",\"#a0b696\",\"#a0be96\",\"#a05096\",\"#a0c296\",\"#a0b296\",\"#a07e96\",\"#a09c96\",\"#a09696\",\"#a07a96\",\"#a07096\",\"#a07696\",\"#a09896\",\"#a08496\",\"#a0ae96\",\"#a05296\",\"#a07e96\",\"#a09896\",\"#a0a696\",\"#a0bc96\",\"#a09296\",\"#a0b096\",\"#a0ba96\",\"#a08c96\",\"#a0b496\",\"#a0c896\",\"#a06c96\",\"#a0aa96\",\"#a0ac96\",\"#a08896\",\"#a08696\",\"#a0ac96\",\"#a0b296\",\"#a08c96\",\"#a0a896\",\"#a0b096\",\"#a0ae96\",\"#a09696\",\"#a08a96\",\"#a05096\",\"#a0b696\",\"#a0c696\",\"#a07496\",\"#a0a696\",\"#a08e96\",\"#a09c96\",\"#a09496\",\"#a0aa96\",\"#a0b096\",\"#a09496\",\"#a0a696\",\"#a0cc96\",\"#a0b296\",\"#a09c96\",\"#a0c896\",\"#a0aa96\",\"#a06a96\",\"#a08c96\",\"#a08696\",\"#a09096\",\"#a0a296\",\"#a0b696\",\"#a0aa96\",\"#a0ca96\",\"#a07c96\",\"#a08296\",\"#a07896\",\"#a0c496\",\"#a0b496\",\"#9e6e96\",\"#9e9a96\",\"#9e9696\",\"#9eac96\",\"#9ea696\",\"#9ec296\",\"#9e6496\",\"#9ea696\",\"#9e9e96\",\"#9e8e96\",\"#9eb696\",\"#9e9a96\",\"#9e9296\",\"#9e8296\",\"#9e9a96\",\"#9eb096\",\"#9ea296\",\"#9ec696\",\"#9ea296\",\"#9ec896\",\"#9e8c96\",\"#9ec296\",\"#9eb096\",\"#9e8296\",\"#9e8896\",\"#9e8696\",\"#9e9296\",\"#9ea496\",\"#9ea096\",\"#9e9e96\",\"#9eba96\",\"#9e9e96\",\"#9ebe96\",\"#9eae96\",\"#9ea896\",\"#9e8896\",\"#9e9696\",\"#9e7896\",\"#9ec896\",\"#9e9296\",\"#9e8e96\",\"#9e6696\",\"#9e9496\",\"#9e9c96\",\"#9e7e96\",\"#9ea296\",\"#9ea296\",\"#9e9096\",\"#9ea496\",\"#9e6e96\",\"#9eaa96\",\"#9e7c96\",\"#9ea496\",\"#9e9096\",\"#9eb096\",\"#9eae96\",\"#9e3a96\",\"#9e8e96\",\"#9eb096\",\"#9e8896\",\"#9eaa96\",\"#9e9696\",\"#9ea696\",\"#9e9296\",\"#9e9096\",\"#9eb096\",\"#9e7c96\",\"#9e9696\",\"#9eaa96\",\"#9e8a96\",\"#9e7a96\",\"#9eb296\",\"#9ea496\",\"#9ea296\",\"#9ecc96\",\"#9eae96\",\"#9e7c96\",\"#9e9696\",\"#9e9e96\",\"#9ec096\",\"#9e8296\",\"#9e5a96\",\"#9e8696\",\"#9e8a96\",\"#9e7696\",\"#9eb296\",\"#9ea696\",\"#9eb696\",\"#9e9896\",\"#9e6696\",\"#9ea496\",\"#9e9a96\",\"#9eaa96\",\"#9e5896\",\"#9eaa96\",\"#9ec496\",\"#9e9896\",\"#9eaa96\",\"#9ea496\",\"#9e8c96\",\"#9eb296\",\"#9ea296\",\"#9e6496\",\"#9eaa96\",\"#9ea096\",\"#9e7696\",\"#9e9896\",\"#9e9696\",\"#9e4496\",\"#9eaa96\",\"#9e9096\",\"#9e8e96\",\"#9ea296\",\"#9ea096\",\"#9eb296\",\"#9e5896\",\"#9eb696\",\"#9e8e96\",\"#9e8896\",\"#9eaa96\",\"#9e9296\",\"#9eae96\",\"#9ea896\",\"#9eb096\",\"#9e6e96\",\"#9ed296\",\"#9ea296\",\"#9eb896\",\"#9e8c96\",\"#9e8096\",\"#9e9c96\",\"#9ea096\",\"#9e3c96\",\"#9e5e96\",\"#9e5696\",\"#9ea896\",\"#9ea496\",\"#9ea296\",\"#9e5296\",\"#9e8296\",\"#9e9696\",\"#9e8e96\",\"#9e7496\",\"#9e7c96\",\"#9e6296\",\"#9e8696\",\"#9eb896\",\"#9e8e96\",\"#9ec096\",\"#9eb896\",\"#9e7696\",\"#9ea896\",\"#9ec496\",\"#9e6a96\",\"#9e6296\",\"#9eb496\",\"#9ea896\",\"#9eac96\",\"#9ece96\",\"#9e9696\",\"#9e8e96\",\"#9e9e96\",\"#9ea096\",\"#9e8096\",\"#9e9896\",\"#9e9696\",\"#9eac96\",\"#9eb496\",\"#9ea896\",\"#9caa96\",\"#9c7e96\",\"#9c7a96\",\"#9c9c96\",\"#9caa96\",\"#9ca696\",\"#9c8896\",\"#9c9c96\",\"#9cb696\",\"#9cb896\",\"#9cba96\",\"#9c8c96\",\"#9cb896\",\"#9ca896\",\"#9cac96\",\"#9c9096\",\"#9c8c96\",\"#9c9e96\",\"#9c8c96\",\"#9caa96\",\"#9c9a96\",\"#9cb696\",\"#9cb096\",\"#9c8496\",\"#9cc096\",\"#9ca496\",\"#9c6e96\",\"#9ca696\",\"#9cb696\",\"#9cb896\",\"#9cb696\",\"#9ccc96\",\"#9c8896\",\"#9cb896\",\"#9c9e96\",\"#9c9896\",\"#9c8c96\",\"#9c8e96\",\"#9c7296\",\"#9c8896\",\"#9c9296\",\"#9caa96\",\"#9c9896\",\"#9cb096\",\"#9c8c96\",\"#9ca896\",\"#9c4696\",\"#9ca696\",\"#9c8a96\",\"#9c8496\",\"#9c7896\",\"#9cb496\",\"#9cc096\",\"#9cbe96\",\"#9ca096\",\"#9ca296\",\"#9c8c96\",\"#9caa96\",\"#9ca896\",\"#9c6696\",\"#9ca296\",\"#9caa96\",\"#9c9696\",\"#9c8a96\",\"#9ccc96\",\"#9cb296\",\"#9ca496\",\"#9ca096\",\"#9cbe96\",\"#9caa96\",\"#9c9496\",\"#9cae96\",\"#9c8c96\",\"#9ca096\",\"#9ca296\",\"#9ca296\",\"#9c7896\",\"#9ca696\",\"#9c7096\",\"#9c6496\",\"#9c7e96\",\"#9c8a96\",\"#9c9296\",\"#9c7a96\",\"#9cb496\",\"#9c9296\",\"#9ca496\",\"#9c6a96\",\"#9c8496\",\"#9cb496\",\"#9c9696\",\"#9c9096\",\"#9ca496\",\"#9cca96\",\"#9ca696\",\"#9ca096\",\"#9cc896\",\"#9cb696\",\"#9c8e96\",\"#9c6896\",\"#9c9e96\",\"#9c9496\",\"#9cc496\",\"#9c6096\",\"#9c9096\",\"#9c9296\",\"#9cae96\",\"#9c8c96\",\"#9ca496\",\"#9cc096\",\"#9cc096\",\"#9cae96\",\"#9ca896\",\"#9c9e96\",\"#9c6a96\",\"#9c9696\",\"#9cce96\",\"#9ca096\",\"#9cba96\",\"#9c9096\",\"#9cb896\",\"#9c9c96\",\"#9c5696\",\"#9c8896\",\"#9cbc96\",\"#9ca096\",\"#9cae96\",\"#9c9496\",\"#9cc496\",\"#9c8e96\",\"#9ca896\",\"#9c9a96\",\"#9cb096\",\"#9cb296\",\"#9ca096\",\"#9c9096\",\"#9c9a96\",\"#9ca296\",\"#9c9496\",\"#9c7c96\",\"#9c7a96\",\"#9cb296\",\"#9c9896\",\"#9c5e96\",\"#9caa96\",\"#9cca96\",\"#9ca896\",\"#9cb696\",\"#9c7c96\",\"#9cac96\",\"#9c4a96\",\"#9c5c96\",\"#9c6c96\",\"#9c7696\",\"#9cb496\",\"#9c8e96\",\"#9ace96\",\"#9ab096\",\"#9a8896\",\"#9aae96\",\"#9ac296\",\"#9a9e96\",\"#9a8896\",\"#9a8e96\",\"#9a8896\",\"#9aac96\",\"#9a9896\",\"#9a7896\",\"#9aaa96\",\"#9ab496\",\"#9a7e96\",\"#9a8096\",\"#9aac96\",\"#9a9496\",\"#9a7896\",\"#9ab896\",\"#9a8896\",\"#9a9a96\",\"#9a8a96\",\"#9ab496\",\"#9aaa96\",\"#9a9496\",\"#9a8896\",\"#9a9896\",\"#9a7096\",\"#9a9896\",\"#9ab496\",\"#9aaa96\",\"#9a9496\",\"#9a9896\",\"#9a6496\",\"#9aaa96\",\"#9aa696\",\"#9a8c96\",\"#9ab496\",\"#9a8296\",\"#9aba96\",\"#9a8296\",\"#9a8a96\",\"#9aa096\",\"#9a9a96\",\"#9aa696\",\"#9ab096\",\"#9a9a96\",\"#9a9296\",\"#9a3c96\",\"#9a9896\",\"#9a7c96\",\"#9ab096\",\"#9aa696\",\"#9aa496\",\"#9a7e96\",\"#9aac96\",\"#9aa496\",\"#9a7296\",\"#9ab296\",\"#9ac296\",\"#9a8096\",\"#9a6696\",\"#9a9e96\",\"#9a4496\",\"#9a5696\",\"#9aa096\",\"#9ab496\",\"#9a9496\",\"#9a7296\",\"#9a8a96\",\"#9abc96\",\"#9aa696\",\"#9aa496\",\"#9aa096\",\"#9aae96\",\"#9ab096\",\"#9abe96\",\"#9ab896\",\"#9a9696\",\"#9a9e96\",\"#9a5a96\",\"#9a7296\",\"#9a6696\",\"#9a8496\",\"#9aa496\",\"#9a5696\",\"#9acc96\",\"#9aae96\",\"#9a8e96\",\"#9abc96\",\"#9aa496\",\"#9a9e96\",\"#9a4a96\",\"#9a9a96\",\"#9aaa96\",\"#9a7e96\",\"#9a9696\",\"#9a7a96\",\"#9a7296\",\"#9a8e96\",\"#9a8a96\",\"#9aa096\",\"#9aa896\",\"#9a7896\",\"#9a7296\",\"#9a8a96\",\"#9ace96\",\"#9aac96\",\"#9a8896\",\"#9a9a96\",\"#9aaa96\",\"#9a9096\",\"#9a9296\",\"#9a7896\",\"#9a9496\",\"#9aae96\",\"#987e96\",\"#988c96\",\"#98a496\",\"#989c96\",\"#98b096\",\"#98c096\",\"#988696\",\"#98b696\",\"#988896\",\"#989296\",\"#98b896\",\"#989e96\",\"#98b296\",\"#989496\",\"#98a696\",\"#989496\",\"#985a96\",\"#989c96\",\"#988096\",\"#988096\",\"#98a496\",\"#98b496\",\"#98ba96\",\"#98ae96\",\"#98ae96\",\"#989a96\",\"#986496\",\"#98ae96\",\"#989296\",\"#98a296\",\"#985096\",\"#987296\",\"#98ba96\",\"#98a696\",\"#98b896\",\"#98ca96\",\"#98b696\",\"#989096\",\"#989896\",\"#989c96\",\"#988496\",\"#98b896\",\"#98b296\",\"#988496\",\"#989c96\",\"#98ba96\",\"#989096\",\"#988a96\",\"#986e96\",\"#988296\",\"#989496\",\"#98a496\",\"#987096\",\"#987296\",\"#989896\",\"#986a96\",\"#98a696\",\"#987a96\",\"#98a096\",\"#989c96\",\"#989496\",\"#988c96\",\"#989c96\",\"#989096\",\"#986896\",\"#989496\",\"#987e96\",\"#985c96\",\"#989496\",\"#987496\",\"#986296\",\"#98b296\",\"#989896\",\"#988096\",\"#989296\",\"#987c96\",\"#989096\",\"#987896\",\"#988296\",\"#98a296\",\"#98a296\",\"#98c496\",\"#98a696\",\"#987a96\",\"#987c96\",\"#988e96\",\"#987e96\",\"#98b096\",\"#988a96\",\"#988896\",\"#988e96\",\"#98a496\",\"#988c96\",\"#989896\",\"#98a096\",\"#989096\",\"#986296\",\"#986e96\",\"#985a96\",\"#988296\",\"#989496\",\"#989c96\",\"#988e96\",\"#98a896\",\"#98a096\",\"#987e96\",\"#988296\",\"#98b496\",\"#989696\",\"#989e96\",\"#987496\",\"#98a096\",\"#98a096\",\"#98a896\",\"#984696\",\"#989496\",\"#98ac96\",\"#988c96\",\"#988896\",\"#98a896\",\"#989c96\",\"#98a496\",\"#98ba96\",\"#98c296\",\"#967096\",\"#967e96\",\"#967e96\",\"#96ba96\",\"#969a96\",\"#96a696\",\"#969696\",\"#96c096\",\"#96ba96\",\"#969e96\",\"#969c96\",\"#968c96\",\"#96b096\",\"#96b496\",\"#966896\",\"#96bc96\",\"#969896\",\"#969496\",\"#96aa96\",\"#967696\",\"#968896\",\"#96ba96\",\"#96a696\",\"#968896\",\"#96aa96\",\"#969696\",\"#966e96\",\"#969096\",\"#969696\",\"#96a496\",\"#969496\",\"#969496\",\"#966a96\",\"#968a96\",\"#968496\",\"#969a96\",\"#96c096\",\"#969896\",\"#96b496\",\"#968896\",\"#969696\",\"#965e96\",\"#969a96\",\"#96c896\",\"#96b696\",\"#966a96\",\"#968a96\",\"#966296\",\"#96b296\",\"#96aa96\",\"#967a96\",\"#96b096\",\"#96ac96\",\"#96ac96\",\"#96b096\",\"#969896\",\"#96ac96\",\"#968c96\",\"#966896\",\"#967a96\",\"#967496\",\"#96b296\",\"#969096\",\"#96b896\",\"#96c096\",\"#968a96\",\"#96a696\",\"#969c96\",\"#96a696\",\"#968096\",\"#968a96\",\"#969e96\",\"#96c296\",\"#969e96\",\"#969296\",\"#968496\",\"#969c96\",\"#96ae96\",\"#967a96\",\"#96aa96\",\"#96b496\",\"#966e96\",\"#968696\",\"#96ae96\",\"#969e96\",\"#968896\",\"#968c96\",\"#969096\",\"#96b296\",\"#968696\",\"#96c496\",\"#968e96\",\"#96a296\",\"#964e96\",\"#967896\",\"#96a096\",\"#96aa96\",\"#96b696\",\"#968296\",\"#968296\",\"#967496\",\"#968296\",\"#969a96\",\"#968296\",\"#967096\",\"#966696\",\"#968296\",\"#969a96\",\"#968e96\",\"#969a96\",\"#968a96\",\"#96a296\",\"#96ac96\",\"#964a96\",\"#967c96\",\"#968696\",\"#968e96\",\"#967696\",\"#949a96\",\"#94a896\",\"#947c96\",\"#94b696\",\"#94be96\",\"#948a96\",\"#94ba96\",\"#946c96\",\"#94a096\",\"#947e96\",\"#949496\",\"#949896\",\"#949e96\",\"#949e96\",\"#94c896\",\"#947296\",\"#947c96\",\"#949496\",\"#949c96\",\"#944a96\",\"#94a496\",\"#949e96\",\"#947696\",\"#949896\",\"#94b496\",\"#947496\",\"#948696\",\"#94ae96\",\"#944896\",\"#94ac96\",\"#949e96\",\"#947496\",\"#94a496\",\"#949a96\",\"#947e96\",\"#948e96\",\"#949e96\",\"#948e96\",\"#948e96\",\"#948e96\",\"#948c96\",\"#94b496\",\"#94ac96\",\"#949496\",\"#948696\",\"#948296\",\"#946e96\",\"#94a896\",\"#946496\",\"#948496\",\"#94c696\",\"#948a96\",\"#94c496\",\"#949a96\",\"#947a96\",\"#949696\",\"#94ba96\",\"#944a96\",\"#946496\",\"#946096\",\"#948696\",\"#947e96\",\"#948296\",\"#94ae96\",\"#949a96\",\"#948a96\",\"#94b296\",\"#949696\",\"#944096\",\"#949696\",\"#949a96\",\"#949496\",\"#948496\",\"#94b096\",\"#94a296\",\"#949896\",\"#94aa96\",\"#948496\",\"#94a496\",\"#947a96\",\"#94b696\",\"#948696\",\"#949a96\",\"#949696\",\"#948896\",\"#949a96\",\"#948496\",\"#947896\",\"#949496\",\"#949496\",\"#94aa96\",\"#94a096\",\"#948296\",\"#94a696\",\"#948a96\",\"#94a896\",\"#949e96\",\"#94b496\",\"#949296\",\"#949c96\",\"#948696\",\"#94b896\",\"#945c96\",\"#945a96\",\"#947c96\",\"#948a96\",\"#949296\",\"#947896\",\"#948496\",\"#947496\",\"#949a96\",\"#949896\",\"#947096\",\"#94aa96\",\"#948c96\",\"#947896\",\"#94aa96\",\"#949c96\",\"#947e96\",\"#949496\",\"#947696\",\"#948896\",\"#92b496\",\"#926096\",\"#925496\",\"#929c96\",\"#927296\",\"#928296\",\"#92ae96\",\"#927696\",\"#92a696\",\"#928e96\",\"#927c96\",\"#928096\",\"#926a96\",\"#92aa96\",\"#92b496\",\"#929a96\",\"#928896\",\"#927696\",\"#926296\",\"#925a96\",\"#927096\",\"#928e96\",\"#92bc96\",\"#928a96\",\"#928496\",\"#92c096\",\"#92a096\",\"#92a896\",\"#928896\",\"#927496\",\"#928896\",\"#926296\",\"#926c96\",\"#92b696\",\"#92a296\",\"#92bc96\",\"#92ae96\",\"#928896\",\"#929496\",\"#92a096\",\"#928896\",\"#92ac96\",\"#92a496\",\"#927a96\",\"#928496\",\"#927e96\",\"#929c96\",\"#92be96\",\"#92ba96\",\"#92be96\",\"#92b296\",\"#929096\",\"#924696\",\"#928c96\",\"#929096\",\"#927e96\",\"#927c96\",\"#929e96\",\"#92c096\",\"#92c496\",\"#927896\",\"#929296\",\"#929696\",\"#92a896\",\"#92a496\",\"#92a496\",\"#927296\",\"#925a96\",\"#928896\",\"#926696\",\"#92aa96\",\"#92a896\",\"#927e96\",\"#929696\",\"#92b696\",\"#92b096\",\"#929496\",\"#929296\",\"#927096\",\"#929c96\",\"#928696\",\"#92ae96\",\"#929296\",\"#926e96\",\"#928696\",\"#92c496\",\"#92a096\",\"#92a896\",\"#929c96\",\"#92a696\",\"#927296\",\"#909096\",\"#90a496\",\"#908a96\",\"#908e96\",\"#909296\",\"#909296\",\"#90b496\",\"#90ac96\",\"#908a96\",\"#908896\",\"#909696\",\"#908696\",\"#908096\",\"#90aa96\",\"#90c896\",\"#907096\",\"#908896\",\"#906296\",\"#908896\",\"#909696\",\"#909a96\",\"#908c96\",\"#907a96\",\"#907896\",\"#908496\",\"#90ac96\",\"#904c96\",\"#90b096\",\"#908896\",\"#908696\",\"#909096\",\"#909096\",\"#90b496\",\"#903c96\",\"#905a96\",\"#908096\",\"#90ba96\",\"#908e96\",\"#90c096\",\"#90cc96\",\"#90b296\",\"#908096\",\"#906e96\",\"#907e96\",\"#906c96\",\"#90b696\",\"#90a896\",\"#908096\",\"#909496\",\"#90a696\",\"#90a696\",\"#909e96\",\"#90a296\",\"#909696\",\"#905096\",\"#908c96\",\"#90b296\",\"#90be96\",\"#90b896\",\"#907296\",\"#908296\",\"#909896\",\"#907096\",\"#909a96\",\"#907696\",\"#908496\",\"#908096\",\"#904296\",\"#90b896\",\"#907696\",\"#906696\",\"#90ae96\",\"#909696\",\"#909e96\",\"#907e96\",\"#907896\",\"#909696\",\"#90c496\",\"#8eb496\",\"#8e7c96\",\"#8e8296\",\"#8e7696\",\"#8e8696\",\"#8e8296\",\"#8eb696\",\"#8e8096\",\"#8e9696\",\"#8e7a96\",\"#8e7096\",\"#8e6696\",\"#8eaa96\",\"#8ea696\",\"#8e8e96\",\"#8e5a96\",\"#8e8e96\",\"#8e8e96\",\"#8ea696\",\"#8e5e96\",\"#8e9296\",\"#8e5a96\",\"#8ea496\",\"#8eaa96\",\"#8e9296\",\"#8ea296\",\"#8e7896\",\"#8e9c96\",\"#8ebe96\",\"#8e6896\",\"#8e9896\",\"#8e8296\",\"#8ecc96\",\"#8e9296\",\"#8ea296\",\"#8e9a96\",\"#8eb096\",\"#8eb496\",\"#8eb696\",\"#8e9696\",\"#8e6496\",\"#8eb896\",\"#8e8e96\",\"#8eaa96\",\"#8ea696\",\"#8ea896\",\"#8e8696\",\"#8ea896\",\"#8e6896\",\"#8ebe96\",\"#8eaa96\",\"#8ebe96\",\"#8e8496\",\"#8e6896\",\"#8ea296\",\"#8e9496\",\"#8e6c96\",\"#8e7696\",\"#8e8096\",\"#8eb096\",\"#8ea496\",\"#8e7a96\",\"#8ec296\",\"#8e8496\",\"#8e6296\",\"#8e6696\",\"#8ea096\",\"#8eaa96\",\"#8e7696\",\"#8eb496\",\"#8e7c96\",\"#8e9c96\",\"#8e7096\",\"#8e8896\",\"#8ec296\",\"#8c8296\",\"#8c9a96\",\"#8cb696\",\"#8c7c96\",\"#8c9096\",\"#8c8a96\",\"#8c9a96\",\"#8c7a96\",\"#8c8296\",\"#8c8896\",\"#8c8c96\",\"#8c5a96\",\"#8c4696\",\"#8c8896\",\"#8cae96\",\"#8c4896\",\"#8c9e96\",\"#8c9896\",\"#8c9296\",\"#8cb896\",\"#8c9e96\",\"#8c9096\",\"#8c5c96\",\"#8c6296\",\"#8c9896\",\"#8c5a96\",\"#8cb096\",\"#8c9496\",\"#8c7e96\",\"#8c8296\",\"#8c9696\",\"#8ca696\",\"#8cbe96\",\"#8c9496\",\"#8cb296\",\"#8c9096\",\"#8c9696\",\"#8ca296\",\"#8c8296\",\"#8c3496\",\"#8caa96\",\"#8caa96\",\"#8c7896\",\"#8c6096\",\"#8c7496\",\"#8cb096\",\"#8ca496\",\"#8cac96\",\"#8c5296\",\"#8c8e96\",\"#8c8a96\",\"#8c7696\",\"#8c6496\",\"#8cc096\",\"#8c8896\",\"#8c8096\",\"#8c9c96\",\"#8c8c96\",\"#8ca696\",\"#8c9696\",\"#8cc896\",\"#8ca496\",\"#8c7c96\",\"#8c9096\",\"#8c9a96\",\"#8c7896\",\"#8c7296\",\"#8c9696\",\"#8c9496\",\"#8c8c96\",\"#8c9e96\",\"#8ab096\",\"#8a8096\",\"#8a7696\",\"#8a9c96\",\"#8a7c96\",\"#8aa296\",\"#8a8e96\",\"#8a8c96\",\"#8a8a96\",\"#8aa696\",\"#8a9296\",\"#8a9696\",\"#8aa696\",\"#8a7a96\",\"#8a5e96\",\"#8a9a96\",\"#8aa296\",\"#8a9696\",\"#8a7696\",\"#8a9096\",\"#8a8a96\",\"#8a9e96\",\"#8a8c96\",\"#8a8096\",\"#8a6a96\",\"#8aa496\",\"#8a5696\",\"#8ac096\",\"#8abc96\",\"#8a8e96\",\"#8a9896\",\"#8aa296\",\"#8a7e96\",\"#8a7c96\",\"#8aa496\",\"#8a8896\",\"#8a6e96\",\"#8ab496\",\"#8a8096\",\"#8aa896\",\"#8ab096\",\"#8a8296\",\"#8a7e96\",\"#8a9096\",\"#8aa296\",\"#8a7696\",\"#8a9e96\",\"#8abc96\",\"#8aa896\",\"#8a5896\",\"#8a9296\",\"#8aaa96\",\"#8a9e96\",\"#8ab096\",\"#8a5a96\",\"#8a8496\",\"#8a7296\",\"#8ab096\",\"#8aa296\",\"#8aa696\",\"#8aac96\",\"#8a6c96\",\"#8a5696\",\"#8ab496\",\"#8a7896\",\"#8a4496\",\"#8a5496\",\"#8a9c96\",\"#8a4696\",\"#8ab096\",\"#8ab296\",\"#8aac96\",\"#8a5e96\",\"#8a8a96\",\"#8aa296\",\"#8ace96\",\"#8a9696\",\"#8a8a96\",\"#886a96\",\"#889296\",\"#887096\",\"#88a296\",\"#884c96\",\"#889296\",\"#88a496\",\"#887e96\",\"#888096\",\"#88b896\",\"#88ac96\",\"#889e96\",\"#887c96\",\"#888296\",\"#888496\",\"#888896\",\"#887a96\",\"#887e96\",\"#882c96\",\"#887296\",\"#88aa96\",\"#887c96\",\"#889296\",\"#885e96\",\"#887a96\",\"#888296\",\"#88b496\",\"#884696\",\"#888096\",\"#887e96\",\"#887696\",\"#884696\",\"#886496\",\"#889e96\",\"#889a96\",\"#887696\",\"#88a496\",\"#888e96\",\"#888696\",\"#885896\",\"#88b496\",\"#887496\",\"#88b696\",\"#886296\",\"#88a096\",\"#886696\",\"#886696\",\"#888896\",\"#88aa96\",\"#889c96\",\"#889896\",\"#889e96\",\"#889c96\",\"#889296\",\"#88aa96\",\"#887496\",\"#887496\",\"#884896\",\"#885896\",\"#888a96\",\"#885296\",\"#889896\",\"#889496\",\"#888e96\",\"#88b896\",\"#887e96\",\"#887496\",\"#889896\",\"#883e96\",\"#883a96\",\"#887896\",\"#889c96\",\"#88be96\",\"#86b696\",\"#86a496\",\"#866296\",\"#869896\",\"#866296\",\"#868096\",\"#865296\",\"#866496\",\"#86b696\",\"#868696\",\"#869896\",\"#867c96\",\"#868896\",\"#868896\",\"#868a96\",\"#865096\",\"#86a696\",\"#86b096\",\"#869096\",\"#868296\",\"#868296\",\"#869896\",\"#867296\",\"#866e96\",\"#868296\",\"#865296\",\"#868c96\",\"#868a96\",\"#864e96\",\"#867c96\",\"#867296\",\"#866c96\",\"#867c96\",\"#869296\",\"#867896\",\"#86a296\",\"#867296\",\"#867e96\",\"#866e96\",\"#867296\",\"#866696\",\"#867a96\",\"#869496\",\"#864296\",\"#86a096\",\"#866a96\",\"#86c496\",\"#847496\",\"#846a96\",\"#846896\",\"#846e96\",\"#849296\",\"#847696\",\"#849696\",\"#84c096\",\"#84a496\",\"#84b096\",\"#844496\",\"#84a296\",\"#847296\",\"#849696\",\"#847496\",\"#846c96\",\"#84aa96\",\"#849696\",\"#848696\",\"#84ae96\",\"#847896\",\"#849296\",\"#849e96\",\"#847c96\",\"#847496\",\"#847296\",\"#847096\",\"#84c496\",\"#848896\",\"#847296\",\"#846296\",\"#84a096\",\"#84a696\",\"#84a096\",\"#849696\",\"#847e96\",\"#847096\",\"#847e96\",\"#84aa96\",\"#844296\",\"#847896\",\"#848896\",\"#847696\",\"#846c96\",\"#847e96\",\"#846096\",\"#847296\",\"#848a96\",\"#828096\",\"#828896\",\"#827c96\",\"#828a96\",\"#827c96\",\"#82a696\",\"#828696\",\"#827896\",\"#82b696\",\"#829a96\",\"#82a696\",\"#827496\",\"#826496\",\"#826296\",\"#829696\",\"#829896\",\"#828696\",\"#827496\",\"#827296\",\"#828896\",\"#825e96\",\"#82b696\",\"#826e96\",\"#829e96\",\"#825896\",\"#825c96\",\"#828096\",\"#829e96\",\"#82ba96\",\"#829896\",\"#827e96\",\"#829696\",\"#82a696\",\"#829a96\",\"#827e96\",\"#82a496\",\"#826e96\",\"#82ac96\",\"#82a896\",\"#826696\",\"#806a96\",\"#807a96\",\"#808296\",\"#805e96\",\"#806c96\",\"#807896\",\"#80a696\",\"#80b096\",\"#809496\",\"#808c96\",\"#80a296\",\"#808296\",\"#807696\",\"#808496\",\"#809e96\",\"#809a96\",\"#807496\",\"#80b696\",\"#805296\",\"#805096\",\"#809496\",\"#808096\",\"#804696\",\"#808696\",\"#807696\",\"#806296\",\"#808c96\",\"#807896\",\"#806296\",\"#805e96\",\"#805c96\",\"#809496\",\"#807296\",\"#809c96\",\"#809e96\",\"#80a696\",\"#80a096\",\"#805496\",\"#807c96\",\"#805e96\",\"#809896\",\"#807a96\",\"#804296\",\"#804896\",\"#807e96\",\"#807896\",\"#809496\",\"#7e5a96\",\"#7e6096\",\"#7e9896\",\"#7e9296\",\"#7e4496\",\"#7e5e96\",\"#7e4096\",\"#7e7096\",\"#7e4e96\",\"#7e6696\",\"#7e5a96\",\"#7e6a96\",\"#7e9c96\",\"#7e7096\",\"#7e5296\",\"#7e8a96\",\"#7e5c96\",\"#7e5c96\",\"#7e9096\",\"#7e8296\",\"#7e9c96\",\"#7e6e96\",\"#7e7096\",\"#7e6e96\",\"#7e7e96\",\"#7e8496\",\"#7e8896\",\"#7ea296\",\"#7e7496\",\"#7e9896\",\"#7e4696\",\"#7e8696\",\"#7e5696\",\"#7e7e96\",\"#7e8696\",\"#7ea696\",\"#7e6896\",\"#7e9896\",\"#7e6296\",\"#7e5096\",\"#7e6096\",\"#7e9a96\",\"#7eb296\",\"#7e7c96\",\"#7e8a96\",\"#7e8896\",\"#7e5096\",\"#7c9296\",\"#7c7a96\",\"#7c8c96\",\"#7c6a96\",\"#7c7496\",\"#7c9c96\",\"#7c9496\",\"#7c7e96\",\"#7c6696\",\"#7ca896\",\"#7c8096\",\"#7c7a96\",\"#7c7496\",\"#7c5c96\",\"#7c7896\",\"#7cc296\",\"#7c7696\",\"#7c4896\",\"#7c7896\",\"#7c7696\",\"#7ca296\",\"#7c6a96\",\"#7c9296\",\"#7c8896\",\"#7c6e96\",\"#7c8c96\",\"#7c9496\",\"#7c7096\",\"#7c7e96\",\"#7c7c96\",\"#7a6c96\",\"#7a7696\",\"#7a4296\",\"#7a5a96\",\"#7a9c96\",\"#7a8896\",\"#7a6696\",\"#7a7a96\",\"#7a5c96\",\"#7a7896\",\"#7a7096\",\"#7a9c96\",\"#7a8896\",\"#7a8296\",\"#7a9096\",\"#7a4e96\",\"#7a4496\",\"#7a7c96\",\"#7a9496\",\"#7a7a96\",\"#7a3896\",\"#7a4896\",\"#7a5c96\",\"#7a7e96\",\"#7a6a96\",\"#7a9696\",\"#7ac296\",\"#7a4896\",\"#7a6c96\",\"#7aaa96\",\"#7a6c96\",\"#7a7696\",\"#7a6e96\",\"#7a7096\",\"#785896\",\"#787e96\",\"#787696\",\"#78b096\",\"#784696\",\"#784696\",\"#787096\",\"#787e96\",\"#787296\",\"#789296\",\"#785896\",\"#786e96\",\"#78b096\",\"#788e96\",\"#787696\",\"#78a096\",\"#789496\",\"#786e96\",\"#787896\",\"#789496\",\"#784096\",\"#788096\",\"#78a896\",\"#78a496\",\"#788296\",\"#788296\",\"#787696\",\"#787e96\",\"#786496\",\"#763e96\",\"#76ae96\",\"#766e96\",\"#767296\",\"#764c96\",\"#765a96\",\"#769e96\",\"#766896\",\"#769696\",\"#76b296\",\"#767496\",\"#765096\",\"#769296\",\"#769096\",\"#764896\",\"#766896\",\"#766496\",\"#768c96\",\"#764096\",\"#765a96\",\"#745296\",\"#74b296\",\"#745c96\",\"#745696\",\"#747896\",\"#747496\",\"#746496\",\"#749a96\",\"#745e96\",\"#747096\",\"#749c96\",\"#74ac96\",\"#749a96\",\"#74aa96\",\"#748096\",\"#749a96\",\"#746296\",\"#748096\",\"#748296\",\"#745a96\",\"#725496\",\"#725a96\",\"#724896\",\"#725c96\",\"#729096\",\"#726e96\",\"#726696\",\"#725496\",\"#72a096\",\"#726696\",\"#726696\",\"#726696\",\"#728096\",\"#728296\",\"#726e96\",\"#725a96\",\"#727696\",\"#727a96\",\"#727a96\",\"#725e96\",\"#724296\",\"#723e96\",\"#726e96\",\"#726a96\",\"#728a96\",\"#723c96\",\"#708296\",\"#706296\",\"#706c96\",\"#706c96\",\"#707896\",\"#706e96\",\"#707496\",\"#706096\",\"#6e7e96\",\"#6e8496\",\"#6e3a96\",\"#6e8896\",\"#6e6896\",\"#6e9096\",\"#6e9896\",\"#6e6e96\",\"#6e4096\",\"#6e6896\",\"#6e6c96\",\"#6e6296\",\"#6c4896\",\"#6c5096\",\"#6c5096\",\"#6ca096\",\"#6c9296\",\"#6c6296\",\"#6c6096\",\"#6c5a96\",\"#6c6896\",\"#6c3c96\",\"#6a6c96\",\"#6a8e96\",\"#6a4296\",\"#6a4c96\",\"#6a5896\",\"#6a6296\",\"#6a4096\",\"#6aaa96\",\"#6a5696\",\"#6a3c96\",\"#686296\",\"#688696\",\"#685696\",\"#689296\",\"#685896\",\"#686a96\",\"#685a96\",\"#684e96\",\"#668496\",\"#664e96\",\"#666c96\",\"#666696\",\"#666e96\",\"#665096\",\"#663c96\",\"#668296\",\"#666896\",\"#665896\",\"#665296\",\"#664c96\",\"#665696\",\"#666296\",\"#645096\",\"#646c96\",\"#646a96\",\"#648496\",\"#645a96\",\"#646096\",\"#647696\",\"#647496\",\"#646e96\",\"#624296\",\"#624a96\",\"#626296\",\"#625c96\",\"#625e96\",\"#626696\",\"#624a96\",\"#605696\",\"#605a96\",\"#605a96\",\"#607496\",\"#604296\",\"#5e3896\",\"#5e4096\",\"#5c5896\",\"#5a4096\",\"#5a4696\"],\"x\":[99,98,98,98,98,97,97,97,97,97,97,97,97,97,97,97,97,97,97,97,97,97,97,97,96,96,96,96,96,96,96,96,96,96,96,96,96,96,96,96,96,96,96,96,96,95,95,95,95,95,95,95,95,95,95,95,95,95,95,95,95,95,95,95,95,95,95,94,94,94,94,94,94,94,94,94,94,94,94,94,94,94,94,94,94,94,94,94,94,94,94,94,94,94,94,94,94,94,94,94,94,94,94,94,94,94,94,94,94,94,94,94,94,94,93,93,93,93,93,93,93,93,93,93,93,93,93,93,93,93,93,93,93,93,93,93,93,93,93,93,93,93,93,93,93,93,93,93,93,93,93,93,93,93,93,93,93,93,93,93,93,93,93,93,93,93,93,93,93,93,93,93,93,93,93,93,93,93,93,93,93,93,93,93,93,92,92,92,92,92,92,92,92,92,92,92,92,92,92,92,92,92,92,92,92,92,92,92,92,92,92,92,92,92,92,92,92,92,92,92,92,92,92,92,92,92,92,92,92,92,92,92,92,92,92,92,92,92,92,92,92,92,92,92,92,92,92,92,92,92,92,92,92,92,92,92,92,92,92,92,92,92,92,92,92,92,92,92,92,92,92,92,91,91,91,91,91,91,91,91,91,91,91,91,91,91,91,91,91,91,91,91,91,91,91,91,91,91,91,91,91,91,91,91,91,91,91,91,91,91,91,91,91,91,91,91,91,91,91,91,91,91,91,91,91,91,91,91,91,91,91,91,91,91,91,91,91,91,91,91,91,91,91,91,91,91,91,91,91,91,91,91,91,91,91,91,91,91,91,91,91,91,91,91,91,91,91,91,91,91,91,91,91,91,91,91,91,91,91,91,91,91,91,91,91,91,91,91,91,91,91,91,91,90,90,90,90,90,90,90,90,90,90,90,90,90,90,90,90,90,90,90,90,90,90,90,90,90,90,90,90,90,90,90,90,90,90,90,90,90,90,90,90,90,90,90,90,90,90,90,90,90,90,90,90,90,90,90,90,90,90,90,90,90,90,90,90,90,90,90,90,90,90,90,90,90,90,90,90,90,90,90,90,90,90,90,90,90,90,90,90,90,90,90,90,90,90,90,90,90,90,90,90,90,90,90,90,90,90,90,90,90,90,90,90,90,90,90,90,90,90,90,90,90,90,90,90,90,90,90,90,90,90,90,90,90,90,90,90,90,90,90,90,90,90,90,90,90,90,90,89,89,89,89,89,89,89,89,89,89,89,89,89,89,89,89,89,89,89,89,89,89,89,89,89,89,89,89,89,89,89,89,89,89,89,89,89,89,89,89,89,89,89,89,89,89,89,89,89,89,89,89,89,89,89,89,89,89,89,89,89,89,89,89,89,89,89,89,89,89,89,89,89,89,89,89,89,89,89,89,89,89,89,89,89,89,89,89,89,89,89,89,89,89,89,89,89,89,89,89,89,89,89,89,89,89,89,89,89,89,89,89,89,89,89,89,89,89,89,89,89,89,89,89,89,89,89,89,89,89,89,89,89,89,89,89,89,89,89,89,89,89,89,89,89,89,89,89,89,89,89,89,89,89,89,89,89,89,89,89,89,89,89,89,89,89,89,89,89,89,89,89,89,89,89,89,89,89,89,89,89,89,89,89,89,89,89,89,89,89,88,88,88,88,88,88,88,88,88,88,88,88,88,88,88,88,88,88,88,88,88,88,88,88,88,88,88,88,88,88,88,88,88,88,88,88,88,88,88,88,88,88,88,88,88,88,88,88,88,88,88,88,88,88,88,88,88,88,88,88,88,88,88,88,88,88,88,88,88,88,88,88,88,88,88,88,88,88,88,88,88,88,88,88,88,88,88,88,88,88,88,88,88,88,88,88,88,88,88,88,88,88,88,88,88,88,88,88,88,88,88,88,88,88,88,88,88,88,88,88,88,88,88,88,88,88,88,88,88,88,88,88,88,88,88,88,88,88,88,88,88,88,88,88,88,88,88,88,88,88,88,88,88,88,88,88,88,88,88,88,88,88,88,88,88,88,88,88,88,88,88,88,88,88,88,88,88,88,88,88,88,88,88,88,88,88,88,88,88,88,88,88,88,88,88,88,88,88,88,88,88,88,88,88,88,88,88,88,88,88,88,88,88,88,88,88,88,88,88,88,88,88,88,88,88,88,88,88,88,88,88,88,88,88,87,87,87,87,87,87,87,87,87,87,87,87,87,87,87,87,87,87,87,87,87,87,87,87,87,87,87,87,87,87,87,87,87,87,87,87,87,87,87,87,87,87,87,87,87,87,87,87,87,87,87,87,87,87,87,87,87,87,87,87,87,87,87,87,87,87,87,87,87,87,87,87,87,87,87,87,87,87,87,87,87,87,87,87,87,87,87,87,87,87,87,87,87,87,87,87,87,87,87,87,87,87,87,87,87,87,87,87,87,87,87,87,87,87,87,87,87,87,87,87,87,87,87,87,87,87,87,87,87,87,87,87,87,87,87,87,87,87,87,87,87,87,87,87,87,87,87,87,87,87,87,87,87,87,87,87,87,87,87,87,87,87,87,87,87,87,87,87,87,87,87,87,87,87,87,87,87,87,87,87,87,87,87,87,87,87,87,87,87,87,87,87,87,87,87,87,87,87,87,87,87,87,87,87,87,87,87,87,87,87,87,87,87,87,87,87,87,87,87,87,87,87,87,87,87,87,87,87,87,87,87,87,87,87,87,87,87,87,87,87,87,87,87,87,87,87,87,87,87,87,87,87,87,87,87,87,87,87,87,87,87,87,87,87,87,87,87,87,86,86,86,86,86,86,86,86,86,86,86,86,86,86,86,86,86,86,86,86,86,86,86,86,86,86,86,86,86,86,86,86,86,86,86,86,86,86,86,86,86,86,86,86,86,86,86,86,86,86,86,86,86,86,86,86,86,86,86,86,86,86,86,86,86,86,86,86,86,86,86,86,86,86,86,86,86,86,86,86,86,86,86,86,86,86,86,86,86,86,86,86,86,86,86,86,86,86,86,86,86,86,86,86,86,86,86,86,86,86,86,86,86,86,86,86,86,86,86,86,86,86,86,86,86,86,86,86,86,86,86,86,86,86,86,86,86,86,86,86,86,86,86,86,86,86,86,86,86,86,86,86,86,86,86,86,86,86,86,86,86,86,86,86,86,86,86,86,86,86,86,86,86,86,86,86,86,86,86,86,86,86,86,86,86,86,86,86,86,86,86,86,86,86,86,86,86,86,86,86,86,86,86,86,86,86,86,86,86,86,86,86,86,86,86,86,86,86,86,86,86,86,86,86,86,86,86,86,86,86,86,86,86,86,86,86,86,86,86,86,86,86,86,86,86,86,86,86,86,86,86,86,86,86,86,86,86,86,86,86,86,86,86,86,86,86,86,86,86,86,86,86,86,86,86,86,86,86,86,86,86,86,86,86,86,86,86,86,86,86,86,86,86,86,86,86,86,86,86,86,86,86,86,86,86,86,86,85,85,85,85,85,85,85,85,85,85,85,85,85,85,85,85,85,85,85,85,85,85,85,85,85,85,85,85,85,85,85,85,85,85,85,85,85,85,85,85,85,85,85,85,85,85,85,85,85,85,85,85,85,85,85,85,85,85,85,85,85,85,85,85,85,85,85,85,85,85,85,85,85,85,85,85,85,85,85,85,85,85,85,85,85,85,85,85,85,85,85,85,85,85,85,85,85,85,85,85,85,85,85,85,85,85,85,85,85,85,85,85,85,85,85,85,85,85,85,85,85,85,85,85,85,85,85,85,85,85,85,85,85,85,85,85,85,85,85,85,85,85,85,85,85,85,85,85,85,85,85,85,85,85,85,85,85,85,85,85,85,85,85,85,85,85,85,85,85,85,85,85,85,85,85,85,85,85,85,85,85,85,85,85,85,85,85,85,85,85,85,85,85,85,85,85,85,85,85,85,85,85,85,85,85,85,85,85,85,85,85,85,85,85,85,85,85,85,85,85,85,85,85,85,85,85,85,85,85,85,85,85,85,85,85,85,85,85,85,85,85,85,85,85,85,85,85,85,85,85,85,85,85,85,85,85,85,85,85,85,85,85,85,85,85,85,85,85,85,85,85,85,85,85,85,85,85,85,85,85,85,85,85,85,85,85,85,85,85,85,85,85,85,85,85,85,85,85,85,85,85,85,85,85,85,85,85,85,85,85,85,85,85,85,85,85,85,85,85,85,85,85,85,85,85,85,85,85,85,85,85,85,85,85,85,85,85,85,85,85,85,85,85,85,85,85,85,85,85,85,85,85,85,85,85,85,85,85,85,85,85,85,85,85,85,85,85,85,85,85,85,85,85,85,85,85,85,85,85,85,85,84,84,84,84,84,84,84,84,84,84,84,84,84,84,84,84,84,84,84,84,84,84,84,84,84,84,84,84,84,84,84,84,84,84,84,84,84,84,84,84,84,84,84,84,84,84,84,84,84,84,84,84,84,84,84,84,84,84,84,84,84,84,84,84,84,84,84,84,84,84,84,84,84,84,84,84,84,84,84,84,84,84,84,84,84,84,84,84,84,84,84,84,84,84,84,84,84,84,84,84,84,84,84,84,84,84,84,84,84,84,84,84,84,84,84,84,84,84,84,84,84,84,84,84,84,84,84,84,84,84,84,84,84,84,84,84,84,84,84,84,84,84,84,84,84,84,84,84,84,84,84,84,84,84,84,84,84,84,84,84,84,84,84,84,84,84,84,84,84,84,84,84,84,84,84,84,84,84,84,84,84,84,84,84,84,84,84,84,84,84,84,84,84,84,84,84,84,84,84,84,84,84,84,84,84,84,84,84,84,84,84,84,84,84,84,84,84,84,84,84,84,84,84,84,84,84,84,84,84,84,84,84,84,84,84,84,84,84,84,84,84,84,84,84,84,84,84,84,84,84,84,84,84,84,84,84,84,84,84,84,84,84,84,84,84,84,84,84,84,84,84,84,84,84,84,84,84,84,84,84,84,84,84,84,84,84,84,84,84,84,84,84,84,84,84,84,84,84,84,84,84,84,84,84,84,84,84,84,84,84,84,84,84,84,84,84,84,84,84,84,84,84,84,84,84,84,84,84,84,84,84,84,84,84,84,84,84,84,84,84,84,84,84,84,84,84,84,84,84,84,84,84,84,84,84,84,84,84,84,84,84,84,84,84,84,84,84,84,84,84,84,84,84,84,84,84,84,84,84,84,84,84,84,84,84,84,84,84,84,84,84,84,84,84,84,84,84,84,84,84,84,84,84,84,84,84,84,84,84,84,84,84,84,84,84,84,84,84,84,84,84,84,84,84,84,84,84,84,84,83,83,83,83,83,83,83,83,83,83,83,83,83,83,83,83,83,83,83,83,83,83,83,83,83,83,83,83,83,83,83,83,83,83,83,83,83,83,83,83,83,83,83,83,83,83,83,83,83,83,83,83,83,83,83,83,83,83,83,83,83,83,83,83,83,83,83,83,83,83,83,83,83,83,83,83,83,83,83,83,83,83,83,83,83,83,83,83,83,83,83,83,83,83,83,83,83,83,83,83,83,83,83,83,83,83,83,83,83,83,83,83,83,83,83,83,83,83,83,83,83,83,83,83,83,83,83,83,83,83,83,83,83,83,83,83,83,83,83,83,83,83,83,83,83,83,83,83,83,83,83,83,83,83,83,83,83,83,83,83,83,83,83,83,83,83,83,83,83,83,83,83,83,83,83,83,83,83,83,83,83,83,83,83,83,83,83,83,83,83,83,83,83,83,83,83,83,83,83,83,83,83,83,83,83,83,83,83,83,83,83,83,83,83,83,83,83,83,83,83,83,83,83,83,83,83,83,83,83,83,83,83,83,83,83,83,83,83,83,83,83,83,83,83,83,83,83,83,83,83,83,83,83,83,83,83,83,83,83,83,83,83,83,83,83,83,83,83,83,83,83,83,83,83,83,83,83,83,83,83,83,83,83,83,83,83,83,83,83,83,83,83,83,83,83,83,83,83,83,83,83,83,83,83,83,83,83,83,83,83,83,83,83,83,83,83,83,83,83,83,83,83,83,83,83,83,83,83,83,83,83,83,83,83,83,83,83,83,83,83,83,83,83,83,83,83,83,83,83,83,83,83,83,83,83,83,83,83,83,83,83,83,83,83,83,83,83,83,83,83,83,83,83,83,83,83,83,83,83,83,83,83,83,83,83,83,83,83,83,83,83,83,83,83,83,83,83,83,83,83,83,83,83,83,83,83,83,83,83,83,83,83,83,83,83,83,83,83,83,83,83,83,83,83,83,83,83,83,83,83,83,83,83,83,83,83,83,83,83,83,83,83,83,83,83,83,83,83,83,83,83,83,83,83,83,83,83,83,83,83,83,83,83,83,83,83,83,83,83,83,83,83,83,83,83,83,83,83,83,83,83,83,82,82,82,82,82,82,82,82,82,82,82,82,82,82,82,82,82,82,82,82,82,82,82,82,82,82,82,82,82,82,82,82,82,82,82,82,82,82,82,82,82,82,82,82,82,82,82,82,82,82,82,82,82,82,82,82,82,82,82,82,82,82,82,82,82,82,82,82,82,82,82,82,82,82,82,82,82,82,82,82,82,82,82,82,82,82,82,82,82,82,82,82,82,82,82,82,82,82,82,82,82,82,82,82,82,82,82,82,82,82,82,82,82,82,82,82,82,82,82,82,82,82,82,82,82,82,82,82,82,82,82,82,82,82,82,82,82,82,82,82,82,82,82,82,82,82,82,82,82,82,82,82,82,82,82,82,82,82,82,82,82,82,82,82,82,82,82,82,82,82,82,82,82,82,82,82,82,82,82,82,82,82,82,82,82,82,82,82,82,82,82,82,82,82,82,82,82,82,82,82,82,82,82,82,82,82,82,82,82,82,82,82,82,82,82,82,82,82,82,82,82,82,82,82,82,82,82,82,82,82,82,82,82,82,82,82,82,82,82,82,82,82,82,82,82,82,82,82,82,82,82,82,82,82,82,82,82,82,82,82,82,82,82,82,82,82,82,82,82,82,82,82,82,82,82,82,82,82,82,82,82,82,82,82,82,82,82,82,82,82,82,82,82,82,82,82,82,82,82,82,82,82,82,82,82,82,82,82,82,82,82,82,82,82,82,82,82,82,82,82,82,82,82,82,82,82,82,82,82,82,82,82,82,82,82,82,82,82,82,82,82,82,82,82,82,82,82,82,82,82,82,82,82,82,82,82,82,82,82,82,82,82,82,82,82,82,82,82,82,82,82,82,82,82,82,82,82,82,82,82,82,82,82,82,82,82,82,82,82,82,82,82,82,82,82,82,82,82,82,82,82,82,82,82,82,82,82,82,82,82,82,82,82,82,82,82,82,82,82,82,82,82,82,82,82,82,82,82,82,82,82,82,82,82,82,82,82,82,82,82,82,82,82,82,82,82,82,82,82,82,82,82,82,82,82,82,82,82,82,82,82,82,82,82,82,82,82,82,82,82,82,82,82,82,82,82,82,82,82,82,82,82,82,82,82,82,82,82,82,82,82,82,82,82,82,82,82,82,82,82,82,82,82,82,82,82,82,82,82,82,82,82,82,82,82,82,82,82,82,82,82,82,82,82,82,82,82,82,82,82,82,82,82,82,82,82,82,82,82,82,82,82,82,82,82,82,82,82,82,82,82,82,82,81,81,81,81,81,81,81,81,81,81,81,81,81,81,81,81,81,81,81,81,81,81,81,81,81,81,81,81,81,81,81,81,81,81,81,81,81,81,81,81,81,81,81,81,81,81,81,81,81,81,81,81,81,81,81,81,81,81,81,81,81,81,81,81,81,81,81,81,81,81,81,81,81,81,81,81,81,81,81,81,81,81,81,81,81,81,81,81,81,81,81,81,81,81,81,81,81,81,81,81,81,81,81,81,81,81,81,81,81,81,81,81,81,81,81,81,81,81,81,81,81,81,81,81,81,81,81,81,81,81,81,81,81,81,81,81,81,81,81,81,81,81,81,81,81,81,81,81,81,81,81,81,81,81,81,81,81,81,81,81,81,81,81,81,81,81,81,81,81,81,81,81,81,81,81,81,81,81,81,81,81,81,81,81,81,81,81,81,81,81,81,81,81,81,81,81,81,81,81,81,81,81,81,81,81,81,81,81,81,81,81,81,81,81,81,81,81,81,81,81,81,81,81,81,81,81,81,81,81,81,81,81,81,81,81,81,81,81,81,81,81,81,81,81,81,81,81,81,81,81,81,81,81,81,81,81,81,81,81,81,81,81,81,81,81,81,81,81,81,81,81,81,81,81,81,81,81,81,81,81,81,81,81,81,81,81,81,81,81,81,81,81,81,81,81,81,81,81,81,81,81,81,81,81,81,81,81,81,81,81,81,81,81,81,81,81,81,81,81,81,81,81,81,81,81,81,81,81,81,81,81,81,81,81,81,81,81,81,81,81,81,81,81,81,81,81,81,81,81,81,81,81,81,81,81,81,81,81,81,81,81,81,81,81,81,81,81,81,81,81,81,81,81,81,81,81,81,81,81,81,81,81,81,81,81,81,81,81,81,81,81,81,81,81,81,81,81,81,81,81,81,81,81,81,81,81,81,81,81,81,81,81,81,81,81,81,81,81,81,81,81,81,81,81,81,81,81,81,81,81,81,81,81,81,81,81,81,81,81,81,81,81,81,81,81,81,81,81,81,81,81,81,81,81,81,81,81,81,81,81,81,81,81,81,81,81,81,81,81,81,81,81,81,81,81,81,81,81,81,81,81,81,81,81,81,81,81,81,81,81,81,81,81,81,81,81,81,81,81,81,81,81,81,81,81,81,81,81,81,81,81,81,81,81,81,81,81,81,81,81,81,81,81,81,81,81,81,81,81,81,81,81,81,81,81,81,81,81,81,81,81,81,81,81,81,81,81,81,81,81,81,81,81,81,81,81,81,81,81,81,81,81,81,81,81,81,81,81,81,81,81,81,81,81,81,81,81,81,81,81,81,81,80,80,80,80,80,80,80,80,80,80,80,80,80,80,80,80,80,80,80,80,80,80,80,80,80,80,80,80,80,80,80,80,80,80,80,80,80,80,80,80,80,80,80,80,80,80,80,80,80,80,80,80,80,80,80,80,80,80,80,80,80,80,80,80,80,80,80,80,80,80,80,80,80,80,80,80,80,80,80,80,80,80,80,80,80,80,80,80,80,80,80,80,80,80,80,80,80,80,80,80,80,80,80,80,80,80,80,80,80,80,80,80,80,80,80,80,80,80,80,80,80,80,80,80,80,80,80,80,80,80,80,80,80,80,80,80,80,80,80,80,80,80,80,80,80,80,80,80,80,80,80,80,80,80,80,80,80,80,80,80,80,80,80,80,80,80,80,80,80,80,80,80,80,80,80,80,80,80,80,80,80,80,80,80,80,80,80,80,80,80,80,80,80,80,80,80,80,80,80,80,80,80,80,80,80,80,80,80,80,80,80,80,80,80,80,80,80,80,80,80,80,80,80,80,80,80,80,80,80,80,80,80,80,80,80,80,80,80,80,80,80,80,80,80,80,80,80,80,80,80,80,80,80,80,80,80,80,80,80,80,80,80,80,80,80,80,80,80,80,80,80,80,80,80,80,80,80,80,80,80,80,80,80,80,80,80,80,80,80,80,80,80,80,80,80,80,80,80,80,80,80,80,80,80,80,80,80,80,80,80,80,80,80,80,80,80,80,80,80,80,80,80,80,80,80,80,80,80,80,80,80,80,80,80,80,80,80,80,80,80,80,80,80,80,80,80,80,80,80,80,80,80,80,80,80,80,80,80,80,80,80,80,80,80,80,80,80,80,80,80,80,80,80,80,80,80,80,80,80,80,80,80,80,80,80,80,80,80,80,80,80,80,80,80,80,80,80,80,80,80,80,80,80,80,80,80,80,80,80,80,80,80,80,80,80,80,80,80,80,80,80,80,80,80,80,80,80,80,80,80,80,80,80,80,80,80,80,80,80,80,80,80,80,80,80,80,80,80,80,80,80,80,80,80,80,80,80,80,80,80,80,80,80,80,80,80,80,80,80,80,80,80,80,80,80,80,80,80,80,80,80,80,80,80,80,80,80,80,80,80,80,80,80,80,80,80,80,80,80,80,80,80,80,80,80,80,80,80,80,80,80,80,80,80,80,80,80,80,80,80,80,80,80,80,80,80,80,80,80,80,80,80,80,80,80,80,80,80,80,80,80,80,80,80,80,80,80,80,80,80,80,80,80,80,80,80,80,80,80,80,80,80,80,80,80,80,80,80,80,80,80,80,80,80,80,80,80,80,80,80,80,80,80,80,80,80,80,80,80,80,80,80,80,80,80,80,80,80,80,80,80,80,80,80,80,80,80,80,80,80,80,80,80,80,80,80,80,80,80,80,80,80,80,80,80,80,80,80,80,80,80,80,80,80,80,80,80,80,80,80,80,80,80,80,80,80,80,80,80,80,80,80,80,80,80,80,80,80,80,80,80,80,80,80,80,80,80,80,80,80,80,80,80,80,80,80,80,80,80,80,80,80,80,80,80,80,79,79,79,79,79,79,79,79,79,79,79,79,79,79,79,79,79,79,79,79,79,79,79,79,79,79,79,79,79,79,79,79,79,79,79,79,79,79,79,79,79,79,79,79,79,79,79,79,79,79,79,79,79,79,79,79,79,79,79,79,79,79,79,79,79,79,79,79,79,79,79,79,79,79,79,79,79,79,79,79,79,79,79,79,79,79,79,79,79,79,79,79,79,79,79,79,79,79,79,79,79,79,79,79,79,79,79,79,79,79,79,79,79,79,79,79,79,79,79,79,79,79,79,79,79,79,79,79,79,79,79,79,79,79,79,79,79,79,79,79,79,79,79,79,79,79,79,79,79,79,79,79,79,79,79,79,79,79,79,79,79,79,79,79,79,79,79,79,79,79,79,79,79,79,79,79,79,79,79,79,79,79,79,79,79,79,79,79,79,79,79,79,79,79,79,79,79,79,79,79,79,79,79,79,79,79,79,79,79,79,79,79,79,79,79,79,79,79,79,79,79,79,79,79,79,79,79,79,79,79,79,79,79,79,79,79,79,79,79,79,79,79,79,79,79,79,79,79,79,79,79,79,79,79,79,79,79,79,79,79,79,79,79,79,79,79,79,79,79,79,79,79,79,79,79,79,79,79,79,79,79,79,79,79,79,79,79,79,79,79,79,79,79,79,79,79,79,79,79,79,79,79,79,79,79,79,79,79,79,79,79,79,79,79,79,79,79,79,79,79,79,79,79,79,79,79,79,79,79,79,79,79,79,79,79,79,79,79,79,79,79,79,79,79,79,79,79,79,79,79,79,79,79,79,79,79,79,79,79,79,79,79,79,79,79,79,79,79,79,79,79,79,79,79,79,79,79,79,79,79,79,79,79,79,79,79,79,79,79,79,79,79,79,79,79,79,79,79,79,79,79,79,79,79,79,79,79,79,79,79,79,79,79,79,79,79,79,79,79,79,79,79,79,79,79,79,79,79,79,79,79,79,79,79,79,79,79,79,79,79,79,79,79,79,79,79,79,79,79,79,79,79,79,79,79,79,79,79,79,79,79,79,79,79,79,79,79,79,79,79,79,79,79,79,79,79,79,79,79,79,79,79,79,79,79,79,79,79,79,79,79,79,79,79,79,79,79,79,79,79,79,79,79,79,79,79,79,79,79,79,79,79,79,79,79,79,79,79,79,79,79,79,79,79,79,79,79,79,79,79,79,79,79,79,79,79,79,79,79,79,79,79,79,79,79,79,79,79,79,79,79,79,79,79,79,79,79,79,79,79,79,79,79,79,79,79,79,79,79,79,79,79,79,79,79,79,79,79,79,79,79,79,79,79,79,79,79,79,79,79,79,79,79,79,79,79,79,79,79,79,79,79,79,79,79,78,78,78,78,78,78,78,78,78,78,78,78,78,78,78,78,78,78,78,78,78,78,78,78,78,78,78,78,78,78,78,78,78,78,78,78,78,78,78,78,78,78,78,78,78,78,78,78,78,78,78,78,78,78,78,78,78,78,78,78,78,78,78,78,78,78,78,78,78,78,78,78,78,78,78,78,78,78,78,78,78,78,78,78,78,78,78,78,78,78,78,78,78,78,78,78,78,78,78,78,78,78,78,78,78,78,78,78,78,78,78,78,78,78,78,78,78,78,78,78,78,78,78,78,78,78,78,78,78,78,78,78,78,78,78,78,78,78,78,78,78,78,78,78,78,78,78,78,78,78,78,78,78,78,78,78,78,78,78,78,78,78,78,78,78,78,78,78,78,78,78,78,78,78,78,78,78,78,78,78,78,78,78,78,78,78,78,78,78,78,78,78,78,78,78,78,78,78,78,78,78,78,78,78,78,78,78,78,78,78,78,78,78,78,78,78,78,78,78,78,78,78,78,78,78,78,78,78,78,78,78,78,78,78,78,78,78,78,78,78,78,78,78,78,78,78,78,78,78,78,78,78,78,78,78,78,78,78,78,78,78,78,78,78,78,78,78,78,78,78,78,78,78,78,78,78,78,78,78,78,78,78,78,78,78,78,78,78,78,78,78,78,78,78,78,78,78,78,78,78,78,78,78,78,78,78,78,78,78,78,78,78,78,78,78,78,78,78,78,78,78,78,78,78,78,78,78,78,78,78,78,78,78,78,78,78,78,78,78,78,78,78,78,78,78,78,78,78,78,78,78,78,78,78,78,78,78,78,78,78,78,78,78,78,78,78,78,78,78,78,78,78,78,78,78,78,78,78,78,78,78,78,78,78,78,78,78,78,78,78,78,78,78,78,78,78,78,78,78,78,78,78,78,78,78,78,78,78,78,78,78,78,78,78,78,78,78,78,78,78,78,78,78,78,78,78,78,78,78,78,78,78,78,78,78,78,78,78,78,78,78,78,78,78,78,78,78,78,78,78,78,78,78,78,78,78,78,78,78,78,78,78,78,78,78,78,78,78,78,78,78,78,78,78,78,78,78,78,78,78,78,78,78,78,78,78,78,78,78,78,78,78,78,78,78,78,78,78,78,78,78,78,78,78,78,78,78,78,78,78,78,78,78,78,78,78,78,78,78,78,78,78,78,78,78,78,78,78,78,78,78,78,78,78,78,78,78,78,78,78,78,78,78,78,78,78,78,78,78,78,78,78,78,78,78,78,78,78,78,78,78,78,78,78,78,78,78,78,78,78,78,78,78,78,78,78,78,78,78,78,78,78,78,78,78,78,78,78,78,78,78,78,78,78,78,78,78,78,78,78,78,78,78,78,78,78,78,78,78,78,78,78,78,78,78,78,78,78,78,78,78,78,78,78,78,78,78,78,78,78,78,78,78,78,78,78,78,78,78,77,77,77,77,77,77,77,77,77,77,77,77,77,77,77,77,77,77,77,77,77,77,77,77,77,77,77,77,77,77,77,77,77,77,77,77,77,77,77,77,77,77,77,77,77,77,77,77,77,77,77,77,77,77,77,77,77,77,77,77,77,77,77,77,77,77,77,77,77,77,77,77,77,77,77,77,77,77,77,77,77,77,77,77,77,77,77,77,77,77,77,77,77,77,77,77,77,77,77,77,77,77,77,77,77,77,77,77,77,77,77,77,77,77,77,77,77,77,77,77,77,77,77,77,77,77,77,77,77,77,77,77,77,77,77,77,77,77,77,77,77,77,77,77,77,77,77,77,77,77,77,77,77,77,77,77,77,77,77,77,77,77,77,77,77,77,77,77,77,77,77,77,77,77,77,77,77,77,77,77,77,77,77,77,77,77,77,77,77,77,77,77,77,77,77,77,77,77,77,77,77,77,77,77,77,77,77,77,77,77,77,77,77,77,77,77,77,77,77,77,77,77,77,77,77,77,77,77,77,77,77,77,77,77,77,77,77,77,77,77,77,77,77,77,77,77,77,77,77,77,77,77,77,77,77,77,77,77,77,77,77,77,77,77,77,77,77,77,77,77,77,77,77,77,77,77,77,77,77,77,77,77,77,77,77,77,77,77,77,77,77,77,77,77,77,77,77,77,77,77,77,77,77,77,77,77,77,77,77,77,77,77,77,77,77,77,77,77,77,77,77,77,77,77,77,77,77,77,77,77,77,77,77,77,77,77,77,77,77,77,77,77,77,77,77,77,77,77,77,77,77,77,77,77,77,77,77,77,77,77,77,77,77,77,77,77,77,77,77,77,77,77,77,77,77,77,77,77,77,77,77,77,77,77,77,77,77,77,77,77,77,77,77,77,77,77,77,77,77,77,77,77,77,77,77,77,77,77,77,77,77,77,77,77,77,77,77,77,77,77,77,77,77,77,77,77,77,77,77,77,77,77,77,77,77,77,77,77,77,77,77,77,77,77,77,77,77,77,77,77,77,77,77,77,77,77,77,77,77,77,77,77,77,77,77,77,77,77,77,77,77,77,77,77,77,77,77,77,77,77,77,77,77,77,77,77,77,77,77,77,77,77,77,77,77,77,77,77,77,77,77,77,77,77,77,77,77,77,77,77,77,77,77,77,77,77,77,77,77,77,77,77,77,77,77,77,77,77,77,77,77,77,77,77,77,77,77,77,77,77,77,77,77,77,77,77,77,77,77,77,77,77,77,77,77,77,77,77,77,77,77,77,77,77,77,77,77,77,77,77,77,77,77,77,77,77,77,77,77,77,77,77,77,77,77,77,77,77,77,77,77,77,77,77,77,77,77,77,77,77,77,77,77,77,77,77,77,77,77,77,77,77,77,77,77,77,77,77,77,77,77,77,77,77,77,77,77,77,77,77,77,77,77,77,77,77,77,77,77,77,76,76,76,76,76,76,76,76,76,76,76,76,76,76,76,76,76,76,76,76,76,76,76,76,76,76,76,76,76,76,76,76,76,76,76,76,76,76,76,76,76,76,76,76,76,76,76,76,76,76,76,76,76,76,76,76,76,76,76,76,76,76,76,76,76,76,76,76,76,76,76,76,76,76,76,76,76,76,76,76,76,76,76,76,76,76,76,76,76,76,76,76,76,76,76,76,76,76,76,76,76,76,76,76,76,76,76,76,76,76,76,76,76,76,76,76,76,76,76,76,76,76,76,76,76,76,76,76,76,76,76,76,76,76,76,76,76,76,76,76,76,76,76,76,76,76,76,76,76,76,76,76,76,76,76,76,76,76,76,76,76,76,76,76,76,76,76,76,76,76,76,76,76,76,76,76,76,76,76,76,76,76,76,76,76,76,76,76,76,76,76,76,76,76,76,76,76,76,76,76,76,76,76,76,76,76,76,76,76,76,76,76,76,76,76,76,76,76,76,76,76,76,76,76,76,76,76,76,76,76,76,76,76,76,76,76,76,76,76,76,76,76,76,76,76,76,76,76,76,76,76,76,76,76,76,76,76,76,76,76,76,76,76,76,76,76,76,76,76,76,76,76,76,76,76,76,76,76,76,76,76,76,76,76,76,76,76,76,76,76,76,76,76,76,76,76,76,76,76,76,76,76,76,76,76,76,76,76,76,76,76,76,76,76,76,76,76,76,76,76,76,76,76,76,76,76,76,76,76,76,76,76,76,76,76,76,76,76,76,76,76,76,76,76,76,76,76,76,76,76,76,76,76,76,76,76,76,76,76,76,76,76,76,76,76,76,76,76,76,76,76,76,76,76,76,76,76,76,76,76,76,76,76,76,76,76,76,76,76,76,76,76,76,76,76,76,76,76,76,76,76,76,76,76,76,76,76,76,76,76,76,76,76,76,76,76,76,76,76,76,76,76,76,76,76,76,76,76,76,76,76,76,76,76,76,76,76,76,76,76,76,76,76,76,76,76,76,76,76,76,76,76,76,76,76,76,76,76,76,76,76,76,76,76,76,76,76,76,76,76,76,76,76,76,76,76,76,76,76,76,76,76,76,76,76,76,76,76,76,76,76,76,76,76,76,76,76,76,76,76,76,76,76,76,76,76,76,76,76,76,76,76,76,76,76,76,76,76,76,76,76,76,76,76,76,76,76,76,76,76,76,76,76,76,76,76,76,76,76,76,76,76,76,76,76,76,76,76,76,76,76,76,76,76,76,76,76,76,76,76,76,76,76,76,76,76,76,76,76,76,76,76,76,76,76,76,76,76,76,76,76,76,76,76,76,76,76,76,76,76,76,76,76,76,76,76,76,76,76,76,76,76,76,76,76,76,76,76,76,76,76,76,76,76,76,76,76,76,76,76,76,76,76,76,76,76,75,75,75,75,75,75,75,75,75,75,75,75,75,75,75,75,75,75,75,75,75,75,75,75,75,75,75,75,75,75,75,75,75,75,75,75,75,75,75,75,75,75,75,75,75,75,75,75,75,75,75,75,75,75,75,75,75,75,75,75,75,75,75,75,75,75,75,75,75,75,75,75,75,75,75,75,75,75,75,75,75,75,75,75,75,75,75,75,75,75,75,75,75,75,75,75,75,75,75,75,75,75,75,75,75,75,75,75,75,75,75,75,75,75,75,75,75,75,75,75,75,75,75,75,75,75,75,75,75,75,75,75,75,75,75,75,75,75,75,75,75,75,75,75,75,75,75,75,75,75,75,75,75,75,75,75,75,75,75,75,75,75,75,75,75,75,75,75,75,75,75,75,75,75,75,75,75,75,75,75,75,75,75,75,75,75,75,75,75,75,75,75,75,75,75,75,75,75,75,75,75,75,75,75,75,75,75,75,75,75,75,75,75,75,75,75,75,75,75,75,75,75,75,75,75,75,75,75,75,75,75,75,75,75,75,75,75,75,75,75,75,75,75,75,75,75,75,75,75,75,75,75,75,75,75,75,75,75,75,75,75,75,75,75,75,75,75,75,75,75,75,75,75,75,75,75,75,75,75,75,75,75,75,75,75,75,75,75,75,75,75,75,75,75,75,75,75,75,75,75,75,75,75,75,75,75,75,75,75,75,75,75,75,75,75,75,75,75,75,75,75,75,75,75,75,75,75,75,75,75,75,75,75,75,75,75,75,75,75,75,75,75,75,75,75,75,75,75,75,75,75,75,75,75,75,75,75,75,75,75,75,75,75,75,75,75,75,75,75,75,75,75,75,75,75,75,75,75,75,75,75,75,75,75,75,75,75,75,75,75,75,75,75,75,75,75,75,75,75,75,75,75,75,75,75,75,75,75,75,75,75,75,75,75,75,75,75,75,75,75,75,75,75,75,75,75,75,75,75,75,75,75,75,75,75,75,75,75,75,75,75,75,75,75,75,75,75,75,75,75,75,75,75,75,75,75,75,75,75,75,75,75,75,75,75,75,75,75,75,75,75,75,75,75,75,75,75,75,75,75,75,75,75,75,75,75,75,75,75,75,75,75,75,75,75,75,75,75,75,75,75,75,75,75,75,75,75,75,75,75,75,75,75,75,75,75,75,75,75,75,75,75,75,75,75,75,75,75,75,75,75,75,75,75,75,75,75,75,75,75,75,75,75,75,75,75,75,75,75,75,75,75,75,75,75,75,75,75,75,75,75,75,75,75,75,75,75,75,75,75,75,75,75,75,75,75,75,75,75,75,75,75,75,75,75,75,75,75,75,75,75,75,75,75,75,75,75,75,75,75,75,75,75,75,75,75,75,75,75,75,75,75,75,75,75,75,75,75,75,75,75,75,75,75,75,75,75,75,75,75,75,75,75,75,75,75,75,75,75,75,75,75,75,75,75,75,74,74,74,74,74,74,74,74,74,74,74,74,74,74,74,74,74,74,74,74,74,74,74,74,74,74,74,74,74,74,74,74,74,74,74,74,74,74,74,74,74,74,74,74,74,74,74,74,74,74,74,74,74,74,74,74,74,74,74,74,74,74,74,74,74,74,74,74,74,74,74,74,74,74,74,74,74,74,74,74,74,74,74,74,74,74,74,74,74,74,74,74,74,74,74,74,74,74,74,74,74,74,74,74,74,74,74,74,74,74,74,74,74,74,74,74,74,74,74,74,74,74,74,74,74,74,74,74,74,74,74,74,74,74,74,74,74,74,74,74,74,74,74,74,74,74,74,74,74,74,74,74,74,74,74,74,74,74,74,74,74,74,74,74,74,74,74,74,74,74,74,74,74,74,74,74,74,74,74,74,74,74,74,74,74,74,74,74,74,74,74,74,74,74,74,74,74,74,74,74,74,74,74,74,74,74,74,74,74,74,74,74,74,74,74,74,74,74,74,74,74,74,74,74,74,74,74,74,74,74,74,74,74,74,74,74,74,74,74,74,74,74,74,74,74,74,74,74,74,74,74,74,74,74,74,74,74,74,74,74,74,74,74,74,74,74,74,74,74,74,74,74,74,74,74,74,74,74,74,74,74,74,74,74,74,74,74,74,74,74,74,74,74,74,74,74,74,74,74,74,74,74,74,74,74,74,74,74,74,74,74,74,74,74,74,74,74,74,74,74,74,74,74,74,74,74,74,74,74,74,74,74,74,74,74,74,74,74,74,74,74,74,74,74,74,74,74,74,74,74,74,74,74,74,74,74,74,74,74,74,74,74,74,74,74,74,74,74,74,74,74,74,74,74,74,74,74,74,74,74,74,74,74,74,74,74,74,74,74,74,74,74,74,74,74,74,74,74,74,74,74,74,74,74,74,74,74,74,74,74,74,74,74,74,74,74,74,74,74,74,74,74,74,74,74,74,74,74,74,74,74,74,74,74,74,74,74,74,74,74,74,74,74,74,74,74,74,74,74,74,74,74,74,74,74,74,74,74,74,74,74,74,74,74,74,74,74,74,74,74,74,74,74,74,74,74,74,74,74,74,74,74,74,74,74,74,74,74,74,74,74,74,74,74,74,74,74,74,74,74,74,74,74,74,74,74,74,74,74,74,74,74,74,74,74,74,74,74,74,74,74,74,74,74,74,74,74,74,74,74,74,74,74,74,74,74,74,74,74,74,74,74,74,74,74,74,74,74,74,74,74,74,74,74,74,74,74,74,74,74,74,74,74,74,74,74,74,74,74,74,74,74,74,74,74,74,74,74,74,74,74,74,74,74,74,74,74,74,74,74,74,74,74,74,74,74,74,74,74,74,74,74,73,73,73,73,73,73,73,73,73,73,73,73,73,73,73,73,73,73,73,73,73,73,73,73,73,73,73,73,73,73,73,73,73,73,73,73,73,73,73,73,73,73,73,73,73,73,73,73,73,73,73,73,73,73,73,73,73,73,73,73,73,73,73,73,73,73,73,73,73,73,73,73,73,73,73,73,73,73,73,73,73,73,73,73,73,73,73,73,73,73,73,73,73,73,73,73,73,73,73,73,73,73,73,73,73,73,73,73,73,73,73,73,73,73,73,73,73,73,73,73,73,73,73,73,73,73,73,73,73,73,73,73,73,73,73,73,73,73,73,73,73,73,73,73,73,73,73,73,73,73,73,73,73,73,73,73,73,73,73,73,73,73,73,73,73,73,73,73,73,73,73,73,73,73,73,73,73,73,73,73,73,73,73,73,73,73,73,73,73,73,73,73,73,73,73,73,73,73,73,73,73,73,73,73,73,73,73,73,73,73,73,73,73,73,73,73,73,73,73,73,73,73,73,73,73,73,73,73,73,73,73,73,73,73,73,73,73,73,73,73,73,73,73,73,73,73,73,73,73,73,73,73,73,73,73,73,73,73,73,73,73,73,73,73,73,73,73,73,73,73,73,73,73,73,73,73,73,73,73,73,73,73,73,73,73,73,73,73,73,73,73,73,73,73,73,73,73,73,73,73,73,73,73,73,73,73,73,73,73,73,73,73,73,73,73,73,73,73,73,73,73,73,73,73,73,73,73,73,73,73,73,73,73,73,73,73,73,73,73,73,73,73,73,73,73,73,73,73,73,73,73,73,73,73,73,73,73,73,73,73,73,73,73,73,73,73,73,73,73,73,73,73,73,73,73,73,73,73,73,73,73,73,73,73,73,73,73,73,73,73,73,73,73,73,73,73,73,73,73,73,73,73,73,73,73,73,73,73,73,73,73,73,73,73,73,73,73,73,73,73,73,73,73,73,73,73,73,73,73,73,73,73,73,73,73,73,73,73,73,73,73,73,73,73,73,73,73,73,73,73,73,73,73,73,73,73,73,73,73,73,73,73,73,73,73,73,73,73,73,73,73,73,73,73,73,73,73,73,73,73,73,73,73,73,73,73,73,73,73,73,73,73,73,73,73,73,73,73,73,73,73,73,73,73,73,73,73,73,73,73,73,73,73,73,73,73,73,73,73,73,73,73,73,73,73,73,73,73,73,73,73,73,73,73,73,73,73,73,73,73,73,73,73,73,73,73,73,73,73,73,73,73,73,73,73,73,73,73,73,73,73,73,73,73,73,73,73,73,73,73,73,73,73,73,73,73,73,73,73,73,73,73,73,73,73,73,73,73,73,73,73,73,73,73,73,73,73,73,73,73,73,73,73,73,73,73,73,73,73,73,73,73,73,73,73,73,73,73,73,73,73,73,73,73,73,73,73,73,73,73,73,73,73,73,73,73,72,72,72,72,72,72,72,72,72,72,72,72,72,72,72,72,72,72,72,72,72,72,72,72,72,72,72,72,72,72,72,72,72,72,72,72,72,72,72,72,72,72,72,72,72,72,72,72,72,72,72,72,72,72,72,72,72,72,72,72,72,72,72,72,72,72,72,72,72,72,72,72,72,72,72,72,72,72,72,72,72,72,72,72,72,72,72,72,72,72,72,72,72,72,72,72,72,72,72,72,72,72,72,72,72,72,72,72,72,72,72,72,72,72,72,72,72,72,72,72,72,72,72,72,72,72,72,72,72,72,72,72,72,72,72,72,72,72,72,72,72,72,72,72,72,72,72,72,72,72,72,72,72,72,72,72,72,72,72,72,72,72,72,72,72,72,72,72,72,72,72,72,72,72,72,72,72,72,72,72,72,72,72,72,72,72,72,72,72,72,72,72,72,72,72,72,72,72,72,72,72,72,72,72,72,72,72,72,72,72,72,72,72,72,72,72,72,72,72,72,72,72,72,72,72,72,72,72,72,72,72,72,72,72,72,72,72,72,72,72,72,72,72,72,72,72,72,72,72,72,72,72,72,72,72,72,72,72,72,72,72,72,72,72,72,72,72,72,72,72,72,72,72,72,72,72,72,72,72,72,72,72,72,72,72,72,72,72,72,72,72,72,72,72,72,72,72,72,72,72,72,72,72,72,72,72,72,72,72,72,72,72,72,72,72,72,72,72,72,72,72,72,72,72,72,72,72,72,72,72,72,72,72,72,72,72,72,72,72,72,72,72,72,72,72,72,72,72,72,72,72,72,72,72,72,72,72,72,72,72,72,72,72,72,72,72,72,72,72,72,72,72,72,72,72,72,72,72,72,72,72,72,72,72,72,72,72,72,72,72,72,72,72,72,72,72,72,72,72,72,72,72,72,72,72,72,72,72,72,72,72,72,72,72,72,72,72,72,72,72,72,72,72,72,72,72,72,72,72,72,72,72,72,72,72,72,72,72,72,72,72,72,72,72,72,72,72,72,72,72,72,72,72,72,72,72,72,72,72,72,72,72,72,72,72,72,72,72,72,72,72,72,72,72,72,72,72,72,72,72,72,72,72,72,72,72,72,72,72,72,72,72,72,72,72,72,72,72,72,72,72,72,72,72,72,72,72,72,72,72,72,72,72,72,72,72,72,72,72,72,72,72,72,72,72,72,72,72,72,72,72,72,72,72,72,72,72,72,72,72,72,72,72,72,72,72,72,72,72,72,72,72,72,72,72,72,72,72,72,72,72,72,72,72,72,72,72,72,72,72,72,72,72,72,72,72,72,72,72,72,72,72,72,72,72,72,72,72,72,72,72,72,72,72,72,72,72,72,72,72,72,72,72,72,72,72,72,72,72,72,72,72,71,71,71,71,71,71,71,71,71,71,71,71,71,71,71,71,71,71,71,71,71,71,71,71,71,71,71,71,71,71,71,71,71,71,71,71,71,71,71,71,71,71,71,71,71,71,71,71,71,71,71,71,71,71,71,71,71,71,71,71,71,71,71,71,71,71,71,71,71,71,71,71,71,71,71,71,71,71,71,71,71,71,71,71,71,71,71,71,71,71,71,71,71,71,71,71,71,71,71,71,71,71,71,71,71,71,71,71,71,71,71,71,71,71,71,71,71,71,71,71,71,71,71,71,71,71,71,71,71,71,71,71,71,71,71,71,71,71,71,71,71,71,71,71,71,71,71,71,71,71,71,71,71,71,71,71,71,71,71,71,71,71,71,71,71,71,71,71,71,71,71,71,71,71,71,71,71,71,71,71,71,71,71,71,71,71,71,71,71,71,71,71,71,71,71,71,71,71,71,71,71,71,71,71,71,71,71,71,71,71,71,71,71,71,71,71,71,71,71,71,71,71,71,71,71,71,71,71,71,71,71,71,71,71,71,71,71,71,71,71,71,71,71,71,71,71,71,71,71,71,71,71,71,71,71,71,71,71,71,71,71,71,71,71,71,71,71,71,71,71,71,71,71,71,71,71,71,71,71,71,71,71,71,71,71,71,71,71,71,71,71,71,71,71,71,71,71,71,71,71,71,71,71,71,71,71,71,71,71,71,71,71,71,71,71,71,71,71,71,71,71,71,71,71,71,71,71,71,71,71,71,71,71,71,71,71,71,71,71,71,71,71,71,71,71,71,71,71,71,71,71,71,71,71,71,71,71,71,71,71,71,71,71,71,71,71,71,71,71,71,71,71,71,71,71,71,71,71,71,71,71,71,71,71,71,71,71,71,71,71,71,71,71,71,71,71,71,71,71,71,71,71,71,71,71,71,71,71,71,71,71,71,71,71,71,71,71,71,71,71,71,71,71,71,71,71,71,71,71,71,71,71,71,71,71,71,71,71,71,71,71,71,71,71,71,71,71,71,71,71,71,71,71,71,71,71,71,71,71,71,71,71,71,71,71,71,71,71,71,71,71,71,71,71,71,71,71,71,71,71,71,71,71,71,71,71,71,71,71,71,71,71,71,71,71,71,71,71,71,71,71,71,71,71,71,71,71,71,71,71,71,71,71,71,71,71,71,71,71,71,71,71,71,71,71,71,71,71,71,71,71,71,71,71,71,71,71,71,71,71,71,71,71,71,71,71,71,71,71,71,71,71,71,71,71,71,71,71,71,71,71,71,71,71,71,71,71,71,71,71,71,71,71,71,71,71,71,71,71,71,71,71,71,71,71,71,71,71,70,70,70,70,70,70,70,70,70,70,70,70,70,70,70,70,70,70,70,70,70,70,70,70,70,70,70,70,70,70,70,70,70,70,70,70,70,70,70,70,70,70,70,70,70,70,70,70,70,70,70,70,70,70,70,70,70,70,70,70,70,70,70,70,70,70,70,70,70,70,70,70,70,70,70,70,70,70,70,70,70,70,70,70,70,70,70,70,70,70,70,70,70,70,70,70,70,70,70,70,70,70,70,70,70,70,70,70,70,70,70,70,70,70,70,70,70,70,70,70,70,70,70,70,70,70,70,70,70,70,70,70,70,70,70,70,70,70,70,70,70,70,70,70,70,70,70,70,70,70,70,70,70,70,70,70,70,70,70,70,70,70,70,70,70,70,70,70,70,70,70,70,70,70,70,70,70,70,70,70,70,70,70,70,70,70,70,70,70,70,70,70,70,70,70,70,70,70,70,70,70,70,70,70,70,70,70,70,70,70,70,70,70,70,70,70,70,70,70,70,70,70,70,70,70,70,70,70,70,70,70,70,70,70,70,70,70,70,70,70,70,70,70,70,70,70,70,70,70,70,70,70,70,70,70,70,70,70,70,70,70,70,70,70,70,70,70,70,70,70,70,70,70,70,70,70,70,70,70,70,70,70,70,70,70,70,70,70,70,70,70,70,70,70,70,70,70,70,70,70,70,70,70,70,70,70,70,70,70,70,70,70,70,70,70,70,70,70,70,70,70,70,70,70,70,70,70,70,70,70,70,70,70,70,70,70,70,70,70,70,70,70,70,70,70,70,70,70,70,70,70,70,70,70,70,70,70,70,70,70,70,70,70,70,70,70,70,70,70,70,70,70,70,70,70,70,70,70,70,70,70,70,70,70,70,70,70,70,70,70,70,70,70,70,70,70,70,70,70,70,70,70,70,70,70,70,70,70,70,70,70,70,70,70,70,70,70,70,70,70,70,70,70,70,70,70,70,70,70,70,70,70,70,70,70,70,70,70,70,70,70,70,70,70,70,70,70,70,70,70,70,70,70,70,70,70,70,70,70,70,70,70,70,70,70,70,70,70,70,70,70,70,70,70,70,70,70,70,70,70,70,70,70,70,70,70,70,70,70,70,70,70,70,70,70,70,70,70,70,70,70,70,70,70,70,70,70,70,70,70,70,70,70,70,70,70,70,70,70,70,70,70,70,70,70,70,70,70,70,70,70,70,70,70,70,70,70,70,70,70,70,70,70,70,70,70,70,70,70,70,70,70,70,70,70,70,70,70,70,70,70,70,70,70,70,70,70,70,69,69,69,69,69,69,69,69,69,69,69,69,69,69,69,69,69,69,69,69,69,69,69,69,69,69,69,69,69,69,69,69,69,69,69,69,69,69,69,69,69,69,69,69,69,69,69,69,69,69,69,69,69,69,69,69,69,69,69,69,69,69,69,69,69,69,69,69,69,69,69,69,69,69,69,69,69,69,69,69,69,69,69,69,69,69,69,69,69,69,69,69,69,69,69,69,69,69,69,69,69,69,69,69,69,69,69,69,69,69,69,69,69,69,69,69,69,69,69,69,69,69,69,69,69,69,69,69,69,69,69,69,69,69,69,69,69,69,69,69,69,69,69,69,69,69,69,69,69,69,69,69,69,69,69,69,69,69,69,69,69,69,69,69,69,69,69,69,69,69,69,69,69,69,69,69,69,69,69,69,69,69,69,69,69,69,69,69,69,69,69,69,69,69,69,69,69,69,69,69,69,69,69,69,69,69,69,69,69,69,69,69,69,69,69,69,69,69,69,69,69,69,69,69,69,69,69,69,69,69,69,69,69,69,69,69,69,69,69,69,69,69,69,69,69,69,69,69,69,69,69,69,69,69,69,69,69,69,69,69,69,69,69,69,69,69,69,69,69,69,69,69,69,69,69,69,69,69,69,69,69,69,69,69,69,69,69,69,69,69,69,69,69,69,69,69,69,69,69,69,69,69,69,69,69,69,69,69,69,69,69,69,69,69,69,69,69,69,69,69,69,69,69,69,69,69,69,69,69,69,69,69,69,69,69,69,69,69,69,69,69,69,69,69,69,69,69,69,69,69,69,69,69,69,69,69,69,69,69,69,69,69,69,69,69,69,69,69,69,69,69,69,69,69,69,69,69,69,69,69,69,69,69,69,69,69,69,69,69,69,69,69,69,69,69,69,69,69,69,69,69,69,69,69,69,69,69,69,69,69,69,69,69,69,69,69,69,69,69,69,69,69,69,69,69,69,69,69,69,69,69,69,69,69,69,69,69,69,69,69,69,69,69,69,69,69,69,69,69,69,69,69,69,69,69,69,69,69,69,69,69,69,69,69,69,69,69,69,69,69,69,69,69,69,69,69,69,69,69,69,69,69,69,69,69,69,69,69,69,69,69,69,69,69,69,69,69,69,69,69,69,69,69,69,69,69,69,69,69,69,69,69,69,69,69,68,68,68,68,68,68,68,68,68,68,68,68,68,68,68,68,68,68,68,68,68,68,68,68,68,68,68,68,68,68,68,68,68,68,68,68,68,68,68,68,68,68,68,68,68,68,68,68,68,68,68,68,68,68,68,68,68,68,68,68,68,68,68,68,68,68,68,68,68,68,68,68,68,68,68,68,68,68,68,68,68,68,68,68,68,68,68,68,68,68,68,68,68,68,68,68,68,68,68,68,68,68,68,68,68,68,68,68,68,68,68,68,68,68,68,68,68,68,68,68,68,68,68,68,68,68,68,68,68,68,68,68,68,68,68,68,68,68,68,68,68,68,68,68,68,68,68,68,68,68,68,68,68,68,68,68,68,68,68,68,68,68,68,68,68,68,68,68,68,68,68,68,68,68,68,68,68,68,68,68,68,68,68,68,68,68,68,68,68,68,68,68,68,68,68,68,68,68,68,68,68,68,68,68,68,68,68,68,68,68,68,68,68,68,68,68,68,68,68,68,68,68,68,68,68,68,68,68,68,68,68,68,68,68,68,68,68,68,68,68,68,68,68,68,68,68,68,68,68,68,68,68,68,68,68,68,68,68,68,68,68,68,68,68,68,68,68,68,68,68,68,68,68,68,68,68,68,68,68,68,68,68,68,68,68,68,68,68,68,68,68,68,68,68,68,68,68,68,68,68,68,68,68,68,68,68,68,68,68,68,68,68,68,68,68,68,68,68,68,68,68,68,68,68,68,68,68,68,68,68,68,68,68,68,68,68,68,68,68,68,68,68,68,68,68,68,68,68,68,68,68,68,68,68,68,68,68,68,68,68,68,68,68,68,68,68,68,68,68,68,68,68,68,68,68,68,68,68,68,68,68,68,68,68,68,68,68,68,68,68,68,68,68,68,68,68,68,68,68,68,68,68,68,68,68,68,68,68,68,68,68,68,68,68,68,68,68,68,68,68,68,68,68,68,68,68,68,68,68,68,68,68,68,68,68,68,68,68,68,68,68,68,68,68,68,68,68,68,68,68,68,68,68,68,68,68,68,68,68,68,68,68,68,68,68,68,68,68,68,68,68,68,68,68,68,68,68,68,68,68,68,68,68,68,68,68,68,68,68,68,68,68,68,68,68,68,68,68,68,68,68,68,68,68,67,67,67,67,67,67,67,67,67,67,67,67,67,67,67,67,67,67,67,67,67,67,67,67,67,67,67,67,67,67,67,67,67,67,67,67,67,67,67,67,67,67,67,67,67,67,67,67,67,67,67,67,67,67,67,67,67,67,67,67,67,67,67,67,67,67,67,67,67,67,67,67,67,67,67,67,67,67,67,67,67,67,67,67,67,67,67,67,67,67,67,67,67,67,67,67,67,67,67,67,67,67,67,67,67,67,67,67,67,67,67,67,67,67,67,67,67,67,67,67,67,67,67,67,67,67,67,67,67,67,67,67,67,67,67,67,67,67,67,67,67,67,67,67,67,67,67,67,67,67,67,67,67,67,67,67,67,67,67,67,67,67,67,67,67,67,67,67,67,67,67,67,67,67,67,67,67,67,67,67,67,67,67,67,67,67,67,67,67,67,67,67,67,67,67,67,67,67,67,67,67,67,67,67,67,67,67,67,67,67,67,67,67,67,67,67,67,67,67,67,67,67,67,67,67,67,67,67,67,67,67,67,67,67,67,67,67,67,67,67,67,67,67,67,67,67,67,67,67,67,67,67,67,67,67,67,67,67,67,67,67,67,67,67,67,67,67,67,67,67,67,67,67,67,67,67,67,67,67,67,67,67,67,67,67,67,67,67,67,67,67,67,67,67,67,67,67,67,67,67,67,67,67,67,67,67,67,67,67,67,67,67,67,67,67,67,67,67,67,67,67,67,67,67,67,67,67,67,67,67,67,67,67,67,67,67,67,67,67,67,67,67,67,67,67,67,67,67,67,67,67,67,67,67,67,67,67,67,67,67,67,67,67,67,67,67,67,67,67,67,67,67,67,67,67,67,67,67,67,67,67,67,67,67,67,67,67,67,67,67,67,67,67,67,67,67,67,67,67,67,67,67,67,67,67,67,67,67,67,67,67,67,67,67,67,67,67,67,67,67,67,67,67,67,67,67,67,67,67,67,67,67,67,67,67,67,67,67,67,67,67,67,67,66,66,66,66,66,66,66,66,66,66,66,66,66,66,66,66,66,66,66,66,66,66,66,66,66,66,66,66,66,66,66,66,66,66,66,66,66,66,66,66,66,66,66,66,66,66,66,66,66,66,66,66,66,66,66,66,66,66,66,66,66,66,66,66,66,66,66,66,66,66,66,66,66,66,66,66,66,66,66,66,66,66,66,66,66,66,66,66,66,66,66,66,66,66,66,66,66,66,66,66,66,66,66,66,66,66,66,66,66,66,66,66,66,66,66,66,66,66,66,66,66,66,66,66,66,66,66,66,66,66,66,66,66,66,66,66,66,66,66,66,66,66,66,66,66,66,66,66,66,66,66,66,66,66,66,66,66,66,66,66,66,66,66,66,66,66,66,66,66,66,66,66,66,66,66,66,66,66,66,66,66,66,66,66,66,66,66,66,66,66,66,66,66,66,66,66,66,66,66,66,66,66,66,66,66,66,66,66,66,66,66,66,66,66,66,66,66,66,66,66,66,66,66,66,66,66,66,66,66,66,66,66,66,66,66,66,66,66,66,66,66,66,66,66,66,66,66,66,66,66,66,66,66,66,66,66,66,66,66,66,66,66,66,66,66,66,66,66,66,66,66,66,66,66,66,66,66,66,66,66,66,66,66,66,66,66,66,66,66,66,66,66,66,66,66,66,66,66,66,66,66,66,66,66,66,66,66,66,66,66,66,66,66,66,66,66,66,66,66,66,66,66,66,66,66,66,66,66,66,66,66,66,66,66,66,66,66,66,66,66,66,66,66,66,66,66,66,66,66,66,66,66,66,66,66,66,66,66,66,66,66,66,66,66,66,66,66,66,66,66,66,66,66,66,66,66,66,66,66,66,66,66,66,66,66,66,66,66,66,66,66,66,66,66,66,66,66,66,66,66,66,66,66,66,66,66,66,66,66,66,66,66,66,66,66,66,66,65,65,65,65,65,65,65,65,65,65,65,65,65,65,65,65,65,65,65,65,65,65,65,65,65,65,65,65,65,65,65,65,65,65,65,65,65,65,65,65,65,65,65,65,65,65,65,65,65,65,65,65,65,65,65,65,65,65,65,65,65,65,65,65,65,65,65,65,65,65,65,65,65,65,65,65,65,65,65,65,65,65,65,65,65,65,65,65,65,65,65,65,65,65,65,65,65,65,65,65,65,65,65,65,65,65,65,65,65,65,65,65,65,65,65,65,65,65,65,65,65,65,65,65,65,65,65,65,65,65,65,65,65,65,65,65,65,65,65,65,65,65,65,65,65,65,65,65,65,65,65,65,65,65,65,65,65,65,65,65,65,65,65,65,65,65,65,65,65,65,65,65,65,65,65,65,65,65,65,65,65,65,65,65,65,65,65,65,65,65,65,65,65,65,65,65,65,65,65,65,65,65,65,65,65,65,65,65,65,65,65,65,65,65,65,65,65,65,65,65,65,65,65,65,65,65,65,65,65,65,65,65,65,65,65,65,65,65,65,65,65,65,65,65,65,65,65,65,65,65,65,65,65,65,65,65,65,65,65,65,65,65,65,65,65,65,65,65,65,65,65,65,65,65,65,65,65,65,65,65,65,65,65,65,65,65,65,65,65,65,65,65,65,65,65,65,65,65,65,65,65,65,65,65,65,65,65,65,65,65,65,65,65,65,65,65,65,65,65,65,65,65,65,65,65,65,65,65,65,65,65,65,65,65,65,65,65,65,65,65,65,65,65,65,65,65,65,65,65,65,65,65,65,65,65,65,65,65,65,65,65,65,65,65,65,65,65,65,65,65,65,65,65,65,65,65,65,64,64,64,64,64,64,64,64,64,64,64,64,64,64,64,64,64,64,64,64,64,64,64,64,64,64,64,64,64,64,64,64,64,64,64,64,64,64,64,64,64,64,64,64,64,64,64,64,64,64,64,64,64,64,64,64,64,64,64,64,64,64,64,64,64,64,64,64,64,64,64,64,64,64,64,64,64,64,64,64,64,64,64,64,64,64,64,64,64,64,64,64,64,64,64,64,64,64,64,64,64,64,64,64,64,64,64,64,64,64,64,64,64,64,64,64,64,64,64,64,64,64,64,64,64,64,64,64,64,64,64,64,64,64,64,64,64,64,64,64,64,64,64,64,64,64,64,64,64,64,64,64,64,64,64,64,64,64,64,64,64,64,64,64,64,64,64,64,64,64,64,64,64,64,64,64,64,64,64,64,64,64,64,64,64,64,64,64,64,64,64,64,64,64,64,64,64,64,64,64,64,64,64,64,64,64,64,64,64,64,64,64,64,64,64,64,64,64,64,64,64,64,64,64,64,64,64,64,64,64,64,64,64,64,64,64,64,64,64,64,64,64,64,64,64,64,64,64,64,64,64,64,64,64,64,64,64,64,64,64,64,64,64,64,64,64,64,64,64,64,64,64,64,64,64,64,64,64,64,64,64,64,64,64,64,64,64,64,64,64,64,64,64,64,64,64,64,64,64,64,64,64,64,64,64,64,64,64,64,64,64,64,64,64,64,64,64,64,64,64,64,64,64,64,64,64,64,64,64,64,64,64,64,64,64,64,64,64,64,64,64,64,64,64,64,64,64,64,64,64,64,64,64,64,64,64,64,64,64,64,63,63,63,63,63,63,63,63,63,63,63,63,63,63,63,63,63,63,63,63,63,63,63,63,63,63,63,63,63,63,63,63,63,63,63,63,63,63,63,63,63,63,63,63,63,63,63,63,63,63,63,63,63,63,63,63,63,63,63,63,63,63,63,63,63,63,63,63,63,63,63,63,63,63,63,63,63,63,63,63,63,63,63,63,63,63,63,63,63,63,63,63,63,63,63,63,63,63,63,63,63,63,63,63,63,63,63,63,63,63,63,63,63,63,63,63,63,63,63,63,63,63,63,63,63,63,63,63,63,63,63,63,63,63,63,63,63,63,63,63,63,63,63,63,63,63,63,63,63,63,63,63,63,63,63,63,63,63,63,63,63,63,63,63,63,63,63,63,63,63,63,63,63,63,63,63,63,63,63,63,63,63,63,63,63,63,63,63,63,63,63,63,63,63,63,63,63,63,63,63,63,63,63,63,63,63,63,63,63,63,63,63,63,63,63,63,63,63,63,63,63,63,63,63,63,63,63,63,63,63,63,63,63,63,63,63,63,63,63,63,63,63,63,63,63,63,63,63,63,63,63,63,63,63,63,63,63,63,63,63,63,63,63,63,63,63,63,63,63,63,63,63,63,63,63,63,63,63,63,63,63,63,63,63,63,63,63,63,63,63,63,63,63,63,63,63,63,63,63,63,63,63,63,63,63,63,63,63,63,63,63,63,63,63,63,63,63,63,63,63,63,63,63,63,63,63,63,63,63,63,63,63,63,63,63,63,63,63,63,63,62,62,62,62,62,62,62,62,62,62,62,62,62,62,62,62,62,62,62,62,62,62,62,62,62,62,62,62,62,62,62,62,62,62,62,62,62,62,62,62,62,62,62,62,62,62,62,62,62,62,62,62,62,62,62,62,62,62,62,62,62,62,62,62,62,62,62,62,62,62,62,62,62,62,62,62,62,62,62,62,62,62,62,62,62,62,62,62,62,62,62,62,62,62,62,62,62,62,62,62,62,62,62,62,62,62,62,62,62,62,62,62,62,62,62,62,62,62,62,62,62,62,62,62,62,62,62,62,62,62,62,62,62,62,62,62,62,62,62,62,62,62,62,62,62,62,62,62,62,62,62,62,62,62,62,62,62,62,62,62,62,62,62,62,62,62,62,62,62,62,62,62,62,62,62,62,62,62,62,62,62,62,62,62,62,62,62,62,62,62,62,62,62,62,62,62,62,62,62,62,62,62,62,62,62,62,62,62,62,62,62,62,62,62,62,62,62,62,62,62,62,62,62,62,62,62,62,62,62,62,62,62,62,62,62,62,62,62,62,62,62,62,62,62,62,62,62,62,62,62,62,62,62,62,62,62,62,62,62,62,62,62,62,62,62,62,62,62,62,62,62,62,62,62,62,62,62,62,62,62,62,62,62,62,62,62,62,62,62,62,62,62,62,62,62,62,62,62,62,62,62,62,62,62,62,62,62,62,62,62,62,62,62,62,62,62,62,62,62,62,62,62,62,62,62,62,62,62,62,62,62,62,61,61,61,61,61,61,61,61,61,61,61,61,61,61,61,61,61,61,61,61,61,61,61,61,61,61,61,61,61,61,61,61,61,61,61,61,61,61,61,61,61,61,61,61,61,61,61,61,61,61,61,61,61,61,61,61,61,61,61,61,61,61,61,61,61,61,61,61,61,61,61,61,61,61,61,61,61,61,61,61,61,61,61,61,61,61,61,61,61,61,61,61,61,61,61,61,61,61,61,61,61,61,61,61,61,61,61,61,61,61,61,61,61,61,61,61,61,61,61,61,61,61,61,61,61,61,61,61,61,61,61,61,61,61,61,61,61,61,61,61,61,61,61,61,61,61,61,61,61,61,61,61,61,61,61,61,61,61,61,61,61,61,61,61,61,61,61,61,61,61,61,61,61,61,61,61,61,61,61,61,61,61,61,61,61,61,61,61,61,61,61,61,61,61,61,61,61,61,61,61,61,61,61,61,61,61,61,61,61,61,61,61,61,61,61,61,61,61,61,61,61,61,61,61,61,61,61,61,61,61,61,61,61,61,61,61,61,61,61,61,61,61,61,61,61,61,61,61,61,61,61,61,61,61,61,61,61,61,61,61,61,61,61,61,61,61,61,61,61,61,61,61,61,61,61,61,61,61,61,61,61,61,61,61,61,61,61,61,61,61,61,61,61,61,61,61,61,61,61,60,60,60,60,60,60,60,60,60,60,60,60,60,60,60,60,60,60,60,60,60,60,60,60,60,60,60,60,60,60,60,60,60,60,60,60,60,60,60,60,60,60,60,60,60,60,60,60,60,60,60,60,60,60,60,60,60,60,60,60,60,60,60,60,60,60,60,60,60,60,60,60,60,60,60,60,60,60,60,60,60,60,60,60,60,60,60,60,60,60,60,60,60,60,60,60,60,60,60,60,60,60,60,60,60,60,60,60,60,60,60,60,60,60,60,60,60,60,60,60,60,60,60,60,60,60,60,60,60,60,60,60,60,60,60,60,60,60,60,60,60,60,60,60,60,60,60,60,60,60,60,60,60,60,60,60,60,60,60,60,60,60,60,60,60,60,60,60,60,60,60,60,60,60,60,60,60,60,60,60,60,60,60,60,60,60,60,60,60,60,60,60,60,60,60,60,60,60,60,60,60,60,60,60,60,60,60,60,60,60,60,60,60,60,60,60,60,60,60,60,60,60,60,60,60,60,60,60,60,60,60,60,60,60,60,60,60,60,60,60,60,59,59,59,59,59,59,59,59,59,59,59,59,59,59,59,59,59,59,59,59,59,59,59,59,59,59,59,59,59,59,59,59,59,59,59,59,59,59,59,59,59,59,59,59,59,59,59,59,59,59,59,59,59,59,59,59,59,59,59,59,59,59,59,59,59,59,59,59,59,59,59,59,59,59,59,59,59,59,59,59,59,59,59,59,59,59,59,59,59,59,59,59,59,59,59,59,59,59,59,59,59,59,59,59,59,59,59,59,59,59,59,59,59,59,59,59,59,59,59,59,59,59,59,59,59,59,59,59,59,59,59,59,59,59,59,59,59,59,59,59,59,59,59,59,59,59,59,59,59,59,59,59,59,59,59,59,59,59,59,59,59,59,59,59,59,59,59,59,59,59,59,59,59,59,59,59,59,59,59,59,59,59,59,59,59,59,59,59,59,59,59,59,59,59,59,59,59,59,59,59,59,59,59,59,59,59,59,59,59,59,59,59,59,59,59,59,59,59,59,59,59,59,59,59,59,59,59,59,59,59,59,59,59,59,59,59,59,59,59,59,59,59,59,59,59,59,59,59,59,59,59,59,59,59,59,59,59,59,59,59,59,59,59,59,59,59,59,59,59,59,59,59,59,59,59,59,59,59,59,59,59,59,59,59,59,59,59,59,59,59,59,59,59,59,59,59,58,58,58,58,58,58,58,58,58,58,58,58,58,58,58,58,58,58,58,58,58,58,58,58,58,58,58,58,58,58,58,58,58,58,58,58,58,58,58,58,58,58,58,58,58,58,58,58,58,58,58,58,58,58,58,58,58,58,58,58,58,58,58,58,58,58,58,58,58,58,58,58,58,58,58,58,58,58,58,58,58,58,58,58,58,58,58,58,58,58,58,58,58,58,58,58,58,58,58,58,58,58,58,58,58,58,58,58,58,58,58,58,58,58,58,58,58,58,58,58,58,58,58,58,58,58,58,58,58,58,58,58,58,58,58,58,58,58,58,58,58,58,58,58,58,58,58,58,58,58,58,58,58,58,58,58,58,58,58,58,58,58,58,58,58,58,58,58,58,58,58,58,58,58,58,58,58,58,58,58,58,58,58,58,58,58,58,58,58,58,58,58,58,58,58,58,58,58,58,58,58,58,58,58,58,58,58,58,58,58,58,58,58,58,58,58,58,58,58,58,58,58,58,58,58,58,58,58,58,58,58,58,58,58,58,58,58,58,58,58,58,58,58,58,58,58,58,58,58,58,58,58,58,58,58,58,58,58,57,57,57,57,57,57,57,57,57,57,57,57,57,57,57,57,57,57,57,57,57,57,57,57,57,57,57,57,57,57,57,57,57,57,57,57,57,57,57,57,57,57,57,57,57,57,57,57,57,57,57,57,57,57,57,57,57,57,57,57,57,57,57,57,57,57,57,57,57,57,57,57,57,57,57,57,57,57,57,57,57,57,57,57,57,57,57,57,57,57,57,57,57,57,57,57,57,57,57,57,57,57,57,57,57,57,57,57,57,57,57,57,57,57,57,57,57,57,57,57,57,57,57,57,57,57,57,57,57,57,57,57,57,57,57,57,57,57,57,57,57,57,57,57,57,57,57,57,57,57,57,57,57,57,57,57,57,57,57,57,57,56,56,56,56,56,56,56,56,56,56,56,56,56,56,56,56,56,56,56,56,56,56,56,56,56,56,56,56,56,56,56,56,56,56,56,56,56,56,56,56,56,56,56,56,56,56,56,56,56,56,56,56,56,56,56,56,56,56,56,56,56,56,56,56,56,56,56,56,56,56,56,56,56,56,56,56,56,56,56,56,56,56,56,56,56,56,56,56,56,56,56,56,56,56,56,56,56,56,56,56,56,56,56,56,56,56,56,56,56,56,56,56,56,56,56,56,56,56,56,56,56,56,56,56,56,56,56,56,56,56,56,56,56,56,56,56,56,56,56,56,56,56,56,56,56,56,56,56,56,56,56,56,56,56,56,56,56,56,55,55,55,55,55,55,55,55,55,55,55,55,55,55,55,55,55,55,55,55,55,55,55,55,55,55,55,55,55,55,55,55,55,55,55,55,55,55,55,55,55,55,55,55,55,55,55,55,55,55,55,55,55,55,55,55,55,55,55,55,55,55,55,55,55,55,55,55,55,55,55,55,55,55,55,55,55,55,55,55,55,55,55,55,55,55,55,55,55,55,55,55,55,55,55,55,55,55,55,55,55,55,55,55,55,55,55,55,55,55,55,55,55,55,55,55,55,55,55,55,55,55,55,55,55,55,55,55,55,55,55,55,55,55,55,55,55,55,55,55,55,55,55,55,55,55,55,55,55,55,55,55,55,55,55,55,55,55,55,55,55,55,55,55,55,55,55,55,55,55,55,55,54,54,54,54,54,54,54,54,54,54,54,54,54,54,54,54,54,54,54,54,54,54,54,54,54,54,54,54,54,54,54,54,54,54,54,54,54,54,54,54,54,54,54,54,54,54,54,54,54,54,54,54,54,54,54,54,54,54,54,54,54,54,54,54,54,54,54,54,54,54,54,54,54,54,54,54,54,54,54,54,54,54,54,54,54,54,54,54,54,54,54,54,54,54,54,54,54,54,54,54,54,54,54,54,54,54,54,54,54,54,54,54,54,54,54,54,54,54,54,54,54,54,54,54,54,54,54,54,54,54,54,54,54,54,54,54,54,54,54,54,54,54,54,54,54,54,54,54,54,54,54,54,54,54,54,54,54,54,54,54,54,54,54,54,54,54,54,54,54,53,53,53,53,53,53,53,53,53,53,53,53,53,53,53,53,53,53,53,53,53,53,53,53,53,53,53,53,53,53,53,53,53,53,53,53,53,53,53,53,53,53,53,53,53,53,53,53,53,53,53,53,53,53,53,53,53,53,53,53,53,53,53,53,53,53,53,53,53,53,53,53,53,53,53,53,53,53,53,53,53,53,53,53,53,53,53,53,53,53,53,53,53,53,53,53,53,53,53,53,53,53,53,53,53,53,53,53,53,53,53,53,53,53,53,53,53,53,53,53,53,53,53,53,53,53,53,53,53,53,53,53,53,53,53,53,53,53,53,53,53,53,53,53,53,53,53,53,53,53,53,53,53,53,53,53,52,52,52,52,52,52,52,52,52,52,52,52,52,52,52,52,52,52,52,52,52,52,52,52,52,52,52,52,52,52,52,52,52,52,52,52,52,52,52,52,52,52,52,52,52,52,52,52,52,52,52,52,52,52,52,52,52,52,52,52,52,52,52,52,52,52,52,52,52,52,52,52,52,52,52,52,52,52,52,52,52,52,52,52,52,52,52,52,52,52,52,52,52,52,52,52,52,52,52,52,52,52,52,52,52,52,52,52,52,52,52,52,52,52,52,52,52,51,51,51,51,51,51,51,51,51,51,51,51,51,51,51,51,51,51,51,51,51,51,51,51,51,51,51,51,51,51,51,51,51,51,51,51,51,51,51,51,51,51,51,51,51,51,51,51,51,51,51,51,51,51,51,51,51,51,51,51,51,51,51,51,51,51,51,51,51,51,51,51,51,51,51,51,51,51,51,51,51,51,51,51,51,51,51,51,51,51,51,51,51,51,51,51,51,51,51,51,51,51,51,51,51,51,51,51,51,51,51,51,51,51,51,51,51,51,51,51,51,51,51,51,50,50,50,50,50,50,50,50,50,50,50,50,50,50,50,50,50,50,50,50,50,50,50,50,50,50,50,50,50,50,50,50,50,50,50,50,50,50,50,50,50,50,50,50,50,50,50,50,50,50,50,50,50,50,50,50,50,50,50,50,50,50,50,50,50,50,50,50,50,50,50,50,50,50,50,50,50,50,50,50,50,50,50,50,50,50,50,50,50,50,50,50,50,50,50,50,50,50,50,50,50,50,50,50,50,50,50,50,50,50,50,50,50,50,50,50,50,50,49,49,49,49,49,49,49,49,49,49,49,49,49,49,49,49,49,49,49,49,49,49,49,49,49,49,49,49,49,49,49,49,49,49,49,49,49,49,49,49,49,49,49,49,49,49,49,49,49,49,49,49,49,49,49,49,49,49,49,49,49,49,49,49,49,49,49,49,49,49,49,49,49,49,49,49,49,49,49,49,49,49,49,49,49,49,49,49,49,49,49,49,49,49,49,49,49,49,49,49,49,49,49,49,49,49,49,49,49,49,49,49,49,49,49,49,49,49,49,49,49,49,48,48,48,48,48,48,48,48,48,48,48,48,48,48,48,48,48,48,48,48,48,48,48,48,48,48,48,48,48,48,48,48,48,48,48,48,48,48,48,48,48,48,48,48,48,48,48,48,48,48,48,48,48,48,48,48,48,48,48,48,48,48,48,48,48,48,48,48,48,48,48,48,48,48,48,48,48,48,48,48,48,48,48,48,48,48,48,48,48,48,48,47,47,47,47,47,47,47,47,47,47,47,47,47,47,47,47,47,47,47,47,47,47,47,47,47,47,47,47,47,47,47,47,47,47,47,47,47,47,47,47,47,47,47,47,47,47,47,47,47,47,47,47,47,47,47,47,47,47,47,47,47,47,47,47,47,47,47,47,47,47,47,47,47,47,47,47,47,47,46,46,46,46,46,46,46,46,46,46,46,46,46,46,46,46,46,46,46,46,46,46,46,46,46,46,46,46,46,46,46,46,46,46,46,46,46,46,46,46,46,46,46,46,46,46,46,46,46,46,46,46,46,46,46,46,46,46,46,46,46,46,46,46,46,46,46,46,46,46,46,46,46,46,46,45,45,45,45,45,45,45,45,45,45,45,45,45,45,45,45,45,45,45,45,45,45,45,45,45,45,45,45,45,45,45,45,45,45,45,45,45,45,45,45,45,45,45,45,45,45,45,45,45,45,45,45,45,45,45,45,45,45,45,45,45,45,45,45,45,45,45,45,45,45,45,44,44,44,44,44,44,44,44,44,44,44,44,44,44,44,44,44,44,44,44,44,44,44,44,44,44,44,44,44,44,44,44,44,44,44,44,44,44,44,44,44,44,44,44,44,44,44,44,44,44,44,44,44,44,44,44,44,44,44,44,44,44,44,44,44,44,44,44,44,44,44,44,44,44,44,44,44,44,43,43,43,43,43,43,43,43,43,43,43,43,43,43,43,43,43,43,43,43,43,43,43,43,43,43,43,43,43,43,43,43,43,43,43,43,43,43,43,43,43,43,43,43,43,43,43,43,43,43,43,43,43,43,43,43,43,43,43,43,43,43,43,43,43,43,43,43,43,43,43,43,43,42,42,42,42,42,42,42,42,42,42,42,42,42,42,42,42,42,42,42,42,42,42,42,42,42,42,42,42,42,42,42,42,42,42,42,42,42,42,42,42,42,42,42,42,42,42,42,41,41,41,41,41,41,41,41,41,41,41,41,41,41,41,41,41,41,41,41,41,41,41,41,41,41,41,41,41,41,41,41,41,41,41,41,41,41,41,41,41,41,41,41,41,41,41,41,40,40,40,40,40,40,40,40,40,40,40,40,40,40,40,40,40,40,40,40,40,40,40,40,40,40,40,40,40,40,40,40,40,40,40,40,40,40,40,40,39,39,39,39,39,39,39,39,39,39,39,39,39,39,39,39,39,39,39,39,39,39,39,39,39,39,39,39,39,39,39,39,39,39,39,39,39,39,39,39,39,39,39,39,39,39,39,38,38,38,38,38,38,38,38,38,38,38,38,38,38,38,38,38,38,38,38,38,38,38,38,38,38,38,38,38,38,38,38,38,38,38,38,38,38,38,38,38,38,38,38,38,38,38,37,37,37,37,37,37,37,37,37,37,37,37,37,37,37,37,37,37,37,37,37,37,37,37,37,37,37,37,37,37,36,36,36,36,36,36,36,36,36,36,36,36,36,36,36,36,36,36,36,36,36,36,36,36,36,36,36,36,36,36,36,36,36,36,35,35,35,35,35,35,35,35,35,35,35,35,35,35,35,35,35,35,35,35,35,35,35,35,35,35,35,35,35,34,34,34,34,34,34,34,34,34,34,34,34,34,34,34,34,34,34,34,34,33,33,33,33,33,33,33,33,33,33,33,33,33,33,33,33,33,33,33,33,32,32,32,32,32,32,32,32,32,32,32,32,32,32,32,32,32,32,32,32,32,32,32,32,32,32,31,31,31,31,31,31,31,31,30,30,30,30,30,30,30,30,30,30,30,30,29,29,29,29,29,29,29,29,29,29,28,28,28,28,28,28,28,28,28,28,27,27,27,27,27,27,27,27,26,26,26,26,26,26,26,26,26,26,26,26,26,26,25,25,25,25,25,25,25,25,25,24,24,24,24,24,24,24,23,23,23,23,23,22,22,21,20,20],\"y\":{\"__ndarray__\":\"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\",\"dtype\":\"float64\",\"order\":\"little\",\"shape\":[17435]}},\"selected\":{\"id\":\"1059\"},\"selection_policy\":{\"id\":\"1058\"}},\"id\":\"1040\",\"type\":\"ColumnDataSource\"},{\"attributes\":{},\"id\":\"1009\",\"type\":\"LinearScale\"},{\"attributes\":{},\"id\":\"1022\",\"type\":\"PanTool\"},{\"attributes\":{},\"id\":\"1011\",\"type\":\"LinearScale\"},{\"attributes\":{},\"id\":\"1021\",\"type\":\"CrosshairTool\"},{\"attributes\":{\"fill_alpha\":{\"value\":0.6},\"fill_color\":{\"field\":\"fill_color\"},\"line_color\":{\"value\":null},\"radius\":{\"value\":0.5},\"x\":{\"field\":\"x\"},\"y\":{\"field\":\"y\"}},\"id\":\"1041\",\"type\":\"Circle\"},{\"attributes\":{\"overlay\":{\"id\":\"1030\"}},\"id\":\"1027\",\"type\":\"LassoSelectTool\"},{\"attributes\":{\"overlay\":{\"id\":\"1029\"}},\"id\":\"1024\",\"type\":\"BoxZoomTool\"},{\"attributes\":{\"fill_alpha\":0.5,\"fill_color\":\"lightgrey\",\"level\":\"overlay\",\"line_alpha\":1.0,\"line_color\":\"black\",\"line_dash\":[4,4],\"line_width\":2,\"syncable\":false,\"xs_units\":\"screen\",\"ys_units\":\"screen\"},\"id\":\"1030\",\"type\":\"PolyAnnotation\"},{\"attributes\":{},\"id\":\"1025\",\"type\":\"ResetTool\"},{\"attributes\":{\"overlay\":{\"id\":\"1028\"}},\"id\":\"1026\",\"type\":\"BoxSelectTool\"},{\"attributes\":{\"callback\":null,\"tooltips\":[[\"Meta Score\",\"@x\"],[\"User Review\",\"@y\"]]},\"id\":\"1003\",\"type\":\"HoverTool\"},{\"attributes\":{},\"id\":\"1050\",\"type\":\"AllLabels\"},{\"attributes\":{},\"id\":\"1051\",\"type\":\"BasicTickFormatter\"},{\"attributes\":{\"axis_label\":\"meta_score\",\"formatter\":{\"id\":\"1051\"},\"major_label_policy\":{\"id\":\"1050\"},\"ticker\":{\"id\":\"1014\"}},\"id\":\"1013\",\"type\":\"LinearAxis\"},{\"attributes\":{},\"id\":\"1058\",\"type\":\"UnionRenderers\"},{\"attributes\":{\"end\":100},\"id\":\"1007\",\"type\":\"Range1d\"},{\"attributes\":{\"fill_alpha\":{\"value\":0.1},\"fill_color\":{\"field\":\"fill_color\"},\"line_alpha\":{\"value\":0.1},\"line_color\":{\"value\":null},\"radius\":{\"value\":0.5},\"x\":{\"field\":\"x\"},\"y\":{\"field\":\"y\"}},\"id\":\"1042\",\"type\":\"Circle\"},{\"attributes\":{},\"id\":\"1059\",\"type\":\"Selection\"},{\"attributes\":{\"active_multi\":null,\"tools\":[{\"id\":\"1003\"},{\"id\":\"1021\"},{\"id\":\"1022\"},{\"id\":\"1023\"},{\"id\":\"1024\"},{\"id\":\"1025\"},{\"id\":\"1026\"},{\"id\":\"1027\"}]},\"id\":\"1031\",\"type\":\"Toolbar\"},{\"attributes\":{\"data_source\":{\"id\":\"1040\"},\"glyph\":{\"id\":\"1041\"},\"hover_glyph\":null,\"muted_glyph\":null,\"nonselection_glyph\":{\"id\":\"1042\"},\"view\":{\"id\":\"1044\"}},\"id\":\"1043\",\"type\":\"GlyphRenderer\"},{\"attributes\":{\"axis_label\":\"user_review\",\"formatter\":{\"id\":\"1054\"},\"major_label_policy\":{\"id\":\"1053\"},\"ticker\":{\"id\":\"1018\"}},\"id\":\"1017\",\"type\":\"LinearAxis\"}],\"root_ids\":[\"1004\"]},\"title\":\"Bokeh Application\",\"version\":\"2.3.2\"}};\n",
       "  var render_items = [{\"docid\":\"9ca8cc3c-30a1-41b7-ab4a-53282a0896cd\",\"root_ids\":[\"1004\"],\"roots\":{\"1004\":\"23e9daed-af7d-4a42-9ef5-1bef98705db0\"}}];\n",
       "  root.Bokeh.embed.embed_items_notebook(docs_json, render_items);\n",
       "\n",
       "  }\n",
       "  if (root.Bokeh !== undefined) {\n",
       "    embed_document(root);\n",
       "  } else {\n",
       "    var attempts = 0;\n",
       "    var timer = setInterval(function(root) {\n",
       "      if (root.Bokeh !== undefined) {\n",
       "        clearInterval(timer);\n",
       "        embed_document(root);\n",
       "      } else {\n",
       "        attempts++;\n",
       "        if (attempts > 100) {\n",
       "          clearInterval(timer);\n",
       "          console.log(\"Bokeh: ERROR: Unable to run BokehJS code because BokehJS library is missing\");\n",
       "        }\n",
       "      }\n",
       "    }, 10, root)\n",
       "  }\n",
       "})(window);"
      ],
      "application/vnd.bokehjs_exec.v0+json": ""
     },
     "metadata": {
      "application/vnd.bokehjs_exec.v0+json": {
       "id": "1004"
      }
     },
     "output_type": "display_data"
    }
   ],
   "source": [
    "import bokeh as bk\n",
    "from bokeh.plotting import figure, show\n",
    "from bokeh.plotting import output_file\n",
    "from bokeh.models import HoverTool\n",
    "\n",
    "from bokeh.io import show, output_notebook\n",
    "output_notebook()\n",
    "\n",
    "x = dfReviews['meta_score']\n",
    "y = dfReviews['user_review']\n",
    "radii = 0.5\n",
    "colors = [\"#%02x%02x%02x\" % (int(r), int(g), 150) for r, g in zip(50+2*x, 30+2*y)]\n",
    "\n",
    "TOOLS = \"crosshair,pan,wheel_zoom,box_zoom,reset,box_select,lasso_select\"\n",
    "hover = HoverTool(tooltips=[(\"Meta Score\", \"@x\"), (\"User Review\", \"@y\")])\n",
    "p = figure(tools=[TOOLS, hover], x_range=(0, 100), y_range=(0, 100))\n",
    "p.circle(x, y, radius=radii, fill_color=colors, fill_alpha=0.6, line_color=None)\n",
    "\n",
    "p.xaxis.axis_label = 'meta_score'\n",
    "p.yaxis.axis_label = 'user_review'\n",
    "\n",
    "show(p)"
   ]
  },
  {
   "cell_type": "markdown",
   "id": "db177728",
   "metadata": {},
   "source": [
    "Este segundo gráfico nos permite visualizar la evolución dentro de los videojuegos de una misma saga de las notas de prensa y usuarios.\n",
    "\n",
    "Hay que introducir el nombre de la saga que se quiera visualizar."
   ]
  },
  {
   "cell_type": "code",
   "execution_count": 20,
   "id": "8cf8e918",
   "metadata": {},
   "outputs": [
    {
     "name": "stdout",
     "output_type": "stream",
     "text": [
      "Enter game name: Super Mario\n"
     ]
    },
    {
     "data": {
      "text/html": [
       "<h3> Evolución de las notas de la prensa frente a la de los usuarios para la saga Super Mario <h3>"
      ],
      "text/plain": [
       "<IPython.core.display.HTML object>"
      ]
     },
     "metadata": {},
     "output_type": "display_data"
    },
    {
     "data": {
      "image/png": "[encoded data removed]",
      "text/plain": [
       "<Figure size 864x576 with 1 Axes>"
      ]
     },
     "metadata": {
      "needs_background": "light"
     },
     "output_type": "display_data"
    }
   ],
   "source": [
    "# Define a function to plot data based on input text\n",
    "game = input(\"Enter game name: \")\n",
    "\n",
    "def plot_classification(game):\n",
    "\n",
    "    condition = dfReviews[\"name\"].str.contains(game)\n",
    "    dfReviewsFiltered = dfReviews[condition]\n",
    "    dfReviewsFiltered.drop_duplicates(subset='name', keep='first', inplace=True)\n",
    "    dfReviewsFiltered = dfReviewsFiltered.loc[:, ['year', 'year_time_format', 'meta_score', 'user_review']]\n",
    "\n",
    "    display(HTML(f'<h3> Evolución de las notas de la prensa frente a la de los usuarios para la saga {game} <h3>'))\n",
    "    if len(dfReviewsFiltered) != 0:\n",
    "        fig, ax = plt.subplots(figsize=(12, 8))\n",
    "        dfReviewsFiltered.plot(x=\"year_time_format\", y=[\"meta_score\", \"user_review\"], ax = ax)\n",
    "        ax.set_title(f'Notas de la prensa frente a la de los usuarios para la saga {game}')\n",
    "        ax.set_xlabel('Año de salida')\n",
    "        ax.scatter(dfReviewsFiltered[\"year_time_format\"], dfReviewsFiltered[\"meta_score\"], c=\"blue\", label=\"meta_score\")\n",
    "        ax.scatter(dfReviewsFiltered[\"year_time_format\"], dfReviewsFiltered[\"user_review\"], c=\"orange\", label=\"user_review\")\n",
    "        ax.set_ylabel('Nota')\n",
    "    else:\n",
    "        print(\"No se han encontrado datos para representar\")\n",
    "        \n",
    "plot_classification(game)"
   ]
  },
  {
   "cell_type": "markdown",
   "id": "1343b10a",
   "metadata": {},
   "source": [
    "### Bibliografía\n",
    "\n",
    "* https://stackoverflow.com/questions/24131501/x-and-y-axis-labels-for-bokeh-figure\n",
    "\n",
    "* https://ipywidgets.readthedocs.io/en/stable/examples/Widget%20List.html\n",
    "\n",
    "* https://www.geeksforgeeks.org/donut-chart-using-matplotlib-in-python/\n",
    "\n",
    "* https://pandasguide.readthedocs.io/en/latest/\n",
    "\n",
    "* https://realpython.com/lessons/adding-hover-actions/\n",
    "\n",
    "* https://docs.bokeh.org/en/2.4.2/docs/user_guide/tools.html"
   ]
  }
 ],
 "metadata": {
  "kernelspec": {
   "display_name": "Python 3",
   "language": "python",
   "name": "python3"
  },
  "language_info": {
   "codemirror_mode": {
    "name": "ipython",
    "version": 3
   },
   "file_extension": ".py",
   "mimetype": "text/x-python",
   "name": "python",
   "nbconvert_exporter": "python",
   "pygments_lexer": "ipython3",
   "version": "3.8.8"
  }
 },
 "nbformat": 4,
 "nbformat_minor": 5
}
